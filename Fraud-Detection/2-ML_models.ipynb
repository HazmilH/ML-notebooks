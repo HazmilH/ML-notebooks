{
 "cells": [
  {
   "cell_type": "code",
   "execution_count": 1,
   "metadata": {
    "ExecuteTime": {
     "end_time": "2019-11-12T13:11:15.240545Z",
     "start_time": "2019-11-12T13:11:14.100385Z"
    }
   },
   "outputs": [],
   "source": [
    "import pandas as pd\n",
    "import numpy as np\n",
    "import seaborn as sns\n",
    "from matplotlib import pyplot as plt\n",
    "import pickle\n",
    "from utils_dump_load import load_from_pickle, dump_to_pickle"
   ]
  },
  {
   "cell_type": "markdown",
   "metadata": {},
   "source": [
    "<h1> Loading data from pickle"
   ]
  },
  {
   "cell_type": "code",
   "execution_count": 2,
   "metadata": {
    "ExecuteTime": {
     "end_time": "2019-11-12T13:11:15.538891Z",
     "start_time": "2019-11-12T13:11:15.242613Z"
    }
   },
   "outputs": [],
   "source": [
    "filename = \"data/data.pkl\"\n",
    "content = load_from_pickle(filename)"
   ]
  },
  {
   "cell_type": "code",
   "execution_count": 3,
   "metadata": {
    "ExecuteTime": {
     "end_time": "2019-11-12T13:11:15.548415Z",
     "start_time": "2019-11-12T13:11:15.540644Z"
    }
   },
   "outputs": [],
   "source": [
    "X_train = content[\"X_train\"]\n",
    "X_test = content[\"X_test\"]\n",
    "X_train_scaled = content[\"X_train_scaled\"]\n",
    "X_test_scaled = content[\"X_test_scaled\"]\n",
    "X_train_usamp = content[\"X_train_usamp\"]\n",
    "X_train_osamp = content[\"X_train_osamp\"]\n",
    "y_train_usamp = content[\"y_train_usamp\"]\n",
    "y_train_osamp = content[\"y_train_osamp\"]\n",
    "y_train = content[\"y_train\"]\n",
    "y_test = content[\"y_test\"]"
   ]
  },
  {
   "cell_type": "markdown",
   "metadata": {},
   "source": [
    "<h1> Supervised Classification Model"
   ]
  },
  {
   "cell_type": "code",
   "execution_count": 4,
   "metadata": {
    "ExecuteTime": {
     "end_time": "2019-11-12T13:11:16.044231Z",
     "start_time": "2019-11-12T13:11:15.552209Z"
    }
   },
   "outputs": [],
   "source": [
    "from sklearn.metrics import precision_recall_curve, roc_curve, auc, accuracy_score, f1_score, classification_report"
   ]
  },
  {
   "cell_type": "markdown",
   "metadata": {},
   "source": [
    "<h2> Logistic Regression"
   ]
  },
  {
   "cell_type": "code",
   "execution_count": 5,
   "metadata": {
    "ExecuteTime": {
     "end_time": "2019-11-12T13:11:16.116482Z",
     "start_time": "2019-11-12T13:11:16.047482Z"
    }
   },
   "outputs": [],
   "source": [
    "from sklearn.linear_model import LogisticRegression"
   ]
  },
  {
   "cell_type": "markdown",
   "metadata": {
    "ExecuteTime": {
     "end_time": "2019-10-21T14:46:55.094051Z",
     "start_time": "2019-10-21T14:46:55.088704Z"
    }
   },
   "source": [
    "<h3> Raw data"
   ]
  },
  {
   "cell_type": "code",
   "execution_count": 6,
   "metadata": {
    "ExecuteTime": {
     "end_time": "2019-11-12T13:11:18.854715Z",
     "start_time": "2019-11-12T13:11:16.118449Z"
    }
   },
   "outputs": [
    {
     "name": "stderr",
     "output_type": "stream",
     "text": [
      "/home/zyncus/bin/anaconda/lib/python3.7/site-packages/sklearn/linear_model/logistic.py:433: FutureWarning: Default solver will be changed to 'lbfgs' in 0.22. Specify a solver to silence this warning.\n",
      "  FutureWarning)\n"
     ]
    },
    {
     "data": {
      "text/plain": [
       "0.973907005031907"
      ]
     },
     "execution_count": 6,
     "metadata": {},
     "output_type": "execute_result"
    }
   ],
   "source": [
    "lr = LogisticRegression()\n",
    "lr.fit(X_train_scaled, y_train)\n",
    "y_score_lr = lr.predict_proba(X_test_scaled)\n",
    "fpr_lr, tpr_lr, _ = roc_curve(y_test, y_score_lr[:,1])\n",
    "roc_auc = auc(fpr_lr, tpr_lr)\n",
    "roc_auc"
   ]
  },
  {
   "cell_type": "code",
   "execution_count": 7,
   "metadata": {
    "ExecuteTime": {
     "end_time": "2019-11-12T13:11:18.865034Z",
     "start_time": "2019-11-12T13:11:18.858150Z"
    }
   },
   "outputs": [
    {
     "name": "stdout",
     "output_type": "stream",
     "text": [
      "105 transactions classified as fraudulent out of 155\n"
     ]
    }
   ],
   "source": [
    "y_pred = np.round(y_score_lr[:,1], 0)\n",
    "print(int(y_pred.sum()), \"transactions classified as fraudulent out of\", y_test.sum())"
   ]
  },
  {
   "cell_type": "markdown",
   "metadata": {
    "ExecuteTime": {
     "end_time": "2019-10-21T14:47:16.534486Z",
     "start_time": "2019-10-21T14:47:16.529960Z"
    }
   },
   "source": [
    "<h3> Undersampling"
   ]
  },
  {
   "cell_type": "code",
   "execution_count": 8,
   "metadata": {
    "ExecuteTime": {
     "end_time": "2019-11-12T13:11:18.950143Z",
     "start_time": "2019-11-12T13:11:18.868414Z"
    }
   },
   "outputs": [
    {
     "name": "stderr",
     "output_type": "stream",
     "text": [
      "/home/zyncus/bin/anaconda/lib/python3.7/site-packages/sklearn/linear_model/logistic.py:433: FutureWarning: Default solver will be changed to 'lbfgs' in 0.22. Specify a solver to silence this warning.\n",
      "  FutureWarning)\n"
     ]
    },
    {
     "data": {
      "text/plain": [
       "0.9729143153671355"
      ]
     },
     "execution_count": 8,
     "metadata": {},
     "output_type": "execute_result"
    }
   ],
   "source": [
    "lr = LogisticRegression()\n",
    "lr.fit(X_train_usamp, y_train_usamp)\n",
    "y_score_lr_u = lr.predict_proba(X_test_scaled)\n",
    "fpr_lr_u, tpr_lr_u, _ = roc_curve(y_test, y_score_lr_u[:,1])\n",
    "roc_auc = auc(fpr_lr_u, tpr_lr_u)\n",
    "roc_auc"
   ]
  },
  {
   "cell_type": "code",
   "execution_count": 9,
   "metadata": {
    "ExecuteTime": {
     "end_time": "2019-11-12T13:11:18.963171Z",
     "start_time": "2019-11-12T13:11:18.955694Z"
    }
   },
   "outputs": [
    {
     "name": "stdout",
     "output_type": "stream",
     "text": [
      "3221 transactions classified as fraudulent out of 155\n"
     ]
    }
   ],
   "source": [
    "y_pred = np.round(y_score_lr_u[:,1], 0)\n",
    "print(int(y_pred.sum()), \"transactions classified as fraudulent out of\", y_test.sum())"
   ]
  },
  {
   "cell_type": "markdown",
   "metadata": {},
   "source": [
    "<h3> Oversampling"
   ]
  },
  {
   "cell_type": "code",
   "execution_count": 10,
   "metadata": {
    "ExecuteTime": {
     "end_time": "2019-11-12T13:11:24.054545Z",
     "start_time": "2019-11-12T13:11:18.967049Z"
    }
   },
   "outputs": [
    {
     "name": "stderr",
     "output_type": "stream",
     "text": [
      "/home/zyncus/bin/anaconda/lib/python3.7/site-packages/sklearn/linear_model/logistic.py:433: FutureWarning: Default solver will be changed to 'lbfgs' in 0.22. Specify a solver to silence this warning.\n",
      "  FutureWarning)\n"
     ]
    },
    {
     "data": {
      "text/plain": [
       "0.978169337440354"
      ]
     },
     "execution_count": 10,
     "metadata": {},
     "output_type": "execute_result"
    }
   ],
   "source": [
    "lr = LogisticRegression()\n",
    "lr.fit(X_train_osamp, y_train_osamp)\n",
    "y_score_lr_o = lr.predict_proba(X_test_scaled)\n",
    "fpr_lr_o, tpr_lr_o, _ = roc_curve(y_test, y_score_lr_o[:,1])\n",
    "roc_auc = auc(fpr_lr_o, tpr_lr_o)\n",
    "roc_auc"
   ]
  },
  {
   "cell_type": "code",
   "execution_count": 11,
   "metadata": {
    "ExecuteTime": {
     "end_time": "2019-11-12T13:11:24.065170Z",
     "start_time": "2019-11-12T13:11:24.057630Z"
    }
   },
   "outputs": [
    {
     "name": "stdout",
     "output_type": "stream",
     "text": [
      "2281 transactions classified as fraudulent out of 155\n"
     ]
    }
   ],
   "source": [
    "y_pred = np.round(y_score_lr_o[:,1], 0)\n",
    "print(int(y_pred.sum()), \"transactions classified as fraudulent out of\", y_test.sum())"
   ]
  },
  {
   "cell_type": "markdown",
   "metadata": {},
   "source": [
    "<h3> Comparison"
   ]
  },
  {
   "cell_type": "code",
   "execution_count": 12,
   "metadata": {
    "ExecuteTime": {
     "end_time": "2019-11-12T13:11:24.328429Z",
     "start_time": "2019-11-12T13:11:24.069038Z"
    }
   },
   "outputs": [
    {
     "data": {
      "image/png": "[encoded data removed]",
      "text/plain": [
       "<Figure size 864x576 with 1 Axes>"
      ]
     },
     "metadata": {
      "needs_background": "light"
     },
     "output_type": "display_data"
    }
   ],
   "source": [
    "plt.figure(figsize=(12,8))\n",
    "\n",
    "plt.plot(fpr_lr, tpr_lr, label='raw data')\n",
    "plt.plot(fpr_lr_u, tpr_lr_u, label='undersampling')\n",
    "plt.plot(fpr_lr_o, tpr_lr_o, label='oversampling')\n",
    "plt.plot([0, 1], [0, 1], color='navy', linestyle='--')\n",
    "plt.xlabel('False Positive Rate')\n",
    "plt.ylabel('True Positive Rate')\n",
    "plt.title('ROC logistic regression')\n",
    "plt.legend(loc=\"lower right\")\n",
    "plt.show()"
   ]
  },
  {
   "cell_type": "markdown",
   "metadata": {},
   "source": [
    "-> Best Model: LR with Undersampling"
   ]
  },
  {
   "cell_type": "code",
   "execution_count": 13,
   "metadata": {
    "ExecuteTime": {
     "end_time": "2019-11-12T13:11:24.436746Z",
     "start_time": "2019-11-12T13:11:24.330173Z"
    }
   },
   "outputs": [
    {
     "name": "stdout",
     "output_type": "stream",
     "text": [
      "              precision    recall  f1-score   support\n",
      "\n",
      "           0       1.00      0.97      0.99     85288\n",
      "           1       0.06      0.92      0.12       155\n",
      "\n",
      "   micro avg       0.97      0.97      0.97     85443\n",
      "   macro avg       0.53      0.95      0.55     85443\n",
      "weighted avg       1.00      0.97      0.99     85443\n",
      "\n"
     ]
    }
   ],
   "source": [
    "print(classification_report(y_test, y_pred))"
   ]
  },
  {
   "cell_type": "markdown",
   "metadata": {
    "ExecuteTime": {
     "end_time": "2019-05-16T13:32:48.690751Z",
     "start_time": "2019-05-16T13:32:48.680000Z"
    }
   },
   "source": [
    "<h2> XG Boost"
   ]
  },
  {
   "cell_type": "code",
   "execution_count": 14,
   "metadata": {
    "ExecuteTime": {
     "end_time": "2019-11-12T13:11:24.522742Z",
     "start_time": "2019-11-12T13:11:24.439298Z"
    }
   },
   "outputs": [],
   "source": [
    "import xgboost as xgb"
   ]
  },
  {
   "cell_type": "markdown",
   "metadata": {
    "ExecuteTime": {
     "end_time": "2019-10-21T14:46:55.094051Z",
     "start_time": "2019-10-21T14:46:55.088704Z"
    }
   },
   "source": [
    "<h3> Raw data"
   ]
  },
  {
   "cell_type": "code",
   "execution_count": 15,
   "metadata": {
    "ExecuteTime": {
     "end_time": "2019-11-12T13:12:09.940437Z",
     "start_time": "2019-11-12T13:11:24.524981Z"
    }
   },
   "outputs": [
    {
     "data": {
      "text/plain": [
       "0.9805995851626822"
      ]
     },
     "execution_count": 15,
     "metadata": {},
     "output_type": "execute_result"
    }
   ],
   "source": [
    "xg = xgb.XGBClassifier()\n",
    "xg.fit(X_train_scaled, y_train)\n",
    "y_score_xg = xg.predict_proba(X_test_scaled)\n",
    "fpr_xg, tpr_xg, _ = roc_curve(y_test, y_score_xg[:,1])\n",
    "roc_auc = auc(fpr_xg, tpr_xg)\n",
    "roc_auc"
   ]
  },
  {
   "cell_type": "code",
   "execution_count": 16,
   "metadata": {
    "ExecuteTime": {
     "end_time": "2019-11-12T13:12:09.950425Z",
     "start_time": "2019-11-12T13:12:09.942893Z"
    }
   },
   "outputs": [
    {
     "name": "stdout",
     "output_type": "stream",
     "text": [
      "131 transactions classified as fraudulent out of 155\n"
     ]
    }
   ],
   "source": [
    "y_pred = np.round(y_score_xg[:,1], 0)\n",
    "print(int(y_pred.sum()), \"transactions classified as fraudulent out of\", y_test.sum())"
   ]
  },
  {
   "cell_type": "markdown",
   "metadata": {
    "ExecuteTime": {
     "end_time": "2019-10-21T14:47:16.534486Z",
     "start_time": "2019-10-21T14:47:16.529960Z"
    }
   },
   "source": [
    "<h3> Undersampling"
   ]
  },
  {
   "cell_type": "code",
   "execution_count": 17,
   "metadata": {
    "ExecuteTime": {
     "end_time": "2019-11-12T13:12:10.424141Z",
     "start_time": "2019-11-12T13:12:09.952691Z"
    }
   },
   "outputs": [
    {
     "data": {
      "text/plain": [
       "0.9810578805474279"
      ]
     },
     "execution_count": 17,
     "metadata": {},
     "output_type": "execute_result"
    }
   ],
   "source": [
    "xg = xgb.XGBClassifier()\n",
    "xg.fit(X_train_usamp, y_train_usamp)\n",
    "y_score_xg_u = xg.predict_proba(X_test_scaled)\n",
    "fpr_xg_u, tpr_xg_u, _ = roc_curve(y_test, y_score_xg_u[:,1])\n",
    "roc_auc = auc(fpr_xg_u, tpr_xg_u)\n",
    "roc_auc"
   ]
  },
  {
   "cell_type": "code",
   "execution_count": 18,
   "metadata": {
    "ExecuteTime": {
     "end_time": "2019-11-12T13:12:10.433579Z",
     "start_time": "2019-11-12T13:12:10.426089Z"
    }
   },
   "outputs": [
    {
     "name": "stdout",
     "output_type": "stream",
     "text": [
      "2787 transactions classified as fraudulent out of 155\n"
     ]
    }
   ],
   "source": [
    "y_pred = np.round(y_score_xg_u[:,1], 0)\n",
    "print(int(y_pred.sum()), \"transactions classified as fraudulent out of\", y_test.sum())"
   ]
  },
  {
   "cell_type": "markdown",
   "metadata": {},
   "source": [
    "<h3> Oversampling"
   ]
  },
  {
   "cell_type": "code",
   "execution_count": 19,
   "metadata": {
    "ExecuteTime": {
     "end_time": "2019-11-12T13:13:50.311930Z",
     "start_time": "2019-11-12T13:12:10.436551Z"
    }
   },
   "outputs": [
    {
     "data": {
      "text/plain": [
       "0.9787845962522428"
      ]
     },
     "execution_count": 19,
     "metadata": {},
     "output_type": "execute_result"
    }
   ],
   "source": [
    "xg = xgb.XGBClassifier()\n",
    "xg.fit(X_train_osamp, y_train_osamp)\n",
    "y_score_xg_o = xg.predict_proba(X_test_scaled)\n",
    "fpr_xg_o, tpr_xg_o, _ = roc_curve(y_test, y_score_xg_o[:,1])\n",
    "roc_auc = auc(fpr_xg_o, tpr_xg_o)\n",
    "roc_auc"
   ]
  },
  {
   "cell_type": "code",
   "execution_count": 20,
   "metadata": {
    "ExecuteTime": {
     "end_time": "2019-11-12T13:13:50.320626Z",
     "start_time": "2019-11-12T13:13:50.314997Z"
    }
   },
   "outputs": [
    {
     "name": "stdout",
     "output_type": "stream",
     "text": [
      "1122 transactions classified as fraudulent out of 155\n"
     ]
    }
   ],
   "source": [
    "y_pred = np.round(y_score_xg_o[:,1], 0)\n",
    "print(int(y_pred.sum()), \"transactions classified as fraudulent out of\", y_test.sum())"
   ]
  },
  {
   "cell_type": "markdown",
   "metadata": {},
   "source": [
    "<h3> Comparison"
   ]
  },
  {
   "cell_type": "code",
   "execution_count": 21,
   "metadata": {
    "ExecuteTime": {
     "end_time": "2019-11-12T13:13:50.568810Z",
     "start_time": "2019-11-12T13:13:50.323459Z"
    }
   },
   "outputs": [
    {
     "data": {
      "image/png": "[encoded data removed]",
      "text/plain": [
       "<Figure size 864x576 with 1 Axes>"
      ]
     },
     "metadata": {
      "needs_background": "light"
     },
     "output_type": "display_data"
    }
   ],
   "source": [
    "plt.figure(figsize=(12,8))\n",
    "\n",
    "plt.plot(fpr_xg, tpr_xg, label='raw data')\n",
    "plt.plot(fpr_xg_u, tpr_xg_u, label='undersampling')\n",
    "plt.plot(fpr_xg_o, tpr_xg_o, label='oversampling')\n",
    "plt.plot([0, 1], [0, 1], color='navy', linestyle='--')\n",
    "plt.xlabel('False Positive Rate')\n",
    "plt.ylabel('True Positive Rate')\n",
    "plt.title('ROC XG boost')\n",
    "plt.legend(loc=\"lower right\")\n",
    "plt.show()"
   ]
  },
  {
   "cell_type": "markdown",
   "metadata": {},
   "source": [
    "-> Best Model: LR with Raw data"
   ]
  },
  {
   "cell_type": "markdown",
   "metadata": {},
   "source": [
    "<h2> LGBM"
   ]
  },
  {
   "cell_type": "code",
   "execution_count": 22,
   "metadata": {
    "ExecuteTime": {
     "end_time": "2019-11-12T13:13:50.613155Z",
     "start_time": "2019-11-12T13:13:50.570735Z"
    }
   },
   "outputs": [],
   "source": [
    "import lightgbm as lgb"
   ]
  },
  {
   "cell_type": "markdown",
   "metadata": {
    "ExecuteTime": {
     "end_time": "2019-10-21T14:46:55.094051Z",
     "start_time": "2019-10-21T14:46:55.088704Z"
    }
   },
   "source": [
    "<h3> Raw data"
   ]
  },
  {
   "cell_type": "code",
   "execution_count": 23,
   "metadata": {
    "ExecuteTime": {
     "end_time": "2019-11-12T13:13:55.805704Z",
     "start_time": "2019-11-12T13:13:50.621433Z"
    }
   },
   "outputs": [
    {
     "data": {
      "text/plain": [
       "0.6412328172325419"
      ]
     },
     "execution_count": 23,
     "metadata": {},
     "output_type": "execute_result"
    }
   ],
   "source": [
    "lgbm = lgb.LGBMClassifier()\n",
    "lgbm.fit(X_train_scaled, y_train)\n",
    "y_score_lg = lgbm.predict_proba(X_test_scaled)\n",
    "fpr_lg, tpr_lg, _ = roc_curve(y_test, y_score_lg[:,1])\n",
    "roc_auc = auc(fpr_lg, tpr_lg)\n",
    "roc_auc"
   ]
  },
  {
   "cell_type": "code",
   "execution_count": 24,
   "metadata": {
    "ExecuteTime": {
     "end_time": "2019-11-12T13:13:55.815116Z",
     "start_time": "2019-11-12T13:13:55.808451Z"
    }
   },
   "outputs": [
    {
     "name": "stdout",
     "output_type": "stream",
     "text": [
      "713 transactions classified as fraudulent out of 155\n"
     ]
    }
   ],
   "source": [
    "y_pred = np.round(y_score_lg[:,1], 0)\n",
    "print(int(y_pred.sum()), \"transactions classified as fraudulent out of\", y_test.sum())"
   ]
  },
  {
   "cell_type": "markdown",
   "metadata": {
    "ExecuteTime": {
     "end_time": "2019-10-21T14:47:16.534486Z",
     "start_time": "2019-10-21T14:47:16.529960Z"
    }
   },
   "source": [
    "<h3> Undersampling"
   ]
  },
  {
   "cell_type": "code",
   "execution_count": 25,
   "metadata": {
    "ExecuteTime": {
     "end_time": "2019-11-12T13:13:56.944787Z",
     "start_time": "2019-11-12T13:13:55.817684Z"
    }
   },
   "outputs": [
    {
     "data": {
      "text/plain": [
       "0.9795477789107722"
      ]
     },
     "execution_count": 25,
     "metadata": {},
     "output_type": "execute_result"
    }
   ],
   "source": [
    "lgbm = lgb.LGBMClassifier()\n",
    "lgbm.fit(X_train_usamp, y_train_usamp)\n",
    "y_score_lg_u = lgbm.predict_proba(X_test_scaled)\n",
    "fpr_lg_u, tpr_lg_u, _ = roc_curve(y_test, y_score_lg_u[:,1])\n",
    "roc_auc = auc(fpr_lg_u, tpr_lg_u)\n",
    "roc_auc"
   ]
  },
  {
   "cell_type": "code",
   "execution_count": 26,
   "metadata": {
    "ExecuteTime": {
     "end_time": "2019-11-12T13:13:56.952080Z",
     "start_time": "2019-11-12T13:13:56.947293Z"
    }
   },
   "outputs": [
    {
     "name": "stdout",
     "output_type": "stream",
     "text": [
      "2345 transactions classified as fraudulent out of 155\n"
     ]
    }
   ],
   "source": [
    "y_pred = np.round(y_score_lg_u[:,1], 0)\n",
    "print(int(y_pred.sum()), \"transactions classified as fraudulent out of\", y_test.sum())"
   ]
  },
  {
   "cell_type": "markdown",
   "metadata": {},
   "source": [
    "<h3> Oversampling"
   ]
  },
  {
   "cell_type": "code",
   "execution_count": 27,
   "metadata": {
    "ExecuteTime": {
     "end_time": "2019-11-12T13:14:08.531128Z",
     "start_time": "2019-11-12T13:13:56.954118Z"
    }
   },
   "outputs": [
    {
     "data": {
      "text/plain": [
       "0.978396159048204"
      ]
     },
     "execution_count": 27,
     "metadata": {},
     "output_type": "execute_result"
    }
   ],
   "source": [
    "lgbm = lgb.LGBMClassifier()\n",
    "lgbm.fit(X_train_osamp, y_train_osamp)\n",
    "y_score_lg_o = lgbm.predict_proba(X_test_scaled)\n",
    "fpr_lg_o, tpr_lg_o, _ = roc_curve(y_test, y_score_lg_o[:,1])\n",
    "roc_auc = auc(fpr_lg_o, tpr_lg_o)\n",
    "roc_auc"
   ]
  },
  {
   "cell_type": "code",
   "execution_count": 28,
   "metadata": {
    "ExecuteTime": {
     "end_time": "2019-11-12T13:14:08.538547Z",
     "start_time": "2019-11-12T13:14:08.533070Z"
    }
   },
   "outputs": [
    {
     "name": "stdout",
     "output_type": "stream",
     "text": [
      "276 transactions classified as fraudulent out of 155\n"
     ]
    }
   ],
   "source": [
    "y_pred = np.round(y_score_lg_o[:,1], 0)\n",
    "print(int(y_pred.sum()), \"transactions classified as fraudulent out of\", y_test.sum())"
   ]
  },
  {
   "cell_type": "markdown",
   "metadata": {},
   "source": [
    "<h3> Comparison"
   ]
  },
  {
   "cell_type": "code",
   "execution_count": 29,
   "metadata": {
    "ExecuteTime": {
     "end_time": "2019-11-12T13:14:08.806564Z",
     "start_time": "2019-11-12T13:14:08.541514Z"
    }
   },
   "outputs": [
    {
     "data": {
      "image/png": "[encoded data removed]",
      "text/plain": [
       "<Figure size 864x576 with 1 Axes>"
      ]
     },
     "metadata": {
      "needs_background": "light"
     },
     "output_type": "display_data"
    }
   ],
   "source": [
    "plt.figure(figsize=(12,8))\n",
    "\n",
    "plt.plot(fpr_lg, tpr_lg, label='raw data')\n",
    "plt.plot(fpr_lg_u, tpr_lg_u, label='undersampling')\n",
    "plt.plot(fpr_lg_o, tpr_lg_o, label='oversampling')\n",
    "plt.plot([0, 1], [0, 1], color='navy', linestyle='--')\n",
    "plt.xlabel('False Positive Rate')\n",
    "plt.ylabel('True Positive Rate')\n",
    "plt.title('ROC LGBM')\n",
    "plt.legend(loc=\"lower right\")\n",
    "plt.show()"
   ]
  },
  {
   "cell_type": "markdown",
   "metadata": {},
   "source": [
    "-> Best Model: LR with Oversampling"
   ]
  },
  {
   "cell_type": "markdown",
   "metadata": {
    "ExecuteTime": {
     "end_time": "2019-05-17T09:43:08.244573Z",
     "start_time": "2019-05-17T09:43:08.237145Z"
    }
   },
   "source": [
    "<h1> Anomaly detection model (Unsupervised)"
   ]
  },
  {
   "cell_type": "markdown",
   "metadata": {},
   "source": [
    "- Ratio of Class 1 in y: 0.17 %\n",
    "- Ratio of Class 1 in y_undersamp: 0.99 %\n",
    "- Ratio of Class 1 in y_oversamp: 0.99 %"
   ]
  },
  {
   "cell_type": "code",
   "execution_count": 30,
   "metadata": {
    "ExecuteTime": {
     "end_time": "2019-11-12T13:14:08.839902Z",
     "start_time": "2019-11-12T13:14:08.809045Z"
    }
   },
   "outputs": [
    {
     "data": {
      "text/plain": [
       "(199027, 32)"
      ]
     },
     "execution_count": 30,
     "metadata": {},
     "output_type": "execute_result"
    }
   ],
   "source": [
    "X_train_inliers = X_train_scaled[y_train==0]\n",
    "X_train_inliers.shape"
   ]
  },
  {
   "cell_type": "code",
   "execution_count": 31,
   "metadata": {
    "ExecuteTime": {
     "end_time": "2019-11-12T13:14:08.847958Z",
     "start_time": "2019-11-12T13:14:08.842550Z"
    }
   },
   "outputs": [
    {
     "data": {
      "text/plain": [
       "(85443, 32)"
      ]
     },
     "execution_count": 31,
     "metadata": {},
     "output_type": "execute_result"
    }
   ],
   "source": [
    "X_test_scaled.shape"
   ]
  },
  {
   "cell_type": "markdown",
   "metadata": {
    "ExecuteTime": {
     "end_time": "2019-10-21T15:11:30.412480Z",
     "start_time": "2019-10-21T15:11:30.408628Z"
    }
   },
   "source": [
    "<h2> Gaussian distribution based"
   ]
  },
  {
   "cell_type": "code",
   "execution_count": 32,
   "metadata": {
    "ExecuteTime": {
     "end_time": "2019-11-12T13:14:08.876689Z",
     "start_time": "2019-11-12T13:14:08.852868Z"
    }
   },
   "outputs": [],
   "source": [
    "from sklearn.covariance import EllipticEnvelope"
   ]
  },
  {
   "cell_type": "code",
   "execution_count": 33,
   "metadata": {
    "ExecuteTime": {
     "end_time": "2019-11-12T13:14:08.888876Z",
     "start_time": "2019-11-12T13:14:08.883067Z"
    }
   },
   "outputs": [],
   "source": [
    "G = EllipticEnvelope(random_state=0)"
   ]
  },
  {
   "cell_type": "code",
   "execution_count": 34,
   "metadata": {
    "ExecuteTime": {
     "end_time": "2019-11-12T13:14:43.819960Z",
     "start_time": "2019-11-12T13:14:08.893536Z"
    }
   },
   "outputs": [
    {
     "name": "stderr",
     "output_type": "stream",
     "text": [
      "/home/zyncus/bin/anaconda/lib/python3.7/site-packages/sklearn/covariance/robust_covariance.py:646: UserWarning: The covariance matrix associated to your dataset is not full rank\n",
      "  warnings.warn(\"The covariance matrix associated to your dataset \"\n"
     ]
    }
   ],
   "source": [
    "G.fit(X_train_inliers)\n",
    "y_predG = G.predict(X_test_scaled)"
   ]
  },
  {
   "cell_type": "code",
   "execution_count": 35,
   "metadata": {
    "ExecuteTime": {
     "end_time": "2019-11-12T13:14:43.825048Z",
     "start_time": "2019-11-12T13:14:43.822087Z"
    }
   },
   "outputs": [],
   "source": [
    "#y_predG = G.fit_predict(X_test)"
   ]
  },
  {
   "cell_type": "code",
   "execution_count": 36,
   "metadata": {
    "ExecuteTime": {
     "end_time": "2019-11-12T13:14:43.842488Z",
     "start_time": "2019-11-12T13:14:43.827275Z"
    }
   },
   "outputs": [],
   "source": [
    "# predict returns 1 for an inlier and -1 for an outlier\n",
    "y_predG[y_predG == 1] = 0\n",
    "y_predG[y_predG == -1] = 1"
   ]
  },
  {
   "cell_type": "code",
   "execution_count": 37,
   "metadata": {
    "ExecuteTime": {
     "end_time": "2019-11-12T13:14:43.947069Z",
     "start_time": "2019-11-12T13:14:43.844619Z"
    }
   },
   "outputs": [
    {
     "name": "stdout",
     "output_type": "stream",
     "text": [
      "              precision    recall  f1-score   support\n",
      "\n",
      "           0       1.00      0.91      0.95     85288\n",
      "           1       0.02      0.87      0.03       155\n",
      "\n",
      "   micro avg       0.91      0.91      0.91     85443\n",
      "   macro avg       0.51      0.89      0.49     85443\n",
      "weighted avg       1.00      0.91      0.95     85443\n",
      "\n"
     ]
    }
   ],
   "source": [
    "print(classification_report(y_test, y_predG))"
   ]
  },
  {
   "cell_type": "code",
   "execution_count": 38,
   "metadata": {
    "ExecuteTime": {
     "end_time": "2019-11-12T13:14:43.954622Z",
     "start_time": "2019-11-12T13:14:43.949169Z"
    }
   },
   "outputs": [
    {
     "name": "stdout",
     "output_type": "stream",
     "text": [
      "7935 transactions classified as fraudulent out of 155\n"
     ]
    }
   ],
   "source": [
    "print(y_predG.sum(), \"transactions classified as fraudulent out of\", y_test.sum())"
   ]
  },
  {
   "cell_type": "code",
   "execution_count": 39,
   "metadata": {
    "ExecuteTime": {
     "end_time": "2019-11-12T13:14:44.046656Z",
     "start_time": "2019-11-12T13:14:43.956869Z"
    }
   },
   "outputs": [
    {
     "data": {
      "text/plain": [
       "0.921240442251075"
      ]
     },
     "execution_count": 39,
     "metadata": {},
     "output_type": "execute_result"
    }
   ],
   "source": [
    "y_score_g = -G.score_samples(X_test_scaled)\n",
    "fpr_G, tpr_G, _ = roc_curve(y_test, y_score_g)\n",
    "roc_auc = auc(fpr_G, tpr_G)\n",
    "roc_auc"
   ]
  },
  {
   "cell_type": "markdown",
   "metadata": {},
   "source": [
    "<h2> Isolation Forest"
   ]
  },
  {
   "cell_type": "code",
   "execution_count": 44,
   "metadata": {
    "ExecuteTime": {
     "end_time": "2019-11-12T13:16:21.089719Z",
     "start_time": "2019-11-12T13:16:21.051451Z"
    }
   },
   "outputs": [],
   "source": [
    "from sklearn.ensemble import IsolationForest"
   ]
  },
  {
   "cell_type": "code",
   "execution_count": 45,
   "metadata": {
    "ExecuteTime": {
     "end_time": "2019-11-12T13:16:35.733156Z",
     "start_time": "2019-11-12T13:16:21.203993Z"
    }
   },
   "outputs": [],
   "source": [
    "IF = IsolationForest(n_estimators=100, contamination=\"auto\", behaviour=\"new\", random_state=0)\n",
    "IF.fit(X_train_inliers)\n",
    "y_predIF = IF.predict(X_test_scaled)"
   ]
  },
  {
   "cell_type": "code",
   "execution_count": 46,
   "metadata": {
    "ExecuteTime": {
     "end_time": "2019-11-12T13:16:35.740754Z",
     "start_time": "2019-11-12T13:16:35.738623Z"
    }
   },
   "outputs": [],
   "source": [
    "#y_predIF = IF.fit_predict(X_test)"
   ]
  },
  {
   "cell_type": "code",
   "execution_count": 47,
   "metadata": {
    "ExecuteTime": {
     "end_time": "2019-11-12T13:16:35.755772Z",
     "start_time": "2019-11-12T13:16:35.742752Z"
    }
   },
   "outputs": [],
   "source": [
    "y_predIF[y_predIF == 1] = 0\n",
    "y_predIF[y_predIF == -1] = 1"
   ]
  },
  {
   "cell_type": "code",
   "execution_count": 48,
   "metadata": {
    "ExecuteTime": {
     "end_time": "2019-11-12T13:16:35.834878Z",
     "start_time": "2019-11-12T13:16:35.757811Z"
    },
    "scrolled": false
   },
   "outputs": [
    {
     "name": "stdout",
     "output_type": "stream",
     "text": [
      "              precision    recall  f1-score   support\n",
      "\n",
      "           0       1.00      0.97      0.98     85288\n",
      "           1       0.05      0.81      0.09       155\n",
      "\n",
      "   micro avg       0.97      0.97      0.97     85443\n",
      "   macro avg       0.52      0.89      0.54     85443\n",
      "weighted avg       1.00      0.97      0.98     85443\n",
      "\n"
     ]
    }
   ],
   "source": [
    "print(classification_report(y_test, y_predIF))"
   ]
  },
  {
   "cell_type": "code",
   "execution_count": 49,
   "metadata": {
    "ExecuteTime": {
     "end_time": "2019-11-12T13:16:35.851530Z",
     "start_time": "2019-11-12T13:16:35.839425Z"
    }
   },
   "outputs": [
    {
     "name": "stdout",
     "output_type": "stream",
     "text": [
      "2642 transactions classified as fraudulent out of 155\n"
     ]
    }
   ],
   "source": [
    "print(y_predIF.sum(), \"transactions classified as fraudulent out of\", y_test.sum())"
   ]
  },
  {
   "cell_type": "code",
   "execution_count": 50,
   "metadata": {
    "ExecuteTime": {
     "end_time": "2019-11-12T13:16:39.744429Z",
     "start_time": "2019-11-12T13:16:35.854781Z"
    }
   },
   "outputs": [
    {
     "data": {
      "text/plain": [
       "0.9507023640583254"
      ]
     },
     "execution_count": 50,
     "metadata": {},
     "output_type": "execute_result"
    }
   ],
   "source": [
    "y_score_if = -IF.score_samples(X_test_scaled)\n",
    "fpr_IF, tpr_IF, _ = roc_curve(y_test, y_score_if)\n",
    "roc_auc = auc(fpr_IF, tpr_IF)\n",
    "roc_auc"
   ]
  },
  {
   "cell_type": "markdown",
   "metadata": {},
   "source": [
    "<h2> Comparison"
   ]
  },
  {
   "cell_type": "code",
   "execution_count": 51,
   "metadata": {
    "ExecuteTime": {
     "end_time": "2019-11-12T13:16:40.030189Z",
     "start_time": "2019-11-12T13:16:39.746845Z"
    }
   },
   "outputs": [
    {
     "data": {
      "image/png": "[encoded data removed]",
      "text/plain": [
       "<Figure size 864x576 with 1 Axes>"
      ]
     },
     "metadata": {
      "needs_background": "light"
     },
     "output_type": "display_data"
    }
   ],
   "source": [
    "plt.figure(figsize=(12,8))\n",
    "\n",
    "plt.plot(fpr_G, tpr_G, label='Gaussian distribution')\n",
    "#plt.plot(fpr_LOF, tpr_LOF, label='Local Outlier Factor')\n",
    "plt.plot(fpr_IF, tpr_IF, label='Isolation forest')\n",
    "plt.plot([0, 1], [0, 1], color='navy', linestyle='--')\n",
    "plt.xlabel('False Positive Rate')\n",
    "plt.ylabel('True Positive Rate')\n",
    "plt.title('ROC anomaly detection models')\n",
    "plt.legend(loc=\"lower right\")\n",
    "plt.show()"
   ]
  },
  {
   "cell_type": "markdown",
   "metadata": {
    "ExecuteTime": {
     "end_time": "2019-10-25T08:30:28.560269Z",
     "start_time": "2019-10-25T08:30:28.556865Z"
    }
   },
   "source": [
    "<h1> Comparison of both methods"
   ]
  },
  {
   "cell_type": "markdown",
   "metadata": {},
   "source": [
    "<h2> ROC AUC"
   ]
  },
  {
   "cell_type": "code",
   "execution_count": 61,
   "metadata": {
    "ExecuteTime": {
     "end_time": "2019-11-12T13:19:06.969228Z",
     "start_time": "2019-11-12T13:19:06.688425Z"
    }
   },
   "outputs": [
    {
     "data": {
      "image/png": "[encoded data removed]",
      "text/plain": [
       "<Figure size 864x576 with 1 Axes>"
      ]
     },
     "metadata": {
      "needs_background": "light"
     },
     "output_type": "display_data"
    }
   ],
   "source": [
    "plt.figure(figsize=(12,8))\n",
    "\n",
    "plt.plot(fpr_G, tpr_G, label='Gaussian distribution')\n",
    "#plt.plot(fpr_LOF, tpr_LOF, label='Local Outlier Factor')\n",
    "plt.plot(fpr_IF, tpr_IF, label='Isolation forest')\n",
    "plt.plot(fpr_lr_o, tpr_lr_o, label='Logistic regression oversampled')\n",
    "plt.plot(fpr_xg, tpr_xg, label='XG boost raw data')\n",
    "plt.plot(fpr_lg_u, tpr_lg_u, label='LGBM undersampled')\n",
    "plt.plot([0, 1], [0, 1], color='navy', linestyle='--')\n",
    "plt.xlabel('False Positive Rate')\n",
    "plt.ylabel('True Positive Rate')\n",
    "plt.title('ROC models comparison')\n",
    "plt.legend(loc=\"lower right\")\n",
    "plt.show()"
   ]
  },
  {
   "cell_type": "markdown",
   "metadata": {},
   "source": [
    "<h2> Recall / Precsion tradeoff"
   ]
  },
  {
   "cell_type": "code",
   "execution_count": 53,
   "metadata": {
    "ExecuteTime": {
     "end_time": "2019-11-12T13:16:40.328229Z",
     "start_time": "2019-11-12T13:16:40.325073Z"
    }
   },
   "outputs": [],
   "source": [
    "ytest = y_test.values.reshape(-1,1)"
   ]
  },
  {
   "cell_type": "code",
   "execution_count": 62,
   "metadata": {
    "ExecuteTime": {
     "end_time": "2019-11-12T13:20:26.112291Z",
     "start_time": "2019-11-12T13:20:26.051194Z"
    }
   },
   "outputs": [],
   "source": [
    "precision_lr_o , recall_lr_o, threshold_lr_o = precision_recall_curve(ytest, y_score_lr_o[:,1])\n",
    "precision_xg , recall_xg, threshold_xg = precision_recall_curve(ytest, y_score_xg[:,1])\n",
    "precision_lg_u , recall_lg_u, threshold_lg_u = precision_recall_curve(ytest, y_score_lg_u[:,1])"
   ]
  },
  {
   "cell_type": "code",
   "execution_count": 63,
   "metadata": {
    "ExecuteTime": {
     "end_time": "2019-11-12T13:20:26.530760Z",
     "start_time": "2019-11-12T13:20:26.494565Z"
    }
   },
   "outputs": [],
   "source": [
    "precision_g , recall_g, threshold_g = precision_recall_curve(ytest, y_score_g)\n",
    "precision_if , recall_if, threshold_if = precision_recall_curve(ytest, y_score_if)"
   ]
  },
  {
   "cell_type": "code",
   "execution_count": 64,
   "metadata": {
    "ExecuteTime": {
     "end_time": "2019-11-12T13:20:27.318414Z",
     "start_time": "2019-11-12T13:20:26.989925Z"
    },
    "scrolled": false
   },
   "outputs": [
    {
     "data": {
      "image/png": "[encoded data removed]",
      "text/plain": [
       "<Figure size 864x576 with 1 Axes>"
      ]
     },
     "metadata": {
      "needs_background": "light"
     },
     "output_type": "display_data"
    }
   ],
   "source": [
    "plt.figure(figsize=(12,8))\n",
    "plt.plot(recall_lr_o, precision_lr_o, label=\"Logistic regression\")\n",
    "plt.plot(recall_xg, precision_xg, label=\"XG boost\")\n",
    "plt.plot(recall_lg_u, precision_lg_u, label=\"LGBM\")\n",
    "plt.plot(recall_if, precision_if, label=\"Isolation Forest\")\n",
    "plt.plot(recall_g, precision_g, label=\"Gaussian distribution\")\n",
    "plt.xlabel('Recall')\n",
    "plt.ylabel('Precision')\n",
    "plt.title(\"Precision-Recall tradeoff\")\n",
    "plt.legend(loc=\"lower right\")\n",
    "plt.show()"
   ]
  },
  {
   "cell_type": "markdown",
   "metadata": {},
   "source": [
    "<h1> Dump into pickle"
   ]
  },
  {
   "cell_type": "code",
   "execution_count": 67,
   "metadata": {
    "ExecuteTime": {
     "end_time": "2019-11-12T13:22:42.057954Z",
     "start_time": "2019-11-12T13:22:42.051885Z"
    }
   },
   "outputs": [],
   "source": [
    "pickle_filename = \"data/metrics.pkl\"\n",
    "content = {\"lr\": [y_score_lr_o, precision_lr_o, recall_lr_o, threshold_lr_o], \n",
    "           \"xgboost\": [y_score_xg, precision_xg, recall_xg, threshold_xg],\n",
    "           \"lgbm\": [y_score_lg_u, precision_lg_u, recall_lg_u, threshold_lg_u], \n",
    "           \"gauss\": [y_score_g, precision_g, recall_g, threshold_g],\n",
    "           \"lof\": [],#[y_score_lof, precision_lof, recall_lof, threshold_lof],\n",
    "           \"if\": [y_score_if, precision_if, recall_if, threshold_if]}"
   ]
  },
  {
   "cell_type": "code",
   "execution_count": 68,
   "metadata": {
    "ExecuteTime": {
     "end_time": "2019-11-12T13:22:42.584798Z",
     "start_time": "2019-11-12T13:22:42.558649Z"
    }
   },
   "outputs": [],
   "source": [
    "dump_to_pickle(content, pickle_filename)"
   ]
  },
  {
   "cell_type": "code",
   "execution_count": null,
   "metadata": {},
   "outputs": [],
   "source": []
  },
  {
   "cell_type": "code",
   "execution_count": null,
   "metadata": {},
   "outputs": [],
   "source": []
  },
  {
   "cell_type": "code",
   "execution_count": null,
   "metadata": {},
   "outputs": [],
   "source": []
  },
  {
   "cell_type": "code",
   "execution_count": null,
   "metadata": {},
   "outputs": [],
   "source": []
  }
 ],
 "metadata": {
  "kernelspec": {
   "display_name": "Python 3",
   "language": "python",
   "name": "python3"
  },
  "language_info": {
   "codemirror_mode": {
    "name": "ipython",
    "version": 3
   },
   "file_extension": ".py",
   "mimetype": "text/x-python",
   "name": "python",
   "nbconvert_exporter": "python",
   "pygments_lexer": "ipython3",
   "version": "3.7.4"
  },
  "toc": {
   "base_numbering": 1,
   "nav_menu": {},
   "number_sections": true,
   "sideBar": true,
   "skip_h1_title": false,
   "title_cell": "Table of Contents",
   "title_sidebar": "Contents",
   "toc_cell": false,
   "toc_position": {},
   "toc_section_display": true,
   "toc_window_display": true
  }
 },
 "nbformat": 4,
 "nbformat_minor": 2
}
