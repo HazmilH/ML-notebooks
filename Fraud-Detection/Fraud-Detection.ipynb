{
 "cells": [
  {
   "cell_type": "markdown",
   "metadata": {},
   "source": [
    "# Introduction\n",
    "\n",
    "https://www.kaggle.com/mlg-ulb/creditcardfraud\n",
    "\n",
    "## Context\n",
    "It is important that credit card companies are able to recognize fraudulent credit card transactions so that customers are not charged for items that they did not purchase.\n",
    "\n",
    "## Data\n",
    "The datasets contains transactions made by credit cards in September 2013 by european cardholders. This dataset presents transactions that occurred in two days, where we have 492 frauds out of 284,807 transactions. The dataset is highly unbalanced, the positive class (frauds) account for 0.172% of all transactions.\n",
    "\n",
    "It contains only numerical input variables which are the result of a PCA transformation. Unfortunately, due to confidentiality issues, we cannot provide the original features and more background information about the data. Features V1, V2, ... V28 are the principal components obtained with PCA, the only features which have not been transformed with PCA are 'Time' and 'Amount'. Feature 'Time' contains the seconds elapsed between each transaction and the first transaction in the dataset. The feature 'Amount' is the transaction Amount, this feature can be used for example-dependant cost-senstive learning. Feature 'Class' is the response variable and it takes value 1 in case of fraud and 0 otherwise.\n",
    "\n",
    "## Inspiration\n",
    "Identify fraudulent credit card transactions.\n",
    "\n",
    "Given the class imbalance ratio, we recommend measuring the accuracy using the Area Under the Precision-Recall Curve (AUPRC). Confusion matrix accuracy is not meaningful for unbalanced classification."
   ]
  },
  {
   "cell_type": "markdown",
   "metadata": {},
   "source": [
    "<h1> EDA"
   ]
  },
  {
   "cell_type": "code",
   "execution_count": 146,
   "metadata": {
    "ExecuteTime": {
     "end_time": "2019-10-26T10:00:53.538246Z",
     "start_time": "2019-10-26T10:00:53.535368Z"
    }
   },
   "outputs": [],
   "source": [
    "import pandas as pd\n",
    "import numpy as np\n",
    "import seaborn as sns\n",
    "from matplotlib import pyplot as plt"
   ]
  },
  {
   "cell_type": "code",
   "execution_count": 147,
   "metadata": {
    "ExecuteTime": {
     "end_time": "2019-10-26T10:01:02.280351Z",
     "start_time": "2019-10-26T10:00:53.700827Z"
    }
   },
   "outputs": [],
   "source": [
    "filepath = \"data/creditcard.csv\"\n",
    "df = pd.read_csv(filepath, engine=\"python\")"
   ]
  },
  {
   "cell_type": "code",
   "execution_count": 148,
   "metadata": {
    "ExecuteTime": {
     "end_time": "2019-10-26T10:01:02.285753Z",
     "start_time": "2019-10-26T10:01:02.282561Z"
    }
   },
   "outputs": [
    {
     "data": {
      "text/plain": [
       "(284807, 31)"
      ]
     },
     "execution_count": 148,
     "metadata": {},
     "output_type": "execute_result"
    }
   ],
   "source": [
    "df.shape"
   ]
  },
  {
   "cell_type": "code",
   "execution_count": 149,
   "metadata": {
    "ExecuteTime": {
     "end_time": "2019-10-26T10:01:02.328151Z",
     "start_time": "2019-10-26T10:01:02.287650Z"
    }
   },
   "outputs": [
    {
     "data": {
      "text/html": [
       "<div>\n",
       "<style scoped>\n",
       "    .dataframe tbody tr th:only-of-type {\n",
       "        vertical-align: middle;\n",
       "    }\n",
       "\n",
       "    .dataframe tbody tr th {\n",
       "        vertical-align: top;\n",
       "    }\n",
       "\n",
       "    .dataframe thead th {\n",
       "        text-align: right;\n",
       "    }\n",
       "</style>\n",
       "<table border=\"1\" class=\"dataframe\">\n",
       "  <thead>\n",
       "    <tr style=\"text-align: right;\">\n",
       "      <th></th>\n",
       "      <th>Time</th>\n",
       "      <th>V1</th>\n",
       "      <th>V2</th>\n",
       "      <th>V3</th>\n",
       "      <th>V4</th>\n",
       "      <th>V5</th>\n",
       "      <th>V6</th>\n",
       "      <th>V7</th>\n",
       "      <th>V8</th>\n",
       "      <th>V9</th>\n",
       "      <th>...</th>\n",
       "      <th>V21</th>\n",
       "      <th>V22</th>\n",
       "      <th>V23</th>\n",
       "      <th>V24</th>\n",
       "      <th>V25</th>\n",
       "      <th>V26</th>\n",
       "      <th>V27</th>\n",
       "      <th>V28</th>\n",
       "      <th>Amount</th>\n",
       "      <th>Class</th>\n",
       "    </tr>\n",
       "  </thead>\n",
       "  <tbody>\n",
       "    <tr>\n",
       "      <th>0</th>\n",
       "      <td>0.0</td>\n",
       "      <td>-1.359807</td>\n",
       "      <td>-0.072781</td>\n",
       "      <td>2.536347</td>\n",
       "      <td>1.378155</td>\n",
       "      <td>-0.338321</td>\n",
       "      <td>0.462388</td>\n",
       "      <td>0.239599</td>\n",
       "      <td>0.098698</td>\n",
       "      <td>0.363787</td>\n",
       "      <td>...</td>\n",
       "      <td>-0.018307</td>\n",
       "      <td>0.277838</td>\n",
       "      <td>-0.110474</td>\n",
       "      <td>0.066928</td>\n",
       "      <td>0.128539</td>\n",
       "      <td>-0.189115</td>\n",
       "      <td>0.133558</td>\n",
       "      <td>-0.021053</td>\n",
       "      <td>149.62</td>\n",
       "      <td>0</td>\n",
       "    </tr>\n",
       "    <tr>\n",
       "      <th>1</th>\n",
       "      <td>0.0</td>\n",
       "      <td>1.191857</td>\n",
       "      <td>0.266151</td>\n",
       "      <td>0.166480</td>\n",
       "      <td>0.448154</td>\n",
       "      <td>0.060018</td>\n",
       "      <td>-0.082361</td>\n",
       "      <td>-0.078803</td>\n",
       "      <td>0.085102</td>\n",
       "      <td>-0.255425</td>\n",
       "      <td>...</td>\n",
       "      <td>-0.225775</td>\n",
       "      <td>-0.638672</td>\n",
       "      <td>0.101288</td>\n",
       "      <td>-0.339846</td>\n",
       "      <td>0.167170</td>\n",
       "      <td>0.125895</td>\n",
       "      <td>-0.008983</td>\n",
       "      <td>0.014724</td>\n",
       "      <td>2.69</td>\n",
       "      <td>0</td>\n",
       "    </tr>\n",
       "    <tr>\n",
       "      <th>2</th>\n",
       "      <td>1.0</td>\n",
       "      <td>-1.358354</td>\n",
       "      <td>-1.340163</td>\n",
       "      <td>1.773209</td>\n",
       "      <td>0.379780</td>\n",
       "      <td>-0.503198</td>\n",
       "      <td>1.800499</td>\n",
       "      <td>0.791461</td>\n",
       "      <td>0.247676</td>\n",
       "      <td>-1.514654</td>\n",
       "      <td>...</td>\n",
       "      <td>0.247998</td>\n",
       "      <td>0.771679</td>\n",
       "      <td>0.909412</td>\n",
       "      <td>-0.689281</td>\n",
       "      <td>-0.327642</td>\n",
       "      <td>-0.139097</td>\n",
       "      <td>-0.055353</td>\n",
       "      <td>-0.059752</td>\n",
       "      <td>378.66</td>\n",
       "      <td>0</td>\n",
       "    </tr>\n",
       "    <tr>\n",
       "      <th>3</th>\n",
       "      <td>1.0</td>\n",
       "      <td>-0.966272</td>\n",
       "      <td>-0.185226</td>\n",
       "      <td>1.792993</td>\n",
       "      <td>-0.863291</td>\n",
       "      <td>-0.010309</td>\n",
       "      <td>1.247203</td>\n",
       "      <td>0.237609</td>\n",
       "      <td>0.377436</td>\n",
       "      <td>-1.387024</td>\n",
       "      <td>...</td>\n",
       "      <td>-0.108300</td>\n",
       "      <td>0.005274</td>\n",
       "      <td>-0.190321</td>\n",
       "      <td>-1.175575</td>\n",
       "      <td>0.647376</td>\n",
       "      <td>-0.221929</td>\n",
       "      <td>0.062723</td>\n",
       "      <td>0.061458</td>\n",
       "      <td>123.50</td>\n",
       "      <td>0</td>\n",
       "    </tr>\n",
       "    <tr>\n",
       "      <th>4</th>\n",
       "      <td>2.0</td>\n",
       "      <td>-1.158233</td>\n",
       "      <td>0.877737</td>\n",
       "      <td>1.548718</td>\n",
       "      <td>0.403034</td>\n",
       "      <td>-0.407193</td>\n",
       "      <td>0.095921</td>\n",
       "      <td>0.592941</td>\n",
       "      <td>-0.270533</td>\n",
       "      <td>0.817739</td>\n",
       "      <td>...</td>\n",
       "      <td>-0.009431</td>\n",
       "      <td>0.798278</td>\n",
       "      <td>-0.137458</td>\n",
       "      <td>0.141267</td>\n",
       "      <td>-0.206010</td>\n",
       "      <td>0.502292</td>\n",
       "      <td>0.219422</td>\n",
       "      <td>0.215153</td>\n",
       "      <td>69.99</td>\n",
       "      <td>0</td>\n",
       "    </tr>\n",
       "  </tbody>\n",
       "</table>\n",
       "<p>5 rows × 31 columns</p>\n",
       "</div>"
      ],
      "text/plain": [
       "   Time        V1        V2        V3        V4        V5        V6        V7  \\\n",
       "0   0.0 -1.359807 -0.072781  2.536347  1.378155 -0.338321  0.462388  0.239599   \n",
       "1   0.0  1.191857  0.266151  0.166480  0.448154  0.060018 -0.082361 -0.078803   \n",
       "2   1.0 -1.358354 -1.340163  1.773209  0.379780 -0.503198  1.800499  0.791461   \n",
       "3   1.0 -0.966272 -0.185226  1.792993 -0.863291 -0.010309  1.247203  0.237609   \n",
       "4   2.0 -1.158233  0.877737  1.548718  0.403034 -0.407193  0.095921  0.592941   \n",
       "\n",
       "         V8        V9  ...         V21       V22       V23       V24  \\\n",
       "0  0.098698  0.363787  ...   -0.018307  0.277838 -0.110474  0.066928   \n",
       "1  0.085102 -0.255425  ...   -0.225775 -0.638672  0.101288 -0.339846   \n",
       "2  0.247676 -1.514654  ...    0.247998  0.771679  0.909412 -0.689281   \n",
       "3  0.377436 -1.387024  ...   -0.108300  0.005274 -0.190321 -1.175575   \n",
       "4 -0.270533  0.817739  ...   -0.009431  0.798278 -0.137458  0.141267   \n",
       "\n",
       "        V25       V26       V27       V28  Amount  Class  \n",
       "0  0.128539 -0.189115  0.133558 -0.021053  149.62      0  \n",
       "1  0.167170  0.125895 -0.008983  0.014724    2.69      0  \n",
       "2 -0.327642 -0.139097 -0.055353 -0.059752  378.66      0  \n",
       "3  0.647376 -0.221929  0.062723  0.061458  123.50      0  \n",
       "4 -0.206010  0.502292  0.219422  0.215153   69.99      0  \n",
       "\n",
       "[5 rows x 31 columns]"
      ]
     },
     "execution_count": 149,
     "metadata": {},
     "output_type": "execute_result"
    }
   ],
   "source": [
    "df.head()"
   ]
  },
  {
   "cell_type": "code",
   "execution_count": 150,
   "metadata": {
    "ExecuteTime": {
     "end_time": "2019-10-26T10:01:02.664906Z",
     "start_time": "2019-10-26T10:01:02.331018Z"
    }
   },
   "outputs": [
    {
     "name": "stderr",
     "output_type": "stream",
     "text": [
      "No handles with labels found to put in legend.\n"
     ]
    },
    {
     "data": {
      "image/png": "[encoded data removed]",
      "text/plain": [
       "<Figure size 1080x504 with 1 Axes>"
      ]
     },
     "metadata": {
      "needs_background": "light"
     },
     "output_type": "display_data"
    }
   ],
   "source": [
    "plt.figure(figsize=(15,7))\n",
    "sns.distplot(df[df[\"Class\"]==1][\"Amount\"])\n",
    "plt.title(\"Distribution of fraudulent payment amount\")\n",
    "plt.legend()\n",
    "plt.show()"
   ]
  },
  {
   "cell_type": "markdown",
   "metadata": {},
   "source": [
    "\n",
    "<h1> Features preparation"
   ]
  },
  {
   "cell_type": "markdown",
   "metadata": {},
   "source": [
    "We would like to get more out of the Time feature, to be able to analyze if the time has a influence on the fraudulent payment."
   ]
  },
  {
   "cell_type": "markdown",
   "metadata": {
    "ExecuteTime": {
     "end_time": "2019-05-16T09:41:26.450065Z",
     "start_time": "2019-05-16T09:41:26.445796Z"
    }
   },
   "source": [
    "<h2> Time feature creation"
   ]
  },
  {
   "cell_type": "code",
   "execution_count": 151,
   "metadata": {
    "ExecuteTime": {
     "end_time": "2019-10-26T10:01:02.672546Z",
     "start_time": "2019-10-26T10:01:02.668190Z"
    }
   },
   "outputs": [],
   "source": [
    "def time_decompo(x):\n",
    "    nb_min, nb_secs = x//60, x%60\n",
    "    nb_hour, nb_mins = nb_min//60, nb_min%60\n",
    "    nb_day, nb_hours = nb_hour//24, nb_hour%24\n",
    "    return nb_day, nb_hours, nb_mins, nb_secs"
   ]
  },
  {
   "cell_type": "code",
   "execution_count": 152,
   "metadata": {
    "ExecuteTime": {
     "end_time": "2019-10-26T10:01:05.255152Z",
     "start_time": "2019-10-26T10:01:02.675954Z"
    }
   },
   "outputs": [],
   "source": [
    "df.apply(lambda x: [1, 2], axis=1)\n",
    "df[\"Day\"] = df[\"Time\"].apply(lambda x: time_decompo(x)[0])\n",
    "df[\"Hour\"] = df[\"Time\"].apply(lambda x: time_decompo(x)[1])\n",
    "df[\"Min\"] = df[\"Time\"].apply(lambda x: time_decompo(x)[2])\n",
    "df[\"Sec\"] = df[\"Time\"].apply(lambda x: time_decompo(x)[3])"
   ]
  },
  {
   "cell_type": "markdown",
   "metadata": {},
   "source": [
    "<h2> Data viz with the new time features"
   ]
  },
  {
   "cell_type": "code",
   "execution_count": 153,
   "metadata": {
    "ExecuteTime": {
     "end_time": "2019-10-26T10:01:05.568455Z",
     "start_time": "2019-10-26T10:01:05.258860Z"
    }
   },
   "outputs": [
    {
     "name": "stderr",
     "output_type": "stream",
     "text": [
      "No handles with labels found to put in legend.\n"
     ]
    },
    {
     "data": {
      "image/png": "[encoded data removed]",
      "text/plain": [
       "<Figure size 1080x504 with 1 Axes>"
      ]
     },
     "metadata": {
      "needs_background": "light"
     },
     "output_type": "display_data"
    }
   ],
   "source": [
    "plt.figure(figsize=(15,7))\n",
    "sns.scatterplot(x=df[df[\"Class\"]==1][\"Hour\"], y=df[df[\"Class\"]==1][\"Amount\"])\n",
    "plt.title(\"Amount of credit card payment depending on Hour\")\n",
    "plt.legend()\n",
    "plt.show()"
   ]
  },
  {
   "cell_type": "code",
   "execution_count": 154,
   "metadata": {
    "ExecuteTime": {
     "end_time": "2019-10-26T10:01:05.952096Z",
     "start_time": "2019-10-26T10:01:05.571644Z"
    }
   },
   "outputs": [
    {
     "data": {
      "image/png": "[encoded data removed]",
      "text/plain": [
       "<Figure size 1080x504 with 1 Axes>"
      ]
     },
     "metadata": {
      "needs_background": "light"
     },
     "output_type": "display_data"
    }
   ],
   "source": [
    "plt.figure(figsize=(15,7))\n",
    "sns.distplot(df[\"Hour\"])\n",
    "plt.title(\"Distribution of payment hour\")\n",
    "plt.show()"
   ]
  },
  {
   "cell_type": "markdown",
   "metadata": {},
   "source": [
    "Base on that distribution we can assess H=0 -> H=22H"
   ]
  },
  {
   "cell_type": "code",
   "execution_count": 155,
   "metadata": {
    "ExecuteTime": {
     "end_time": "2019-10-26T10:01:06.411441Z",
     "start_time": "2019-10-26T10:01:05.955225Z"
    },
    "scrolled": false
   },
   "outputs": [
    {
     "data": {
      "image/png": "[encoded data removed]",
      "text/plain": [
       "<Figure size 1080x504 with 1 Axes>"
      ]
     },
     "metadata": {
      "needs_background": "light"
     },
     "output_type": "display_data"
    }
   ],
   "source": [
    "plt.figure(figsize=(15,7))\n",
    "plt.subplots_adjust(hspace=0.4)\n",
    "\n",
    "sns.distplot(df[df[\"Class\"]==1][\"Hour\"], label=\"fraudulent\", bins=20)\n",
    "sns.distplot(df[df[\"Class\"]==0][\"Hour\"], label=\"non fraudulent\", bins=20)\n",
    "plt.title(\"Distribution of fraudulent payment hour\")\n",
    "\n",
    "plt.legend()\n",
    "plt.show()"
   ]
  },
  {
   "cell_type": "markdown",
   "metadata": {},
   "source": [
    "We can clearly noticed that there are more fraudulent payment during the night, It could be interresting to categorize by day and night the hour"
   ]
  },
  {
   "cell_type": "code",
   "execution_count": 156,
   "metadata": {
    "ExecuteTime": {
     "end_time": "2019-10-26T10:01:06.418811Z",
     "start_time": "2019-10-26T10:01:06.414811Z"
    }
   },
   "outputs": [],
   "source": [
    "def night_time(x):\n",
    "    if x < 7 or x > 0:\n",
    "        return 1\n",
    "    else:\n",
    "        return 0"
   ]
  },
  {
   "cell_type": "code",
   "execution_count": 157,
   "metadata": {
    "ExecuteTime": {
     "end_time": "2019-10-26T10:01:06.587812Z",
     "start_time": "2019-10-26T10:01:06.421731Z"
    }
   },
   "outputs": [],
   "source": [
    "df[\"NightTime\"] = df[\"Hour\"].apply(lambda x: night_time(x)) "
   ]
  },
  {
   "cell_type": "code",
   "execution_count": 158,
   "metadata": {
    "ExecuteTime": {
     "end_time": "2019-10-26T10:01:06.595352Z",
     "start_time": "2019-10-26T10:01:06.590306Z"
    }
   },
   "outputs": [
    {
     "data": {
      "text/plain": [
       "(284807, 36)"
      ]
     },
     "execution_count": 158,
     "metadata": {},
     "output_type": "execute_result"
    }
   ],
   "source": [
    "df.shape"
   ]
  },
  {
   "cell_type": "markdown",
   "metadata": {},
   "source": [
    "<h2> Features selection"
   ]
  },
  {
   "cell_type": "code",
   "execution_count": 159,
   "metadata": {
    "ExecuteTime": {
     "end_time": "2019-10-26T10:01:06.657515Z",
     "start_time": "2019-10-26T10:01:06.598142Z"
    }
   },
   "outputs": [],
   "source": [
    "column_drop = [\"Day\", \"Min\", \"Sec\"]\n",
    "df = df.drop(column_drop, axis=1)"
   ]
  },
  {
   "cell_type": "markdown",
   "metadata": {},
   "source": [
    "<h2> Sampling"
   ]
  },
  {
   "cell_type": "code",
   "execution_count": 160,
   "metadata": {
    "ExecuteTime": {
     "end_time": "2019-10-26T10:01:06.793368Z",
     "start_time": "2019-10-26T10:01:06.659914Z"
    }
   },
   "outputs": [],
   "source": [
    "df_sample = df.sample(frac=1, replace=False, random_state=0)"
   ]
  },
  {
   "cell_type": "code",
   "execution_count": 161,
   "metadata": {
    "ExecuteTime": {
     "end_time": "2019-10-26T10:01:06.801813Z",
     "start_time": "2019-10-26T10:01:06.796941Z"
    }
   },
   "outputs": [
    {
     "data": {
      "text/plain": [
       "(284807, 33)"
      ]
     },
     "execution_count": 161,
     "metadata": {},
     "output_type": "execute_result"
    }
   ],
   "source": [
    "df_sample.shape"
   ]
  },
  {
   "cell_type": "code",
   "execution_count": 162,
   "metadata": {
    "ExecuteTime": {
     "end_time": "2019-10-26T10:01:06.823271Z",
     "start_time": "2019-10-26T10:01:06.804771Z"
    },
    "scrolled": true
   },
   "outputs": [
    {
     "name": "stdout",
     "output_type": "stream",
     "text": [
      "Ratio of Class 1 in df: 0.173 %\n",
      "Ratio of Class 1 in df_sample: 0.173 %\n"
     ]
    }
   ],
   "source": [
    "ratio = df[\"Class\"].sum()/df.shape[0]\n",
    "print(f\"Ratio of Class 1 in df: {round(ratio*100, 3)} %\")\n",
    "ratio = df_sample[\"Class\"].sum()/df_sample.shape[0]\n",
    "print(f\"Ratio of Class 1 in df_sample: {round(ratio*100, 3)} %\")"
   ]
  },
  {
   "cell_type": "markdown",
   "metadata": {},
   "source": [
    "<h2> Split of X_train, X_test"
   ]
  },
  {
   "cell_type": "code",
   "execution_count": 163,
   "metadata": {
    "ExecuteTime": {
     "end_time": "2019-10-26T10:01:06.880026Z",
     "start_time": "2019-10-26T10:01:06.825263Z"
    }
   },
   "outputs": [],
   "source": [
    "y = df_sample[\"Class\"]\n",
    "X = df_sample.drop(\"Class\", axis=1)"
   ]
  },
  {
   "cell_type": "code",
   "execution_count": 164,
   "metadata": {
    "ExecuteTime": {
     "end_time": "2019-10-26T10:01:06.894941Z",
     "start_time": "2019-10-26T10:01:06.883270Z"
    }
   },
   "outputs": [
    {
     "data": {
      "text/plain": [
       "(284807, 32)"
      ]
     },
     "execution_count": 164,
     "metadata": {},
     "output_type": "execute_result"
    }
   ],
   "source": [
    "X.shape"
   ]
  },
  {
   "cell_type": "code",
   "execution_count": 165,
   "metadata": {
    "ExecuteTime": {
     "end_time": "2019-10-26T10:01:07.020323Z",
     "start_time": "2019-10-26T10:01:06.898828Z"
    }
   },
   "outputs": [],
   "source": [
    "from sklearn.model_selection import train_test_split\n",
    "X_train, X_test, y_train, y_test = train_test_split(X, y, test_size=0.3, random_state=0)"
   ]
  },
  {
   "cell_type": "code",
   "execution_count": 166,
   "metadata": {
    "ExecuteTime": {
     "end_time": "2019-10-26T10:01:07.027700Z",
     "start_time": "2019-10-26T10:01:07.022076Z"
    }
   },
   "outputs": [
    {
     "name": "stdout",
     "output_type": "stream",
     "text": [
      "Ratio of Class 1 in y_train: 0.17 %\n",
      "Ratio of Class 1 in y_test: 0.18 %\n"
     ]
    }
   ],
   "source": [
    "print(f\"Ratio of Class 1 in y_train: {round((y_train.sum()/len(y_train))*100, 2)} %\")\n",
    "print(f\"Ratio of Class 1 in y_test: {round((y_test.sum()/len(y_test))*100, 2)} %\")"
   ]
  },
  {
   "cell_type": "markdown",
   "metadata": {},
   "source": [
    "<h2> Scalling of data"
   ]
  },
  {
   "cell_type": "markdown",
   "metadata": {},
   "source": [
    "We can not scalled over the full X, otherwise we would cheet by looking over X_test data"
   ]
  },
  {
   "cell_type": "code",
   "execution_count": 186,
   "metadata": {
    "ExecuteTime": {
     "end_time": "2019-10-26T10:06:04.330803Z",
     "start_time": "2019-10-26T10:06:04.041758Z"
    },
    "scrolled": false
   },
   "outputs": [
    {
     "name": "stderr",
     "output_type": "stream",
     "text": [
      "/home/zyncus/bin/anaconda/lib/python3.7/site-packages/sklearn/preprocessing/data.py:645: DataConversionWarning: Data with input dtype int64, float64 were all converted to float64 by StandardScaler.\n",
      "  return self.partial_fit(X, y)\n",
      "/home/zyncus/bin/anaconda/lib/python3.7/site-packages/sklearn/base.py:464: DataConversionWarning: Data with input dtype int64, float64 were all converted to float64 by StandardScaler.\n",
      "  return self.fit(X, **fit_params).transform(X)\n"
     ]
    }
   ],
   "source": [
    "from sklearn.preprocessing import StandardScaler\n",
    "scaler = StandardScaler()\n",
    "X_train_scaled = scaler.fit_transform(X=X_train)"
   ]
  },
  {
   "cell_type": "code",
   "execution_count": 187,
   "metadata": {
    "ExecuteTime": {
     "end_time": "2019-10-26T10:06:04.897535Z",
     "start_time": "2019-10-26T10:06:04.812740Z"
    }
   },
   "outputs": [
    {
     "name": "stderr",
     "output_type": "stream",
     "text": [
      "/home/zyncus/bin/anaconda/lib/python3.7/site-packages/sklearn/preprocessing/data.py:645: DataConversionWarning: Data with input dtype int64, float64 were all converted to float64 by StandardScaler.\n",
      "  return self.partial_fit(X, y)\n",
      "/home/zyncus/bin/anaconda/lib/python3.7/site-packages/sklearn/base.py:464: DataConversionWarning: Data with input dtype int64, float64 were all converted to float64 by StandardScaler.\n",
      "  return self.fit(X, **fit_params).transform(X)\n"
     ]
    }
   ],
   "source": [
    "scaler = StandardScaler()\n",
    "X_test_scaled = scaler.fit_transform(X=X_test)"
   ]
  },
  {
   "cell_type": "markdown",
   "metadata": {},
   "source": [
    "<h1> Imbalance data"
   ]
  },
  {
   "cell_type": "markdown",
   "metadata": {
    "ExecuteTime": {
     "end_time": "2019-05-16T10:40:52.239050Z",
     "start_time": "2019-05-16T10:40:52.234381Z"
    }
   },
   "source": [
    "<h2> Undersampling"
   ]
  },
  {
   "cell_type": "code",
   "execution_count": 188,
   "metadata": {
    "ExecuteTime": {
     "end_time": "2019-10-26T10:06:06.195278Z",
     "start_time": "2019-10-26T10:06:06.192212Z"
    }
   },
   "outputs": [],
   "source": [
    "from imblearn.under_sampling import RandomUnderSampler"
   ]
  },
  {
   "cell_type": "code",
   "execution_count": 189,
   "metadata": {
    "ExecuteTime": {
     "end_time": "2019-10-26T10:06:06.498439Z",
     "start_time": "2019-10-26T10:06:06.495731Z"
    }
   },
   "outputs": [],
   "source": [
    "rus = RandomUnderSampler(sampling_strategy='auto', return_indices=False, random_state=0, replacement=False, ratio=0.01)"
   ]
  },
  {
   "cell_type": "code",
   "execution_count": 190,
   "metadata": {
    "ExecuteTime": {
     "end_time": "2019-10-26T10:06:06.976475Z",
     "start_time": "2019-10-26T10:06:06.884004Z"
    }
   },
   "outputs": [
    {
     "data": {
      "text/plain": [
       "((34037, 32), (34037,))"
      ]
     },
     "execution_count": 190,
     "metadata": {},
     "output_type": "execute_result"
    }
   ],
   "source": [
    "X_undersamp, y_undersamp = rus.fit_resample(X_train_scaled, y_train)\n",
    "X_undersamp.shape, y_undersamp.shape"
   ]
  },
  {
   "cell_type": "code",
   "execution_count": 191,
   "metadata": {
    "ExecuteTime": {
     "end_time": "2019-10-26T10:06:07.226577Z",
     "start_time": "2019-10-26T10:06:07.219743Z"
    }
   },
   "outputs": [
    {
     "name": "stdout",
     "output_type": "stream",
     "text": [
      "Ratio of Class 1 in y_undersamp: 0.99 %\n"
     ]
    }
   ],
   "source": [
    "print(f\"Ratio of Class 1 in y_undersamp: {round((y_undersamp.sum()/len(y_undersamp))*100, 2)} %\")"
   ]
  },
  {
   "cell_type": "markdown",
   "metadata": {},
   "source": [
    "<h2> Oversampling (SMOTE)"
   ]
  },
  {
   "cell_type": "code",
   "execution_count": 192,
   "metadata": {
    "ExecuteTime": {
     "end_time": "2019-10-26T10:06:08.038886Z",
     "start_time": "2019-10-26T10:06:08.036247Z"
    }
   },
   "outputs": [],
   "source": [
    "from imblearn import over_sampling\n",
    "smote = over_sampling.SMOTE(k_neighbors=5, ratio=0.01, random_state=0)"
   ]
  },
  {
   "cell_type": "code",
   "execution_count": 193,
   "metadata": {
    "ExecuteTime": {
     "end_time": "2019-10-26T10:06:08.506975Z",
     "start_time": "2019-10-26T10:06:08.354748Z"
    }
   },
   "outputs": [
    {
     "data": {
      "text/plain": [
       "((201017, 32), (201017,))"
      ]
     },
     "execution_count": 193,
     "metadata": {},
     "output_type": "execute_result"
    }
   ],
   "source": [
    "X_oversamp, y_oversamp = smote.fit_resample(X_train_scaled, y_train)\n",
    "X_oversamp.shape, y_oversamp.shape"
   ]
  },
  {
   "cell_type": "code",
   "execution_count": 194,
   "metadata": {
    "ExecuteTime": {
     "end_time": "2019-10-26T10:06:08.580350Z",
     "start_time": "2019-10-26T10:06:08.572443Z"
    }
   },
   "outputs": [
    {
     "name": "stdout",
     "output_type": "stream",
     "text": [
      "Ratio of Class 1 in y_oversamp: 0.99 %\n"
     ]
    }
   ],
   "source": [
    "print(f\"Ratio of Class 1 in y_oversamp: {round((y_oversamp.sum()/len(y_oversamp))*100, 2)} %\")"
   ]
  },
  {
   "cell_type": "markdown",
   "metadata": {},
   "source": [
    "<h1> Supervised Classification Model"
   ]
  },
  {
   "cell_type": "code",
   "execution_count": 195,
   "metadata": {
    "ExecuteTime": {
     "end_time": "2019-10-26T10:06:09.116495Z",
     "start_time": "2019-10-26T10:06:09.113099Z"
    }
   },
   "outputs": [],
   "source": [
    "from sklearn.metrics import precision_recall_curve, roc_curve, auc, accuracy_score, f1_score, classification_report"
   ]
  },
  {
   "cell_type": "markdown",
   "metadata": {},
   "source": [
    "<h2> Logistic Regression"
   ]
  },
  {
   "cell_type": "code",
   "execution_count": 196,
   "metadata": {
    "ExecuteTime": {
     "end_time": "2019-10-26T10:06:09.650478Z",
     "start_time": "2019-10-26T10:06:09.647340Z"
    }
   },
   "outputs": [],
   "source": [
    "from sklearn.linear_model import LogisticRegression"
   ]
  },
  {
   "cell_type": "markdown",
   "metadata": {
    "ExecuteTime": {
     "end_time": "2019-10-21T14:46:55.094051Z",
     "start_time": "2019-10-21T14:46:55.088704Z"
    }
   },
   "source": [
    "<h3> Raw data"
   ]
  },
  {
   "cell_type": "code",
   "execution_count": 197,
   "metadata": {
    "ExecuteTime": {
     "end_time": "2019-10-26T10:06:12.852543Z",
     "start_time": "2019-10-26T10:06:10.016628Z"
    }
   },
   "outputs": [
    {
     "name": "stderr",
     "output_type": "stream",
     "text": [
      "/home/zyncus/bin/anaconda/lib/python3.7/site-packages/sklearn/linear_model/logistic.py:433: FutureWarning: Default solver will be changed to 'lbfgs' in 0.22. Specify a solver to silence this warning.\n",
      "  FutureWarning)\n"
     ]
    },
    {
     "data": {
      "text/plain": [
       "0.973907005031907"
      ]
     },
     "execution_count": 197,
     "metadata": {},
     "output_type": "execute_result"
    }
   ],
   "source": [
    "lr = LogisticRegression()\n",
    "lr.fit(X_train_scaled, y_train)\n",
    "y_score_lr = lr.predict_proba(X_test_scaled)\n",
    "fpr_lr, tpr_lr, _ = roc_curve(y_test, y_score_lr[:,1])\n",
    "roc_auc = auc(fpr_lr, tpr_lr)\n",
    "roc_auc"
   ]
  },
  {
   "cell_type": "code",
   "execution_count": 198,
   "metadata": {
    "ExecuteTime": {
     "end_time": "2019-10-26T10:06:12.866503Z",
     "start_time": "2019-10-26T10:06:12.861089Z"
    }
   },
   "outputs": [
    {
     "name": "stdout",
     "output_type": "stream",
     "text": [
      "105 transactions classified as fraudulent out of 155\n"
     ]
    }
   ],
   "source": [
    "y_pred = np.round(y_score_lr[:,1], 0)\n",
    "print(int(y_pred.sum()), \"transactions classified as fraudulent out of\", y_test.sum())"
   ]
  },
  {
   "cell_type": "markdown",
   "metadata": {
    "ExecuteTime": {
     "end_time": "2019-10-21T14:47:16.534486Z",
     "start_time": "2019-10-21T14:47:16.529960Z"
    }
   },
   "source": [
    "<h3> Undersampling"
   ]
  },
  {
   "cell_type": "code",
   "execution_count": 199,
   "metadata": {
    "ExecuteTime": {
     "end_time": "2019-10-26T10:06:13.411355Z",
     "start_time": "2019-10-26T10:06:12.868918Z"
    }
   },
   "outputs": [
    {
     "name": "stderr",
     "output_type": "stream",
     "text": [
      "/home/zyncus/bin/anaconda/lib/python3.7/site-packages/sklearn/linear_model/logistic.py:433: FutureWarning: Default solver will be changed to 'lbfgs' in 0.22. Specify a solver to silence this warning.\n",
      "  FutureWarning)\n"
     ]
    },
    {
     "data": {
      "text/plain": [
       "0.9773968882662463"
      ]
     },
     "execution_count": 199,
     "metadata": {},
     "output_type": "execute_result"
    }
   ],
   "source": [
    "lr = LogisticRegression()\n",
    "lr.fit(X_undersamp, y_undersamp)\n",
    "y_score_lr_u = lr.predict_proba(X_test_scaled)\n",
    "fpr_lr_u, tpr_lr_u, _ = roc_curve(y_test, y_score_lr_u[:,1])\n",
    "roc_auc = auc(fpr_lr_u, tpr_lr_u)\n",
    "roc_auc"
   ]
  },
  {
   "cell_type": "code",
   "execution_count": 200,
   "metadata": {
    "ExecuteTime": {
     "end_time": "2019-10-26T10:06:13.420252Z",
     "start_time": "2019-10-26T10:06:13.414103Z"
    }
   },
   "outputs": [
    {
     "name": "stdout",
     "output_type": "stream",
     "text": [
      "169 transactions classified as fraudulent out of 155\n"
     ]
    }
   ],
   "source": [
    "y_pred = np.round(y_score_lr_u[:,1], 0)\n",
    "print(int(y_pred.sum()), \"transactions classified as fraudulent out of\", y_test.sum())"
   ]
  },
  {
   "cell_type": "markdown",
   "metadata": {},
   "source": [
    "<h3> Oversampling"
   ]
  },
  {
   "cell_type": "code",
   "execution_count": 201,
   "metadata": {
    "ExecuteTime": {
     "end_time": "2019-10-26T10:06:16.858650Z",
     "start_time": "2019-10-26T10:06:13.423513Z"
    }
   },
   "outputs": [
    {
     "name": "stderr",
     "output_type": "stream",
     "text": [
      "/home/zyncus/bin/anaconda/lib/python3.7/site-packages/sklearn/linear_model/logistic.py:433: FutureWarning: Default solver will be changed to 'lbfgs' in 0.22. Specify a solver to silence this warning.\n",
      "  FutureWarning)\n"
     ]
    },
    {
     "data": {
      "text/plain": [
       "0.9742421881382548"
      ]
     },
     "execution_count": 201,
     "metadata": {},
     "output_type": "execute_result"
    }
   ],
   "source": [
    "lr = LogisticRegression()\n",
    "lr.fit(X_oversamp, y_oversamp)\n",
    "y_score_lr_o = lr.predict_proba(X_test_scaled)\n",
    "fpr_lr_o, tpr_lr_o, _ = roc_curve(y_test, y_score_lr_o[:,1])\n",
    "roc_auc = auc(fpr_lr_o, tpr_lr_o)\n",
    "roc_auc"
   ]
  },
  {
   "cell_type": "code",
   "execution_count": 202,
   "metadata": {
    "ExecuteTime": {
     "end_time": "2019-10-26T10:06:16.872121Z",
     "start_time": "2019-10-26T10:06:16.861928Z"
    }
   },
   "outputs": [
    {
     "name": "stdout",
     "output_type": "stream",
     "text": [
      "150 transactions classified as fraudulent out of 155\n"
     ]
    }
   ],
   "source": [
    "y_pred = np.round(y_score_lr_o[:,1], 0)\n",
    "print(int(y_pred.sum()), \"transactions classified as fraudulent out of\", y_test.sum())"
   ]
  },
  {
   "cell_type": "markdown",
   "metadata": {},
   "source": [
    "<h3> Comparison"
   ]
  },
  {
   "cell_type": "code",
   "execution_count": 203,
   "metadata": {
    "ExecuteTime": {
     "end_time": "2019-10-26T10:06:17.169422Z",
     "start_time": "2019-10-26T10:06:16.877352Z"
    }
   },
   "outputs": [
    {
     "data": {
      "image/png": "[encoded data removed]",
      "text/plain": [
       "<Figure size 864x576 with 1 Axes>"
      ]
     },
     "metadata": {
      "needs_background": "light"
     },
     "output_type": "display_data"
    }
   ],
   "source": [
    "plt.figure(figsize=(12,8))\n",
    "\n",
    "plt.plot(fpr_lr, tpr_lr, label='raw data')\n",
    "plt.plot(fpr_lr_u, tpr_lr_u, label='undersampling')\n",
    "plt.plot(fpr_lr_o, tpr_lr_o, label='oversampling')\n",
    "plt.plot([0, 1], [0, 1], color='navy', linestyle='--')\n",
    "plt.xlabel('False Positive Rate')\n",
    "plt.ylabel('True Positive Rate')\n",
    "plt.title('ROC logistic regression')\n",
    "plt.legend(loc=\"lower right\")\n",
    "plt.show()"
   ]
  },
  {
   "cell_type": "markdown",
   "metadata": {},
   "source": [
    "-> Best Model: LR with Undersampling"
   ]
  },
  {
   "cell_type": "code",
   "execution_count": 204,
   "metadata": {
    "ExecuteTime": {
     "end_time": "2019-10-26T10:06:17.266376Z",
     "start_time": "2019-10-26T10:06:17.174622Z"
    }
   },
   "outputs": [
    {
     "name": "stdout",
     "output_type": "stream",
     "text": [
      "              precision    recall  f1-score   support\n",
      "\n",
      "           0       1.00      1.00      1.00     85288\n",
      "           1       0.80      0.77      0.79       155\n",
      "\n",
      "   micro avg       1.00      1.00      1.00     85443\n",
      "   macro avg       0.90      0.89      0.89     85443\n",
      "weighted avg       1.00      1.00      1.00     85443\n",
      "\n"
     ]
    }
   ],
   "source": [
    "print(classification_report(y_test, y_pred))"
   ]
  },
  {
   "cell_type": "markdown",
   "metadata": {
    "ExecuteTime": {
     "end_time": "2019-05-16T13:32:48.690751Z",
     "start_time": "2019-05-16T13:32:48.680000Z"
    }
   },
   "source": [
    "<h2> XG Boost"
   ]
  },
  {
   "cell_type": "code",
   "execution_count": 205,
   "metadata": {
    "ExecuteTime": {
     "end_time": "2019-10-26T10:06:22.218296Z",
     "start_time": "2019-10-26T10:06:22.215391Z"
    }
   },
   "outputs": [],
   "source": [
    "import xgboost as xgb"
   ]
  },
  {
   "cell_type": "markdown",
   "metadata": {
    "ExecuteTime": {
     "end_time": "2019-10-21T14:46:55.094051Z",
     "start_time": "2019-10-21T14:46:55.088704Z"
    }
   },
   "source": [
    "<h3> Raw data"
   ]
  },
  {
   "cell_type": "code",
   "execution_count": 206,
   "metadata": {
    "ExecuteTime": {
     "end_time": "2019-10-26T10:07:06.076179Z",
     "start_time": "2019-10-26T10:06:22.821825Z"
    }
   },
   "outputs": [
    {
     "data": {
      "text/plain": [
       "0.9805995851626822"
      ]
     },
     "execution_count": 206,
     "metadata": {},
     "output_type": "execute_result"
    }
   ],
   "source": [
    "xg = xgb.XGBClassifier()\n",
    "xg.fit(X_train_scaled, y_train)\n",
    "y_score_xg = xg.predict_proba(X_test_scaled)\n",
    "fpr_xg, tpr_xg, _ = roc_curve(y_test, y_score_xg[:,1])\n",
    "roc_auc = auc(fpr_xg, tpr_xg)\n",
    "roc_auc"
   ]
  },
  {
   "cell_type": "code",
   "execution_count": 207,
   "metadata": {
    "ExecuteTime": {
     "end_time": "2019-10-26T10:07:06.083109Z",
     "start_time": "2019-10-26T10:07:06.078201Z"
    }
   },
   "outputs": [
    {
     "name": "stdout",
     "output_type": "stream",
     "text": [
      "131 transactions classified as fraudulent out of 155\n"
     ]
    }
   ],
   "source": [
    "y_pred = np.round(y_score_xg[:,1], 0)\n",
    "print(int(y_pred.sum()), \"transactions classified as fraudulent out of\", y_test.sum())"
   ]
  },
  {
   "cell_type": "markdown",
   "metadata": {
    "ExecuteTime": {
     "end_time": "2019-10-21T14:47:16.534486Z",
     "start_time": "2019-10-21T14:47:16.529960Z"
    }
   },
   "source": [
    "<h3> Undersampling"
   ]
  },
  {
   "cell_type": "code",
   "execution_count": 208,
   "metadata": {
    "ExecuteTime": {
     "end_time": "2019-10-26T10:07:13.084055Z",
     "start_time": "2019-10-26T10:07:06.084980Z"
    }
   },
   "outputs": [
    {
     "data": {
      "text/plain": [
       "0.9825965003585575"
      ]
     },
     "execution_count": 208,
     "metadata": {},
     "output_type": "execute_result"
    }
   ],
   "source": [
    "xg = xgb.XGBClassifier()\n",
    "xg.fit(X_undersamp, y_undersamp)\n",
    "y_score_xg_u = xg.predict_proba(X_test_scaled)\n",
    "fpr_xg_u, tpr_xg_u, _ = roc_curve(y_test, y_score_xg_u[:,1])\n",
    "roc_auc = auc(fpr_xg_u, tpr_xg_u)\n",
    "roc_auc"
   ]
  },
  {
   "cell_type": "code",
   "execution_count": 209,
   "metadata": {
    "ExecuteTime": {
     "end_time": "2019-10-26T10:07:13.090520Z",
     "start_time": "2019-10-26T10:07:13.086178Z"
    }
   },
   "outputs": [
    {
     "name": "stdout",
     "output_type": "stream",
     "text": [
      "169 transactions classified as fraudulent out of 155\n"
     ]
    }
   ],
   "source": [
    "y_pred = np.round(y_score_xg_u[:,1], 0)\n",
    "print(int(y_pred.sum()), \"transactions classified as fraudulent out of\", y_test.sum())"
   ]
  },
  {
   "cell_type": "markdown",
   "metadata": {},
   "source": [
    "<h3> Oversampling"
   ]
  },
  {
   "cell_type": "code",
   "execution_count": 210,
   "metadata": {
    "ExecuteTime": {
     "end_time": "2019-10-26T10:07:58.032600Z",
     "start_time": "2019-10-26T10:07:13.092398Z"
    }
   },
   "outputs": [
    {
     "data": {
      "text/plain": [
       "0.9804081654265925"
      ]
     },
     "execution_count": 210,
     "metadata": {},
     "output_type": "execute_result"
    }
   ],
   "source": [
    "xg = xgb.XGBClassifier()\n",
    "xg.fit(X_oversamp, y_oversamp)\n",
    "y_score_xg_o = xg.predict_proba(X_test_scaled)\n",
    "fpr_xg_o, tpr_xg_o, _ = roc_curve(y_test, y_score_xg_o[:,1])\n",
    "roc_auc = auc(fpr_xg_o, tpr_xg_o)\n",
    "roc_auc"
   ]
  },
  {
   "cell_type": "code",
   "execution_count": 211,
   "metadata": {
    "ExecuteTime": {
     "end_time": "2019-10-26T10:07:58.042043Z",
     "start_time": "2019-10-26T10:07:58.036475Z"
    }
   },
   "outputs": [
    {
     "name": "stdout",
     "output_type": "stream",
     "text": [
      "152 transactions classified as fraudulent out of 155\n"
     ]
    }
   ],
   "source": [
    "y_pred = np.round(y_score_xg_o[:,1], 0)\n",
    "print(int(y_pred.sum()), \"transactions classified as fraudulent out of\", y_test.sum())"
   ]
  },
  {
   "cell_type": "markdown",
   "metadata": {},
   "source": [
    "<h3> Comparison"
   ]
  },
  {
   "cell_type": "code",
   "execution_count": 212,
   "metadata": {
    "ExecuteTime": {
     "end_time": "2019-10-26T10:07:58.270000Z",
     "start_time": "2019-10-26T10:07:58.046044Z"
    }
   },
   "outputs": [
    {
     "data": {
      "image/png": "[encoded data removed]",
      "text/plain": [
       "<Figure size 864x576 with 1 Axes>"
      ]
     },
     "metadata": {
      "needs_background": "light"
     },
     "output_type": "display_data"
    }
   ],
   "source": [
    "plt.figure(figsize=(12,8))\n",
    "\n",
    "plt.plot(fpr_xg, tpr_xg, label='raw data')\n",
    "plt.plot(fpr_xg_u, tpr_xg_u, label='undersampling')\n",
    "plt.plot(fpr_xg_o, tpr_xg_o, label='oversampling')\n",
    "plt.plot([0, 1], [0, 1], color='navy', linestyle='--')\n",
    "plt.xlabel('False Positive Rate')\n",
    "plt.ylabel('True Positive Rate')\n",
    "plt.title('ROC XG boost')\n",
    "plt.legend(loc=\"lower right\")\n",
    "plt.show()"
   ]
  },
  {
   "cell_type": "markdown",
   "metadata": {},
   "source": [
    "-> Best Model: LR with Raw data"
   ]
  },
  {
   "cell_type": "markdown",
   "metadata": {},
   "source": [
    "<h2> LGBM"
   ]
  },
  {
   "cell_type": "code",
   "execution_count": 398,
   "metadata": {
    "ExecuteTime": {
     "end_time": "2019-10-26T10:58:16.043793Z",
     "start_time": "2019-10-26T10:58:16.041022Z"
    }
   },
   "outputs": [],
   "source": [
    "import lightgbm as lgb"
   ]
  },
  {
   "cell_type": "markdown",
   "metadata": {
    "ExecuteTime": {
     "end_time": "2019-10-21T14:46:55.094051Z",
     "start_time": "2019-10-21T14:46:55.088704Z"
    }
   },
   "source": [
    "<h3> Raw data"
   ]
  },
  {
   "cell_type": "code",
   "execution_count": 399,
   "metadata": {
    "ExecuteTime": {
     "end_time": "2019-10-26T10:58:21.818999Z",
     "start_time": "2019-10-26T10:58:16.403660Z"
    }
   },
   "outputs": [
    {
     "data": {
      "text/plain": [
       "0.6412328172325419"
      ]
     },
     "execution_count": 399,
     "metadata": {},
     "output_type": "execute_result"
    }
   ],
   "source": [
    "lgbm = lgb.LGBMClassifier()\n",
    "lgbm.fit(X_train_scaled, y_train)\n",
    "y_score_lg = lgbm.predict_proba(X_test_scaled)\n",
    "fpr_lg, tpr_lg, _ = roc_curve(y_test, y_score_lg[:,1])\n",
    "roc_auc = auc(fpr_lg, tpr_lg)\n",
    "roc_auc"
   ]
  },
  {
   "cell_type": "code",
   "execution_count": 400,
   "metadata": {
    "ExecuteTime": {
     "end_time": "2019-10-26T10:58:21.828020Z",
     "start_time": "2019-10-26T10:58:21.821599Z"
    }
   },
   "outputs": [
    {
     "name": "stdout",
     "output_type": "stream",
     "text": [
      "713 transactions classified as fraudulent out of 155\n"
     ]
    }
   ],
   "source": [
    "y_pred = np.round(y_score_lg[:,1], 0)\n",
    "print(int(y_pred.sum()), \"transactions classified as fraudulent out of\", y_test.sum())"
   ]
  },
  {
   "cell_type": "markdown",
   "metadata": {
    "ExecuteTime": {
     "end_time": "2019-10-21T14:47:16.534486Z",
     "start_time": "2019-10-21T14:47:16.529960Z"
    }
   },
   "source": [
    "<h3> Undersampling"
   ]
  },
  {
   "cell_type": "code",
   "execution_count": 401,
   "metadata": {
    "ExecuteTime": {
     "end_time": "2019-10-26T10:58:24.211924Z",
     "start_time": "2019-10-26T10:58:21.830567Z"
    }
   },
   "outputs": [
    {
     "data": {
      "text/plain": [
       "0.9818412604276667"
      ]
     },
     "execution_count": 401,
     "metadata": {},
     "output_type": "execute_result"
    }
   ],
   "source": [
    "lgbm = lgb.LGBMClassifier()\n",
    "lgbm.fit(X_undersamp, y_undersamp)\n",
    "y_score_lg_u = lgbm.predict_proba(X_test_scaled)\n",
    "fpr_lg_u, tpr_lg_u, _ = roc_curve(y_test, y_score_lg_u[:,1])\n",
    "roc_auc = auc(fpr_lg_u, tpr_lg_u)\n",
    "roc_auc"
   ]
  },
  {
   "cell_type": "code",
   "execution_count": 402,
   "metadata": {
    "ExecuteTime": {
     "end_time": "2019-10-26T10:58:24.223553Z",
     "start_time": "2019-10-26T10:58:24.215009Z"
    }
   },
   "outputs": [
    {
     "name": "stdout",
     "output_type": "stream",
     "text": [
      "170 transactions classified as fraudulent out of 155\n"
     ]
    }
   ],
   "source": [
    "y_pred = np.round(y_score_lg_u[:,1], 0)\n",
    "print(int(y_pred.sum()), \"transactions classified as fraudulent out of\", y_test.sum())"
   ]
  },
  {
   "cell_type": "markdown",
   "metadata": {},
   "source": [
    "<h3> Oversampling"
   ]
  },
  {
   "cell_type": "code",
   "execution_count": 403,
   "metadata": {
    "ExecuteTime": {
     "end_time": "2019-10-26T10:58:31.353403Z",
     "start_time": "2019-10-26T10:58:24.226825Z"
    }
   },
   "outputs": [
    {
     "data": {
      "text/plain": [
       "0.9792781800412115"
      ]
     },
     "execution_count": 403,
     "metadata": {},
     "output_type": "execute_result"
    }
   ],
   "source": [
    "lgbm = lgb.LGBMClassifier()\n",
    "lgbm.fit(X_oversamp, y_oversamp)\n",
    "y_score_lg_o = lgbm.predict_proba(X_test_scaled)\n",
    "fpr_lg_o, tpr_lg_o, _ = roc_curve(y_test, y_score_lg_o[:,1])\n",
    "roc_auc = auc(fpr_lg_o, tpr_lg_o)\n",
    "roc_auc"
   ]
  },
  {
   "cell_type": "code",
   "execution_count": 404,
   "metadata": {
    "ExecuteTime": {
     "end_time": "2019-10-26T10:58:31.363773Z",
     "start_time": "2019-10-26T10:58:31.356228Z"
    }
   },
   "outputs": [
    {
     "name": "stdout",
     "output_type": "stream",
     "text": [
      "145 transactions classified as fraudulent out of 155\n"
     ]
    }
   ],
   "source": [
    "y_pred = np.round(y_score_lg_o[:,1], 0)\n",
    "print(int(y_pred.sum()), \"transactions classified as fraudulent out of\", y_test.sum())"
   ]
  },
  {
   "cell_type": "markdown",
   "metadata": {},
   "source": [
    "<h3> Comparison"
   ]
  },
  {
   "cell_type": "code",
   "execution_count": 405,
   "metadata": {
    "ExecuteTime": {
     "end_time": "2019-10-26T10:58:31.595054Z",
     "start_time": "2019-10-26T10:58:31.366412Z"
    }
   },
   "outputs": [
    {
     "data": {
      "image/png": "[encoded data removed]",
      "text/plain": [
       "<Figure size 864x576 with 1 Axes>"
      ]
     },
     "metadata": {
      "needs_background": "light"
     },
     "output_type": "display_data"
    }
   ],
   "source": [
    "plt.figure(figsize=(12,8))\n",
    "\n",
    "plt.plot(fpr_lg, tpr_lg, label='raw data')\n",
    "plt.plot(fpr_lg_u, tpr_lg_u, label='undersampling')\n",
    "plt.plot(fpr_lg_o, tpr_lg_o, label='oversampling')\n",
    "plt.plot([0, 1], [0, 1], color='navy', linestyle='--')\n",
    "plt.xlabel('False Positive Rate')\n",
    "plt.ylabel('True Positive Rate')\n",
    "plt.title('ROC LGBM')\n",
    "plt.legend(loc=\"lower right\")\n",
    "plt.show()"
   ]
  },
  {
   "cell_type": "markdown",
   "metadata": {},
   "source": [
    "-> Best Model: LR with Oversampling"
   ]
  },
  {
   "cell_type": "markdown",
   "metadata": {
    "ExecuteTime": {
     "end_time": "2019-05-17T09:43:08.244573Z",
     "start_time": "2019-05-17T09:43:08.237145Z"
    }
   },
   "source": [
    "<h1> Anomaly detection model (Unsupervised)"
   ]
  },
  {
   "cell_type": "markdown",
   "metadata": {},
   "source": [
    "- Ratio of Class 1 in y: 0.17 %\n",
    "- Ratio of Class 1 in y_undersamp: 0.99 %\n",
    "- Ratio of Class 1 in y_oversamp: 0.99 %"
   ]
  },
  {
   "cell_type": "code",
   "execution_count": 221,
   "metadata": {
    "ExecuteTime": {
     "end_time": "2019-10-26T10:08:27.211144Z",
     "start_time": "2019-10-26T10:08:27.184084Z"
    }
   },
   "outputs": [
    {
     "data": {
      "text/plain": [
       "(199027, 32)"
      ]
     },
     "execution_count": 221,
     "metadata": {},
     "output_type": "execute_result"
    }
   ],
   "source": [
    "X_train_inliers = X_train_scaled[y_train==0]\n",
    "X_train_inliers.shape"
   ]
  },
  {
   "cell_type": "code",
   "execution_count": 222,
   "metadata": {
    "ExecuteTime": {
     "end_time": "2019-10-26T10:08:27.426886Z",
     "start_time": "2019-10-26T10:08:27.422751Z"
    }
   },
   "outputs": [
    {
     "data": {
      "text/plain": [
       "(85443, 32)"
      ]
     },
     "execution_count": 222,
     "metadata": {},
     "output_type": "execute_result"
    }
   ],
   "source": [
    "X_test_scaled.shape"
   ]
  },
  {
   "cell_type": "markdown",
   "metadata": {
    "ExecuteTime": {
     "end_time": "2019-10-21T15:11:30.412480Z",
     "start_time": "2019-10-21T15:11:30.408628Z"
    }
   },
   "source": [
    "<h2> Gaussian distribution based"
   ]
  },
  {
   "cell_type": "code",
   "execution_count": 223,
   "metadata": {
    "ExecuteTime": {
     "end_time": "2019-10-26T10:08:27.920291Z",
     "start_time": "2019-10-26T10:08:27.911287Z"
    }
   },
   "outputs": [],
   "source": [
    "from sklearn.covariance import EllipticEnvelope"
   ]
  },
  {
   "cell_type": "code",
   "execution_count": 224,
   "metadata": {
    "ExecuteTime": {
     "end_time": "2019-10-26T10:08:28.101290Z",
     "start_time": "2019-10-26T10:08:28.095027Z"
    }
   },
   "outputs": [],
   "source": [
    "G = EllipticEnvelope(random_state=0)"
   ]
  },
  {
   "cell_type": "code",
   "execution_count": 225,
   "metadata": {
    "ExecuteTime": {
     "end_time": "2019-10-26T10:09:12.265349Z",
     "start_time": "2019-10-26T10:08:28.288050Z"
    }
   },
   "outputs": [
    {
     "name": "stderr",
     "output_type": "stream",
     "text": [
      "/home/zyncus/bin/anaconda/lib/python3.7/site-packages/sklearn/covariance/robust_covariance.py:646: UserWarning: The covariance matrix associated to your dataset is not full rank\n",
      "  warnings.warn(\"The covariance matrix associated to your dataset \"\n"
     ]
    }
   ],
   "source": [
    "G.fit(X_train_inliers)\n",
    "y_predG = G.predict(X_test_scaled)"
   ]
  },
  {
   "cell_type": "code",
   "execution_count": 226,
   "metadata": {
    "ExecuteTime": {
     "end_time": "2019-10-26T10:09:12.269606Z",
     "start_time": "2019-10-26T10:09:12.267289Z"
    }
   },
   "outputs": [],
   "source": [
    "#y_predG = G.fit_predict(X_test)"
   ]
  },
  {
   "cell_type": "code",
   "execution_count": 227,
   "metadata": {
    "ExecuteTime": {
     "end_time": "2019-10-26T10:09:12.287407Z",
     "start_time": "2019-10-26T10:09:12.271552Z"
    }
   },
   "outputs": [],
   "source": [
    "# predict returns 1 for an inlier and -1 for an outlier\n",
    "y_predG[y_predG == 1] = 0\n",
    "y_predG[y_predG == -1] = 1"
   ]
  },
  {
   "cell_type": "code",
   "execution_count": 228,
   "metadata": {
    "ExecuteTime": {
     "end_time": "2019-10-26T10:09:12.394035Z",
     "start_time": "2019-10-26T10:09:12.289360Z"
    }
   },
   "outputs": [
    {
     "name": "stdout",
     "output_type": "stream",
     "text": [
      "              precision    recall  f1-score   support\n",
      "\n",
      "           0       1.00      0.91      0.95     85288\n",
      "           1       0.02      0.87      0.03       155\n",
      "\n",
      "   micro avg       0.91      0.91      0.91     85443\n",
      "   macro avg       0.51      0.89      0.49     85443\n",
      "weighted avg       1.00      0.91      0.95     85443\n",
      "\n"
     ]
    }
   ],
   "source": [
    "print(classification_report(y_test, y_predG))"
   ]
  },
  {
   "cell_type": "code",
   "execution_count": 229,
   "metadata": {
    "ExecuteTime": {
     "end_time": "2019-10-26T10:09:12.403884Z",
     "start_time": "2019-10-26T10:09:12.397765Z"
    }
   },
   "outputs": [
    {
     "name": "stdout",
     "output_type": "stream",
     "text": [
      "7935 transactions classified as fraudulent out of 155\n"
     ]
    }
   ],
   "source": [
    "print(y_predG.sum(), \"transactions classified as fraudulent out of\", y_test.sum())"
   ]
  },
  {
   "cell_type": "code",
   "execution_count": 230,
   "metadata": {
    "ExecuteTime": {
     "end_time": "2019-10-26T10:09:12.511127Z",
     "start_time": "2019-10-26T10:09:12.407697Z"
    }
   },
   "outputs": [
    {
     "data": {
      "text/plain": [
       "0.921240442251075"
      ]
     },
     "execution_count": 230,
     "metadata": {},
     "output_type": "execute_result"
    }
   ],
   "source": [
    "y_score_g = -G.score_samples(X_test_scaled)\n",
    "fpr_G, tpr_G, _ = roc_curve(y_test, y_score_g)\n",
    "roc_auc = auc(fpr_G, tpr_G)\n",
    "roc_auc"
   ]
  },
  {
   "cell_type": "markdown",
   "metadata": {},
   "source": [
    "<h2> Local Outlier Factor (LOF)"
   ]
  },
  {
   "cell_type": "markdown",
   "metadata": {},
   "source": [
    "!!! LOF takes a long time to compute."
   ]
  },
  {
   "cell_type": "code",
   "execution_count": 231,
   "metadata": {
    "ExecuteTime": {
     "end_time": "2019-10-26T10:09:12.522146Z",
     "start_time": "2019-10-26T10:09:12.514671Z"
    }
   },
   "outputs": [],
   "source": [
    "from sklearn.neighbors import LocalOutlierFactor"
   ]
  },
  {
   "cell_type": "code",
   "execution_count": 232,
   "metadata": {
    "ExecuteTime": {
     "end_time": "2019-10-26T10:09:12.536418Z",
     "start_time": "2019-10-26T10:09:12.528968Z"
    }
   },
   "outputs": [],
   "source": [
    "LOF = LocalOutlierFactor(contamination=\"auto\", novelty=True) "
   ]
  },
  {
   "cell_type": "code",
   "execution_count": 233,
   "metadata": {
    "ExecuteTime": {
     "end_time": "2019-10-26T10:09:12.547349Z",
     "start_time": "2019-10-26T10:09:12.539730Z"
    }
   },
   "outputs": [],
   "source": [
    "#LOF.fit(X_train_inliers)\n",
    "#y_predLOF = LOF.predict(X_test_scaled) #assign novelty to True"
   ]
  },
  {
   "cell_type": "code",
   "execution_count": 234,
   "metadata": {
    "ExecuteTime": {
     "end_time": "2019-10-26T10:09:12.572845Z",
     "start_time": "2019-10-26T10:09:12.550879Z"
    }
   },
   "outputs": [
    {
     "ename": "NameError",
     "evalue": "name 'y_predLOF' is not defined",
     "output_type": "error",
     "traceback": [
      "\u001b[0;31m---------------------------------------------------------------------------\u001b[0m",
      "\u001b[0;31mNameError\u001b[0m                                 Traceback (most recent call last)",
      "\u001b[0;32m<ipython-input-234-60f30817f816>\u001b[0m in \u001b[0;36m<module>\u001b[0;34m()\u001b[0m\n\u001b[0;32m----> 1\u001b[0;31m \u001b[0my_predLOF\u001b[0m\u001b[0;34m[\u001b[0m\u001b[0my_predLOF\u001b[0m \u001b[0;34m==\u001b[0m \u001b[0;36m1\u001b[0m\u001b[0;34m]\u001b[0m \u001b[0;34m=\u001b[0m \u001b[0;36m0\u001b[0m\u001b[0;34m\u001b[0m\u001b[0;34m\u001b[0m\u001b[0m\n\u001b[0m\u001b[1;32m      2\u001b[0m \u001b[0my_predLOF\u001b[0m\u001b[0;34m[\u001b[0m\u001b[0my_predLOF\u001b[0m \u001b[0;34m==\u001b[0m \u001b[0;34m-\u001b[0m\u001b[0;36m1\u001b[0m\u001b[0;34m]\u001b[0m \u001b[0;34m=\u001b[0m \u001b[0;36m1\u001b[0m\u001b[0;34m\u001b[0m\u001b[0;34m\u001b[0m\u001b[0m\n",
      "\u001b[0;31mNameError\u001b[0m: name 'y_predLOF' is not defined"
     ]
    }
   ],
   "source": [
    "y_predLOF[y_predLOF == 1] = 0\n",
    "y_predLOF[y_predLOF == -1] = 1"
   ]
  },
  {
   "cell_type": "code",
   "execution_count": null,
   "metadata": {
    "ExecuteTime": {
     "end_time": "2019-10-26T10:09:12.573816Z",
     "start_time": "2019-10-26T10:08:31.367Z"
    }
   },
   "outputs": [],
   "source": [
    "n_errors = (y_predLOF != y_test).sum()\n",
    "X_scores = LOF.negative_outlier_factor_\n",
    "n_errors, LOF.offset_"
   ]
  },
  {
   "cell_type": "code",
   "execution_count": null,
   "metadata": {
    "ExecuteTime": {
     "end_time": "2019-10-26T10:09:12.575401Z",
     "start_time": "2019-10-26T10:08:32.053Z"
    }
   },
   "outputs": [],
   "source": [
    "print(classification_report(y_test, y_predLOF))"
   ]
  },
  {
   "cell_type": "code",
   "execution_count": null,
   "metadata": {
    "ExecuteTime": {
     "end_time": "2019-10-26T10:09:12.577117Z",
     "start_time": "2019-10-26T10:08:32.252Z"
    }
   },
   "outputs": [],
   "source": [
    "print(y_predLOF.sum(), \"transactions classified as fraudulent out of\", y_test.sum())"
   ]
  },
  {
   "cell_type": "code",
   "execution_count": null,
   "metadata": {
    "ExecuteTime": {
     "end_time": "2019-10-26T10:09:12.579152Z",
     "start_time": "2019-10-26T10:08:32.404Z"
    }
   },
   "outputs": [],
   "source": [
    "y_score_lof = -LOF.score_samples(X_test_scaled)\n",
    "fpr_LOF, tpr_LOF, _ = roc_curve(y_test, y_score_lof)\n",
    "roc_auc = auc(fpr_LOF, tpr_LOF)\n",
    "roc_auc"
   ]
  },
  {
   "cell_type": "markdown",
   "metadata": {},
   "source": [
    "<h2> Isolation Forest"
   ]
  },
  {
   "cell_type": "code",
   "execution_count": 235,
   "metadata": {
    "ExecuteTime": {
     "end_time": "2019-10-26T10:09:27.387760Z",
     "start_time": "2019-10-26T10:09:27.384109Z"
    }
   },
   "outputs": [],
   "source": [
    "from sklearn.ensemble import IsolationForest"
   ]
  },
  {
   "cell_type": "code",
   "execution_count": 236,
   "metadata": {
    "ExecuteTime": {
     "end_time": "2019-10-26T10:09:42.660785Z",
     "start_time": "2019-10-26T10:09:27.635151Z"
    }
   },
   "outputs": [],
   "source": [
    "IF = IsolationForest(n_estimators=100, contamination=\"auto\", behaviour=\"new\", random_state=0)\n",
    "IF.fit(X_train_inliers)\n",
    "y_predIF = IF.predict(X_test_scaled)"
   ]
  },
  {
   "cell_type": "code",
   "execution_count": 237,
   "metadata": {
    "ExecuteTime": {
     "end_time": "2019-10-26T10:09:42.665719Z",
     "start_time": "2019-10-26T10:09:42.663017Z"
    }
   },
   "outputs": [],
   "source": [
    "#y_predIF = IF.fit_predict(X_test)"
   ]
  },
  {
   "cell_type": "code",
   "execution_count": 238,
   "metadata": {
    "ExecuteTime": {
     "end_time": "2019-10-26T10:09:42.683713Z",
     "start_time": "2019-10-26T10:09:42.668733Z"
    }
   },
   "outputs": [],
   "source": [
    "y_predIF[y_predIF == 1] = 0\n",
    "y_predIF[y_predIF == -1] = 1"
   ]
  },
  {
   "cell_type": "code",
   "execution_count": 239,
   "metadata": {
    "ExecuteTime": {
     "end_time": "2019-10-26T10:09:42.761810Z",
     "start_time": "2019-10-26T10:09:42.687651Z"
    },
    "scrolled": false
   },
   "outputs": [
    {
     "name": "stdout",
     "output_type": "stream",
     "text": [
      "              precision    recall  f1-score   support\n",
      "\n",
      "           0       1.00      0.97      0.98     85288\n",
      "           1       0.05      0.81      0.09       155\n",
      "\n",
      "   micro avg       0.97      0.97      0.97     85443\n",
      "   macro avg       0.52      0.89      0.54     85443\n",
      "weighted avg       1.00      0.97      0.98     85443\n",
      "\n"
     ]
    }
   ],
   "source": [
    "print(classification_report(y_test, y_predIF))"
   ]
  },
  {
   "cell_type": "code",
   "execution_count": 240,
   "metadata": {
    "ExecuteTime": {
     "end_time": "2019-10-26T10:09:42.770966Z",
     "start_time": "2019-10-26T10:09:42.766745Z"
    }
   },
   "outputs": [
    {
     "name": "stdout",
     "output_type": "stream",
     "text": [
      "2642 transactions classified as fraudulent out of 155\n"
     ]
    }
   ],
   "source": [
    "print(y_predIF.sum(), \"transactions classified as fraudulent out of\", y_test.sum())"
   ]
  },
  {
   "cell_type": "code",
   "execution_count": 241,
   "metadata": {
    "ExecuteTime": {
     "end_time": "2019-10-26T10:09:46.264466Z",
     "start_time": "2019-10-26T10:09:42.773100Z"
    }
   },
   "outputs": [
    {
     "data": {
      "text/plain": [
       "0.9507023640583254"
      ]
     },
     "execution_count": 241,
     "metadata": {},
     "output_type": "execute_result"
    }
   ],
   "source": [
    "y_score_if = -IF.score_samples(X_test_scaled)\n",
    "fpr_IF, tpr_IF, _ = roc_curve(y_test, y_score_if)\n",
    "roc_auc = auc(fpr_IF, tpr_IF)\n",
    "roc_auc"
   ]
  },
  {
   "cell_type": "markdown",
   "metadata": {},
   "source": [
    "<h2> Comparison"
   ]
  },
  {
   "cell_type": "code",
   "execution_count": 242,
   "metadata": {
    "ExecuteTime": {
     "end_time": "2019-10-26T10:09:46.456873Z",
     "start_time": "2019-10-26T10:09:46.267266Z"
    }
   },
   "outputs": [
    {
     "data": {
      "image/png": "[encoded data removed]",
      "text/plain": [
       "<Figure size 864x576 with 1 Axes>"
      ]
     },
     "metadata": {
      "needs_background": "light"
     },
     "output_type": "display_data"
    }
   ],
   "source": [
    "plt.figure(figsize=(12,8))\n",
    "\n",
    "plt.plot(fpr_G, tpr_G, label='Gaussian distribution')\n",
    "#plt.plot(fpr_LOF, tpr_LOF, label='Local Outlier Factor')\n",
    "plt.plot(fpr_IF, tpr_IF, label='Isolation forest')\n",
    "plt.plot([0, 1], [0, 1], color='navy', linestyle='--')\n",
    "plt.xlabel('False Positive Rate')\n",
    "plt.ylabel('True Positive Rate')\n",
    "plt.title('ROC anomaly detection models')\n",
    "plt.legend(loc=\"lower right\")\n",
    "plt.show()"
   ]
  },
  {
   "cell_type": "markdown",
   "metadata": {
    "ExecuteTime": {
     "end_time": "2019-10-25T08:30:28.560269Z",
     "start_time": "2019-10-25T08:30:28.556865Z"
    }
   },
   "source": [
    "<h1> Comparison of both methods"
   ]
  },
  {
   "cell_type": "markdown",
   "metadata": {},
   "source": [
    "<h2> ROC AUC"
   ]
  },
  {
   "cell_type": "code",
   "execution_count": 243,
   "metadata": {
    "ExecuteTime": {
     "end_time": "2019-10-26T10:09:46.698255Z",
     "start_time": "2019-10-26T10:09:46.459976Z"
    }
   },
   "outputs": [
    {
     "data": {
      "image/png": "[encoded data removed]",
      "text/plain": [
       "<Figure size 864x576 with 1 Axes>"
      ]
     },
     "metadata": {
      "needs_background": "light"
     },
     "output_type": "display_data"
    }
   ],
   "source": [
    "plt.figure(figsize=(12,8))\n",
    "\n",
    "plt.plot(fpr_G, tpr_G, label='Gaussian distribution')\n",
    "#plt.plot(fpr_LOF, tpr_LOF, label='Local Outlier Factor')\n",
    "plt.plot(fpr_IF, tpr_IF, label='Isolation forest')\n",
    "plt.plot(fpr_lr_u, tpr_lr_u, label='Logistic regression undersampled')\n",
    "plt.plot(fpr_xg_u, tpr_xg_u, label='XG boost undersampled')\n",
    "plt.plot(fpr_lg_u, tpr_lg_u, label='LGBM undersampled')\n",
    "plt.plot([0, 1], [0, 1], color='navy', linestyle='--')\n",
    "plt.xlabel('False Positive Rate')\n",
    "plt.ylabel('True Positive Rate')\n",
    "plt.title('ROC models comparison')\n",
    "plt.legend(loc=\"lower right\")\n",
    "plt.show()"
   ]
  },
  {
   "cell_type": "markdown",
   "metadata": {},
   "source": [
    "<h2> Recall / Precsion tradeoff"
   ]
  },
  {
   "cell_type": "code",
   "execution_count": 394,
   "metadata": {
    "ExecuteTime": {
     "end_time": "2019-10-26T10:57:56.744402Z",
     "start_time": "2019-10-26T10:57:56.741633Z"
    }
   },
   "outputs": [],
   "source": [
    "ytest = y_test.values.reshape(-1,1)"
   ]
  },
  {
   "cell_type": "code",
   "execution_count": 513,
   "metadata": {
    "ExecuteTime": {
     "end_time": "2019-10-26T11:09:48.602075Z",
     "start_time": "2019-10-26T11:09:48.539148Z"
    }
   },
   "outputs": [],
   "source": [
    "precision_lr , recall_lr, threshold_lr = precision_recall_curve(ytest, y_score_lr_u[:,1])\n",
    "precision_xg_u , recall_xg_u, threshold_xg_u = precision_recall_curve(ytest, y_score_xg_u[:,1])\n",
    "precision_lg_o , recall_lg_o, threshold_lg_o = precision_recall_curve(ytest, y_score_lg_o[:,1])"
   ]
  },
  {
   "cell_type": "code",
   "execution_count": 514,
   "metadata": {
    "ExecuteTime": {
     "end_time": "2019-10-26T11:09:48.940635Z",
     "start_time": "2019-10-26T11:09:48.895343Z"
    }
   },
   "outputs": [],
   "source": [
    "precision_g , recall_g, threshold_g = precision_recall_curve(ytest, y_score_g)\n",
    "precision_if , recall_if, threshold_if = precision_recall_curve(ytest, y_score_if)"
   ]
  },
  {
   "cell_type": "code",
   "execution_count": 515,
   "metadata": {
    "ExecuteTime": {
     "end_time": "2019-10-26T11:09:49.443691Z",
     "start_time": "2019-10-26T11:09:49.127186Z"
    }
   },
   "outputs": [
    {
     "data": {
      "image/png": "[encoded data removed]",
      "text/plain": [
       "<Figure size 864x576 with 1 Axes>"
      ]
     },
     "metadata": {
      "needs_background": "light"
     },
     "output_type": "display_data"
    }
   ],
   "source": [
    "plt.figure(figsize=(12,8))\n",
    "plt.plot(recall_lr, precision_lr, label=\"Logistic regression\")\n",
    "plt.plot(recall_xg_u, precision_xg_u, label=\"XG boost\")\n",
    "plt.plot(recall_lg_o, precision_lg_o, label=\"LGBM\")\n",
    "plt.plot(recall_if, precision_if, label=\"Isolation Forest\")\n",
    "plt.plot(recall_g, precision_g, label=\"Gaussian distribution\")\n",
    "plt.xlabel('Recall')\n",
    "plt.ylabel('Precision')\n",
    "plt.title(\"Precision-Recall tradeoff\")\n",
    "plt.legend(loc=\"lower right\")\n",
    "plt.show()"
   ]
  },
  {
   "cell_type": "markdown",
   "metadata": {},
   "source": [
    "LGBM seems to be the most adapted model"
   ]
  },
  {
   "cell_type": "markdown",
   "metadata": {},
   "source": [
    "<h1> Cost functions"
   ]
  },
  {
   "cell_type": "markdown",
   "metadata": {},
   "source": [
    "<h2> Threshold adjustment"
   ]
  },
  {
   "cell_type": "code",
   "execution_count": 516,
   "metadata": {
    "ExecuteTime": {
     "end_time": "2019-10-26T11:09:50.998786Z",
     "start_time": "2019-10-26T11:09:50.729474Z"
    }
   },
   "outputs": [
    {
     "data": {
      "image/png": "[encoded data removed]",
      "text/plain": [
       "<Figure size 864x576 with 1 Axes>"
      ]
     },
     "metadata": {
      "needs_background": "light"
     },
     "output_type": "display_data"
    }
   ],
   "source": [
    "plt.figure(figsize=(12,8))\n",
    "plt.plot(threshold_lg_o, recall_lg_o[:-1], label=\"recall\")\n",
    "plt.plot(threshold_lg_o, precision_lg_o[:-1], label=\"precision\")\n",
    "plt.xlabel('threshold')\n",
    "plt.ylabel('score')\n",
    "plt.title(\"Precision and recall curve as a fonction of threshold\")\n",
    "plt.legend(loc=\"lower right\")\n",
    "plt.show()"
   ]
  },
  {
   "cell_type": "markdown",
   "metadata": {},
   "source": [
    "<h2> Cost evaluation"
   ]
  },
  {
   "cell_type": "code",
   "execution_count": 474,
   "metadata": {
    "ExecuteTime": {
     "end_time": "2019-10-26T11:07:21.843338Z",
     "start_time": "2019-10-26T11:07:21.840752Z"
    }
   },
   "outputs": [],
   "source": [
    "check_cost_u = 2000\n",
    "additional_cost_u = 10000"
   ]
  },
  {
   "cell_type": "code",
   "execution_count": 475,
   "metadata": {
    "ExecuteTime": {
     "end_time": "2019-10-26T11:07:22.058142Z",
     "start_time": "2019-10-26T11:07:22.055443Z"
    }
   },
   "outputs": [],
   "source": [
    "threshold = 0.9"
   ]
  },
  {
   "cell_type": "code",
   "execution_count": 476,
   "metadata": {
    "ExecuteTime": {
     "end_time": "2019-10-26T11:07:22.397201Z",
     "start_time": "2019-10-26T11:07:22.389488Z"
    }
   },
   "outputs": [],
   "source": [
    "def make_prediction(y_score, threshold):\n",
    "    y_fraud = np.zeros(len(y_score))\n",
    "    y_fraud[y_score < threshold] = 0\n",
    "    y_fraud[y_score >= threshold] = 1\n",
    "    return y_fraud"
   ]
  },
  {
   "cell_type": "code",
   "execution_count": 482,
   "metadata": {
    "ExecuteTime": {
     "end_time": "2019-10-26T11:07:49.007170Z",
     "start_time": "2019-10-26T11:07:48.982417Z"
    }
   },
   "outputs": [
    {
     "data": {
      "text/plain": [
       "(85443, 170.0)"
      ]
     },
     "execution_count": 482,
     "metadata": {},
     "output_type": "execute_result"
    }
   ],
   "source": [
    "y_fraud = make_prediction(y_score_lg_u[:,1], threshold=0.5)\n",
    "len(y_fraud), sum(y_fraud)"
   ]
  },
  {
   "cell_type": "markdown",
   "metadata": {},
   "source": [
    "<h3> Cost of fraudulent transaction with algo checking"
   ]
  },
  {
   "cell_type": "code",
   "execution_count": 483,
   "metadata": {
    "ExecuteTime": {
     "end_time": "2019-10-26T11:07:49.610243Z",
     "start_time": "2019-10-26T11:07:49.603719Z"
    },
    "scrolled": true
   },
   "outputs": [
    {
     "data": {
      "text/plain": [
       "340000.0"
      ]
     },
     "execution_count": 483,
     "metadata": {},
     "output_type": "execute_result"
    }
   ],
   "source": [
    "check_cost = y_fraud.sum() * check_cost_u\n",
    "check_cost"
   ]
  },
  {
   "cell_type": "code",
   "execution_count": 484,
   "metadata": {
    "ExecuteTime": {
     "end_time": "2019-10-26T11:07:49.787014Z",
     "start_time": "2019-10-26T11:07:49.780421Z"
    }
   },
   "outputs": [
    {
     "data": {
      "text/plain": [
       "2468.93"
      ]
     },
     "execution_count": 484,
     "metadata": {},
     "output_type": "execute_result"
    }
   ],
   "source": [
    "remaining_fraud_cost = X_test[\"Amount\"][y_test-y_fraud == 1].sum()\n",
    "remaining_fraud_cost"
   ]
  },
  {
   "cell_type": "code",
   "execution_count": 485,
   "metadata": {
    "ExecuteTime": {
     "end_time": "2019-10-26T11:07:50.171399Z",
     "start_time": "2019-10-26T11:07:50.164804Z"
    }
   },
   "outputs": [
    {
     "data": {
      "text/plain": [
       "240000"
      ]
     },
     "execution_count": 485,
     "metadata": {},
     "output_type": "execute_result"
    }
   ],
   "source": [
    "additional_cost = len(y_test[y_test-y_fraud == 1]) * additional_cost_u\n",
    "additional_cost"
   ]
  },
  {
   "cell_type": "code",
   "execution_count": 486,
   "metadata": {
    "ExecuteTime": {
     "end_time": "2019-10-26T11:07:50.351037Z",
     "start_time": "2019-10-26T11:07:50.344364Z"
    }
   },
   "outputs": [
    {
     "data": {
      "text/plain": [
       "582468.9299999999"
      ]
     },
     "execution_count": 486,
     "metadata": {},
     "output_type": "execute_result"
    }
   ],
   "source": [
    "total_check_cost = check_cost + remaining_fraud_cost + additional_cost\n",
    "total_check_cost"
   ]
  },
  {
   "cell_type": "code",
   "execution_count": 487,
   "metadata": {
    "ExecuteTime": {
     "end_time": "2019-10-26T11:07:50.468672Z",
     "start_time": "2019-10-26T11:07:50.464645Z"
    }
   },
   "outputs": [],
   "source": [
    "def check_cost(y_pred, check_cost_u, additional_cost_u):\n",
    "    check_cost = y_pred.sum() * check_cost_u\n",
    "    remaining_fraud_cost = X_test[\"Amount\"][y_test-y_pred == 1].sum()\n",
    "    additional_cost = len(y_test[y_test-y_pred == 1]) * additional_cost_u\n",
    "    return check_cost + remaining_fraud_cost + additional_cost"
   ]
  },
  {
   "cell_type": "code",
   "execution_count": 488,
   "metadata": {
    "ExecuteTime": {
     "end_time": "2019-10-26T11:07:50.637557Z",
     "start_time": "2019-10-26T11:07:50.630497Z"
    }
   },
   "outputs": [
    {
     "data": {
      "text/plain": [
       "582468.9299999999"
      ]
     },
     "execution_count": 488,
     "metadata": {},
     "output_type": "execute_result"
    }
   ],
   "source": [
    "check_cost(y_fraud, check_cost_u, additional_cost_u)"
   ]
  },
  {
   "cell_type": "markdown",
   "metadata": {},
   "source": [
    "<h3> Cost of fraudulent transaction without algo checking"
   ]
  },
  {
   "cell_type": "code",
   "execution_count": 489,
   "metadata": {
    "ExecuteTime": {
     "end_time": "2019-10-26T11:07:50.921093Z",
     "start_time": "2019-10-26T11:07:50.917590Z"
    }
   },
   "outputs": [],
   "source": [
    "def actual_cost(additional_cost_u):\n",
    "    remaining_fraud_cost = X_test[\"Amount\"][y_test == 1].sum()\n",
    "    additional_cost = len(y_test[y_test == 1]) * additional_cost_u\n",
    "    return remaining_fraud_cost + additional_cost"
   ]
  },
  {
   "cell_type": "code",
   "execution_count": 490,
   "metadata": {
    "ExecuteTime": {
     "end_time": "2019-10-26T11:07:51.071183Z",
     "start_time": "2019-10-26T11:07:51.065175Z"
    }
   },
   "outputs": [
    {
     "data": {
      "text/plain": [
       "1569062.37"
      ]
     },
     "execution_count": 490,
     "metadata": {},
     "output_type": "execute_result"
    }
   ],
   "source": [
    "actual_cost(additional_cost_u)"
   ]
  },
  {
   "cell_type": "markdown",
   "metadata": {},
   "source": [
    "<h3> Gain"
   ]
  },
  {
   "cell_type": "code",
   "execution_count": 491,
   "metadata": {
    "ExecuteTime": {
     "end_time": "2019-10-26T11:07:51.477291Z",
     "start_time": "2019-10-26T11:07:51.465338Z"
    }
   },
   "outputs": [
    {
     "data": {
      "text/plain": [
       "19062.370000000003"
      ]
     },
     "execution_count": 491,
     "metadata": {},
     "output_type": "execute_result"
    }
   ],
   "source": [
    "remaining_fraud_cost = X_test[\"Amount\"][y_test == 1].sum()\n",
    "remaining_fraud_cost"
   ]
  },
  {
   "cell_type": "code",
   "execution_count": 492,
   "metadata": {
    "ExecuteTime": {
     "end_time": "2019-10-26T11:07:51.595101Z",
     "start_time": "2019-10-26T11:07:51.588556Z"
    }
   },
   "outputs": [
    {
     "data": {
      "text/plain": [
       "1550000"
      ]
     },
     "execution_count": 492,
     "metadata": {},
     "output_type": "execute_result"
    }
   ],
   "source": [
    "additional_cost = len(y_test[y_test == 1]) * additional_cost_u\n",
    "additional_cost"
   ]
  },
  {
   "cell_type": "code",
   "execution_count": 493,
   "metadata": {
    "ExecuteTime": {
     "end_time": "2019-10-26T11:07:51.785932Z",
     "start_time": "2019-10-26T11:07:51.780350Z"
    }
   },
   "outputs": [
    {
     "data": {
      "text/plain": [
       "1569062.37"
      ]
     },
     "execution_count": 493,
     "metadata": {},
     "output_type": "execute_result"
    }
   ],
   "source": [
    "total_actual_cost = remaining_fraud_cost + additional_cost\n",
    "total_actual_cost"
   ]
  },
  {
   "cell_type": "code",
   "execution_count": 494,
   "metadata": {
    "ExecuteTime": {
     "end_time": "2019-10-26T11:07:51.951810Z",
     "start_time": "2019-10-26T11:07:51.947776Z"
    }
   },
   "outputs": [
    {
     "data": {
      "text/plain": [
       "986593.4400000002"
      ]
     },
     "execution_count": 494,
     "metadata": {},
     "output_type": "execute_result"
    }
   ],
   "source": [
    "gain = total_actual_cost - total_check_cost\n",
    "gain"
   ]
  },
  {
   "cell_type": "code",
   "execution_count": 495,
   "metadata": {
    "ExecuteTime": {
     "end_time": "2019-10-26T11:07:52.116687Z",
     "start_time": "2019-10-26T11:07:52.113532Z"
    }
   },
   "outputs": [],
   "source": [
    "def gain(y_score, threshold, check_cost_u=200, additional_cost_u=1000):\n",
    "    y_pred = make_prediction(y_score, threshold)\n",
    "    total_check_cost = check_cost(y_pred, check_cost_u, additional_cost_u)\n",
    "    total_actual_cost = actual_cost(additional_cost_u)\n",
    "    return total_actual_cost - total_check_cost"
   ]
  },
  {
   "cell_type": "code",
   "execution_count": 496,
   "metadata": {
    "ExecuteTime": {
     "end_time": "2019-10-26T11:07:52.262504Z",
     "start_time": "2019-10-26T11:07:52.249002Z"
    }
   },
   "outputs": [
    {
     "data": {
      "text/plain": [
       "113437.43"
      ]
     },
     "execution_count": 496,
     "metadata": {},
     "output_type": "execute_result"
    }
   ],
   "source": [
    "gain(y_score_lg_o[:,1], threshold=0.3)"
   ]
  },
  {
   "cell_type": "code",
   "execution_count": 509,
   "metadata": {
    "ExecuteTime": {
     "end_time": "2019-10-26T11:09:14.493606Z",
     "start_time": "2019-10-26T11:09:14.490671Z"
    }
   },
   "outputs": [],
   "source": [
    "thresholds = np.arange(30, 980)/1000"
   ]
  },
  {
   "cell_type": "code",
   "execution_count": 510,
   "metadata": {
    "ExecuteTime": {
     "end_time": "2019-10-26T11:09:18.947176Z",
     "start_time": "2019-10-26T11:09:14.775519Z"
    }
   },
   "outputs": [
    {
     "data": {
      "text/plain": [
       "(950, 114633.67)"
      ]
     },
     "execution_count": 510,
     "metadata": {},
     "output_type": "execute_result"
    }
   ],
   "source": [
    "f = lambda t: gain(y_score_lg_o[:,1], t)\n",
    "gain_lg_o = list(map(f, thresholds))\n",
    "len(gain_lg_o), max(gain_lg_o)"
   ]
  },
  {
   "cell_type": "markdown",
   "metadata": {},
   "source": [
    "<h3> Plot gain function of threshold"
   ]
  },
  {
   "cell_type": "code",
   "execution_count": 511,
   "metadata": {
    "ExecuteTime": {
     "end_time": "2019-10-26T11:09:19.313559Z",
     "start_time": "2019-10-26T11:09:18.951406Z"
    }
   },
   "outputs": [
    {
     "data": {
      "image/png": "[encoded data removed]",
      "text/plain": [
       "<Figure size 864x576 with 1 Axes>"
      ]
     },
     "metadata": {
      "needs_background": "light"
     },
     "output_type": "display_data"
    }
   ],
   "source": [
    "plt.figure(figsize=(12,8))\n",
    "plt.plot(thresholds, gain_lg_o, label=\"gain\")\n",
    "plt.xlabel('threshold')\n",
    "plt.ylabel('score')\n",
    "plt.title(\"Gain curve as a fonction of threshold\")\n",
    "plt.legend(loc=\"lower right\")\n",
    "plt.show()"
   ]
  },
  {
   "cell_type": "code",
   "execution_count": null,
   "metadata": {},
   "outputs": [],
   "source": []
  },
  {
   "cell_type": "code",
   "execution_count": null,
   "metadata": {},
   "outputs": [],
   "source": []
  }
 ],
 "metadata": {
  "kernelspec": {
   "display_name": "Python 3",
   "language": "python",
   "name": "python3"
  },
  "language_info": {
   "codemirror_mode": {
    "name": "ipython",
    "version": 3
   },
   "file_extension": ".py",
   "mimetype": "text/x-python",
   "name": "python",
   "nbconvert_exporter": "python",
   "pygments_lexer": "ipython3",
   "version": "3.7.4"
  },
  "toc": {
   "base_numbering": 1,
   "nav_menu": {},
   "number_sections": true,
   "sideBar": true,
   "skip_h1_title": false,
   "title_cell": "Table of Contents",
   "title_sidebar": "Contents",
   "toc_cell": false,
   "toc_position": {
    "height": "calc(100% - 180px)",
    "left": "10px",
    "top": "150px",
    "width": "278.722px"
   },
   "toc_section_display": true,
   "toc_window_display": true
  }
 },
 "nbformat": 4,
 "nbformat_minor": 2
}
