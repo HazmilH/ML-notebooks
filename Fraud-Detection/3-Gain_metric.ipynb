{
 "cells": [
  {
   "cell_type": "code",
   "execution_count": 1,
   "metadata": {
    "ExecuteTime": {
     "end_time": "2019-11-12T13:25:13.223121Z",
     "start_time": "2019-11-12T13:25:12.065465Z"
    }
   },
   "outputs": [],
   "source": [
    "import pandas as pd\n",
    "import numpy as np\n",
    "import seaborn as sns\n",
    "from matplotlib import pyplot as plt\n",
    "import pickle\n",
    "from utils_dump_load import load_from_pickle, dump_to_pickle"
   ]
  },
  {
   "cell_type": "markdown",
   "metadata": {},
   "source": [
    "<h1> Load metrics from pickle"
   ]
  },
  {
   "cell_type": "code",
   "execution_count": 2,
   "metadata": {
    "ExecuteTime": {
     "end_time": "2019-11-12T13:25:13.229756Z",
     "start_time": "2019-11-12T13:25:13.226049Z"
    }
   },
   "outputs": [],
   "source": [
    "import pickle\n",
    "from utils_dump_load import load_from_pickle, dump_to_pickle"
   ]
  },
  {
   "cell_type": "code",
   "execution_count": 3,
   "metadata": {
    "ExecuteTime": {
     "end_time": "2019-11-12T13:25:14.587466Z",
     "start_time": "2019-11-12T13:25:13.232370Z"
    }
   },
   "outputs": [],
   "source": [
    "filename = \"data/data.pkl\"\n",
    "content = load_from_pickle(filename)"
   ]
  },
  {
   "cell_type": "code",
   "execution_count": 4,
   "metadata": {
    "ExecuteTime": {
     "end_time": "2019-11-12T13:25:14.595983Z",
     "start_time": "2019-11-12T13:25:14.590001Z"
    }
   },
   "outputs": [],
   "source": [
    "X_train = content[\"X_train\"]\n",
    "X_test = content[\"X_test\"]\n",
    "y_train = content[\"y_train\"]\n",
    "y_test = content[\"y_test\"]"
   ]
  },
  {
   "cell_type": "code",
   "execution_count": 5,
   "metadata": {
    "ExecuteTime": {
     "end_time": "2019-11-12T13:25:14.663826Z",
     "start_time": "2019-11-12T13:25:14.598015Z"
    }
   },
   "outputs": [],
   "source": [
    "filename = \"data/metrics.pkl\"\n",
    "metrics = load_from_pickle(filename)"
   ]
  },
  {
   "cell_type": "code",
   "execution_count": 6,
   "metadata": {
    "ExecuteTime": {
     "end_time": "2019-11-12T13:25:14.670934Z",
     "start_time": "2019-11-12T13:25:14.665931Z"
    }
   },
   "outputs": [],
   "source": [
    "[y_score_lr, precision_lr, recall_lr, threshold_lr] = metrics[\"lr\"]\n",
    "[y_score_xg, precision_xg, recall_xg, threshold_xg] = metrics[\"xgboost\"]\n",
    "[y_score_lg, precision_lg, recall_lg, threshold_lg] = metrics[\"lgbm\"]\n",
    "[y_score_g, precision_g, recall_g, threshold_g] = metrics[\"gauss\"]\n",
    "[y_score_if, precision_if, recall_if, threshold_if] = metrics[\"if\"]"
   ]
  },
  {
   "cell_type": "markdown",
   "metadata": {},
   "source": [
    "<h1> Cost functions"
   ]
  },
  {
   "cell_type": "markdown",
   "metadata": {},
   "source": [
    "<h2> Threshold adjustment"
   ]
  },
  {
   "cell_type": "code",
   "execution_count": 7,
   "metadata": {
    "ExecuteTime": {
     "end_time": "2019-11-12T13:25:14.987311Z",
     "start_time": "2019-11-12T13:25:14.673630Z"
    }
   },
   "outputs": [
    {
     "data": {
      "image/png": "[encoded data removed]",
      "text/plain": [
       "<Figure size 864x576 with 1 Axes>"
      ]
     },
     "metadata": {
      "needs_background": "light"
     },
     "output_type": "display_data"
    }
   ],
   "source": [
    "plt.figure(figsize=(12,8))\n",
    "plt.plot(threshold_lg, recall_lg[:-1], label=\"recall\")\n",
    "plt.plot(threshold_lg, precision_lg[:-1], label=\"precision\")\n",
    "plt.xlabel('threshold')\n",
    "plt.ylabel('score')\n",
    "plt.title(\"Precision and recall curve as a fonction of threshold\")\n",
    "plt.legend(loc=\"lower right\")\n",
    "plt.show()"
   ]
  },
  {
   "cell_type": "markdown",
   "metadata": {},
   "source": [
    "<h2> Cost evaluation"
   ]
  },
  {
   "cell_type": "code",
   "execution_count": 8,
   "metadata": {
    "ExecuteTime": {
     "end_time": "2019-11-12T13:25:14.999473Z",
     "start_time": "2019-11-12T13:25:14.994657Z"
    }
   },
   "outputs": [],
   "source": [
    "check_cost_u = 2000\n",
    "additional_cost_u = 10000"
   ]
  },
  {
   "cell_type": "code",
   "execution_count": 9,
   "metadata": {
    "ExecuteTime": {
     "end_time": "2019-11-12T13:25:15.018298Z",
     "start_time": "2019-11-12T13:25:15.001463Z"
    }
   },
   "outputs": [],
   "source": [
    "threshold = 0.9"
   ]
  },
  {
   "cell_type": "code",
   "execution_count": 10,
   "metadata": {
    "ExecuteTime": {
     "end_time": "2019-11-12T13:25:15.031206Z",
     "start_time": "2019-11-12T13:25:15.020769Z"
    }
   },
   "outputs": [],
   "source": [
    "def make_prediction(y_score, threshold):\n",
    "    y_fraud = np.zeros(len(y_score))\n",
    "    y_fraud[y_score < threshold] = 0\n",
    "    y_fraud[y_score >= threshold] = 1\n",
    "    return y_fraud"
   ]
  },
  {
   "cell_type": "code",
   "execution_count": 11,
   "metadata": {
    "ExecuteTime": {
     "end_time": "2019-11-12T13:25:15.063952Z",
     "start_time": "2019-11-12T13:25:15.033463Z"
    }
   },
   "outputs": [
    {
     "data": {
      "text/plain": [
       "(85443, 2345.0)"
      ]
     },
     "execution_count": 11,
     "metadata": {},
     "output_type": "execute_result"
    }
   ],
   "source": [
    "y_fraud = make_prediction(y_score_lg[:,1], threshold=0.5)\n",
    "len(y_fraud), sum(y_fraud)"
   ]
  },
  {
   "cell_type": "markdown",
   "metadata": {},
   "source": [
    "<h3> Cost of fraudulent transaction with algo checking"
   ]
  },
  {
   "cell_type": "code",
   "execution_count": 12,
   "metadata": {
    "ExecuteTime": {
     "end_time": "2019-11-12T13:25:15.070659Z",
     "start_time": "2019-11-12T13:25:15.066908Z"
    },
    "scrolled": true
   },
   "outputs": [
    {
     "data": {
      "text/plain": [
       "4690000.0"
      ]
     },
     "execution_count": 12,
     "metadata": {},
     "output_type": "execute_result"
    }
   ],
   "source": [
    "check_cost = y_fraud.sum() * check_cost_u\n",
    "check_cost"
   ]
  },
  {
   "cell_type": "code",
   "execution_count": 13,
   "metadata": {
    "ExecuteTime": {
     "end_time": "2019-11-12T13:25:15.166296Z",
     "start_time": "2019-11-12T13:25:15.072751Z"
    }
   },
   "outputs": [
    {
     "data": {
      "text/plain": [
       "944.14"
      ]
     },
     "execution_count": 13,
     "metadata": {},
     "output_type": "execute_result"
    }
   ],
   "source": [
    "remaining_fraud_cost = X_test[\"Amount\"][y_test-y_fraud == 1].sum()\n",
    "remaining_fraud_cost"
   ]
  },
  {
   "cell_type": "code",
   "execution_count": 14,
   "metadata": {
    "ExecuteTime": {
     "end_time": "2019-11-12T13:25:15.179079Z",
     "start_time": "2019-11-12T13:25:15.169209Z"
    }
   },
   "outputs": [
    {
     "data": {
      "text/plain": [
       "150000"
      ]
     },
     "execution_count": 14,
     "metadata": {},
     "output_type": "execute_result"
    }
   ],
   "source": [
    "additional_cost = len(y_test[y_test-y_fraud == 1]) * additional_cost_u\n",
    "additional_cost"
   ]
  },
  {
   "cell_type": "code",
   "execution_count": 15,
   "metadata": {
    "ExecuteTime": {
     "end_time": "2019-11-12T13:25:15.186460Z",
     "start_time": "2019-11-12T13:25:15.181684Z"
    }
   },
   "outputs": [
    {
     "data": {
      "text/plain": [
       "4840944.14"
      ]
     },
     "execution_count": 15,
     "metadata": {},
     "output_type": "execute_result"
    }
   ],
   "source": [
    "total_check_cost = check_cost + remaining_fraud_cost + additional_cost\n",
    "total_check_cost"
   ]
  },
  {
   "cell_type": "code",
   "execution_count": 16,
   "metadata": {
    "ExecuteTime": {
     "end_time": "2019-11-12T13:25:15.198562Z",
     "start_time": "2019-11-12T13:25:15.188554Z"
    }
   },
   "outputs": [],
   "source": [
    "def check_cost(y_pred, check_cost_u, additional_cost_u):\n",
    "    check_cost = y_pred.sum() * check_cost_u\n",
    "    remaining_fraud_cost = X_test[\"Amount\"][y_test-y_pred == 1].sum()\n",
    "    additional_cost = len(y_test[y_test-y_pred == 1]) * additional_cost_u\n",
    "    return check_cost + remaining_fraud_cost + additional_cost"
   ]
  },
  {
   "cell_type": "code",
   "execution_count": 17,
   "metadata": {
    "ExecuteTime": {
     "end_time": "2019-11-12T13:25:15.216858Z",
     "start_time": "2019-11-12T13:25:15.202819Z"
    }
   },
   "outputs": [
    {
     "data": {
      "text/plain": [
       "4840944.14"
      ]
     },
     "execution_count": 17,
     "metadata": {},
     "output_type": "execute_result"
    }
   ],
   "source": [
    "check_cost(y_fraud, check_cost_u, additional_cost_u)"
   ]
  },
  {
   "cell_type": "markdown",
   "metadata": {},
   "source": [
    "<h3> Cost of fraudulent transaction without algo checking"
   ]
  },
  {
   "cell_type": "code",
   "execution_count": 18,
   "metadata": {
    "ExecuteTime": {
     "end_time": "2019-11-12T13:25:15.231161Z",
     "start_time": "2019-11-12T13:25:15.220267Z"
    }
   },
   "outputs": [],
   "source": [
    "def actual_cost(additional_cost_u):\n",
    "    remaining_fraud_cost = X_test[\"Amount\"][y_test == 1].sum()\n",
    "    additional_cost = len(y_test[y_test == 1]) * additional_cost_u\n",
    "    return remaining_fraud_cost + additional_cost"
   ]
  },
  {
   "cell_type": "code",
   "execution_count": 19,
   "metadata": {
    "ExecuteTime": {
     "end_time": "2019-11-12T13:25:15.242789Z",
     "start_time": "2019-11-12T13:25:15.233291Z"
    }
   },
   "outputs": [
    {
     "data": {
      "text/plain": [
       "1569062.37"
      ]
     },
     "execution_count": 19,
     "metadata": {},
     "output_type": "execute_result"
    }
   ],
   "source": [
    "actual_cost(additional_cost_u)"
   ]
  },
  {
   "cell_type": "markdown",
   "metadata": {},
   "source": [
    "<h3> Gain"
   ]
  },
  {
   "cell_type": "code",
   "execution_count": 20,
   "metadata": {
    "ExecuteTime": {
     "end_time": "2019-11-12T13:25:15.253744Z",
     "start_time": "2019-11-12T13:25:15.245536Z"
    }
   },
   "outputs": [
    {
     "data": {
      "text/plain": [
       "19062.370000000003"
      ]
     },
     "execution_count": 20,
     "metadata": {},
     "output_type": "execute_result"
    }
   ],
   "source": [
    "remaining_fraud_cost = X_test[\"Amount\"][y_test == 1].sum()\n",
    "remaining_fraud_cost"
   ]
  },
  {
   "cell_type": "code",
   "execution_count": 21,
   "metadata": {
    "ExecuteTime": {
     "end_time": "2019-11-12T13:25:15.268549Z",
     "start_time": "2019-11-12T13:25:15.256652Z"
    }
   },
   "outputs": [
    {
     "data": {
      "text/plain": [
       "1550000"
      ]
     },
     "execution_count": 21,
     "metadata": {},
     "output_type": "execute_result"
    }
   ],
   "source": [
    "additional_cost = len(y_test[y_test == 1]) * additional_cost_u\n",
    "additional_cost"
   ]
  },
  {
   "cell_type": "code",
   "execution_count": 22,
   "metadata": {
    "ExecuteTime": {
     "end_time": "2019-11-12T13:25:15.282264Z",
     "start_time": "2019-11-12T13:25:15.271420Z"
    }
   },
   "outputs": [
    {
     "data": {
      "text/plain": [
       "1569062.37"
      ]
     },
     "execution_count": 22,
     "metadata": {},
     "output_type": "execute_result"
    }
   ],
   "source": [
    "total_actual_cost = remaining_fraud_cost + additional_cost\n",
    "total_actual_cost"
   ]
  },
  {
   "cell_type": "code",
   "execution_count": 23,
   "metadata": {
    "ExecuteTime": {
     "end_time": "2019-11-12T13:25:15.297345Z",
     "start_time": "2019-11-12T13:25:15.285199Z"
    }
   },
   "outputs": [
    {
     "data": {
      "text/plain": [
       "-3271881.7699999996"
      ]
     },
     "execution_count": 23,
     "metadata": {},
     "output_type": "execute_result"
    }
   ],
   "source": [
    "gain = total_actual_cost - total_check_cost\n",
    "gain"
   ]
  },
  {
   "cell_type": "code",
   "execution_count": 24,
   "metadata": {
    "ExecuteTime": {
     "end_time": "2019-11-12T13:25:15.305190Z",
     "start_time": "2019-11-12T13:25:15.301072Z"
    }
   },
   "outputs": [],
   "source": [
    "def gain(y_score, threshold, check_cost_u=200, additional_cost_u=1000):\n",
    "    y_pred = make_prediction(y_score, threshold)\n",
    "    total_check_cost = check_cost(y_pred, check_cost_u, additional_cost_u)\n",
    "    total_actual_cost = actual_cost(additional_cost_u)\n",
    "    return total_actual_cost - total_check_cost"
   ]
  },
  {
   "cell_type": "code",
   "execution_count": 25,
   "metadata": {
    "ExecuteTime": {
     "end_time": "2019-11-12T13:25:15.331994Z",
     "start_time": "2019-11-12T13:25:15.314174Z"
    }
   },
   "outputs": [
    {
     "data": {
      "text/plain": [
       "-539464.38"
      ]
     },
     "execution_count": 25,
     "metadata": {},
     "output_type": "execute_result"
    }
   ],
   "source": [
    "gain(y_score_lg[:,1], threshold=0.3)"
   ]
  },
  {
   "cell_type": "code",
   "execution_count": 26,
   "metadata": {
    "ExecuteTime": {
     "end_time": "2019-11-12T13:25:15.336908Z",
     "start_time": "2019-11-12T13:25:15.334159Z"
    }
   },
   "outputs": [],
   "source": [
    "thresholds = np.arange(30, 980)/1000"
   ]
  },
  {
   "cell_type": "code",
   "execution_count": 34,
   "metadata": {
    "ExecuteTime": {
     "end_time": "2019-11-12T13:29:35.935971Z",
     "start_time": "2019-11-12T13:29:32.088787Z"
    }
   },
   "outputs": [
    {
     "data": {
      "text/plain": [
       "(950, 116909.70999999999)"
      ]
     },
     "execution_count": 34,
     "metadata": {},
     "output_type": "execute_result"
    }
   ],
   "source": [
    "f = lambda t: gain(y_score_xg[:,1], t)\n",
    "gain = list(map(f, thresholds))\n",
    "len(gain), max(gain)"
   ]
  },
  {
   "cell_type": "markdown",
   "metadata": {},
   "source": [
    "<h3> Plot gain function of threshold"
   ]
  },
  {
   "cell_type": "code",
   "execution_count": 35,
   "metadata": {
    "ExecuteTime": {
     "end_time": "2019-11-12T13:29:36.115667Z",
     "start_time": "2019-11-12T13:29:35.939025Z"
    },
    "scrolled": false
   },
   "outputs": [
    {
     "data": {
      "image/png": "[encoded data removed]",
      "text/plain": [
       "<Figure size 864x576 with 1 Axes>"
      ]
     },
     "metadata": {
      "needs_background": "light"
     },
     "output_type": "display_data"
    }
   ],
   "source": [
    "plt.figure(figsize=(12,8))\n",
    "plt.plot(thresholds, gain, label=\"gain\")\n",
    "plt.xlabel('threshold')\n",
    "plt.ylabel('score')\n",
    "plt.title(\"Gain curve as a fonction of threshold\")\n",
    "plt.legend(loc=\"lower right\")\n",
    "plt.show()"
   ]
  },
  {
   "cell_type": "code",
   "execution_count": null,
   "metadata": {},
   "outputs": [],
   "source": []
  },
  {
   "cell_type": "code",
   "execution_count": null,
   "metadata": {},
   "outputs": [],
   "source": []
  }
 ],
 "metadata": {
  "kernelspec": {
   "display_name": "Python 3",
   "language": "python",
   "name": "python3"
  },
  "language_info": {
   "codemirror_mode": {
    "name": "ipython",
    "version": 3
   },
   "file_extension": ".py",
   "mimetype": "text/x-python",
   "name": "python",
   "nbconvert_exporter": "python",
   "pygments_lexer": "ipython3",
   "version": "3.7.4"
  },
  "toc": {
   "base_numbering": 1,
   "nav_menu": {},
   "number_sections": true,
   "sideBar": true,
   "skip_h1_title": false,
   "title_cell": "Table of Contents",
   "title_sidebar": "Contents",
   "toc_cell": false,
   "toc_position": {},
   "toc_section_display": true,
   "toc_window_display": true
  }
 },
 "nbformat": 4,
 "nbformat_minor": 2
}
