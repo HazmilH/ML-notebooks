{
 "cells": [
  {
   "cell_type": "markdown",
   "metadata": {
    "slideshow": {
     "slide_type": "slide"
    }
   },
   "source": [
    "<font size=\"7\">**Natural Language Processing**</font>"
   ]
  },
  {
   "cell_type": "markdown",
   "metadata": {},
   "source": [
    "<font size=\"5\">**Plug a chatbot on Messenger**</font>"
   ]
  },
  {
   "cell_type": "markdown",
   "metadata": {},
   "source": [
    "Here below we will see how to deploy a chatbot on messenger using Flask, Serveo and Requests."
   ]
  },
  {
   "cell_type": "markdown",
   "metadata": {},
   "source": [
    "![](images/architecture.png)"
   ]
  },
  {
   "cell_type": "markdown",
   "metadata": {},
   "source": [
    "- Flask: Listen and send response to Messenger app (using flask)\n",
    "- Serveo: Forward a https connection to your local machine\n",
    "- Messenger: Set up your messenger app"
   ]
  },
  {
   "cell_type": "markdown",
   "metadata": {
    "slideshow": {
     "slide_type": "slide"
    }
   },
   "source": [
    "# Flask App"
   ]
  },
  {
   "cell_type": "markdown",
   "metadata": {
    "ExecuteTime": {
     "end_time": "2019-11-11T11:43:54.965201Z",
     "start_time": "2019-11-11T11:43:54.959395Z"
    }
   },
   "source": [
    "<h2> Stucture of your app"
   ]
  },
  {
   "cell_type": "markdown",
   "metadata": {
    "cell_style": "split"
   },
   "source": [
    "![](images/flask/structure.png)"
   ]
  },
  {
   "cell_type": "markdown",
   "metadata": {
    "ExecuteTime": {
     "end_time": "2019-11-11T11:50:39.437584Z",
     "start_time": "2019-11-11T11:50:39.323843Z"
    },
    "cell_style": "split"
   },
   "source": [
    "Project:\n",
    "\n",
    "\n",
    "\n",
    "- bot: contain the core of your bot\n",
    "\n",
    "\n",
    "- data: contain the data need by your bot core to answer\n",
    "\n",
    "\n",
    "- main.py: main file to run your flask app\n",
    "\n",
    "\n",
    "- server.py: defining the routes of your app\n",
    "\n",
    "\n",
    "- server_aux.py: auxilaries functions needed by your server.py file"
   ]
  },
  {
   "cell_type": "markdown",
   "metadata": {
    "ExecuteTime": {
     "end_time": "2019-07-29T10:33:13.634435Z",
     "start_time": "2019-07-29T10:33:13.631992Z"
    }
   },
   "source": [
    "## Functions to communicate with Messenger"
   ]
  },
  {
   "cell_type": "markdown",
   "metadata": {
    "ExecuteTime": {
     "end_time": "2019-11-11T11:38:11.351754Z",
     "start_time": "2019-11-11T11:38:11.346152Z"
    }
   },
   "source": [
    "In our main file server.py we have different functions:"
   ]
  },
  {
   "cell_type": "markdown",
   "metadata": {},
   "source": [
    "- verify_webhook: Handles the initial authentication between Facebook and your app.\n",
    "\n",
    "\n",
    "- is_user_message: Check if the message has a Messenger message format.\n",
    "\n",
    "\n",
    "- respond: Formulate a response to the user and pass it on to a function that sends it.\n",
    "\n",
    "\n",
    "- send_message: Send a response to Messenger within the proper format."
   ]
  },
  {
   "cell_type": "markdown",
   "metadata": {
    "ExecuteTime": {
     "end_time": "2019-07-29T10:24:33.423681Z",
     "start_time": "2019-07-29T10:24:33.419347Z"
    }
   },
   "source": [
    "# Tunnel"
   ]
  },
  {
   "cell_type": "markdown",
   "metadata": {
    "ExecuteTime": {
     "end_time": "2019-11-11T14:01:23.552491Z",
     "start_time": "2019-11-11T14:01:23.542965Z"
    }
   },
   "source": [
    "## [Serveo](http://serveo.net/) "
   ]
  },
  {
   "cell_type": "markdown",
   "metadata": {},
   "source": [
    "Expose local servers to the internet without any installation and signup."
   ]
  },
  {
   "cell_type": "markdown",
   "metadata": {
    "ExecuteTime": {
     "end_time": "2019-11-11T12:02:42.578969Z",
     "start_time": "2019-11-11T12:02:42.574893Z"
    }
   },
   "source": [
    "It allows you to define the URL you want and keep it as it is: https://vivabot.serveo.net"
   ]
  },
  {
   "cell_type": "markdown",
   "metadata": {
    "ExecuteTime": {
     "end_time": "2019-07-29T10:15:19.767884Z",
     "start_time": "2019-07-29T10:15:19.763858Z"
    }
   },
   "source": [
    "![](images/tunnel/serveo.png)"
   ]
  },
  {
   "cell_type": "markdown",
   "metadata": {},
   "source": [
    "Bash command to launch a Serveo tunnel and keep it alive:\n",
    "\n",
    "\n",
    "ssh -o ServerAliveInterval=60 -R vivabot.serveo.net:80:localhost:5000 serveo.net"
   ]
  },
  {
   "cell_type": "markdown",
   "metadata": {
    "ExecuteTime": {
     "end_time": "2019-11-11T14:01:35.010354Z",
     "start_time": "2019-11-11T14:01:35.005300Z"
    }
   },
   "source": [
    "## [Ngrok](https://ngrok.com/)"
   ]
  },
  {
   "cell_type": "markdown",
   "metadata": {
    "ExecuteTime": {
     "end_time": "2019-11-11T14:40:57.267246Z",
     "start_time": "2019-11-11T14:40:57.147482Z"
    }
   },
   "source": [
    "![](images/tunnel/my_ngrok.png)"
   ]
  },
  {
   "cell_type": "markdown",
   "metadata": {},
   "source": [
    "- Create an account\n",
    "- Download ngrok\n",
    "- Install ngrok\n",
    "- Connect your account"
   ]
  },
  {
   "cell_type": "markdown",
   "metadata": {
    "ExecuteTime": {
     "end_time": "2019-11-11T14:39:34.469325Z",
     "start_time": "2019-11-11T14:39:34.461554Z"
    }
   },
   "source": [
    "Bash command to launch a ngrok tunnel:"
   ]
  },
  {
   "cell_type": "markdown",
   "metadata": {},
   "source": [
    "./ngrok http 80"
   ]
  },
  {
   "cell_type": "markdown",
   "metadata": {
    "ExecuteTime": {
     "end_time": "2019-07-25T17:15:28.898597Z",
     "start_time": "2019-07-25T17:15:28.896056Z"
    }
   },
   "source": [
    "# [Messenger](https://developers.facebook.com/)"
   ]
  },
  {
   "cell_type": "markdown",
   "metadata": {},
   "source": [
    "## Step1: Create a new app"
   ]
  },
  {
   "cell_type": "markdown",
   "metadata": {
    "ExecuteTime": {
     "end_time": "2019-11-11T12:22:52.637738Z",
     "start_time": "2019-11-11T12:22:52.521783Z"
    }
   },
   "source": [
    "![](images/messenger/m1_app_creation.png)"
   ]
  },
  {
   "cell_type": "markdown",
   "metadata": {},
   "source": [
    "##  Step2: Add Messenger as product"
   ]
  },
  {
   "cell_type": "markdown",
   "metadata": {
    "ExecuteTime": {
     "end_time": "2019-11-11T12:26:54.347277Z",
     "start_time": "2019-11-11T12:26:54.232334Z"
    }
   },
   "source": [
    "![](images/messenger/m2_product_selection.png)"
   ]
  },
  {
   "cell_type": "markdown",
   "metadata": {},
   "source": [
    "## Step3: Create a new Facebook page"
   ]
  },
  {
   "cell_type": "markdown",
   "metadata": {
    "ExecuteTime": {
     "end_time": "2019-11-11T12:33:14.603151Z",
     "start_time": "2019-11-11T12:33:14.487942Z"
    }
   },
   "source": [
    "![](images/messenger/m3_create_page.png)"
   ]
  },
  {
   "cell_type": "markdown",
   "metadata": {},
   "source": [
    "## Step4: Generate a Page Access Token"
   ]
  },
  {
   "cell_type": "markdown",
   "metadata": {},
   "source": [
    "![](images/messenger/m4_generate_token.png)"
   ]
  },
  {
   "cell_type": "markdown",
   "metadata": {},
   "source": [
    "PAGE_ACCESS_TOKEN: Token given by facebook when you initialize your app (we'll see that below), it is used to authentify any message received by facebook from your Flask app."
   ]
  },
  {
   "cell_type": "markdown",
   "metadata": {
    "ExecuteTime": {
     "end_time": "2019-11-11T12:39:10.482450Z",
     "start_time": "2019-11-11T12:39:10.479699Z"
    }
   },
   "source": [
    "## Step5: Add URL callback"
   ]
  },
  {
   "cell_type": "markdown",
   "metadata": {},
   "source": [
    "The URL callback is the link to our local host that we broadcast through our serveo tunnel."
   ]
  },
  {
   "cell_type": "markdown",
   "metadata": {},
   "source": [
    "![](images/messenger/m5_url_callback.png)"
   ]
  },
  {
   "cell_type": "markdown",
   "metadata": {},
   "source": [
    "\"VERIFY TOKEN\": Used as authentification key to let facebook know that your serveo server is designed to receive messages from messenger"
   ]
  },
  {
   "cell_type": "markdown",
   "metadata": {},
   "source": [
    "At this point your app needs to be running for Messenger to check the \"VERIFY TOKEN\". The function verify_webhook in our file server_aux.py is made for that purpose."
   ]
  },
  {
   "cell_type": "markdown",
   "metadata": {
    "ExecuteTime": {
     "end_time": "2019-07-29T10:05:48.293793Z",
     "start_time": "2019-07-29T10:05:48.290287Z"
    }
   },
   "source": [
    "## Step6: Select your webhook events"
   ]
  },
  {
   "cell_type": "markdown",
   "metadata": {},
   "source": [
    "We will select the following events: \n",
    "- messages\n",
    "- messaging postbacks"
   ]
  },
  {
   "cell_type": "markdown",
   "metadata": {
    "ExecuteTime": {
     "end_time": "2019-07-29T10:03:51.486108Z",
     "start_time": "2019-07-29T10:03:51.369429Z"
    }
   },
   "source": [
    "![](images/messenger/m6_webhook.png)"
   ]
  },
  {
   "cell_type": "markdown",
   "metadata": {},
   "source": [
    "## Step7: Add pages_messaging"
   ]
  },
  {
   "cell_type": "markdown",
   "metadata": {},
   "source": [
    "![](images/messenger/m7_pages_messenging.png)"
   ]
  },
  {
   "cell_type": "markdown",
   "metadata": {},
   "source": [
    "<h2> Let's play with it"
   ]
  },
  {
   "cell_type": "markdown",
   "metadata": {},
   "source": [
    "![](images/messenger/m8_vivabot.png)"
   ]
  },
  {
   "cell_type": "markdown",
   "metadata": {
    "ExecuteTime": {
     "end_time": "2019-11-11T13:04:00.774775Z",
     "start_time": "2019-11-11T13:04:00.762477Z"
    }
   },
   "source": [
    "# Go further: Intents/Entities"
   ]
  },
  {
   "cell_type": "markdown",
   "metadata": {},
   "source": [
    "Nowadays chatbots are mostly using intents classification and entities recognition. \n",
    "\n",
    "The main Chatbot frameworks dedicated to that purpose are the following:\n",
    "\n",
    "- [Dialogflow](https://dialogflow.com/) developped by Google\n",
    "- [Wit.ai](https://wit.ai/) developped by Facebook\n",
    "- [Watson](https://www.ibm.com/watson) developped by IBM\n",
    "- [Rasa](https://rasa.com/) an open-source framework"
   ]
  },
  {
   "cell_type": "markdown",
   "metadata": {
    "ExecuteTime": {
     "end_time": "2019-11-11T12:43:55.092560Z",
     "start_time": "2019-11-11T12:43:55.087810Z"
    }
   },
   "source": [
    "<font size=\"5\">**Your are now ready to build and deploy your own Chatbot on Messenger !!**</font>"
   ]
  }
 ],
 "metadata": {
  "celltoolbar": "Slideshow",
  "kernelspec": {
   "display_name": "Python 3",
   "language": "python",
   "name": "python3"
  },
  "language_info": {
   "codemirror_mode": {
    "name": "ipython",
    "version": 3
   },
   "file_extension": ".py",
   "mimetype": "text/x-python",
   "name": "python",
   "nbconvert_exporter": "python",
   "pygments_lexer": "ipython3",
   "version": "3.7.4"
  },
  "toc": {
   "base_numbering": 1,
   "nav_menu": {},
   "number_sections": true,
   "sideBar": true,
   "skip_h1_title": false,
   "title_cell": "Table of Contents",
   "title_sidebar": "Contents",
   "toc_cell": false,
   "toc_position": {
    "height": "calc(100% - 180px)",
    "left": "10px",
    "top": "150px",
    "width": "245.275px"
   },
   "toc_section_display": true,
   "toc_window_display": false
  }
 },
 "nbformat": 4,
 "nbformat_minor": 2
}
