{
 "cells": [
  {
   "cell_type": "code",
   "execution_count": 3,
   "metadata": {},
   "outputs": [],
   "source": [
    "import pandas as pd\n",
    "import matplotlib.pyplot as plt\n",
    "import numpy as np"
   ]
  },
  {
   "cell_type": "code",
   "execution_count": 4,
   "metadata": {},
   "outputs": [],
   "source": [
    "df = pd.read_csv(\"train.csv\", index_col=\"Territory X Date\")"
   ]
  },
  {
   "cell_type": "code",
   "execution_count": 5,
   "metadata": {},
   "outputs": [
    {
     "data": {
      "text/html": [
       "<div>\n",
       "<style scoped>\n",
       "    .dataframe tbody tr th:only-of-type {\n",
       "        vertical-align: middle;\n",
       "    }\n",
       "\n",
       "    .dataframe tbody tr th {\n",
       "        vertical-align: top;\n",
       "    }\n",
       "\n",
       "    .dataframe thead th {\n",
       "        text-align: right;\n",
       "    }\n",
       "</style>\n",
       "<table border=\"1\" class=\"dataframe\">\n",
       "  <thead>\n",
       "    <tr style=\"text-align: right;\">\n",
       "      <th></th>\n",
       "      <th>target</th>\n",
       "      <th>cases</th>\n",
       "      <th>Territory</th>\n",
       "      <th>Date</th>\n",
       "    </tr>\n",
       "    <tr>\n",
       "      <th>Territory X Date</th>\n",
       "      <th></th>\n",
       "      <th></th>\n",
       "      <th></th>\n",
       "      <th></th>\n",
       "    </tr>\n",
       "  </thead>\n",
       "  <tbody>\n",
       "    <tr>\n",
       "      <th>Afghanistan X 1/22/20</th>\n",
       "      <td>0</td>\n",
       "      <td>0</td>\n",
       "      <td>Afghanistan</td>\n",
       "      <td>1/22/20</td>\n",
       "    </tr>\n",
       "    <tr>\n",
       "      <th>Afghanistan X 1/23/20</th>\n",
       "      <td>0</td>\n",
       "      <td>0</td>\n",
       "      <td>Afghanistan</td>\n",
       "      <td>1/23/20</td>\n",
       "    </tr>\n",
       "    <tr>\n",
       "      <th>Afghanistan X 1/24/20</th>\n",
       "      <td>0</td>\n",
       "      <td>0</td>\n",
       "      <td>Afghanistan</td>\n",
       "      <td>1/24/20</td>\n",
       "    </tr>\n",
       "    <tr>\n",
       "      <th>Afghanistan X 1/25/20</th>\n",
       "      <td>0</td>\n",
       "      <td>0</td>\n",
       "      <td>Afghanistan</td>\n",
       "      <td>1/25/20</td>\n",
       "    </tr>\n",
       "    <tr>\n",
       "      <th>Afghanistan X 1/26/20</th>\n",
       "      <td>0</td>\n",
       "      <td>0</td>\n",
       "      <td>Afghanistan</td>\n",
       "      <td>1/26/20</td>\n",
       "    </tr>\n",
       "  </tbody>\n",
       "</table>\n",
       "</div>"
      ],
      "text/plain": [
       "                       target  cases    Territory     Date\n",
       "Territory X Date                                          \n",
       "Afghanistan X 1/22/20       0      0  Afghanistan  1/22/20\n",
       "Afghanistan X 1/23/20       0      0  Afghanistan  1/23/20\n",
       "Afghanistan X 1/24/20       0      0  Afghanistan  1/24/20\n",
       "Afghanistan X 1/25/20       0      0  Afghanistan  1/25/20\n",
       "Afghanistan X 1/26/20       0      0  Afghanistan  1/26/20"
      ]
     },
     "execution_count": 5,
     "metadata": {},
     "output_type": "execute_result"
    }
   ],
   "source": [
    "df.head()"
   ]
  },
  {
   "cell_type": "markdown",
   "metadata": {},
   "source": [
    "- target variable is the cumulative number of deaths caused by COVID-19 in each country by each date."
   ]
  },
  {
   "cell_type": "code",
   "execution_count": 6,
   "metadata": {},
   "outputs": [
    {
     "data": {
      "text/plain": [
       "(11913, 4)"
      ]
     },
     "execution_count": 6,
     "metadata": {},
     "output_type": "execute_result"
    }
   ],
   "source": [
    "df.shape"
   ]
  },
  {
   "cell_type": "code",
   "execution_count": 7,
   "metadata": {},
   "outputs": [
    {
     "data": {
      "text/plain": [
       "array(['1/22/20', '1/23/20', '1/24/20', '1/25/20', '1/26/20', '1/27/20',\n",
       "       '1/28/20', '1/29/20', '1/30/20', '1/31/20', '2/1/20', '2/2/20',\n",
       "       '2/3/20', '2/4/20', '2/5/20', '2/6/20', '2/7/20', '2/8/20',\n",
       "       '2/9/20', '2/10/20', '2/11/20', '2/12/20', '2/13/20', '2/14/20',\n",
       "       '2/15/20', '2/16/20', '2/17/20', '2/18/20', '2/19/20', '2/20/20',\n",
       "       '2/21/20', '2/22/20', '2/23/20', '2/24/20', '2/25/20', '2/26/20',\n",
       "       '2/27/20', '2/28/20', '2/29/20', '3/1/20', '3/2/20', '3/3/20',\n",
       "       '3/4/20', '3/5/20', '3/6/20', '3/7/20', '3/8/20', '3/9/20',\n",
       "       '3/10/20', '3/11/20', '3/12/20', '3/13/20', '3/14/20', '3/15/20',\n",
       "       '3/16/20', '3/17/20', '3/18/20'], dtype=object)"
      ]
     },
     "execution_count": 7,
     "metadata": {},
     "output_type": "execute_result"
    }
   ],
   "source": [
    "df.Date.unique()"
   ]
  },
  {
   "cell_type": "code",
   "execution_count": 8,
   "metadata": {
    "scrolled": true
   },
   "outputs": [
    {
     "data": {
      "text/plain": [
       "array(['Afghanistan', 'Albania', 'Algeria', 'Andorra', 'Angola',\n",
       "       'Antigua and Barbuda', 'Argentina', 'Armenia', 'Aruba',\n",
       "       'Australia', 'Austria', 'Azerbaijan', 'Bahamas (the)', 'Bahrain',\n",
       "       'Bangladesh', 'Barbados', 'Belarus', 'Belgium', 'Belize', 'Benin',\n",
       "       'Bermuda', 'Bhutan', 'Bolivia (Plurinational State of)',\n",
       "       'Bosnia and Herzegovina', 'Botswana', 'Brazil',\n",
       "       'Brunei Darussalam', 'Bulgaria', 'Burkina Faso', 'Burundi',\n",
       "       'Cabo Verde', 'Cambodia', 'Cameroon', 'Canada', 'Cayman Islands',\n",
       "       'Central African Republic (the)', 'Chad', 'Chile', 'China',\n",
       "       'Colombia', 'Comoros (the)', 'Congo (the)', 'Costa Rica',\n",
       "       'Croatia', 'Cuba', 'Curacao', 'Cyprus', 'Czechia', \"Côte d'Ivoire\",\n",
       "       \"Democratic People's Republic of Korea (the)\",\n",
       "       'Democratic Republic of the Congo (the)', 'Denmark', 'Djibouti',\n",
       "       'Dominica', 'Dominican Republic (the)', 'Ecuador', 'Egypt',\n",
       "       'El Salvador', 'Equatorial Guinea', 'Eritrea', 'Estonia',\n",
       "       'Eswatini', 'Ethiopia', 'Faroe Islands', 'Fiji', 'Finland',\n",
       "       'France', 'French Guiana', 'French Polynesia', 'Gabon',\n",
       "       'Gambia (the)', 'Georgia', 'Germany', 'Ghana', 'Greece',\n",
       "       'Greenland', 'Grenada', 'Guadeloupe', 'Guatemala', 'Guinea',\n",
       "       'Guinea-Bissau', 'Guyana', 'Haiti', 'Honduras', 'Hungary',\n",
       "       'Iceland', 'India', 'Indonesia', 'Iran (Islamic Republic of)',\n",
       "       'Iraq', 'Ireland', 'Israel', 'Italy', 'Jamaica', 'Japan', 'Jordan',\n",
       "       'Kazakhstan', 'Kenya', 'Kiribati', 'Kuwait', 'Kyrgyzstan',\n",
       "       \"Lao People's Democratic Republic (the)\", 'Latvia', 'Lebanon',\n",
       "       'Lesotho', 'Liberia', 'Libya', 'Liechtenstein', 'Lithuania',\n",
       "       'Luxembourg', 'Madagascar', 'Malawi', 'Malaysia', 'Maldives',\n",
       "       'Mali', 'Malta', 'Marshall Islands (the)', 'Mauritania',\n",
       "       'Mauritius', 'Mayotte', 'Mexico',\n",
       "       'Micronesia (Federated States of)', 'Monaco', 'Mongolia',\n",
       "       'Montenegro', 'Montserrat', 'Morocco', 'Mozambique', 'Myanmar',\n",
       "       'Namibia', 'Nauru', 'Nepal', 'Netherlands (the)', 'New Caledonia',\n",
       "       'New Zealand', 'Nicaragua', 'Niger (the)', 'Nigeria',\n",
       "       'North Macedonia', 'Norway', 'Oman', 'Pakistan', 'Palau', 'Panama',\n",
       "       'Papua New Guinea', 'Paraguay', 'Peru', 'Philippines (the)',\n",
       "       'Poland', 'Portugal', 'Qatar', 'Republic of Korea (the)',\n",
       "       'Republic of Moldova (the)', 'Reunion', 'Romania',\n",
       "       'Russian Federation (the)', 'Rwanda', 'Saint Barthelemy',\n",
       "       'Saint Kitts and Nevis', 'Saint Lucia',\n",
       "       'Saint Vincent and the Grenadines', 'Samoa', 'San Marino',\n",
       "       'Sao Tome and Principe', 'Saudi Arabia', 'Senegal', 'Serbia',\n",
       "       'Seychelles', 'Sierra Leone', 'Singapore', 'Slovakia', 'Slovenia',\n",
       "       'Solomon Islands', 'Somalia', 'South Africa', 'South Sudan',\n",
       "       'Spain', 'Sri Lanka', 'St Martin', 'Sudan (the)', 'Suriname',\n",
       "       'Sweden', 'Switzerland', 'Syrian Arab Republic (the)', 'Taiwan',\n",
       "       'Tajikistan', 'Thailand', 'Timor-Leste', 'Togo', 'Tonga',\n",
       "       'Trinidad and Tobago', 'Tunisia', 'Turkey', 'Turkmenistan',\n",
       "       'Tuvalu', 'Uganda', 'Ukraine', 'United Arab Emirates (the)',\n",
       "       'United Kingdom of Great Britain and Northern Ireland (the)',\n",
       "       'United Republic of Tanzania (the)',\n",
       "       'United States of America (the)', 'Uruguay', 'Uzbekistan',\n",
       "       'Vanuatu', 'Venezuela (Bolivarian Republic of)', 'Viet Nam',\n",
       "       'Yemen', 'Zambia', 'Zimbabwe'], dtype=object)"
      ]
     },
     "execution_count": 8,
     "metadata": {},
     "output_type": "execute_result"
    }
   ],
   "source": [
    "df.Territory.unique()"
   ]
  },
  {
   "cell_type": "code",
   "execution_count": 9,
   "metadata": {},
   "outputs": [],
   "source": [
    "def get_ratio(cases, target):\n",
    "    print\n",
    "    if cases > 0:\n",
    "        return target / (cases)\n",
    "    else:\n",
    "        return 0"
   ]
  },
  {
   "cell_type": "code",
   "execution_count": 10,
   "metadata": {},
   "outputs": [],
   "source": [
    "df_france = df[df.Territory == \"France\"]\n",
    "df_italy = df[df.Territory == \"Italy\"]\n",
    "df_spain = df[df.Territory == \"Spain\"]\n",
    "df_china = df[df.Territory == \"China\"]"
   ]
  },
  {
   "cell_type": "code",
   "execution_count": 11,
   "metadata": {},
   "outputs": [
    {
     "name": "stderr",
     "output_type": "stream",
     "text": [
      "/usr/local/lib/python3.7/site-packages/ipykernel_launcher.py:1: SettingWithCopyWarning: \n",
      "A value is trying to be set on a copy of a slice from a DataFrame.\n",
      "Try using .loc[row_indexer,col_indexer] = value instead\n",
      "\n",
      "See the caveats in the documentation: https://pandas.pydata.org/pandas-docs/stable/user_guide/indexing.html#returning-a-view-versus-a-copy\n",
      "  \"\"\"Entry point for launching an IPython kernel.\n",
      "/usr/local/lib/python3.7/site-packages/ipykernel_launcher.py:2: SettingWithCopyWarning: \n",
      "A value is trying to be set on a copy of a slice from a DataFrame.\n",
      "Try using .loc[row_indexer,col_indexer] = value instead\n",
      "\n",
      "See the caveats in the documentation: https://pandas.pydata.org/pandas-docs/stable/user_guide/indexing.html#returning-a-view-versus-a-copy\n",
      "  \n",
      "/usr/local/lib/python3.7/site-packages/ipykernel_launcher.py:3: SettingWithCopyWarning: \n",
      "A value is trying to be set on a copy of a slice from a DataFrame.\n",
      "Try using .loc[row_indexer,col_indexer] = value instead\n",
      "\n",
      "See the caveats in the documentation: https://pandas.pydata.org/pandas-docs/stable/user_guide/indexing.html#returning-a-view-versus-a-copy\n",
      "  This is separate from the ipykernel package so we can avoid doing imports until\n",
      "/usr/local/lib/python3.7/site-packages/ipykernel_launcher.py:4: SettingWithCopyWarning: \n",
      "A value is trying to be set on a copy of a slice from a DataFrame.\n",
      "Try using .loc[row_indexer,col_indexer] = value instead\n",
      "\n",
      "See the caveats in the documentation: https://pandas.pydata.org/pandas-docs/stable/user_guide/indexing.html#returning-a-view-versus-a-copy\n",
      "  after removing the cwd from sys.path.\n"
     ]
    }
   ],
   "source": [
    "df_italy[\"ratio\"] = df_italy.apply(lambda x: get_ratio(x[\"cases\"], x[\"target\"]), axis=1)\n",
    "df_france[\"ratio\"] = df_france.apply(lambda x: get_ratio(x[\"cases\"], x[\"target\"]), axis=1)\n",
    "df_china[\"ratio\"] = df_china.apply(lambda x: get_ratio(x[\"cases\"], x[\"target\"]), axis=1)\n",
    "df_spain[\"ratio\"] = df_spain.apply(lambda x: get_ratio(x[\"cases\"], x[\"target\"]), axis=1)"
   ]
  },
  {
   "cell_type": "code",
   "execution_count": 12,
   "metadata": {},
   "outputs": [
    {
     "data": {
      "image/png": "[encoded data removed]",
      "text/plain": [
       "<Figure size 864x576 with 1 Axes>"
      ]
     },
     "metadata": {
      "needs_background": "light"
     },
     "output_type": "display_data"
    }
   ],
   "source": [
    "plt.figure(figsize=(12,8))\n",
    "#plt.plot(df_italy['Date'], df_italy['cases'], label=\"cases\")\n",
    "#plt.plot(df_italy['Date'], df_italy['target'], label=\"target\")\n",
    "plt.plot(df_italy['Date'], df_italy['ratio'], label=\"italy\")\n",
    "plt.plot(df_france['Date'], df_france['ratio'], label=\"france\")\n",
    "plt.plot(df_china['Date'], df_china['ratio'], label=\"china\")\n",
    "plt.plot(df_spain['Date'], df_spain['ratio'], label=\"spain\")\n",
    "plt.title(\"Number of Covid19 cases\")\n",
    "plt.xticks(rotation=45)\n",
    "plt.legend()\n",
    "plt.show()"
   ]
  },
  {
   "cell_type": "code",
   "execution_count": 13,
   "metadata": {},
   "outputs": [
    {
     "data": {
      "image/png": "[encoded data removed]",
      "text/plain": [
       "<Figure size 864x576 with 1 Axes>"
      ]
     },
     "metadata": {
      "needs_background": "light"
     },
     "output_type": "display_data"
    }
   ],
   "source": [
    "plt.figure(figsize=(12,8))\n",
    "plt.plot(df_italy['Date'], df_italy['cases'], label=\"italy\", c=\"g\")\n",
    "plt.plot(df_italy['Date'], df_italy['target'], label=\"italy\", c=\"g\")\n",
    "plt.plot(df_france['Date'], df_france['cases'], label=\"france\", c=\"r\")\n",
    "plt.plot(df_france['Date'], df_france['target'], label=\"france\", c=\"r\")\n",
    "plt.title(\"Number of Covid19 cases\")\n",
    "plt.xticks(rotation=45)\n",
    "plt.legend()\n",
    "plt.show()"
   ]
  },
  {
   "cell_type": "markdown",
   "metadata": {},
   "source": [
    "<h1> Get country neighbours"
   ]
  },
  {
   "cell_type": "code",
   "execution_count": 14,
   "metadata": {
    "scrolled": true
   },
   "outputs": [],
   "source": [
    "import requests"
   ]
  },
  {
   "cell_type": "code",
   "execution_count": 15,
   "metadata": {},
   "outputs": [],
   "source": [
    "def get_name(countryCode):\n",
    "    return requests.get(\"https://restcountries.eu/rest/v2/alpha/\" + countryCode + \"?fields=name\").json()[\"name\"]"
   ]
  },
  {
   "cell_type": "code",
   "execution_count": 16,
   "metadata": {},
   "outputs": [],
   "source": [
    "def get_code(countryName):\n",
    "    response = requests.get(\"https://restcountries.eu/rest/v2/name/\" + countryName + '?fields=alpha3Code').json()\n",
    "    print(response)\n",
    "    return response[0][\"alpha3Code\"]"
   ]
  },
  {
   "cell_type": "code",
   "execution_count": 17,
   "metadata": {},
   "outputs": [],
   "source": [
    "def get_popu(countryName):\n",
    "    response = requests.get(\"https://restcountries.eu/rest/v2/name/\" + countryName + '?fields=population').json()\n",
    "    print(response)\n",
    "    return response[0][\"population\"]"
   ]
  },
  {
   "cell_type": "code",
   "execution_count": 18,
   "metadata": {},
   "outputs": [
    {
     "name": "stdout",
     "output_type": "stream",
     "text": [
      "[{'population': 66710000}]\n"
     ]
    },
    {
     "data": {
      "text/plain": [
       "66710000"
      ]
     },
     "execution_count": 18,
     "metadata": {},
     "output_type": "execute_result"
    }
   ],
   "source": [
    "get_popu(\"France\")"
   ]
  },
  {
   "cell_type": "code",
   "execution_count": 19,
   "metadata": {},
   "outputs": [
    {
     "name": "stdout",
     "output_type": "stream",
     "text": [
      "[{'alpha3Code': 'USA'}]\n"
     ]
    },
    {
     "data": {
      "text/plain": [
       "'USA'"
      ]
     },
     "execution_count": 19,
     "metadata": {},
     "output_type": "execute_result"
    }
   ],
   "source": [
    "get_code('United States of America')"
   ]
  },
  {
   "cell_type": "code",
   "execution_count": 20,
   "metadata": {},
   "outputs": [],
   "source": [
    "def get_neighbours(country):\n",
    "    response = requests.get(\"https://restcountries.eu/rest/v2/name/\" + country)\n",
    "    neighbours = []\n",
    "    for code in response.json()[0]['borders']:\n",
    "        response = requests.get(\"https://restcountries.eu/rest/v2/alpha/\" + code + \"?fields=name\")\n",
    "        neighbours.append(response.json()[\"name\"])\n",
    "    return neighbours"
   ]
  },
  {
   "cell_type": "code",
   "execution_count": 21,
   "metadata": {},
   "outputs": [
    {
     "data": {
      "text/plain": [
       "['Algeria', 'Western Sahara', 'Spain']"
      ]
     },
     "execution_count": 21,
     "metadata": {},
     "output_type": "execute_result"
    }
   ],
   "source": [
    "get_neighbours(\"Morocco\")"
   ]
  },
  {
   "cell_type": "code",
   "execution_count": 22,
   "metadata": {},
   "outputs": [],
   "source": [
    "# interresting fields: population, area, borders, languages, 'regionalBlocs'\n",
    "# get a uniform country name"
   ]
  },
  {
   "cell_type": "markdown",
   "metadata": {},
   "source": [
    "<h1> Check Covid evolution for a country and its neighbours"
   ]
  },
  {
   "cell_type": "code",
   "execution_count": 23,
   "metadata": {},
   "outputs": [],
   "source": [
    "ref_country = \"France\""
   ]
  },
  {
   "cell_type": "code",
   "execution_count": 24,
   "metadata": {},
   "outputs": [
    {
     "data": {
      "text/plain": [
       "('1/22/20', '3/9/20')"
      ]
     },
     "execution_count": 24,
     "metadata": {},
     "output_type": "execute_result"
    }
   ],
   "source": [
    "df.Date.min(), df.Date.max() #String need to change into Datetime"
   ]
  },
  {
   "cell_type": "code",
   "execution_count": 25,
   "metadata": {
    "scrolled": false
   },
   "outputs": [
    {
     "data": {
      "image/png": "[encoded data removed]",
      "text/plain": [
       "<Figure size 1152x576 with 1 Axes>"
      ]
     },
     "metadata": {
      "needs_background": "light"
     },
     "output_type": "display_data"
    }
   ],
   "source": [
    "plt.figure(figsize=(16,8))\n",
    "for country in get_neighbours(ref_country) + [ref_country]:\n",
    "    df_country = df[df.Territory == country]\n",
    "    plt.plot(df_country['Date'], df_country['target'], label=country)\n",
    "    #plt.plot(df_country['Date'], df_country['cases'], label=country)\n",
    "plt.xticks(rotation=45)\n",
    "plt.title(\"Number of Covid19 cases\")\n",
    "plt.legend()\n",
    "plt.show()"
   ]
  },
  {
   "cell_type": "markdown",
   "metadata": {},
   "source": [
    "<h1> Get climate info per country"
   ]
  },
  {
   "cell_type": "markdown",
   "metadata": {},
   "source": [
    "<h1> PROPHET - Time series for a specific location"
   ]
  },
  {
   "cell_type": "code",
   "execution_count": 26,
   "metadata": {},
   "outputs": [],
   "source": [
    "from fbprophet import Prophet"
   ]
  },
  {
   "cell_type": "code",
   "execution_count": 27,
   "metadata": {},
   "outputs": [],
   "source": [
    "def get_df_loc(y, country):\n",
    "    df_loc = df[df.Territory == country].reset_index()[[\"Date\", y]]\n",
    "    df_loc = df_loc.rename(columns={'Date': 'ds', y: 'y'})\n",
    "    df_loc.ds = pd.to_datetime(df_loc.ds)\n",
    "    return df_loc"
   ]
  },
  {
   "cell_type": "code",
   "execution_count": 28,
   "metadata": {},
   "outputs": [],
   "source": [
    "def make_forecast(df, growth, cap, floor):\n",
    "    if growth == \"logistic\":\n",
    "        df['cap'] = cap\n",
    "        df['floor'] = floor\n",
    "    model = Prophet(growth=growth, changepoint_prior_scale=7, yearly_seasonality=False, daily_seasonality=False, )\n",
    "    model.fit(df)\n",
    "    future = model.make_future_dataframe(periods=7, freq=\"D\", include_history=True)\n",
    "    if growth == \"logistic\":\n",
    "        future['cap'] = cap\n",
    "        future['floor'] = floor\n",
    "    return model, future"
   ]
  },
  {
   "cell_type": "code",
   "execution_count": 29,
   "metadata": {},
   "outputs": [],
   "source": [
    "def get_ratio(df_cases, df_target, step=7):\n",
    "    \n",
    "    cases_rate = (df_cases.iloc[-1].y - df_cases.iloc[-step].y)\n",
    "    target_rate = (df_target.iloc[-1].y - df_target.iloc[-step].y)\n",
    "    \n",
    "    return target_rate / cases_rate   "
   ]
  },
  {
   "cell_type": "markdown",
   "metadata": {},
   "source": [
    "<h2> Country selection"
   ]
  },
  {
   "cell_type": "code",
   "execution_count": 30,
   "metadata": {},
   "outputs": [],
   "source": [
    "ref_country = \"Israel\""
   ]
  },
  {
   "cell_type": "code",
   "execution_count": null,
   "metadata": {},
   "outputs": [],
   "source": [
    "df_cases = get_df_loc(\"cases\", country)\n",
    "df_target = get_df_loc(\"target\", country)"
   ]
  },
  {
   "cell_type": "markdown",
   "metadata": {},
   "source": [
    "<h2> Cases forecast"
   ]
  },
  {
   "cell_type": "code",
   "execution_count": 31,
   "metadata": {},
   "outputs": [],
   "source": [
    "def cases_prediction(df_cases):\n",
    "    floor = df_cases.y.min()\n",
    "    cap = 100000000 #get_popu(country)/10\n",
    "    if df_cases.y.max() > 0:\n",
    "        print(\"floor: \", floor, \"cap: \", cap)\n",
    "        model_cases, future = make_forecast(df_cases, \"logistic\", cap, floor)\n",
    "        forecast_cases = model_cases.predict(future)\n",
    "        return model_cases, forecast_cases"
   ]
  },
  {
   "cell_type": "code",
   "execution_count": 32,
   "metadata": {},
   "outputs": [
    {
     "ename": "AttributeError",
     "evalue": "'str' object has no attribute 'y'",
     "output_type": "error",
     "traceback": [
      "\u001b[0;31m---------------------------------------------------------------------------\u001b[0m",
      "\u001b[0;31mAttributeError\u001b[0m                            Traceback (most recent call last)",
      "\u001b[0;32m<ipython-input-32-0016423769b0>\u001b[0m in \u001b[0;36m<module>\u001b[0;34m\u001b[0m\n\u001b[0;32m----> 1\u001b[0;31m \u001b[0mmodel_cases\u001b[0m\u001b[0;34m,\u001b[0m \u001b[0mforecast_cases\u001b[0m \u001b[0;34m=\u001b[0m \u001b[0mcases_prediction\u001b[0m\u001b[0;34m(\u001b[0m\u001b[0mref_country\u001b[0m\u001b[0;34m)\u001b[0m\u001b[0;34m\u001b[0m\u001b[0;34m\u001b[0m\u001b[0m\n\u001b[0m",
      "\u001b[0;32m<ipython-input-31-56aa56bad662>\u001b[0m in \u001b[0;36mcases_prediction\u001b[0;34m(df_cases)\u001b[0m\n\u001b[1;32m      1\u001b[0m \u001b[0;32mdef\u001b[0m \u001b[0mcases_prediction\u001b[0m\u001b[0;34m(\u001b[0m\u001b[0mdf_cases\u001b[0m\u001b[0;34m)\u001b[0m\u001b[0;34m:\u001b[0m\u001b[0;34m\u001b[0m\u001b[0;34m\u001b[0m\u001b[0m\n\u001b[0;32m----> 2\u001b[0;31m     \u001b[0mfloor\u001b[0m \u001b[0;34m=\u001b[0m \u001b[0mdf_cases\u001b[0m\u001b[0;34m.\u001b[0m\u001b[0my\u001b[0m\u001b[0;34m.\u001b[0m\u001b[0mmin\u001b[0m\u001b[0;34m(\u001b[0m\u001b[0;34m)\u001b[0m\u001b[0;34m\u001b[0m\u001b[0;34m\u001b[0m\u001b[0m\n\u001b[0m\u001b[1;32m      3\u001b[0m     \u001b[0mcap\u001b[0m \u001b[0;34m=\u001b[0m \u001b[0;36m100000000\u001b[0m \u001b[0;31m#get_popu(country)/10\u001b[0m\u001b[0;34m\u001b[0m\u001b[0;34m\u001b[0m\u001b[0m\n\u001b[1;32m      4\u001b[0m     \u001b[0;32mif\u001b[0m \u001b[0mdf_cases\u001b[0m\u001b[0;34m.\u001b[0m\u001b[0my\u001b[0m\u001b[0;34m.\u001b[0m\u001b[0mmax\u001b[0m\u001b[0;34m(\u001b[0m\u001b[0;34m)\u001b[0m \u001b[0;34m>\u001b[0m \u001b[0;36m0\u001b[0m\u001b[0;34m:\u001b[0m\u001b[0;34m\u001b[0m\u001b[0;34m\u001b[0m\u001b[0m\n\u001b[1;32m      5\u001b[0m         \u001b[0mprint\u001b[0m\u001b[0;34m(\u001b[0m\u001b[0;34m\"floor: \"\u001b[0m\u001b[0;34m,\u001b[0m \u001b[0mfloor\u001b[0m\u001b[0;34m,\u001b[0m \u001b[0;34m\"cap: \"\u001b[0m\u001b[0;34m,\u001b[0m \u001b[0mcap\u001b[0m\u001b[0;34m)\u001b[0m\u001b[0;34m\u001b[0m\u001b[0;34m\u001b[0m\u001b[0m\n",
      "\u001b[0;31mAttributeError\u001b[0m: 'str' object has no attribute 'y'"
     ]
    }
   ],
   "source": [
    "model_cases, forecast_cases = cases_prediction(df_cases)"
   ]
  },
  {
   "cell_type": "markdown",
   "metadata": {},
   "source": [
    "<h2> Target forecast"
   ]
  },
  {
   "cell_type": "code",
   "execution_count": 33,
   "metadata": {},
   "outputs": [],
   "source": [
    "def target_prediction(df_target, df_cases, forecast_cases):\n",
    "    floor = df_target.y.min()\n",
    "    cap = 1 + df_target.iloc[-1].y + get_ratio(df_cases, df_target) * max((forecast_cases.iloc[-1]['yhat'] - df_cases.iloc[-1]['y']), 0)\n",
    "    if df_target.y.max() > 0:\n",
    "        print( \"floor: \", floor, \"cap: \", cap)\n",
    "        model_target, future = make_forecast(df_target, \"logistic\", cap, floor)\n",
    "        forecast_target = model_target.predict(future)\n",
    "        return model_target, forecast_target"
   ]
  },
  {
   "cell_type": "code",
   "execution_count": 34,
   "metadata": {},
   "outputs": [
    {
     "ename": "NameError",
     "evalue": "name 'forecast_cases' is not defined",
     "output_type": "error",
     "traceback": [
      "\u001b[0;31m---------------------------------------------------------------------------\u001b[0m",
      "\u001b[0;31mNameError\u001b[0m                                 Traceback (most recent call last)",
      "\u001b[0;32m<ipython-input-34-3a29706a2b38>\u001b[0m in \u001b[0;36m<module>\u001b[0;34m\u001b[0m\n\u001b[0;32m----> 1\u001b[0;31m \u001b[0mmodel_target\u001b[0m\u001b[0;34m,\u001b[0m \u001b[0mforecast_target\u001b[0m \u001b[0;34m=\u001b[0m \u001b[0mtarget_prediction\u001b[0m\u001b[0;34m(\u001b[0m\u001b[0mref_country\u001b[0m\u001b[0;34m,\u001b[0m \u001b[0mforecast_cases\u001b[0m\u001b[0;34m)\u001b[0m\u001b[0;34m\u001b[0m\u001b[0;34m\u001b[0m\u001b[0m\n\u001b[0m",
      "\u001b[0;31mNameError\u001b[0m: name 'forecast_cases' is not defined"
     ]
    }
   ],
   "source": [
    "model_target, forecast_target = target_prediction(df_target, df_cases, forecast_cases)"
   ]
  },
  {
   "cell_type": "markdown",
   "metadata": {},
   "source": [
    "<h2> Plot forecast"
   ]
  },
  {
   "cell_type": "code",
   "execution_count": 35,
   "metadata": {},
   "outputs": [
    {
     "ename": "NameError",
     "evalue": "name 'model_target' is not defined",
     "output_type": "error",
     "traceback": [
      "\u001b[0;31m---------------------------------------------------------------------------\u001b[0m",
      "\u001b[0;31mNameError\u001b[0m                                 Traceback (most recent call last)",
      "\u001b[0;32m<ipython-input-35-b381d96d6365>\u001b[0m in \u001b[0;36m<module>\u001b[0;34m\u001b[0m\n\u001b[1;32m      1\u001b[0m \u001b[0mplt\u001b[0m\u001b[0;34m.\u001b[0m\u001b[0mfigure\u001b[0m\u001b[0;34m(\u001b[0m\u001b[0mfigsize\u001b[0m\u001b[0;34m=\u001b[0m\u001b[0;34m(\u001b[0m\u001b[0;36m18\u001b[0m\u001b[0;34m,\u001b[0m \u001b[0;36m8\u001b[0m\u001b[0;34m)\u001b[0m\u001b[0;34m)\u001b[0m\u001b[0;34m\u001b[0m\u001b[0;34m\u001b[0m\u001b[0m\n\u001b[0;32m----> 2\u001b[0;31m \u001b[0mmodel_target\u001b[0m\u001b[0;34m.\u001b[0m\u001b[0mplot\u001b[0m\u001b[0;34m(\u001b[0m\u001b[0mforecast_target\u001b[0m\u001b[0;34m,\u001b[0m \u001b[0mxlabel\u001b[0m \u001b[0;34m=\u001b[0m \u001b[0;34m'Date'\u001b[0m\u001b[0;34m,\u001b[0m \u001b[0mylabel\u001b[0m \u001b[0;34m=\u001b[0m \u001b[0;34m\"Target\"\u001b[0m\u001b[0;34m,\u001b[0m \u001b[0mplot_cap\u001b[0m\u001b[0;34m=\u001b[0m\u001b[0;32mFalse\u001b[0m\u001b[0;34m)\u001b[0m\u001b[0;34m\u001b[0m\u001b[0;34m\u001b[0m\u001b[0m\n\u001b[0m\u001b[1;32m      3\u001b[0m \u001b[0mmodel_cases\u001b[0m\u001b[0;34m.\u001b[0m\u001b[0mplot\u001b[0m\u001b[0;34m(\u001b[0m\u001b[0mforecast_cases\u001b[0m\u001b[0;34m,\u001b[0m \u001b[0mxlabel\u001b[0m \u001b[0;34m=\u001b[0m \u001b[0;34m'Date'\u001b[0m\u001b[0;34m,\u001b[0m \u001b[0mylabel\u001b[0m \u001b[0;34m=\u001b[0m \u001b[0;34m\"Cases\"\u001b[0m\u001b[0;34m,\u001b[0m \u001b[0mplot_cap\u001b[0m\u001b[0;34m=\u001b[0m\u001b[0;32mFalse\u001b[0m\u001b[0;34m)\u001b[0m\u001b[0;34m\u001b[0m\u001b[0;34m\u001b[0m\u001b[0m\n\u001b[1;32m      4\u001b[0m \u001b[0mplt\u001b[0m\u001b[0;34m.\u001b[0m\u001b[0mtitle\u001b[0m\u001b[0;34m(\u001b[0m\u001b[0;34m'Covid19 target in '\u001b[0m \u001b[0;34m+\u001b[0m \u001b[0mref_country\u001b[0m\u001b[0;34m)\u001b[0m\u001b[0;34m\u001b[0m\u001b[0;34m\u001b[0m\u001b[0m\n\u001b[1;32m      5\u001b[0m \u001b[0mplt\u001b[0m\u001b[0;34m.\u001b[0m\u001b[0mxticks\u001b[0m\u001b[0;34m(\u001b[0m\u001b[0mrotation\u001b[0m\u001b[0;34m=\u001b[0m\u001b[0;36m45\u001b[0m\u001b[0;34m)\u001b[0m\u001b[0;34m\u001b[0m\u001b[0;34m\u001b[0m\u001b[0m\n",
      "\u001b[0;31mNameError\u001b[0m: name 'model_target' is not defined"
     ]
    },
    {
     "data": {
      "text/plain": [
       "<Figure size 1296x576 with 0 Axes>"
      ]
     },
     "metadata": {},
     "output_type": "display_data"
    }
   ],
   "source": [
    "plt.figure(figsize=(18, 8))\n",
    "model_target.plot(forecast_target, xlabel = 'Date', ylabel = \"Target\", plot_cap=False)\n",
    "model_cases.plot(forecast_cases, xlabel = 'Date', ylabel = \"Cases\", plot_cap=False)\n",
    "plt.title('Covid19 target in ' + ref_country)\n",
    "plt.xticks(rotation=45)\n",
    "plt.legend()\n",
    "plt.show()"
   ]
  },
  {
   "cell_type": "markdown",
   "metadata": {},
   "source": [
    "<h1> Get prediction per country"
   ]
  },
  {
   "cell_type": "code",
   "execution_count": 36,
   "metadata": {},
   "outputs": [],
   "source": [
    "df_default = pd.DataFrame(data=[\"2020-03-19\", \"2020-03-20\", \"2020-03-21\", \"2020-03-22\", \"2020-03-23\", \"2020-03-24\", \"2020-03-25\"], columns=[\"ds\"])\n",
    "df_default.ds = pd.to_datetime(df_default.ds)\n",
    "df_default[\"yhat\"] = np.zeros(7, int)"
   ]
  },
  {
   "cell_type": "code",
   "execution_count": 37,
   "metadata": {},
   "outputs": [],
   "source": [
    "# Store into a pickle model and forecast\n",
    "def get_prediction(country):\n",
    "    df_cases = get_df_loc(\"cases\", country)\n",
    "    df_target = get_df_loc(\"target\", country)\n",
    "    \n",
    "    if (df_cases.y.max() > 0) & (df_target.y.max() > 0) :\n",
    "        model_cases, forecast_cases = cases_prediction(df_cases)\n",
    "        model_target, forecast_target = target_prediction(df_target, df_cases, forecast_cases)\n",
    "        return forecast_target.iloc[-7:][['ds', 'yhat']]\n",
    "    else:\n",
    "        return df_default"
   ]
  },
  {
   "cell_type": "code",
   "execution_count": 38,
   "metadata": {
    "scrolled": true
   },
   "outputs": [
    {
     "name": "stdout",
     "output_type": "stream",
     "text": [
      "Argentina\n",
      "floor:  0 cap:  100000000\n",
      "floor:  0 cap:  7.608335232024318\n"
     ]
    }
   ],
   "source": [
    "y_pred = get_prediction(\"Argentina\")"
   ]
  },
  {
   "cell_type": "code",
   "execution_count": 39,
   "metadata": {},
   "outputs": [
    {
     "data": {
      "text/html": [
       "<div>\n",
       "<style scoped>\n",
       "    .dataframe tbody tr th:only-of-type {\n",
       "        vertical-align: middle;\n",
       "    }\n",
       "\n",
       "    .dataframe tbody tr th {\n",
       "        vertical-align: top;\n",
       "    }\n",
       "\n",
       "    .dataframe thead th {\n",
       "        text-align: right;\n",
       "    }\n",
       "</style>\n",
       "<table border=\"1\" class=\"dataframe\">\n",
       "  <thead>\n",
       "    <tr style=\"text-align: right;\">\n",
       "      <th></th>\n",
       "      <th>ds</th>\n",
       "      <th>yhat</th>\n",
       "    </tr>\n",
       "  </thead>\n",
       "  <tbody>\n",
       "    <tr>\n",
       "      <th>57</th>\n",
       "      <td>2020-03-19</td>\n",
       "      <td>2.716696</td>\n",
       "    </tr>\n",
       "    <tr>\n",
       "      <th>58</th>\n",
       "      <td>2020-03-20</td>\n",
       "      <td>3.094801</td>\n",
       "    </tr>\n",
       "    <tr>\n",
       "      <th>59</th>\n",
       "      <td>2020-03-21</td>\n",
       "      <td>3.360366</td>\n",
       "    </tr>\n",
       "    <tr>\n",
       "      <th>60</th>\n",
       "      <td>2020-03-22</td>\n",
       "      <td>3.751706</td>\n",
       "    </tr>\n",
       "    <tr>\n",
       "      <th>61</th>\n",
       "      <td>2020-03-23</td>\n",
       "      <td>4.014284</td>\n",
       "    </tr>\n",
       "    <tr>\n",
       "      <th>62</th>\n",
       "      <td>2020-03-24</td>\n",
       "      <td>4.268404</td>\n",
       "    </tr>\n",
       "    <tr>\n",
       "      <th>63</th>\n",
       "      <td>2020-03-25</td>\n",
       "      <td>4.518269</td>\n",
       "    </tr>\n",
       "  </tbody>\n",
       "</table>\n",
       "</div>"
      ],
      "text/plain": [
       "           ds      yhat\n",
       "57 2020-03-19  2.716696\n",
       "58 2020-03-20  3.094801\n",
       "59 2020-03-21  3.360366\n",
       "60 2020-03-22  3.751706\n",
       "61 2020-03-23  4.014284\n",
       "62 2020-03-24  4.268404\n",
       "63 2020-03-25  4.518269"
      ]
     },
     "execution_count": 39,
     "metadata": {},
     "output_type": "execute_result"
    }
   ],
   "source": [
    "y_pred"
   ]
  },
  {
   "cell_type": "code",
   "execution_count": 40,
   "metadata": {},
   "outputs": [],
   "source": [
    "# Issue/ ISSUE:  Argentina\n",
    "# Put a timer"
   ]
  },
  {
   "cell_type": "code",
   "execution_count": 41,
   "metadata": {
    "scrolled": false
   },
   "outputs": [],
   "source": [
    "selection = [\"Andorra\", \"Angola\", \"Antigua and Barbuda\"]\n",
    "country_selection = df.Territory.unique()\n",
    "\n",
    "def generate_subfile():\n",
    "    df_sub = pd.DataFrame()\n",
    "    for i, country in enumerate(country_selection):\n",
    "        print(i, \"out of\", len(country_selection), country)\n",
    "        try:\n",
    "            y_pred = get_prediction(country)\n",
    "            df_res = y_pred.iloc[-7:][['ds', 'yhat']]\n",
    "            df_res[\"Territory X Date\"] = df_res.ds.apply(lambda x: country + \" X \" + x.strftime('%-m/%d/%y'))\n",
    "            df_res[\"target\"] = df_res[\"yhat\"]\n",
    "            df_sub = pd.concat([df_sub, df_res[[\"Territory X Date\", \"target\"]]])\n",
    "        except:\n",
    "            print(\"ISSUE: \", country)\n",
    "    return df_sub"
   ]
  },
  {
   "cell_type": "code",
   "execution_count": 42,
   "metadata": {
    "scrolled": true
   },
   "outputs": [
    {
     "name": "stdout",
     "output_type": "stream",
     "text": [
      "Afghanistan\n",
      "Albania\n",
      "floor:  0 cap:  100000000\n"
     ]
    },
    {
     "name": "stderr",
     "output_type": "stream",
     "text": [
      "/usr/local/lib/python3.7/site-packages/fbprophet/forecaster.py:1256: RuntimeWarning:\n",
      "\n",
      "overflow encountered in exp\n",
      "\n"
     ]
    },
    {
     "name": "stdout",
     "output_type": "stream",
     "text": [
      "floor:  0 cap:  54.25111954579301\n",
      "Algeria\n",
      "floor:  0 cap:  100000000\n",
      "floor:  0 cap:  24.237350610989115\n",
      "Andorra\n",
      "Angola\n",
      "Antigua and Barbuda\n",
      "Argentina\n",
      "floor:  0 cap:  100000000\n",
      "floor:  0 cap:  7.608335232024318\n",
      "Armenia\n",
      "Aruba\n",
      "Australia\n",
      "floor:  0 cap:  100000000\n",
      "floor:  0 cap:  681823.3436292337\n",
      "Austria\n",
      "floor:  0 cap:  100000000\n",
      "floor:  0 cap:  24.49547086307308\n",
      "Azerbaijan\n",
      "floor:  0 cap:  100000000\n",
      "floor:  0 cap:  11.046894488316081\n",
      "Bahamas (the)\n",
      "Bahrain\n",
      "floor:  0 cap:  100000000\n",
      "floor:  0 cap:  6.610059948394589\n",
      "Bangladesh\n",
      "floor:  0 cap:  100000000\n",
      "floor:  0 cap:  8.026580322730656\n",
      "Barbados\n",
      "Belarus\n",
      "Belgium\n",
      "floor:  0 cap:  100000000\n",
      "floor:  0 cap:  64.926431613652\n",
      "Belize\n",
      "Benin\n",
      "Bermuda\n",
      "Bhutan\n",
      "Bolivia (Plurinational State of)\n",
      "Bosnia and Herzegovina\n",
      "Botswana\n",
      "Brazil\n",
      "floor:  0 cap:  100000000\n",
      "floor:  0 cap:  25.20002396699314\n",
      "Brunei Darussalam\n",
      "Bulgaria\n",
      "floor:  0 cap:  100000000\n",
      "floor:  0 cap:  10.459340816139663\n",
      "Burkina Faso\n",
      "floor:  0 cap:  100000000\n",
      "floor:  0 cap:  15.817373786514278\n",
      "Burundi\n",
      "Cabo Verde\n",
      "Cambodia\n",
      "Cameroon\n",
      "Canada\n",
      "floor:  0 cap:  100000000\n",
      "floor:  0 cap:  52.114180375522196\n",
      "Cayman Islands\n",
      "floor:  0 cap:  100000000\n",
      "floor:  0 cap:  2.0\n",
      "Central African Republic (the)\n",
      "Chad\n",
      "Chile\n",
      "China\n",
      "floor:  548 cap:  100000000\n",
      "floor:  17 cap:  3242.0\n",
      "Colombia\n",
      "Comoros (the)\n",
      "Congo (the)\n",
      "Costa Rica\n",
      "Croatia\n",
      "Cuba\n",
      "floor:  0 cap:  100000000\n",
      "floor:  0 cap:  2.0\n",
      "Curacao\n",
      "Cyprus\n",
      "Czechia\n",
      "Côte d'Ivoire\n",
      "Democratic People's Republic of Korea (the)\n",
      "floor:  1 cap:  100000000\n",
      "floor:  0 cap:  126.37762229699388\n",
      "Democratic Republic of the Congo (the)\n",
      "Denmark\n",
      "floor:  0 cap:  100000000\n",
      "floor:  0 cap:  33.132293505288736\n",
      "Djibouti\n",
      "Dominica\n",
      "Dominican Republic (the)\n",
      "floor:  0 cap:  100000000\n",
      "floor:  0 cap:  15081.927580519523\n",
      "Ecuador\n",
      "floor:  0 cap:  100000000\n",
      "floor:  0 cap:  17.06024142487056\n",
      "Egypt\n",
      "floor:  0 cap:  100000000\n",
      "floor:  0 cap:  27.504961624427388\n",
      "El Salvador\n",
      "Equatorial Guinea\n",
      "Eritrea\n",
      "Estonia\n",
      "Eswatini\n",
      "Ethiopia\n",
      "Faroe Islands\n",
      "Fiji\n",
      "Finland\n",
      "France\n",
      "floor:  0 cap:  100000000\n",
      "floor:  0 cap:  610.0746590123376\n",
      "French Guiana\n",
      "French Polynesia\n",
      "Gabon\n",
      "Gambia (the)\n",
      "Georgia\n",
      "Germany\n",
      "floor:  0 cap:  100000000\n",
      "floor:  0 cap:  181.96342699307678\n",
      "Ghana\n",
      "Greece\n",
      "floor:  0 cap:  100000000\n",
      "floor:  0 cap:  23.105485086983357\n",
      "Greenland\n",
      "Grenada\n",
      "Guadeloupe\n",
      "Guatemala\n",
      "floor:  0 cap:  100000000\n",
      "floor:  0 cap:  74.48573239673871\n",
      "Guinea\n",
      "Guinea-Bissau\n",
      "Guyana\n",
      "floor:  0 cap:  100000000\n",
      "floor:  0 cap:  2.0\n",
      "Haiti\n",
      "Honduras\n",
      "Hungary\n",
      "floor:  0 cap:  100000000\n",
      "floor:  0 cap:  7.0276602584223\n",
      "Iceland\n",
      "floor:  0 cap:  100000000\n",
      "floor:  0 cap:  680117.4416616089\n",
      "India\n",
      "floor:  0 cap:  100000000\n",
      "floor:  0 cap:  4.0\n",
      "Indonesia\n",
      "floor:  0 cap:  100000000\n",
      "floor:  0 cap:  135.33175264124264\n",
      "Iran (Islamic Republic of)\n",
      "floor:  0 cap:  100000000\n",
      "floor:  0 cap:  2986.6507216588216\n",
      "Iraq\n",
      "floor:  0 cap:  100000000\n",
      "floor:  0 cap:  13.0\n",
      "Ireland\n",
      "floor:  0 cap:  100000000\n",
      "floor:  0 cap:  9.18640159117707\n",
      "Israel\n",
      "Italy\n",
      "floor:  0 cap:  100000000\n",
      "floor:  0 cap:  10064.056630970204\n",
      "Jamaica\n",
      "Japan\n",
      "floor:  2 cap:  100000000\n",
      "floor:  0 cap:  60.073909530786764\n",
      "Jordan\n",
      "Kazakhstan\n",
      "Kenya\n",
      "Kiribati\n",
      "Kuwait\n",
      "Kyrgyzstan\n",
      "Lao People's Democratic Republic (the)\n",
      "Latvia\n",
      "Lebanon\n",
      "floor:  0 cap:  100000000\n",
      "floor:  0 cap:  4.0\n",
      "Lesotho\n",
      "Liberia\n",
      "Libya\n",
      "Liechtenstein\n",
      "Lithuania\n",
      "Luxembourg\n",
      "floor:  0 cap:  100000000\n",
      "floor:  0 cap:  3.0\n",
      "Madagascar\n",
      "Malawi\n",
      "Malaysia\n",
      "floor:  0 cap:  100000000\n",
      "floor:  0 cap:  14.226752890502413\n",
      "Maldives\n",
      "Mali\n",
      "Malta\n",
      "Marshall Islands (the)\n",
      "Mauritania\n",
      "Mauritius\n",
      "Mayotte\n",
      "Mexico\n",
      "Micronesia (Federated States of)\n",
      "Monaco\n",
      "Mongolia\n",
      "Montenegro\n",
      "Montserrat\n",
      "Morocco\n",
      "floor:  0 cap:  100000000\n",
      "floor:  0 cap:  3.0\n",
      "Mozambique\n",
      "Myanmar\n",
      "Namibia\n",
      "Nauru\n",
      "Nepal\n",
      "Netherlands (the)\n",
      "floor:  0 cap:  100000000\n",
      "floor:  0 cap:  295.922871943728\n",
      "New Caledonia\n",
      "New Zealand\n",
      "Nicaragua\n",
      "Niger (the)\n",
      "Nigeria\n",
      "North Macedonia\n",
      "Norway\n",
      "floor:  0 cap:  100000000\n",
      "floor:  0 cap:  7.0\n",
      "Oman\n",
      "Pakistan\n",
      "Palau\n",
      "Panama\n",
      "floor:  0 cap:  100000000\n",
      "floor:  0 cap:  2.0\n",
      "Papua New Guinea\n",
      "Paraguay\n",
      "Peru\n",
      "Philippines (the)\n",
      "floor:  0 cap:  100000000\n",
      "floor:  0 cap:  118.78394283427896\n",
      "Poland\n",
      "floor:  0 cap:  100000000\n",
      "floor:  0 cap:  1979682.6697602891\n",
      "Portugal\n",
      "floor:  0 cap:  100000000\n",
      "floor:  0 cap:  18.78014108419797\n",
      "Qatar\n",
      "Republic of Korea (the)\n",
      "Republic of Moldova (the)\n",
      "floor:  0 cap:  100000000\n",
      "floor:  0 cap:  3703710.257792092\n",
      "Reunion\n",
      "Romania\n",
      "Russian Federation (the)\n",
      "Rwanda\n",
      "Saint Barthelemy\n",
      "Saint Kitts and Nevis\n",
      "Saint Lucia\n",
      "Saint Vincent and the Grenadines\n",
      "Samoa\n",
      "San Marino\n",
      "floor:  0 cap:  100000000\n",
      "floor:  0 cap:  41.19733176559401\n",
      "Sao Tome and Principe\n",
      "Saudi Arabia\n",
      "Senegal\n",
      "Serbia\n",
      "Seychelles\n",
      "Sierra Leone\n",
      "Singapore\n",
      "Slovakia\n",
      "floor:  0 cap:  100000000\n",
      "floor:  0 cap:  9.139715118662338\n",
      "Slovenia\n",
      "floor:  0 cap:  100000000\n",
      "floor:  0 cap:  8.597735924123661\n",
      "Solomon Islands\n",
      "Somalia\n",
      "South Africa\n",
      "South Sudan\n",
      "floor:  0 cap:  100000000\n",
      "floor:  0 cap:  7.82630759124199\n",
      "Spain\n",
      "floor:  0 cap:  100000000\n",
      "floor:  0 cap:  4032.352962144751\n",
      "Sri Lanka\n",
      "St Martin\n",
      "Sudan (the)\n",
      "Suriname\n",
      "Sweden\n",
      "floor:  0 cap:  100000000\n",
      "floor:  0 cap:  52.12731762978404\n",
      "Switzerland\n",
      "floor:  0 cap:  100000000\n",
      "floor:  0 cap:  151.30225076118074\n",
      "Syrian Arab Republic (the)\n",
      "Taiwan\n",
      "floor:  1 cap:  100000000\n",
      "floor:  0 cap:  2.0\n",
      "Tajikistan\n",
      "Thailand\n",
      "floor:  2 cap:  100000000\n",
      "floor:  0 cap:  2.0\n",
      "Timor-Leste\n",
      "Togo\n",
      "Tonga\n",
      "Trinidad and Tobago\n",
      "Tunisia\n",
      "Turkey\n",
      "floor:  0 cap:  100000000\n",
      "floor:  0 cap:  265.5443147985034\n",
      "Turkmenistan\n",
      "Tuvalu\n",
      "Uganda\n",
      "Ukraine\n",
      "floor:  0 cap:  100000000\n",
      "floor:  0 cap:  49.4963357496258\n",
      "United Arab Emirates (the)\n",
      "United Kingdom of Great Britain and Northern Ireland (the)\n",
      "floor:  0 cap:  100000000\n",
      "floor:  0 cap:  405.34889725776765\n",
      "United Republic of Tanzania (the)\n",
      "United States of America (the)\n",
      "floor:  1 cap:  100000000\n",
      "floor:  0 cap:  670.8728013661258\n",
      "Uruguay\n",
      "Uzbekistan\n",
      "Vanuatu\n",
      "Venezuela (Bolivarian Republic of)\n",
      "Viet Nam\n",
      "Yemen\n",
      "Zambia\n",
      "Zimbabwe\n"
     ]
    }
   ],
   "source": [
    "df_sub = generate_subfile()"
   ]
  },
  {
   "cell_type": "code",
   "execution_count": 62,
   "metadata": {},
   "outputs": [
    {
     "name": "stdout",
     "output_type": "stream",
     "text": [
      "(1463, 2)\n"
     ]
    },
    {
     "data": {
      "text/html": [
       "<div>\n",
       "<style scoped>\n",
       "    .dataframe tbody tr th:only-of-type {\n",
       "        vertical-align: middle;\n",
       "    }\n",
       "\n",
       "    .dataframe tbody tr th {\n",
       "        vertical-align: top;\n",
       "    }\n",
       "\n",
       "    .dataframe thead th {\n",
       "        text-align: right;\n",
       "    }\n",
       "</style>\n",
       "<table border=\"1\" class=\"dataframe\">\n",
       "  <thead>\n",
       "    <tr style=\"text-align: right;\">\n",
       "      <th></th>\n",
       "      <th>Territory X Date</th>\n",
       "      <th>target</th>\n",
       "    </tr>\n",
       "  </thead>\n",
       "  <tbody>\n",
       "    <tr>\n",
       "      <th>2</th>\n",
       "      <td>Zimbabwe X 03/21/20</td>\n",
       "      <td>0.0</td>\n",
       "    </tr>\n",
       "    <tr>\n",
       "      <th>3</th>\n",
       "      <td>Zimbabwe X 03/22/20</td>\n",
       "      <td>0.0</td>\n",
       "    </tr>\n",
       "    <tr>\n",
       "      <th>4</th>\n",
       "      <td>Zimbabwe X 03/23/20</td>\n",
       "      <td>0.0</td>\n",
       "    </tr>\n",
       "    <tr>\n",
       "      <th>5</th>\n",
       "      <td>Zimbabwe X 03/24/20</td>\n",
       "      <td>0.0</td>\n",
       "    </tr>\n",
       "    <tr>\n",
       "      <th>6</th>\n",
       "      <td>Zimbabwe X 03/25/20</td>\n",
       "      <td>0.0</td>\n",
       "    </tr>\n",
       "  </tbody>\n",
       "</table>\n",
       "</div>"
      ],
      "text/plain": [
       "      Territory X Date  target\n",
       "2  Zimbabwe X 03/21/20     0.0\n",
       "3  Zimbabwe X 03/22/20     0.0\n",
       "4  Zimbabwe X 03/23/20     0.0\n",
       "5  Zimbabwe X 03/24/20     0.0\n",
       "6  Zimbabwe X 03/25/20     0.0"
      ]
     },
     "execution_count": 62,
     "metadata": {},
     "output_type": "execute_result"
    }
   ],
   "source": [
    "df_sub = df_sub.reset_index()\n",
    "print(df_sub.shape)\n",
    "df_sub.tail()"
   ]
  },
  {
   "cell_type": "markdown",
   "metadata": {},
   "source": [
    "<h1> Fill submission file"
   ]
  },
  {
   "cell_type": "code",
   "execution_count": 45,
   "metadata": {},
   "outputs": [
    {
     "data": {
      "text/plain": [
       "(1463, 2)"
      ]
     },
     "execution_count": 45,
     "metadata": {},
     "output_type": "execute_result"
    }
   ],
   "source": [
    "submit_file = \"SampleSubLocal.csv\"\n",
    "df_submit = pd.read_csv(submit_file)\n",
    "df_submit.shape"
   ]
  },
  {
   "cell_type": "code",
   "execution_count": 68,
   "metadata": {},
   "outputs": [],
   "source": [
    "#df_submit[\"target\"] =  df_sub[\"target\"]"
   ]
  },
  {
   "cell_type": "code",
   "execution_count": 69,
   "metadata": {},
   "outputs": [],
   "source": [
    "df_sub.to_csv(\"mySubmission_new.csv\", index=False)"
   ]
  },
  {
   "cell_type": "code",
   "execution_count": null,
   "metadata": {},
   "outputs": [],
   "source": []
  }
 ],
 "metadata": {
  "kernelspec": {
   "display_name": "Python 3",
   "language": "python",
   "name": "python3"
  },
  "language_info": {
   "codemirror_mode": {
    "name": "ipython",
    "version": 3
   },
   "file_extension": ".py",
   "mimetype": "text/x-python",
   "name": "python",
   "nbconvert_exporter": "python",
   "pygments_lexer": "ipython3",
   "version": "3.7.7"
  }
 },
 "nbformat": 4,
 "nbformat_minor": 4
}
