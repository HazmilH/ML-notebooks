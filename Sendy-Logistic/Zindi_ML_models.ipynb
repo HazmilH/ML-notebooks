{
 "cells": [
  {
   "cell_type": "code",
   "execution_count": 1,
   "metadata": {
    "ExecuteTime": {
     "end_time": "2019-11-26T15:08:58.745904Z",
     "start_time": "2019-11-26T15:08:58.285838Z"
    }
   },
   "outputs": [],
   "source": [
    "import pandas as pd\n",
    "import numpy as np\n",
    "import matplotlib.pyplot as plt\n",
    "from datetime import datetime\n",
    "from geopy import distance\n",
    "import pickle\n",
    "from utils_dump_load import load_from_pickle, dump_to_pickle"
   ]
  },
  {
   "cell_type": "markdown",
   "metadata": {},
   "source": [
    "<h1> EDA"
   ]
  },
  {
   "cell_type": "markdown",
   "metadata": {},
   "source": [
    "<h2> Loading data"
   ]
  },
  {
   "cell_type": "code",
   "execution_count": 2,
   "metadata": {
    "ExecuteTime": {
     "end_time": "2019-11-26T15:08:58.834033Z",
     "start_time": "2019-11-26T15:08:58.799202Z"
    }
   },
   "outputs": [
    {
     "data": {
      "text/plain": [
       "((21201, 48), (7068, 44))"
      ]
     },
     "execution_count": 2,
     "metadata": {},
     "output_type": "execute_result"
    }
   ],
   "source": [
    "pickle_filename = \"data/data.pkl\"\n",
    "df_train, df_test = load_from_pickle(pickle_filename)\n",
    "df_train.shape, df_test.shape"
   ]
  },
  {
   "cell_type": "markdown",
   "metadata": {},
   "source": [
    "<h2> Feature Selection"
   ]
  },
  {
   "cell_type": "code",
   "execution_count": 5,
   "metadata": {
    "ExecuteTime": {
     "end_time": "2019-11-26T15:09:40.407032Z",
     "start_time": "2019-11-26T15:09:40.398069Z"
    }
   },
   "outputs": [
    {
     "data": {
      "text/plain": [
       "['Arrival at Destination - Day of Month',\n",
       " 'Arrival at Destination - Weekday (Mo = 1)',\n",
       " 'Arrival at Destination - Time',\n",
       " 'Time from Pickup to Arrival']"
      ]
     },
     "execution_count": 5,
     "metadata": {},
     "output_type": "execute_result"
    }
   ],
   "source": [
    "features_not_in_test = []\n",
    "for feature_name in df_train.columns:\n",
    "    if feature_name not in df_test.columns:\n",
    "        features_not_in_test.append(feature_name)\n",
    "features_not_in_test"
   ]
  },
  {
   "cell_type": "code",
   "execution_count": 6,
   "metadata": {
    "ExecuteTime": {
     "end_time": "2019-11-26T15:09:42.362659Z",
     "start_time": "2019-11-26T15:09:42.359196Z"
    }
   },
   "outputs": [],
   "source": [
    "steps = [\"Placement\", \"Confirmation\", \"Arrival at Pickup\", \"Pickup\"]"
   ]
  },
  {
   "cell_type": "code",
   "execution_count": 7,
   "metadata": {
    "ExecuteTime": {
     "end_time": "2019-11-26T15:09:42.595192Z",
     "start_time": "2019-11-26T15:09:42.590154Z"
    }
   },
   "outputs": [],
   "source": [
    "features_to_drop = [\"Vehicle Type\", \"Distance (KM)\", \"geopy_distance\"]\n",
    "#option1\n",
    "#features_to_drop +=  [\"User Id\", \"Rider Id\", \"Pickup - Time\"]\n",
    "#option2\n",
    "#features_to_drop += [\"Pickup Lat\", \"Pickup Long\", \"Destination Lat\", \"Destination Long\"]\n",
    "#option3\n",
    "features_to_drop += ['Platform Type', 'Personal or Business', \"Precipitation in millimeters\"]"
   ]
  },
  {
   "cell_type": "code",
   "execution_count": 8,
   "metadata": {
    "ExecuteTime": {
     "end_time": "2019-11-26T15:09:42.744987Z",
     "start_time": "2019-11-26T15:09:42.740917Z"
    }
   },
   "outputs": [],
   "source": [
    "for step in steps:\n",
    "    #Let's keep Pickup data (last step prior run)\n",
    "    if step not in [\"Arrival at Destination\"]:\n",
    "        #features_to_drop.append(step + \" - \" + \"Time\")\n",
    "        #features_to_drop.append(step + \" - \" + \"Delta\")\n",
    "        features_to_drop.append(step + \" - \" + \"Weekday (Mo = 1)\")\n",
    "        features_to_drop.append(step + \" - Weekend\")\n",
    "        features_to_drop.append(step + \" - \" + \"Day of Month\")\n",
    "        pass"
   ]
  },
  {
   "cell_type": "code",
   "execution_count": 9,
   "metadata": {
    "ExecuteTime": {
     "end_time": "2019-11-26T15:09:43.680735Z",
     "start_time": "2019-11-26T15:09:43.675727Z"
    }
   },
   "outputs": [
    {
     "data": {
      "text/plain": [
       "['Vehicle Type',\n",
       " 'Distance (KM)',\n",
       " 'geopy_distance',\n",
       " 'Platform Type',\n",
       " 'Personal or Business',\n",
       " 'Precipitation in millimeters',\n",
       " 'Placement - Weekday (Mo = 1)',\n",
       " 'Placement - Weekend',\n",
       " 'Placement - Day of Month',\n",
       " 'Confirmation - Weekday (Mo = 1)',\n",
       " 'Confirmation - Weekend',\n",
       " 'Confirmation - Day of Month',\n",
       " 'Arrival at Pickup - Weekday (Mo = 1)',\n",
       " 'Arrival at Pickup - Weekend',\n",
       " 'Arrival at Pickup - Day of Month',\n",
       " 'Pickup - Weekday (Mo = 1)',\n",
       " 'Pickup - Weekend',\n",
       " 'Pickup - Day of Month']"
      ]
     },
     "execution_count": 9,
     "metadata": {},
     "output_type": "execute_result"
    }
   ],
   "source": [
    "features_to_drop"
   ]
  },
  {
   "cell_type": "code",
   "execution_count": 10,
   "metadata": {
    "ExecuteTime": {
     "end_time": "2019-11-26T15:09:50.509889Z",
     "start_time": "2019-11-26T15:09:50.507392Z"
    }
   },
   "outputs": [],
   "source": [
    "to_drop = features_to_drop + features_not_in_test"
   ]
  },
  {
   "cell_type": "markdown",
   "metadata": {
    "ExecuteTime": {
     "end_time": "2019-11-08T12:46:41.949527Z",
     "start_time": "2019-11-08T12:46:41.944962Z"
    }
   },
   "source": [
    "<h2> Scalling data"
   ]
  },
  {
   "cell_type": "code",
   "execution_count": 11,
   "metadata": {
    "ExecuteTime": {
     "end_time": "2019-11-26T15:09:50.912985Z",
     "start_time": "2019-11-26T15:09:50.897344Z"
    }
   },
   "outputs": [],
   "source": [
    "features_to_scale = []\n",
    "features_not_scaled = []\n",
    "for feature_name in df_train.columns:\n",
    "    if df_train[feature_name].dtype == np.float64 and feature_name not in to_drop:\n",
    "        features_to_scale.append(feature_name)\n",
    "    elif feature_name not in to_drop:\n",
    "        features_not_scaled.append(feature_name)"
   ]
  },
  {
   "cell_type": "code",
   "execution_count": 12,
   "metadata": {
    "ExecuteTime": {
     "end_time": "2019-11-26T15:09:51.099294Z",
     "start_time": "2019-11-26T15:09:51.093761Z"
    }
   },
   "outputs": [
    {
     "data": {
      "text/plain": [
       "['Placement - Time',\n",
       " 'Confirmation - Time',\n",
       " 'Arrival at Pickup - Time',\n",
       " 'Pickup - Time',\n",
       " 'Temperature',\n",
       " 'Pickup Lat',\n",
       " 'Pickup Long',\n",
       " 'Destination Lat',\n",
       " 'Destination Long',\n",
       " 'No_Of_Orders',\n",
       " 'Age',\n",
       " 'Average_Rating',\n",
       " 'No_of_Ratings',\n",
       " 'speed',\n",
       " 'maxspeed',\n",
       " 'geospeed',\n",
       " 'max geospeed',\n",
       " 'meanspeed',\n",
       " 'max meanspeed',\n",
       " 'Placement - Delta',\n",
       " 'Confirmation - Delta',\n",
       " 'Arrival at Pickup - Delta',\n",
       " 'Distance mean']"
      ]
     },
     "execution_count": 12,
     "metadata": {},
     "output_type": "execute_result"
    }
   ],
   "source": [
    "features_to_scale"
   ]
  },
  {
   "cell_type": "code",
   "execution_count": 13,
   "metadata": {
    "ExecuteTime": {
     "end_time": "2019-11-26T15:09:51.910289Z",
     "start_time": "2019-11-26T15:09:51.339783Z"
    }
   },
   "outputs": [],
   "source": [
    "from sklearn.preprocessing import StandardScaler\n",
    "scaler = StandardScaler()\n",
    "df_train_scaled = scaler.fit_transform(df_train[features_to_scale])\n",
    "df_test_scaled = scaler.transform(df_test[features_to_scale])"
   ]
  },
  {
   "cell_type": "code",
   "execution_count": 14,
   "metadata": {
    "ExecuteTime": {
     "end_time": "2019-11-26T15:09:53.124915Z",
     "start_time": "2019-11-26T15:09:53.118944Z"
    }
   },
   "outputs": [],
   "source": [
    "df_train_scaled = pd.DataFrame(df_train_scaled, index=df_train.index, columns=features_to_scale)\n",
    "df_test_scaled = pd.DataFrame(df_test_scaled, index=df_test.index, columns=features_to_scale)"
   ]
  },
  {
   "cell_type": "code",
   "execution_count": 15,
   "metadata": {
    "ExecuteTime": {
     "end_time": "2019-11-26T15:09:53.302479Z",
     "start_time": "2019-11-26T15:09:53.278446Z"
    }
   },
   "outputs": [],
   "source": [
    "df_train = pd.concat([df_train_scaled, df_train[features_not_scaled + to_drop]], axis=1)\n",
    "df_test = pd.concat([df_test_scaled, df_test[features_not_scaled + features_to_drop]], axis=1)"
   ]
  },
  {
   "cell_type": "markdown",
   "metadata": {},
   "source": [
    "<h2> Defining our features X and target y"
   ]
  },
  {
   "cell_type": "code",
   "execution_count": 16,
   "metadata": {
    "ExecuteTime": {
     "end_time": "2019-11-26T15:09:53.599074Z",
     "start_time": "2019-11-26T15:09:53.581904Z"
    }
   },
   "outputs": [
    {
     "data": {
      "text/plain": [
       "((21201, 26), (21201,))"
      ]
     },
     "execution_count": 16,
     "metadata": {},
     "output_type": "execute_result"
    }
   ],
   "source": [
    "X = df_train.drop(to_drop, axis=1)\n",
    "y = df_train[\"Time from Pickup to Arrival\"]\n",
    "X.shape, y.shape"
   ]
  },
  {
   "cell_type": "markdown",
   "metadata": {},
   "source": [
    "<h1> Apply ML model"
   ]
  },
  {
   "cell_type": "markdown",
   "metadata": {},
   "source": [
    "<h2> Defining X_train, X_test"
   ]
  },
  {
   "cell_type": "code",
   "execution_count": 17,
   "metadata": {
    "ExecuteTime": {
     "end_time": "2019-11-26T15:09:54.093743Z",
     "start_time": "2019-11-26T15:09:54.031490Z"
    },
    "scrolled": true
   },
   "outputs": [],
   "source": [
    "from sklearn.model_selection import train_test_split, KFold,cross_val_score\n",
    "\n",
    "X_train, X_test, y_train, y_test = train_test_split(X, y, test_size=0.2, random_state=0)"
   ]
  },
  {
   "cell_type": "markdown",
   "metadata": {},
   "source": [
    "<h2> Anomaly detection"
   ]
  },
  {
   "cell_type": "code",
   "execution_count": 18,
   "metadata": {
    "ExecuteTime": {
     "end_time": "2019-11-26T15:09:55.704600Z",
     "start_time": "2019-11-26T15:09:54.351474Z"
    }
   },
   "outputs": [],
   "source": [
    "from sklearn.ensemble import IsolationForest\n",
    "IF = IsolationForest(n_estimators=100, contamination=\"auto\", behaviour=\"new\", random_state=0)\n",
    "y_predIF = IF.fit_predict(X)"
   ]
  },
  {
   "cell_type": "code",
   "execution_count": 19,
   "metadata": {
    "ExecuteTime": {
     "end_time": "2019-11-26T15:09:55.709874Z",
     "start_time": "2019-11-26T15:09:55.706428Z"
    }
   },
   "outputs": [],
   "source": [
    "y_predIF[y_predIF == 1] = 0\n",
    "y_predIF[y_predIF == -1] = 1"
   ]
  },
  {
   "cell_type": "code",
   "execution_count": 20,
   "metadata": {
    "ExecuteTime": {
     "end_time": "2019-11-26T15:09:56.124748Z",
     "start_time": "2019-11-26T15:09:55.712785Z"
    }
   },
   "outputs": [
    {
     "data": {
      "image/png": "[encoded data removed]",
      "text/plain": [
       "<Figure size 432x288 with 1 Axes>"
      ]
     },
     "metadata": {
      "needs_background": "light"
     },
     "output_type": "display_data"
    }
   ],
   "source": [
    "plt.figure()\n",
    "plt.hist(y[y<50], bins=100)\n",
    "plt.show()"
   ]
  },
  {
   "cell_type": "code",
   "execution_count": 21,
   "metadata": {
    "ExecuteTime": {
     "end_time": "2019-11-26T15:09:56.177184Z",
     "start_time": "2019-11-26T15:09:56.172735Z"
    }
   },
   "outputs": [],
   "source": [
    "y_true = np.zeros(len(y))\n",
    "y_true[y<10] = 1"
   ]
  },
  {
   "cell_type": "code",
   "execution_count": 22,
   "metadata": {
    "ExecuteTime": {
     "end_time": "2019-11-26T15:09:56.981452Z",
     "start_time": "2019-11-26T15:09:56.947635Z"
    }
   },
   "outputs": [
    {
     "name": "stdout",
     "output_type": "stream",
     "text": [
      "              precision    recall  f1-score   support\n",
      "\n",
      "         0.0       0.98      0.97      0.98     20679\n",
      "         1.0       0.23      0.35      0.28       522\n",
      "\n",
      "   micro avg       0.95      0.95      0.95     21201\n",
      "   macro avg       0.61      0.66      0.63     21201\n",
      "weighted avg       0.96      0.95      0.96     21201\n",
      "\n"
     ]
    }
   ],
   "source": [
    "from sklearn.metrics import classification_report\n",
    "print(classification_report(y_true, y_predIF))"
   ]
  },
  {
   "cell_type": "markdown",
   "metadata": {},
   "source": [
    "<h2> Benchmark model"
   ]
  },
  {
   "cell_type": "code",
   "execution_count": 23,
   "metadata": {
    "ExecuteTime": {
     "end_time": "2019-11-26T15:10:15.596879Z",
     "start_time": "2019-11-26T15:10:15.426878Z"
    }
   },
   "outputs": [],
   "source": [
    "from sklearn.metrics import accuracy_score, mean_squared_error\n",
    "from sklearn.linear_model import HuberRegressor,SGDRegressor,ElasticNet, Ridge,LinearRegression\n",
    "from sklearn.neighbors import KNeighborsRegressor\n",
    "from sklearn.ensemble import RandomForestRegressor, ExtraTreesRegressor,GradientBoostingRegressor\n",
    "from xgboost.sklearn import XGBRegressor\n",
    "from lightgbm.sklearn import LGBMRegressor\n",
    "from catboost import CatBoostRegressor"
   ]
  },
  {
   "cell_type": "code",
   "execution_count": 24,
   "metadata": {
    "ExecuteTime": {
     "end_time": "2019-11-26T15:10:15.602671Z",
     "start_time": "2019-11-26T15:10:15.599176Z"
    }
   },
   "outputs": [],
   "source": [
    "def rmsle_cv(model,X_train,y_train,n_folds=5):\n",
    "    kf = KFold(n_folds, shuffle=True, random_state=42).get_n_splits(X_train.values)\n",
    "    rmse= np.sqrt(-cross_val_score(model, X_train.values, y_train, scoring=\"neg_mean_squared_error\", cv = kf))\n",
    "    return(np.mean(rmse))"
   ]
  },
  {
   "cell_type": "code",
   "execution_count": 25,
   "metadata": {
    "ExecuteTime": {
     "end_time": "2019-11-26T15:10:16.136347Z",
     "start_time": "2019-11-26T15:10:16.132488Z"
    }
   },
   "outputs": [],
   "source": [
    "models = [RandomForestRegressor, ExtraTreesRegressor, GradientBoostingRegressor, LGBMRegressor, ElasticNet, \n",
    "          LinearRegression, HuberRegressor, Ridge, KNeighborsRegressor, ExtraTreesRegressor]"
   ]
  },
  {
   "cell_type": "code",
   "execution_count": 26,
   "metadata": {
    "ExecuteTime": {
     "end_time": "2019-11-26T15:10:16.504562Z",
     "start_time": "2019-11-26T15:10:16.497828Z"
    }
   },
   "outputs": [],
   "source": [
    "models_sel = [RandomForestRegressor, GradientBoostingRegressor, LGBMRegressor, LinearRegression, Ridge]"
   ]
  },
  {
   "cell_type": "code",
   "execution_count": 27,
   "metadata": {
    "ExecuteTime": {
     "end_time": "2019-11-26T15:10:16.741453Z",
     "start_time": "2019-11-26T15:10:16.733827Z"
    }
   },
   "outputs": [],
   "source": [
    "def benchmark_models():\n",
    "    for Model in models_sel:\n",
    "        #Model fit on full data\n",
    "        model = Model()\n",
    "        model_name = model.__class__.__name__\n",
    "        model.fit(X_train, y_train)\n",
    "        y_pred = model.predict(X_test)\n",
    "        err1 = rmsle_cv(model, X_train, y_train)\n",
    "        err2 = np.sqrt(mean_squared_error(y_test, y_pred))\n",
    "        print(f\"{model_name} fit on full data :  cross val loss rmse => {err1}\")\n",
    "        print(f\"{model_name} fit on full data :  single rmse => {err2}\")"
   ]
  },
  {
   "cell_type": "code",
   "execution_count": 29,
   "metadata": {
    "ExecuteTime": {
     "end_time": "2019-11-26T15:10:57.258420Z",
     "start_time": "2019-11-26T15:10:22.692293Z"
    },
    "scrolled": true
   },
   "outputs": [
    {
     "name": "stderr",
     "output_type": "stream",
     "text": [
      "/home/zyncus/bin/anaconda/lib/python3.7/site-packages/sklearn/ensemble/forest.py:246: FutureWarning: The default value of n_estimators will change from 10 in version 0.20 to 100 in 0.22.\n",
      "  \"10 in version 0.20 to 100 in 0.22.\", FutureWarning)\n"
     ]
    },
    {
     "name": "stdout",
     "output_type": "stream",
     "text": [
      "RandomForestRegressor fit on full data :  cross val loss rmse => 781.6354012222861\n",
      "RandomForestRegressor fit on full data :  single rmse => 776.7598493898519\n",
      "GradientBoostingRegressor fit on full data :  cross val loss rmse => 728.3337368895479\n",
      "GradientBoostingRegressor fit on full data :  single rmse => 723.9787320754613\n",
      "LGBMRegressor fit on full data :  cross val loss rmse => 725.6378671039342\n",
      "LGBMRegressor fit on full data :  single rmse => 740.3676973834733\n",
      "LinearRegression fit on full data :  cross val loss rmse => 775.3978977639423\n",
      "LinearRegression fit on full data :  single rmse => 770.7486113477934\n",
      "Ridge fit on full data :  cross val loss rmse => 775.4124942990218\n",
      "Ridge fit on full data :  single rmse => 770.5465313093104\n"
     ]
    }
   ],
   "source": [
    "benchmark_models()"
   ]
  },
  {
   "cell_type": "markdown",
   "metadata": {},
   "source": [
    "<h2> CatBoost model"
   ]
  },
  {
   "cell_type": "code",
   "execution_count": 30,
   "metadata": {
    "ExecuteTime": {
     "end_time": "2019-11-26T15:11:54.825542Z",
     "start_time": "2019-11-26T15:11:54.813270Z"
    }
   },
   "outputs": [],
   "source": [
    "cat_b =  CatBoostRegressor(loss_function='RMSE', silent=True)"
   ]
  },
  {
   "cell_type": "code",
   "execution_count": 31,
   "metadata": {
    "ExecuteTime": {
     "end_time": "2019-11-26T15:12:30.416132Z",
     "start_time": "2019-11-26T15:11:54.973313Z"
    }
   },
   "outputs": [
    {
     "name": "stdout",
     "output_type": "stream",
     "text": [
      "{'learn': {'RMSE': 676.6464243416431}}\n"
     ]
    },
    {
     "data": {
      "text/plain": [
       "[('Distance mean', 53.99201347981784),\n",
       " ('meanspeed', 5.807231712334879),\n",
       " ('Arrival at Pickup - Delta', 5.528476758926584),\n",
       " ('Destination Lat', 4.389661243974498),\n",
       " ('Pickup Lat', 4.010098293661921),\n",
       " ('geospeed', 3.8310301718842883),\n",
       " ('Confirmation - Delta', 3.0050494982547455),\n",
       " ('speed', 2.923919730592219),\n",
       " ('Destination Long', 2.102920240324457),\n",
       " ('Placement - Delta', 1.8668468003418184),\n",
       " ('max geospeed', 1.8361175167451271),\n",
       " ('maxspeed', 1.5615143370886881),\n",
       " ('Pickup Long', 1.4658355043528806),\n",
       " ('max meanspeed', 1.3223895096788931),\n",
       " ('Age', 0.9807028156187998),\n",
       " ('Average_Rating', 0.8978052402917196),\n",
       " ('User Id', 0.7700286981374277),\n",
       " ('No_of_Ratings', 0.7285800936871846),\n",
       " ('No_Of_Orders', 0.6983996278182165),\n",
       " ('Temperature', 0.5594668321382087),\n",
       " ('Pickup - Time', 0.3506290903263596),\n",
       " ('Placement - Time', 0.33194618722379576),\n",
       " ('Rider Id', 0.32332592114301484),\n",
       " ('Arrival at Pickup - Time', 0.3001336046290244),\n",
       " ('Confirmation - Time', 0.2898294243408793),\n",
       " ('Pickup - Hour', 0.1260476666665366)]"
      ]
     },
     "execution_count": 31,
     "metadata": {},
     "output_type": "execute_result"
    }
   ],
   "source": [
    "cat_b.fit(X_train, y_train)\n",
    "y_pred = cat_b.predict(X_test)\n",
    "print(cat_b.best_score_)\n",
    "order = cat_b.feature_importances_.argsort()[::-1]\n",
    "list(zip(X_train.columns[order], cat_b.feature_importances_[order]))"
   ]
  },
  {
   "cell_type": "markdown",
   "metadata": {},
   "source": [
    "<h1> Dump to submission file"
   ]
  },
  {
   "cell_type": "code",
   "execution_count": 32,
   "metadata": {
    "ExecuteTime": {
     "end_time": "2019-11-26T15:13:24.226597Z",
     "start_time": "2019-11-26T15:13:24.214968Z"
    }
   },
   "outputs": [
    {
     "data": {
      "text/plain": [
       "((7068, 26), (16960, 26))"
      ]
     },
     "execution_count": 32,
     "metadata": {},
     "output_type": "execute_result"
    }
   ],
   "source": [
    "X__test = df_test.drop(features_to_drop, axis=1)\n",
    "X__test.shape, X_train.shape"
   ]
  },
  {
   "cell_type": "code",
   "execution_count": 33,
   "metadata": {
    "ExecuteTime": {
     "end_time": "2019-11-26T15:13:24.489438Z",
     "start_time": "2019-11-26T15:13:24.394934Z"
    }
   },
   "outputs": [
    {
     "data": {
      "text/html": [
       "<div>\n",
       "<style scoped>\n",
       "    .dataframe tbody tr th:only-of-type {\n",
       "        vertical-align: middle;\n",
       "    }\n",
       "\n",
       "    .dataframe tbody tr th {\n",
       "        vertical-align: top;\n",
       "    }\n",
       "\n",
       "    .dataframe thead th {\n",
       "        text-align: right;\n",
       "    }\n",
       "</style>\n",
       "<table border=\"1\" class=\"dataframe\">\n",
       "  <thead>\n",
       "    <tr style=\"text-align: right;\">\n",
       "      <th></th>\n",
       "      <th>count</th>\n",
       "      <th>mean</th>\n",
       "      <th>std</th>\n",
       "      <th>min</th>\n",
       "      <th>25%</th>\n",
       "      <th>50%</th>\n",
       "      <th>75%</th>\n",
       "      <th>max</th>\n",
       "    </tr>\n",
       "  </thead>\n",
       "  <tbody>\n",
       "    <tr>\n",
       "      <th>Placement - Time</th>\n",
       "      <td>7068.0</td>\n",
       "      <td>-0.012360</td>\n",
       "      <td>1.001022</td>\n",
       "      <td>-2.479172</td>\n",
       "      <td>-0.814842</td>\n",
       "      <td>-0.059424</td>\n",
       "      <td>0.777265</td>\n",
       "      <td>3.720280</td>\n",
       "    </tr>\n",
       "    <tr>\n",
       "      <th>Confirmation - Time</th>\n",
       "      <td>7068.0</td>\n",
       "      <td>-0.012455</td>\n",
       "      <td>1.000139</td>\n",
       "      <td>-2.424949</td>\n",
       "      <td>-0.825260</td>\n",
       "      <td>-0.058200</td>\n",
       "      <td>0.779518</td>\n",
       "      <td>3.691178</td>\n",
       "    </tr>\n",
       "    <tr>\n",
       "      <th>Arrival at Pickup - Time</th>\n",
       "      <td>7068.0</td>\n",
       "      <td>-0.012613</td>\n",
       "      <td>1.000647</td>\n",
       "      <td>-2.314103</td>\n",
       "      <td>-0.814995</td>\n",
       "      <td>-0.051870</td>\n",
       "      <td>0.779206</td>\n",
       "      <td>3.830805</td>\n",
       "    </tr>\n",
       "    <tr>\n",
       "      <th>Pickup - Time</th>\n",
       "      <td>7068.0</td>\n",
       "      <td>-0.013608</td>\n",
       "      <td>0.999891</td>\n",
       "      <td>-2.392565</td>\n",
       "      <td>-0.819158</td>\n",
       "      <td>-0.051974</td>\n",
       "      <td>0.784092</td>\n",
       "      <td>3.933809</td>\n",
       "    </tr>\n",
       "    <tr>\n",
       "      <th>Temperature</th>\n",
       "      <td>7068.0</td>\n",
       "      <td>-0.009555</td>\n",
       "      <td>0.996161</td>\n",
       "      <td>-2.995054</td>\n",
       "      <td>-0.708433</td>\n",
       "      <td>0.015195</td>\n",
       "      <td>0.641119</td>\n",
       "      <td>2.637986</td>\n",
       "    </tr>\n",
       "    <tr>\n",
       "      <th>Pickup Lat</th>\n",
       "      <td>7068.0</td>\n",
       "      <td>-0.018782</td>\n",
       "      <td>0.984852</td>\n",
       "      <td>-4.983951</td>\n",
       "      <td>-0.646787</td>\n",
       "      <td>0.005523</td>\n",
       "      <td>0.793129</td>\n",
       "      <td>4.363618</td>\n",
       "    </tr>\n",
       "    <tr>\n",
       "      <th>Pickup Long</th>\n",
       "      <td>7068.0</td>\n",
       "      <td>-0.003092</td>\n",
       "      <td>1.013080</td>\n",
       "      <td>-4.201462</td>\n",
       "      <td>-0.711423</td>\n",
       "      <td>-0.107936</td>\n",
       "      <td>0.492424</td>\n",
       "      <td>4.797827</td>\n",
       "    </tr>\n",
       "    <tr>\n",
       "      <th>Destination Lat</th>\n",
       "      <td>7068.0</td>\n",
       "      <td>0.009357</td>\n",
       "      <td>0.983148</td>\n",
       "      <td>-4.022419</td>\n",
       "      <td>-0.526672</td>\n",
       "      <td>-0.018319</td>\n",
       "      <td>0.612372</td>\n",
       "      <td>7.246856</td>\n",
       "    </tr>\n",
       "    <tr>\n",
       "      <th>Destination Long</th>\n",
       "      <td>7068.0</td>\n",
       "      <td>0.002378</td>\n",
       "      <td>0.972889</td>\n",
       "      <td>-3.846742</td>\n",
       "      <td>-0.551740</td>\n",
       "      <td>-0.073629</td>\n",
       "      <td>0.379588</td>\n",
       "      <td>4.645340</td>\n",
       "    </tr>\n",
       "    <tr>\n",
       "      <th>No_Of_Orders</th>\n",
       "      <td>7068.0</td>\n",
       "      <td>0.015632</td>\n",
       "      <td>1.034665</td>\n",
       "      <td>-1.073147</td>\n",
       "      <td>-0.735848</td>\n",
       "      <td>-0.307078</td>\n",
       "      <td>0.392929</td>\n",
       "      <td>5.122101</td>\n",
       "    </tr>\n",
       "    <tr>\n",
       "      <th>Age</th>\n",
       "      <td>7068.0</td>\n",
       "      <td>0.021120</td>\n",
       "      <td>1.039524</td>\n",
       "      <td>-1.369767</td>\n",
       "      <td>-0.758915</td>\n",
       "      <td>-0.174352</td>\n",
       "      <td>0.393199</td>\n",
       "      <td>4.298014</td>\n",
       "    </tr>\n",
       "    <tr>\n",
       "      <th>Average_Rating</th>\n",
       "      <td>7068.0</td>\n",
       "      <td>0.000718</td>\n",
       "      <td>0.923895</td>\n",
       "      <td>-15.154773</td>\n",
       "      <td>-0.308411</td>\n",
       "      <td>0.128247</td>\n",
       "      <td>0.455740</td>\n",
       "      <td>1.438220</td>\n",
       "    </tr>\n",
       "    <tr>\n",
       "      <th>No_of_Ratings</th>\n",
       "      <td>7068.0</td>\n",
       "      <td>0.004341</td>\n",
       "      <td>1.017887</td>\n",
       "      <td>-0.846618</td>\n",
       "      <td>-0.697682</td>\n",
       "      <td>-0.456903</td>\n",
       "      <td>0.372173</td>\n",
       "      <td>4.857622</td>\n",
       "    </tr>\n",
       "    <tr>\n",
       "      <th>speed</th>\n",
       "      <td>7068.0</td>\n",
       "      <td>0.018311</td>\n",
       "      <td>1.084998</td>\n",
       "      <td>-0.180428</td>\n",
       "      <td>-0.126673</td>\n",
       "      <td>-0.118846</td>\n",
       "      <td>-0.108132</td>\n",
       "      <td>16.269914</td>\n",
       "    </tr>\n",
       "    <tr>\n",
       "      <th>maxspeed</th>\n",
       "      <td>7068.0</td>\n",
       "      <td>-0.008730</td>\n",
       "      <td>0.991695</td>\n",
       "      <td>-0.512976</td>\n",
       "      <td>-0.468652</td>\n",
       "      <td>-0.463174</td>\n",
       "      <td>-0.045652</td>\n",
       "      <td>6.803111</td>\n",
       "    </tr>\n",
       "    <tr>\n",
       "      <th>geospeed</th>\n",
       "      <td>7068.0</td>\n",
       "      <td>0.018311</td>\n",
       "      <td>1.084998</td>\n",
       "      <td>-0.180428</td>\n",
       "      <td>-0.126673</td>\n",
       "      <td>-0.118846</td>\n",
       "      <td>-0.108132</td>\n",
       "      <td>16.269914</td>\n",
       "    </tr>\n",
       "    <tr>\n",
       "      <th>max geospeed</th>\n",
       "      <td>7068.0</td>\n",
       "      <td>-0.007739</td>\n",
       "      <td>0.990986</td>\n",
       "      <td>-0.667834</td>\n",
       "      <td>-0.447667</td>\n",
       "      <td>-0.444416</td>\n",
       "      <td>-0.054056</td>\n",
       "      <td>7.010785</td>\n",
       "    </tr>\n",
       "    <tr>\n",
       "      <th>meanspeed</th>\n",
       "      <td>7068.0</td>\n",
       "      <td>0.018713</td>\n",
       "      <td>1.080873</td>\n",
       "      <td>-0.167235</td>\n",
       "      <td>-0.123497</td>\n",
       "      <td>-0.116573</td>\n",
       "      <td>-0.109072</td>\n",
       "      <td>11.646949</td>\n",
       "    </tr>\n",
       "    <tr>\n",
       "      <th>max meanspeed</th>\n",
       "      <td>7068.0</td>\n",
       "      <td>-0.008486</td>\n",
       "      <td>0.991074</td>\n",
       "      <td>-0.587163</td>\n",
       "      <td>-0.462612</td>\n",
       "      <td>-0.458019</td>\n",
       "      <td>-0.036434</td>\n",
       "      <td>6.950958</td>\n",
       "    </tr>\n",
       "    <tr>\n",
       "      <th>Placement - Delta</th>\n",
       "      <td>7068.0</td>\n",
       "      <td>-0.001443</td>\n",
       "      <td>0.983775</td>\n",
       "      <td>-1.445067</td>\n",
       "      <td>-0.396046</td>\n",
       "      <td>-0.353149</td>\n",
       "      <td>-0.126966</td>\n",
       "      <td>13.753070</td>\n",
       "    </tr>\n",
       "    <tr>\n",
       "      <th>Confirmation - Delta</th>\n",
       "      <td>7068.0</td>\n",
       "      <td>-0.002231</td>\n",
       "      <td>0.996472</td>\n",
       "      <td>-1.127634</td>\n",
       "      <td>-0.668159</td>\n",
       "      <td>-0.237039</td>\n",
       "      <td>0.383470</td>\n",
       "      <td>9.005522</td>\n",
       "    </tr>\n",
       "    <tr>\n",
       "      <th>Arrival at Pickup - Delta</th>\n",
       "      <td>7068.0</td>\n",
       "      <td>-0.011690</td>\n",
       "      <td>0.979235</td>\n",
       "      <td>-0.898828</td>\n",
       "      <td>-0.632143</td>\n",
       "      <td>-0.329988</td>\n",
       "      <td>0.232283</td>\n",
       "      <td>6.848164</td>\n",
       "    </tr>\n",
       "    <tr>\n",
       "      <th>Distance mean</th>\n",
       "      <td>7068.0</td>\n",
       "      <td>-0.007349</td>\n",
       "      <td>0.985361</td>\n",
       "      <td>-1.470457</td>\n",
       "      <td>-0.747493</td>\n",
       "      <td>-0.233594</td>\n",
       "      <td>0.564241</td>\n",
       "      <td>6.558996</td>\n",
       "    </tr>\n",
       "  </tbody>\n",
       "</table>\n",
       "</div>"
      ],
      "text/plain": [
       "                            count      mean       std        min       25%  \\\n",
       "Placement - Time           7068.0 -0.012360  1.001022  -2.479172 -0.814842   \n",
       "Confirmation - Time        7068.0 -0.012455  1.000139  -2.424949 -0.825260   \n",
       "Arrival at Pickup - Time   7068.0 -0.012613  1.000647  -2.314103 -0.814995   \n",
       "Pickup - Time              7068.0 -0.013608  0.999891  -2.392565 -0.819158   \n",
       "Temperature                7068.0 -0.009555  0.996161  -2.995054 -0.708433   \n",
       "Pickup Lat                 7068.0 -0.018782  0.984852  -4.983951 -0.646787   \n",
       "Pickup Long                7068.0 -0.003092  1.013080  -4.201462 -0.711423   \n",
       "Destination Lat            7068.0  0.009357  0.983148  -4.022419 -0.526672   \n",
       "Destination Long           7068.0  0.002378  0.972889  -3.846742 -0.551740   \n",
       "No_Of_Orders               7068.0  0.015632  1.034665  -1.073147 -0.735848   \n",
       "Age                        7068.0  0.021120  1.039524  -1.369767 -0.758915   \n",
       "Average_Rating             7068.0  0.000718  0.923895 -15.154773 -0.308411   \n",
       "No_of_Ratings              7068.0  0.004341  1.017887  -0.846618 -0.697682   \n",
       "speed                      7068.0  0.018311  1.084998  -0.180428 -0.126673   \n",
       "maxspeed                   7068.0 -0.008730  0.991695  -0.512976 -0.468652   \n",
       "geospeed                   7068.0  0.018311  1.084998  -0.180428 -0.126673   \n",
       "max geospeed               7068.0 -0.007739  0.990986  -0.667834 -0.447667   \n",
       "meanspeed                  7068.0  0.018713  1.080873  -0.167235 -0.123497   \n",
       "max meanspeed              7068.0 -0.008486  0.991074  -0.587163 -0.462612   \n",
       "Placement - Delta          7068.0 -0.001443  0.983775  -1.445067 -0.396046   \n",
       "Confirmation - Delta       7068.0 -0.002231  0.996472  -1.127634 -0.668159   \n",
       "Arrival at Pickup - Delta  7068.0 -0.011690  0.979235  -0.898828 -0.632143   \n",
       "Distance mean              7068.0 -0.007349  0.985361  -1.470457 -0.747493   \n",
       "\n",
       "                                50%       75%        max  \n",
       "Placement - Time          -0.059424  0.777265   3.720280  \n",
       "Confirmation - Time       -0.058200  0.779518   3.691178  \n",
       "Arrival at Pickup - Time  -0.051870  0.779206   3.830805  \n",
       "Pickup - Time             -0.051974  0.784092   3.933809  \n",
       "Temperature                0.015195  0.641119   2.637986  \n",
       "Pickup Lat                 0.005523  0.793129   4.363618  \n",
       "Pickup Long               -0.107936  0.492424   4.797827  \n",
       "Destination Lat           -0.018319  0.612372   7.246856  \n",
       "Destination Long          -0.073629  0.379588   4.645340  \n",
       "No_Of_Orders              -0.307078  0.392929   5.122101  \n",
       "Age                       -0.174352  0.393199   4.298014  \n",
       "Average_Rating             0.128247  0.455740   1.438220  \n",
       "No_of_Ratings             -0.456903  0.372173   4.857622  \n",
       "speed                     -0.118846 -0.108132  16.269914  \n",
       "maxspeed                  -0.463174 -0.045652   6.803111  \n",
       "geospeed                  -0.118846 -0.108132  16.269914  \n",
       "max geospeed              -0.444416 -0.054056   7.010785  \n",
       "meanspeed                 -0.116573 -0.109072  11.646949  \n",
       "max meanspeed             -0.458019 -0.036434   6.950958  \n",
       "Placement - Delta         -0.353149 -0.126966  13.753070  \n",
       "Confirmation - Delta      -0.237039  0.383470   9.005522  \n",
       "Arrival at Pickup - Delta -0.329988  0.232283   6.848164  \n",
       "Distance mean             -0.233594  0.564241   6.558996  "
      ]
     },
     "execution_count": 33,
     "metadata": {},
     "output_type": "execute_result"
    }
   ],
   "source": [
    "X__test.describe().T"
   ]
  },
  {
   "cell_type": "code",
   "execution_count": 34,
   "metadata": {
    "ExecuteTime": {
     "end_time": "2019-11-26T15:13:24.562563Z",
     "start_time": "2019-11-26T15:13:24.558159Z"
    }
   },
   "outputs": [],
   "source": [
    "model_sel1 = GradientBoostingRegressor()\n",
    "model_sel2 = LGBMRegressor()\n",
    "model_sel3 = CatBoostRegressor(silent=True)"
   ]
  },
  {
   "cell_type": "code",
   "execution_count": 35,
   "metadata": {
    "ExecuteTime": {
     "end_time": "2019-11-26T15:14:03.172810Z",
     "start_time": "2019-11-26T15:13:24.731830Z"
    }
   },
   "outputs": [
    {
     "data": {
      "text/plain": [
       "<catboost.core.CatBoostRegressor at 0x7f1ba1ddd150>"
      ]
     },
     "execution_count": 35,
     "metadata": {},
     "output_type": "execute_result"
    }
   ],
   "source": [
    "model_sel1.fit(X, y)\n",
    "model_sel2.fit(X, y)\n",
    "model_sel3.fit(X, y)"
   ]
  },
  {
   "cell_type": "code",
   "execution_count": 36,
   "metadata": {
    "ExecuteTime": {
     "end_time": "2019-11-26T15:14:03.179629Z",
     "start_time": "2019-11-26T15:14:03.175392Z"
    }
   },
   "outputs": [
    {
     "data": {
      "text/plain": [
       "{'learn': {'RMSE': 678.312350987965}}"
      ]
     },
     "execution_count": 36,
     "metadata": {},
     "output_type": "execute_result"
    }
   ],
   "source": [
    "model_sel3.best_score_"
   ]
  },
  {
   "cell_type": "code",
   "execution_count": 37,
   "metadata": {
    "ExecuteTime": {
     "end_time": "2019-11-26T15:14:03.195905Z",
     "start_time": "2019-11-26T15:14:03.181617Z"
    },
    "scrolled": true
   },
   "outputs": [
    {
     "data": {
      "text/plain": [
       "[('Distance mean', 52.768019874917414),\n",
       " ('meanspeed', 5.814940880707042),\n",
       " ('Arrival at Pickup - Delta', 5.654774314349967),\n",
       " ('Destination Lat', 5.176597052888061),\n",
       " ('Pickup Lat', 3.601019620714619),\n",
       " ('geospeed', 3.344997910659338),\n",
       " ('speed', 3.2452908230140487),\n",
       " ('Destination Long', 2.5943889945828094),\n",
       " ('max geospeed', 2.3110828924081974),\n",
       " ('Confirmation - Delta', 2.2817070712248673),\n",
       " ('Placement - Delta', 1.872983683906858),\n",
       " ('maxspeed', 1.6615440226111806),\n",
       " ('Pickup Long', 1.6119255973070736),\n",
       " ('User Id', 1.361805817397996),\n",
       " ('max meanspeed', 1.2021412766821504),\n",
       " ('Average_Rating', 1.1920707136897264),\n",
       " ('Age', 0.8994920555571915),\n",
       " ('No_of_Ratings', 0.6615476442414312),\n",
       " ('No_Of_Orders', 0.6604006890100395),\n",
       " ('Temperature', 0.39687509890893047),\n",
       " ('Rider Id', 0.3849192585565846),\n",
       " ('Arrival at Pickup - Time', 0.35455575337022077),\n",
       " ('Confirmation - Time', 0.3255323686854965),\n",
       " ('Pickup - Time', 0.29350667623731386),\n",
       " ('Placement - Time', 0.2549020303163742),\n",
       " ('Pickup - Hour', 0.07297787805506008)]"
      ]
     },
     "execution_count": 37,
     "metadata": {},
     "output_type": "execute_result"
    }
   ],
   "source": [
    "order = model_sel3.feature_importances_.argsort()[::-1]\n",
    "list(zip(X_train.columns[order], model_sel3.feature_importances_[order]))"
   ]
  },
  {
   "cell_type": "markdown",
   "metadata": {},
   "source": [
    "Combining Catboost output with LGBM output"
   ]
  },
  {
   "cell_type": "code",
   "execution_count": 38,
   "metadata": {
    "ExecuteTime": {
     "end_time": "2019-11-26T15:14:03.426079Z",
     "start_time": "2019-11-26T15:14:03.199415Z"
    }
   },
   "outputs": [],
   "source": [
    "y__pred1 = model_sel1.predict(X__test) #GradientBoosting\n",
    "y__pred2 = model_sel2.predict(X__test) #LGBMRegressor\n",
    "y__pred3 = model_sel3.predict(X__test) #CatBoostRegressor\n",
    "\n",
    "y__pred = np.mean([y__pred2, y__pred3], axis=0)"
   ]
  },
  {
   "cell_type": "code",
   "execution_count": 39,
   "metadata": {
    "ExecuteTime": {
     "end_time": "2019-11-26T15:14:03.457522Z",
     "start_time": "2019-11-26T15:14:03.428035Z"
    }
   },
   "outputs": [
    {
     "data": {
      "text/html": [
       "<div>\n",
       "<style scoped>\n",
       "    .dataframe tbody tr th:only-of-type {\n",
       "        vertical-align: middle;\n",
       "    }\n",
       "\n",
       "    .dataframe tbody tr th {\n",
       "        vertical-align: top;\n",
       "    }\n",
       "\n",
       "    .dataframe thead th {\n",
       "        text-align: right;\n",
       "    }\n",
       "</style>\n",
       "<table border=\"1\" class=\"dataframe\">\n",
       "  <thead>\n",
       "    <tr style=\"text-align: right;\">\n",
       "      <th></th>\n",
       "      <th>Time from Pickup to Arrival</th>\n",
       "    </tr>\n",
       "    <tr>\n",
       "      <th>Order No</th>\n",
       "      <th></th>\n",
       "    </tr>\n",
       "  </thead>\n",
       "  <tbody>\n",
       "    <tr>\n",
       "      <th>Order_No_19248</th>\n",
       "      <td>1652.535190</td>\n",
       "    </tr>\n",
       "    <tr>\n",
       "      <th>Order_No_2699</th>\n",
       "      <td>3172.234119</td>\n",
       "    </tr>\n",
       "    <tr>\n",
       "      <th>Order_No_21486</th>\n",
       "      <td>2020.043810</td>\n",
       "    </tr>\n",
       "    <tr>\n",
       "      <th>Order_No_19336</th>\n",
       "      <td>2550.397562</td>\n",
       "    </tr>\n",
       "    <tr>\n",
       "      <th>Order_No_20374</th>\n",
       "      <td>2954.488725</td>\n",
       "    </tr>\n",
       "  </tbody>\n",
       "</table>\n",
       "</div>"
      ],
      "text/plain": [
       "                Time from Pickup to Arrival\n",
       "Order No                                   \n",
       "Order_No_19248                  1652.535190\n",
       "Order_No_2699                   3172.234119\n",
       "Order_No_21486                  2020.043810\n",
       "Order_No_19336                  2550.397562\n",
       "Order_No_20374                  2954.488725"
      ]
     },
     "execution_count": 39,
     "metadata": {},
     "output_type": "execute_result"
    }
   ],
   "source": [
    "submit_file = \"data/SampleSubmission.csv\"\n",
    "df_submit = pd.read_csv(submit_file, index_col=\"Order_No\")\n",
    "df_submit.index = df_test.index\n",
    "df_submit[\"Time from Pickup to Arrival\"] = y__pred\n",
    "df_submit.head()"
   ]
  },
  {
   "cell_type": "code",
   "execution_count": 40,
   "metadata": {
    "ExecuteTime": {
     "end_time": "2019-11-26T15:14:03.515927Z",
     "start_time": "2019-11-26T15:14:03.460531Z"
    }
   },
   "outputs": [],
   "source": [
    "df_submit.to_csv(\"to_submit/SampleSubmission_500.csv\")"
   ]
  },
  {
   "cell_type": "markdown",
   "metadata": {
    "ExecuteTime": {
     "end_time": "2019-11-06T15:57:51.089554Z",
     "start_time": "2019-11-06T15:57:51.084198Z"
    }
   },
   "source": [
    "<h1> to be improved"
   ]
  },
  {
   "cell_type": "markdown",
   "metadata": {},
   "source": [
    "- Improve CatBoost Hyperparameters\n",
    "- Implement Anomaly detection model to identify the riders who do not share the delivry distance (making speed up to 100000km/h)"
   ]
  },
  {
   "cell_type": "code",
   "execution_count": null,
   "metadata": {},
   "outputs": [],
   "source": []
  },
  {
   "cell_type": "code",
   "execution_count": null,
   "metadata": {},
   "outputs": [],
   "source": []
  }
 ],
 "metadata": {
  "kernelspec": {
   "display_name": "Python 3",
   "language": "python",
   "name": "python3"
  },
  "language_info": {
   "codemirror_mode": {
    "name": "ipython",
    "version": 3
   },
   "file_extension": ".py",
   "mimetype": "text/x-python",
   "name": "python",
   "nbconvert_exporter": "python",
   "pygments_lexer": "ipython3",
   "version": "3.7.4"
  },
  "toc": {
   "base_numbering": 1,
   "nav_menu": {},
   "number_sections": true,
   "sideBar": true,
   "skip_h1_title": false,
   "title_cell": "Table of Contents",
   "title_sidebar": "Contents",
   "toc_cell": false,
   "toc_position": {},
   "toc_section_display": true,
   "toc_window_display": true
  }
 },
 "nbformat": 4,
 "nbformat_minor": 2
}
