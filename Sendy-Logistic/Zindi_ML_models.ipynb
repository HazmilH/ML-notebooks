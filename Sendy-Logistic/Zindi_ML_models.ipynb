{
 "cells": [
  {
   "cell_type": "code",
   "execution_count": 1,
   "metadata": {
    "ExecuteTime": {
     "end_time": "2019-11-14T15:23:42.878061Z",
     "start_time": "2019-11-14T15:23:42.423689Z"
    }
   },
   "outputs": [],
   "source": [
    "import pandas as pd\n",
    "import numpy as np\n",
    "import matplotlib.pyplot as plt\n",
    "from datetime import datetime\n",
    "from geopy import distance\n",
    "import pickle\n",
    "from utils_dump_load import load_from_pickle, dump_to_pickle"
   ]
  },
  {
   "cell_type": "markdown",
   "metadata": {},
   "source": [
    "<h1> EDA"
   ]
  },
  {
   "cell_type": "markdown",
   "metadata": {},
   "source": [
    "<h2> Loading data"
   ]
  },
  {
   "cell_type": "code",
   "execution_count": 2,
   "metadata": {
    "ExecuteTime": {
     "end_time": "2019-11-14T15:23:42.902664Z",
     "start_time": "2019-11-14T15:23:42.880076Z"
    }
   },
   "outputs": [],
   "source": [
    "pickle_filename = \"data/data.pkl\"\n",
    "df_train, df_test = load_from_pickle(pickle_filename)"
   ]
  },
  {
   "cell_type": "markdown",
   "metadata": {},
   "source": [
    "<h2> Feature Selection"
   ]
  },
  {
   "cell_type": "code",
   "execution_count": 3,
   "metadata": {
    "ExecuteTime": {
     "end_time": "2019-11-14T15:23:42.913319Z",
     "start_time": "2019-11-14T15:23:42.904849Z"
    }
   },
   "outputs": [
    {
     "data": {
      "text/plain": [
       "['Arrival at Destination - Day of Month',\n",
       " 'Arrival at Destination - Weekday (Mo = 1)',\n",
       " 'Arrival at Destination - Time',\n",
       " 'Time from Pickup to Arrival']"
      ]
     },
     "execution_count": 3,
     "metadata": {},
     "output_type": "execute_result"
    }
   ],
   "source": [
    "features_not_in_test = []\n",
    "for feature_name in df_train.columns:\n",
    "    if feature_name not in df_test.columns:\n",
    "        features_not_in_test.append(feature_name)\n",
    "features_not_in_test"
   ]
  },
  {
   "cell_type": "code",
   "execution_count": 4,
   "metadata": {
    "ExecuteTime": {
     "end_time": "2019-11-14T15:23:42.922328Z",
     "start_time": "2019-11-14T15:23:42.917246Z"
    }
   },
   "outputs": [],
   "source": [
    "steps = [\"Placement\", \"Confirmation\", \"Arrival at Pickup\", \"Pickup\"]"
   ]
  },
  {
   "cell_type": "code",
   "execution_count": 5,
   "metadata": {
    "ExecuteTime": {
     "end_time": "2019-11-14T15:23:42.938195Z",
     "start_time": "2019-11-14T15:23:42.928294Z"
    }
   },
   "outputs": [],
   "source": [
    "features_to_drop = [\"Vehicle Type\", \"geospeed\"]\n",
    "#option1\n",
    "#features_to_drop +=  [\"User Id\", \"Rider Id\", \"Pickup - Time\"]\n",
    "#option2\n",
    "#features_to_drop += [\"Pickup Lat\", \"Pickup Long\", \"Destination Lat\", \"Destination Long\"]\n",
    "#option3\n",
    "#features_to_drop += ['Platform Type', 'Personal or Business', \"Precipitation in millimeters\"]"
   ]
  },
  {
   "cell_type": "code",
   "execution_count": 6,
   "metadata": {
    "ExecuteTime": {
     "end_time": "2019-11-14T15:23:42.949687Z",
     "start_time": "2019-11-14T15:23:42.940312Z"
    }
   },
   "outputs": [],
   "source": [
    "for step in steps:\n",
    "    #Let's keep Pickup data (last step prior run)\n",
    "    if step not in ['Pickup', \"Arrival at Destination\"]:\n",
    "        #features_to_drop.append(step + \" - \" + \"Time\")\n",
    "        #features_to_drop.append(step + \" - \" + \"Delta\")\n",
    "        #features_to_drop.append(step + \" - \" + \"Weekday (Mo = 1)\")\n",
    "        #features_to_drop.append(step + \" - Weekend\")\n",
    "        features_to_drop.append(step + \" - \" + \"Day of Month\")\n",
    "        pass"
   ]
  },
  {
   "cell_type": "code",
   "execution_count": 7,
   "metadata": {
    "ExecuteTime": {
     "end_time": "2019-11-14T15:23:42.967887Z",
     "start_time": "2019-11-14T15:23:42.952050Z"
    }
   },
   "outputs": [
    {
     "data": {
      "text/plain": [
       "['Vehicle Type',\n",
       " 'geospeed',\n",
       " 'Placement - Day of Month',\n",
       " 'Confirmation - Day of Month',\n",
       " 'Arrival at Pickup - Day of Month']"
      ]
     },
     "execution_count": 7,
     "metadata": {},
     "output_type": "execute_result"
    }
   ],
   "source": [
    "features_to_drop"
   ]
  },
  {
   "cell_type": "code",
   "execution_count": 8,
   "metadata": {
    "ExecuteTime": {
     "end_time": "2019-11-14T15:23:42.981440Z",
     "start_time": "2019-11-14T15:23:42.973664Z"
    }
   },
   "outputs": [],
   "source": [
    "to_drop = features_to_drop + features_not_in_test"
   ]
  },
  {
   "cell_type": "markdown",
   "metadata": {
    "ExecuteTime": {
     "end_time": "2019-11-08T12:46:41.949527Z",
     "start_time": "2019-11-08T12:46:41.944962Z"
    }
   },
   "source": [
    "<h2> Scalling data"
   ]
  },
  {
   "cell_type": "code",
   "execution_count": 9,
   "metadata": {
    "ExecuteTime": {
     "end_time": "2019-11-14T15:23:42.994566Z",
     "start_time": "2019-11-14T15:23:42.985008Z"
    }
   },
   "outputs": [],
   "source": [
    "features_to_scale = []\n",
    "features_not_scaled = []\n",
    "for feature_name in df_train.columns:\n",
    "    if df_train[feature_name].dtype == np.float64 and feature_name not in to_drop:\n",
    "        features_to_scale.append(feature_name)\n",
    "    elif feature_name not in to_drop:\n",
    "        features_not_scaled.append(feature_name)"
   ]
  },
  {
   "cell_type": "code",
   "execution_count": 10,
   "metadata": {
    "ExecuteTime": {
     "end_time": "2019-11-14T15:23:43.009181Z",
     "start_time": "2019-11-14T15:23:43.001059Z"
    }
   },
   "outputs": [
    {
     "data": {
      "text/plain": [
       "['Placement - Time',\n",
       " 'Confirmation - Time',\n",
       " 'Arrival at Pickup - Time',\n",
       " 'Pickup - Time',\n",
       " 'Distance (KM)',\n",
       " 'Temperature',\n",
       " 'Precipitation in millimeters',\n",
       " 'Pickup Lat',\n",
       " 'Pickup Long',\n",
       " 'Destination Lat',\n",
       " 'Destination Long',\n",
       " 'No_Of_Orders',\n",
       " 'Age',\n",
       " 'Average_Rating',\n",
       " 'No_of_Ratings',\n",
       " 'speed',\n",
       " 'Placement - Delta',\n",
       " 'Confirmation - Delta',\n",
       " 'Arrival at Pickup - Delta',\n",
       " 'geopy_distance']"
      ]
     },
     "execution_count": 10,
     "metadata": {},
     "output_type": "execute_result"
    }
   ],
   "source": [
    "features_to_scale"
   ]
  },
  {
   "cell_type": "code",
   "execution_count": 11,
   "metadata": {
    "ExecuteTime": {
     "end_time": "2019-11-14T15:23:43.631364Z",
     "start_time": "2019-11-14T15:23:43.013929Z"
    }
   },
   "outputs": [],
   "source": [
    "from sklearn.preprocessing import StandardScaler\n",
    "scaler = StandardScaler()\n",
    "df_train_scaled = scaler.fit_transform(df_train[features_to_scale])\n",
    "df_test_scaled = scaler.transform(df_test[features_to_scale])"
   ]
  },
  {
   "cell_type": "code",
   "execution_count": 12,
   "metadata": {
    "ExecuteTime": {
     "end_time": "2019-11-14T15:23:43.641447Z",
     "start_time": "2019-11-14T15:23:43.634142Z"
    }
   },
   "outputs": [],
   "source": [
    "df_train_scaled = pd.DataFrame(df_train_scaled, index=df_train.index, columns=features_to_scale)\n",
    "df_test_scaled = pd.DataFrame(df_test_scaled, index=df_test.index, columns=features_to_scale)"
   ]
  },
  {
   "cell_type": "code",
   "execution_count": 13,
   "metadata": {
    "ExecuteTime": {
     "end_time": "2019-11-14T15:23:43.675333Z",
     "start_time": "2019-11-14T15:23:43.650953Z"
    }
   },
   "outputs": [],
   "source": [
    "df_train = pd.concat([df_train_scaled, df_train[features_not_scaled + to_drop]], axis=1)\n",
    "df_test = pd.concat([df_test_scaled, df_test[features_not_scaled + features_to_drop]], axis=1)"
   ]
  },
  {
   "cell_type": "markdown",
   "metadata": {},
   "source": [
    "<h2> Defining our features X and target y"
   ]
  },
  {
   "cell_type": "code",
   "execution_count": 14,
   "metadata": {
    "ExecuteTime": {
     "end_time": "2019-11-14T15:23:43.695140Z",
     "start_time": "2019-11-14T15:23:43.679609Z"
    }
   },
   "outputs": [
    {
     "data": {
      "text/plain": [
       "((21201, 34), (21201,))"
      ]
     },
     "execution_count": 14,
     "metadata": {},
     "output_type": "execute_result"
    }
   ],
   "source": [
    "X = df_train.drop(to_drop, axis=1)\n",
    "y = df_train[\"Time from Pickup to Arrival\"]\n",
    "X.shape, y.shape"
   ]
  },
  {
   "cell_type": "markdown",
   "metadata": {},
   "source": [
    "<h1> Apply ML model"
   ]
  },
  {
   "cell_type": "markdown",
   "metadata": {},
   "source": [
    "<h2> Defining X_train, X_test"
   ]
  },
  {
   "cell_type": "code",
   "execution_count": 15,
   "metadata": {
    "ExecuteTime": {
     "end_time": "2019-11-14T15:23:43.736255Z",
     "start_time": "2019-11-14T15:23:43.697055Z"
    },
    "scrolled": true
   },
   "outputs": [],
   "source": [
    "from sklearn.model_selection import train_test_split, KFold,cross_val_score\n",
    "\n",
    "X_train, X_test, y_train, y_test = train_test_split(X, y, test_size=0.2, random_state=0)"
   ]
  },
  {
   "cell_type": "markdown",
   "metadata": {},
   "source": [
    "<h2> Benchmark model"
   ]
  },
  {
   "cell_type": "code",
   "execution_count": 16,
   "metadata": {
    "ExecuteTime": {
     "end_time": "2019-11-14T15:23:43.816749Z",
     "start_time": "2019-11-14T15:23:43.738614Z"
    }
   },
   "outputs": [],
   "source": [
    "from sklearn.metrics import accuracy_score, mean_squared_error\n",
    "from sklearn.linear_model import HuberRegressor,SGDRegressor,ElasticNet, Ridge,LinearRegression\n",
    "from sklearn.neighbors import KNeighborsRegressor\n",
    "from sklearn.ensemble import RandomForestRegressor, ExtraTreesRegressor,GradientBoostingRegressor\n",
    "from xgboost.sklearn import XGBRegressor\n",
    "from lightgbm.sklearn import LGBMRegressor\n",
    "from catboost import CatBoostRegressor"
   ]
  },
  {
   "cell_type": "code",
   "execution_count": 17,
   "metadata": {
    "ExecuteTime": {
     "end_time": "2019-11-14T15:23:43.823712Z",
     "start_time": "2019-11-14T15:23:43.819628Z"
    }
   },
   "outputs": [],
   "source": [
    "def rmsle_cv(model,X_train,y_train,n_folds=5):\n",
    "    kf = KFold(n_folds, shuffle=True, random_state=42).get_n_splits(X_train.values)\n",
    "    rmse= np.sqrt(-cross_val_score(model, X_train.values, y_train, scoring=\"neg_mean_squared_error\", cv = kf))\n",
    "    return(np.mean(rmse))"
   ]
  },
  {
   "cell_type": "code",
   "execution_count": 18,
   "metadata": {
    "ExecuteTime": {
     "end_time": "2019-11-14T15:23:43.841489Z",
     "start_time": "2019-11-14T15:23:43.825551Z"
    }
   },
   "outputs": [],
   "source": [
    "models = [RandomForestRegressor, ExtraTreesRegressor, GradientBoostingRegressor, LGBMRegressor, ElasticNet, \n",
    "          LinearRegression, HuberRegressor, Ridge, KNeighborsRegressor, ExtraTreesRegressor]"
   ]
  },
  {
   "cell_type": "code",
   "execution_count": 19,
   "metadata": {
    "ExecuteTime": {
     "end_time": "2019-11-14T15:23:43.852827Z",
     "start_time": "2019-11-14T15:23:43.844721Z"
    }
   },
   "outputs": [],
   "source": [
    "models_sel = [RandomForestRegressor, GradientBoostingRegressor, LGBMRegressor, LinearRegression, Ridge]"
   ]
  },
  {
   "cell_type": "code",
   "execution_count": 20,
   "metadata": {
    "ExecuteTime": {
     "end_time": "2019-11-14T15:23:43.864200Z",
     "start_time": "2019-11-14T15:23:43.855178Z"
    }
   },
   "outputs": [],
   "source": [
    "def benchmark_models():\n",
    "    for Model in models_sel:\n",
    "        #Model fit on full data\n",
    "        model = Model()\n",
    "        model_name = model.__class__.__name__\n",
    "        model.fit(X_train, y_train)\n",
    "        y_pred = model.predict(X_test)\n",
    "        err1 = rmsle_cv(model, X_train, y_train)\n",
    "        err2 = np.sqrt(mean_squared_error(y_test, y_pred))\n",
    "        print(f\"{model_name} fit on full data :  cross val loss rmse => {err1}\")\n",
    "        print(f\"{model_name} fit on full data :  single rmse => {err2}\")"
   ]
  },
  {
   "cell_type": "code",
   "execution_count": 21,
   "metadata": {
    "ExecuteTime": {
     "end_time": "2019-11-14T15:24:23.265463Z",
     "start_time": "2019-11-14T15:23:43.866521Z"
    },
    "scrolled": true
   },
   "outputs": [
    {
     "name": "stderr",
     "output_type": "stream",
     "text": [
      "/home/zyncus/bin/anaconda/lib/python3.7/site-packages/sklearn/ensemble/forest.py:246: FutureWarning: The default value of n_estimators will change from 10 in version 0.20 to 100 in 0.22.\n",
      "  \"10 in version 0.20 to 100 in 0.22.\", FutureWarning)\n"
     ]
    },
    {
     "name": "stdout",
     "output_type": "stream",
     "text": [
      "RandomForestRegressor fit on full data :  cross val loss rmse => 787.4894169995938\n",
      "RandomForestRegressor fit on full data :  single rmse => 787.5271812527986\n",
      "GradientBoostingRegressor fit on full data :  cross val loss rmse => 735.2401302662322\n",
      "GradientBoostingRegressor fit on full data :  single rmse => 732.9680836797106\n",
      "LGBMRegressor fit on full data :  cross val loss rmse => 726.0650091813766\n",
      "LGBMRegressor fit on full data :  single rmse => 742.503061786367\n",
      "LinearRegression fit on full data :  cross val loss rmse => 773.7922139705654\n",
      "LinearRegression fit on full data :  single rmse => 770.2347624505123\n",
      "Ridge fit on full data :  cross val loss rmse => 773.721491578433\n",
      "Ridge fit on full data :  single rmse => 770.2337761789245\n"
     ]
    }
   ],
   "source": [
    "benchmark_models()"
   ]
  },
  {
   "cell_type": "markdown",
   "metadata": {},
   "source": [
    "<h2> CatBoost model"
   ]
  },
  {
   "cell_type": "code",
   "execution_count": 22,
   "metadata": {
    "ExecuteTime": {
     "end_time": "2019-11-14T15:24:23.273704Z",
     "start_time": "2019-11-14T15:24:23.270004Z"
    }
   },
   "outputs": [],
   "source": [
    "cat_b =  CatBoostRegressor(loss_function='RMSE', silent=True)"
   ]
  },
  {
   "cell_type": "code",
   "execution_count": 23,
   "metadata": {
    "ExecuteTime": {
     "end_time": "2019-11-14T15:24:50.735688Z",
     "start_time": "2019-11-14T15:24:23.277314Z"
    }
   },
   "outputs": [],
   "source": [
    "cat_b.fit(X_train, y_train)\n",
    "y_pred = cat_b.predict(X_test)"
   ]
  },
  {
   "cell_type": "code",
   "execution_count": 24,
   "metadata": {
    "ExecuteTime": {
     "end_time": "2019-11-14T15:24:50.742622Z",
     "start_time": "2019-11-14T15:24:50.737504Z"
    }
   },
   "outputs": [
    {
     "data": {
      "text/plain": [
       "{'learn': {'RMSE': 683.3207267275733}}"
      ]
     },
     "execution_count": 24,
     "metadata": {},
     "output_type": "execute_result"
    }
   ],
   "source": [
    "cat_b.best_score_"
   ]
  },
  {
   "cell_type": "code",
   "execution_count": 25,
   "metadata": {
    "ExecuteTime": {
     "end_time": "2019-11-14T15:24:50.755150Z",
     "start_time": "2019-11-14T15:24:50.744612Z"
    }
   },
   "outputs": [
    {
     "data": {
      "text/plain": [
       "[('Distance (KM)', 27.43961195606389),\n",
       " ('geopy_distance', 22.87356676073456),\n",
       " ('speed', 13.41253018457266),\n",
       " ('Arrival at Pickup - Delta', 7.405979665947537),\n",
       " ('Destination Lat', 4.3322965494038215),\n",
       " ('Pickup Lat', 3.641563726130375),\n",
       " ('Confirmation - Delta', 3.3795864068206094),\n",
       " ('Average_Rating', 2.575744968682698),\n",
       " ('Placement - Delta', 2.1192180181058093),\n",
       " ('Age', 1.797611020868705),\n",
       " ('Destination Long', 1.7388508203494175),\n",
       " ('No_of_Ratings', 1.5777616452517915),\n",
       " ('No_Of_Orders', 1.527054548093214),\n",
       " ('Pickup Long', 1.442022810242505),\n",
       " ('User Id', 0.9220051868597816),\n",
       " ('Rider Id', 0.5120371367425458),\n",
       " ('Temperature', 0.479155701560765),\n",
       " ('Arrival at Pickup - Time', 0.4557658202670592),\n",
       " ('Placement - Time', 0.2912988544275589),\n",
       " ('Pickup - Weekday (Mo = 1)', 0.2732076208529346),\n",
       " ('Arrival at Pickup - Weekday (Mo = 1)', 0.24891980244632175),\n",
       " ('Placement - Weekday (Mo = 1)', 0.24759806814167032),\n",
       " ('Pickup - Time', 0.24262704433386517),\n",
       " ('Confirmation - Weekday (Mo = 1)', 0.20158512856838787),\n",
       " ('Confirmation - Time', 0.1923168354262932),\n",
       " ('Precipitation in millimeters', 0.14552630322504934),\n",
       " ('Personal or Business', 0.13689313758364455),\n",
       " ('Platform Type', 0.12983494162486584),\n",
       " ('Pickup - Day of Month', 0.12173434077903524),\n",
       " ('Pickup - Hour', 0.07285378657361993),\n",
       " ('Placement - Weekend', 0.04600670759775984),\n",
       " ('Arrival at Pickup - Weekend', 0.017234501721245327),\n",
       " ('Confirmation - Weekend', 0.0),\n",
       " ('Pickup - Weekend', 0.0)]"
      ]
     },
     "execution_count": 25,
     "metadata": {},
     "output_type": "execute_result"
    }
   ],
   "source": [
    "order = cat_b.feature_importances_.argsort()[::-1]\n",
    "list(zip(X_train.columns[order], cat_b.feature_importances_[order]))"
   ]
  },
  {
   "cell_type": "markdown",
   "metadata": {},
   "source": [
    "<h1> Dump to submission file"
   ]
  },
  {
   "cell_type": "code",
   "execution_count": 26,
   "metadata": {
    "ExecuteTime": {
     "end_time": "2019-11-14T15:24:50.769784Z",
     "start_time": "2019-11-14T15:24:50.757085Z"
    }
   },
   "outputs": [
    {
     "data": {
      "text/plain": [
       "((7068, 34), (16960, 34))"
      ]
     },
     "execution_count": 26,
     "metadata": {},
     "output_type": "execute_result"
    }
   ],
   "source": [
    "X__test = df_test.drop(features_to_drop, axis=1)\n",
    "X__test.shape, X_train.shape"
   ]
  },
  {
   "cell_type": "code",
   "execution_count": 27,
   "metadata": {
    "ExecuteTime": {
     "end_time": "2019-11-14T15:24:50.860455Z",
     "start_time": "2019-11-14T15:24:50.771980Z"
    }
   },
   "outputs": [
    {
     "data": {
      "text/html": [
       "<div>\n",
       "<style scoped>\n",
       "    .dataframe tbody tr th:only-of-type {\n",
       "        vertical-align: middle;\n",
       "    }\n",
       "\n",
       "    .dataframe tbody tr th {\n",
       "        vertical-align: top;\n",
       "    }\n",
       "\n",
       "    .dataframe thead th {\n",
       "        text-align: right;\n",
       "    }\n",
       "</style>\n",
       "<table border=\"1\" class=\"dataframe\">\n",
       "  <thead>\n",
       "    <tr style=\"text-align: right;\">\n",
       "      <th></th>\n",
       "      <th>count</th>\n",
       "      <th>mean</th>\n",
       "      <th>std</th>\n",
       "      <th>min</th>\n",
       "      <th>25%</th>\n",
       "      <th>50%</th>\n",
       "      <th>75%</th>\n",
       "      <th>max</th>\n",
       "    </tr>\n",
       "  </thead>\n",
       "  <tbody>\n",
       "    <tr>\n",
       "      <th>Placement - Time</th>\n",
       "      <td>7068.0</td>\n",
       "      <td>-0.012360</td>\n",
       "      <td>1.001022</td>\n",
       "      <td>-2.479172</td>\n",
       "      <td>-0.814842</td>\n",
       "      <td>-0.059424</td>\n",
       "      <td>0.777265</td>\n",
       "      <td>3.720280</td>\n",
       "    </tr>\n",
       "    <tr>\n",
       "      <th>Confirmation - Time</th>\n",
       "      <td>7068.0</td>\n",
       "      <td>-0.012455</td>\n",
       "      <td>1.000139</td>\n",
       "      <td>-2.424949</td>\n",
       "      <td>-0.825260</td>\n",
       "      <td>-0.058200</td>\n",
       "      <td>0.779518</td>\n",
       "      <td>3.691178</td>\n",
       "    </tr>\n",
       "    <tr>\n",
       "      <th>Arrival at Pickup - Time</th>\n",
       "      <td>7068.0</td>\n",
       "      <td>-0.012613</td>\n",
       "      <td>1.000647</td>\n",
       "      <td>-2.314103</td>\n",
       "      <td>-0.814995</td>\n",
       "      <td>-0.051870</td>\n",
       "      <td>0.779206</td>\n",
       "      <td>3.830805</td>\n",
       "    </tr>\n",
       "    <tr>\n",
       "      <th>Pickup - Time</th>\n",
       "      <td>7068.0</td>\n",
       "      <td>-0.013608</td>\n",
       "      <td>0.999891</td>\n",
       "      <td>-2.392565</td>\n",
       "      <td>-0.819158</td>\n",
       "      <td>-0.051974</td>\n",
       "      <td>0.784092</td>\n",
       "      <td>3.933809</td>\n",
       "    </tr>\n",
       "    <tr>\n",
       "      <th>Distance (KM)</th>\n",
       "      <td>7068.0</td>\n",
       "      <td>-0.008390</td>\n",
       "      <td>0.983570</td>\n",
       "      <td>-1.500580</td>\n",
       "      <td>-0.794967</td>\n",
       "      <td>-0.265757</td>\n",
       "      <td>0.616259</td>\n",
       "      <td>6.613970</td>\n",
       "    </tr>\n",
       "    <tr>\n",
       "      <th>Temperature</th>\n",
       "      <td>7068.0</td>\n",
       "      <td>-0.009555</td>\n",
       "      <td>0.996161</td>\n",
       "      <td>-2.995054</td>\n",
       "      <td>-0.708433</td>\n",
       "      <td>0.015195</td>\n",
       "      <td>0.641119</td>\n",
       "      <td>2.637986</td>\n",
       "    </tr>\n",
       "    <tr>\n",
       "      <th>Precipitation in millimeters</th>\n",
       "      <td>7068.0</td>\n",
       "      <td>-0.002248</td>\n",
       "      <td>0.901526</td>\n",
       "      <td>-1.814123</td>\n",
       "      <td>-0.490136</td>\n",
       "      <td>-0.366933</td>\n",
       "      <td>0.403844</td>\n",
       "      <td>28.242898</td>\n",
       "    </tr>\n",
       "    <tr>\n",
       "      <th>Pickup Lat</th>\n",
       "      <td>7068.0</td>\n",
       "      <td>-0.018782</td>\n",
       "      <td>0.984852</td>\n",
       "      <td>-4.983951</td>\n",
       "      <td>-0.646787</td>\n",
       "      <td>0.005523</td>\n",
       "      <td>0.793129</td>\n",
       "      <td>4.363618</td>\n",
       "    </tr>\n",
       "    <tr>\n",
       "      <th>Pickup Long</th>\n",
       "      <td>7068.0</td>\n",
       "      <td>-0.003092</td>\n",
       "      <td>1.013080</td>\n",
       "      <td>-4.201462</td>\n",
       "      <td>-0.711423</td>\n",
       "      <td>-0.107936</td>\n",
       "      <td>0.492424</td>\n",
       "      <td>4.797827</td>\n",
       "    </tr>\n",
       "    <tr>\n",
       "      <th>Destination Lat</th>\n",
       "      <td>7068.0</td>\n",
       "      <td>0.009357</td>\n",
       "      <td>0.983148</td>\n",
       "      <td>-4.022419</td>\n",
       "      <td>-0.526672</td>\n",
       "      <td>-0.018319</td>\n",
       "      <td>0.612372</td>\n",
       "      <td>7.246856</td>\n",
       "    </tr>\n",
       "    <tr>\n",
       "      <th>Destination Long</th>\n",
       "      <td>7068.0</td>\n",
       "      <td>0.002378</td>\n",
       "      <td>0.972889</td>\n",
       "      <td>-3.846742</td>\n",
       "      <td>-0.551740</td>\n",
       "      <td>-0.073629</td>\n",
       "      <td>0.379588</td>\n",
       "      <td>4.645340</td>\n",
       "    </tr>\n",
       "    <tr>\n",
       "      <th>No_Of_Orders</th>\n",
       "      <td>7068.0</td>\n",
       "      <td>0.015632</td>\n",
       "      <td>1.034665</td>\n",
       "      <td>-1.073147</td>\n",
       "      <td>-0.735848</td>\n",
       "      <td>-0.307078</td>\n",
       "      <td>0.392929</td>\n",
       "      <td>5.122101</td>\n",
       "    </tr>\n",
       "    <tr>\n",
       "      <th>Age</th>\n",
       "      <td>7068.0</td>\n",
       "      <td>0.021120</td>\n",
       "      <td>1.039524</td>\n",
       "      <td>-1.369767</td>\n",
       "      <td>-0.758915</td>\n",
       "      <td>-0.174352</td>\n",
       "      <td>0.393199</td>\n",
       "      <td>4.298014</td>\n",
       "    </tr>\n",
       "    <tr>\n",
       "      <th>Average_Rating</th>\n",
       "      <td>7068.0</td>\n",
       "      <td>0.000718</td>\n",
       "      <td>0.923895</td>\n",
       "      <td>-15.154773</td>\n",
       "      <td>-0.308411</td>\n",
       "      <td>0.128247</td>\n",
       "      <td>0.455740</td>\n",
       "      <td>1.438220</td>\n",
       "    </tr>\n",
       "    <tr>\n",
       "      <th>No_of_Ratings</th>\n",
       "      <td>7068.0</td>\n",
       "      <td>0.004341</td>\n",
       "      <td>1.017887</td>\n",
       "      <td>-0.846618</td>\n",
       "      <td>-0.697682</td>\n",
       "      <td>-0.456903</td>\n",
       "      <td>0.372173</td>\n",
       "      <td>4.857622</td>\n",
       "    </tr>\n",
       "    <tr>\n",
       "      <th>speed</th>\n",
       "      <td>7068.0</td>\n",
       "      <td>0.018818</td>\n",
       "      <td>1.066728</td>\n",
       "      <td>-0.496490</td>\n",
       "      <td>-0.259279</td>\n",
       "      <td>-0.253394</td>\n",
       "      <td>-0.168038</td>\n",
       "      <td>10.108034</td>\n",
       "    </tr>\n",
       "    <tr>\n",
       "      <th>Placement - Delta</th>\n",
       "      <td>7068.0</td>\n",
       "      <td>0.001443</td>\n",
       "      <td>0.983775</td>\n",
       "      <td>-13.753070</td>\n",
       "      <td>0.126966</td>\n",
       "      <td>0.353149</td>\n",
       "      <td>0.396046</td>\n",
       "      <td>1.445067</td>\n",
       "    </tr>\n",
       "    <tr>\n",
       "      <th>Confirmation - Delta</th>\n",
       "      <td>7068.0</td>\n",
       "      <td>0.002231</td>\n",
       "      <td>0.996472</td>\n",
       "      <td>-9.005522</td>\n",
       "      <td>-0.383470</td>\n",
       "      <td>0.237039</td>\n",
       "      <td>0.668159</td>\n",
       "      <td>1.127634</td>\n",
       "    </tr>\n",
       "    <tr>\n",
       "      <th>Arrival at Pickup - Delta</th>\n",
       "      <td>7068.0</td>\n",
       "      <td>0.011690</td>\n",
       "      <td>0.979235</td>\n",
       "      <td>-6.848164</td>\n",
       "      <td>-0.232283</td>\n",
       "      <td>0.329988</td>\n",
       "      <td>0.632143</td>\n",
       "      <td>0.898828</td>\n",
       "    </tr>\n",
       "    <tr>\n",
       "      <th>geopy_distance</th>\n",
       "      <td>7068.0</td>\n",
       "      <td>-0.005823</td>\n",
       "      <td>0.987206</td>\n",
       "      <td>-1.423804</td>\n",
       "      <td>-0.742592</td>\n",
       "      <td>-0.226373</td>\n",
       "      <td>0.521365</td>\n",
       "      <td>6.311991</td>\n",
       "    </tr>\n",
       "  </tbody>\n",
       "</table>\n",
       "</div>"
      ],
      "text/plain": [
       "                               count      mean       std        min       25%  \\\n",
       "Placement - Time              7068.0 -0.012360  1.001022  -2.479172 -0.814842   \n",
       "Confirmation - Time           7068.0 -0.012455  1.000139  -2.424949 -0.825260   \n",
       "Arrival at Pickup - Time      7068.0 -0.012613  1.000647  -2.314103 -0.814995   \n",
       "Pickup - Time                 7068.0 -0.013608  0.999891  -2.392565 -0.819158   \n",
       "Distance (KM)                 7068.0 -0.008390  0.983570  -1.500580 -0.794967   \n",
       "Temperature                   7068.0 -0.009555  0.996161  -2.995054 -0.708433   \n",
       "Precipitation in millimeters  7068.0 -0.002248  0.901526  -1.814123 -0.490136   \n",
       "Pickup Lat                    7068.0 -0.018782  0.984852  -4.983951 -0.646787   \n",
       "Pickup Long                   7068.0 -0.003092  1.013080  -4.201462 -0.711423   \n",
       "Destination Lat               7068.0  0.009357  0.983148  -4.022419 -0.526672   \n",
       "Destination Long              7068.0  0.002378  0.972889  -3.846742 -0.551740   \n",
       "No_Of_Orders                  7068.0  0.015632  1.034665  -1.073147 -0.735848   \n",
       "Age                           7068.0  0.021120  1.039524  -1.369767 -0.758915   \n",
       "Average_Rating                7068.0  0.000718  0.923895 -15.154773 -0.308411   \n",
       "No_of_Ratings                 7068.0  0.004341  1.017887  -0.846618 -0.697682   \n",
       "speed                         7068.0  0.018818  1.066728  -0.496490 -0.259279   \n",
       "Placement - Delta             7068.0  0.001443  0.983775 -13.753070  0.126966   \n",
       "Confirmation - Delta          7068.0  0.002231  0.996472  -9.005522 -0.383470   \n",
       "Arrival at Pickup - Delta     7068.0  0.011690  0.979235  -6.848164 -0.232283   \n",
       "geopy_distance                7068.0 -0.005823  0.987206  -1.423804 -0.742592   \n",
       "\n",
       "                                   50%       75%        max  \n",
       "Placement - Time             -0.059424  0.777265   3.720280  \n",
       "Confirmation - Time          -0.058200  0.779518   3.691178  \n",
       "Arrival at Pickup - Time     -0.051870  0.779206   3.830805  \n",
       "Pickup - Time                -0.051974  0.784092   3.933809  \n",
       "Distance (KM)                -0.265757  0.616259   6.613970  \n",
       "Temperature                   0.015195  0.641119   2.637986  \n",
       "Precipitation in millimeters -0.366933  0.403844  28.242898  \n",
       "Pickup Lat                    0.005523  0.793129   4.363618  \n",
       "Pickup Long                  -0.107936  0.492424   4.797827  \n",
       "Destination Lat              -0.018319  0.612372   7.246856  \n",
       "Destination Long             -0.073629  0.379588   4.645340  \n",
       "No_Of_Orders                 -0.307078  0.392929   5.122101  \n",
       "Age                          -0.174352  0.393199   4.298014  \n",
       "Average_Rating                0.128247  0.455740   1.438220  \n",
       "No_of_Ratings                -0.456903  0.372173   4.857622  \n",
       "speed                        -0.253394 -0.168038  10.108034  \n",
       "Placement - Delta             0.353149  0.396046   1.445067  \n",
       "Confirmation - Delta          0.237039  0.668159   1.127634  \n",
       "Arrival at Pickup - Delta     0.329988  0.632143   0.898828  \n",
       "geopy_distance               -0.226373  0.521365   6.311991  "
      ]
     },
     "execution_count": 27,
     "metadata": {},
     "output_type": "execute_result"
    }
   ],
   "source": [
    "X__test.describe().T"
   ]
  },
  {
   "cell_type": "code",
   "execution_count": 28,
   "metadata": {
    "ExecuteTime": {
     "end_time": "2019-11-14T15:24:50.869508Z",
     "start_time": "2019-11-14T15:24:50.864942Z"
    }
   },
   "outputs": [],
   "source": [
    "model_sel1 = GradientBoostingRegressor()\n",
    "model_sel2 = LGBMRegressor()\n",
    "model_sel3 = CatBoostRegressor(silent=True)\n",
    "#model_sel = LinearRegression()\n",
    "#model_sel = RandomForestRegressor()"
   ]
  },
  {
   "cell_type": "code",
   "execution_count": 29,
   "metadata": {
    "ExecuteTime": {
     "end_time": "2019-11-14T15:25:25.143000Z",
     "start_time": "2019-11-14T15:24:50.872544Z"
    }
   },
   "outputs": [
    {
     "data": {
      "text/plain": [
       "<catboost.core.CatBoostRegressor at 0x7fa5c8a31510>"
      ]
     },
     "execution_count": 29,
     "metadata": {},
     "output_type": "execute_result"
    }
   ],
   "source": [
    "model_sel1.fit(X, y)\n",
    "model_sel2.fit(X, y)\n",
    "model_sel3.fit(X, y)"
   ]
  },
  {
   "cell_type": "code",
   "execution_count": 30,
   "metadata": {
    "ExecuteTime": {
     "end_time": "2019-11-14T15:25:25.148592Z",
     "start_time": "2019-11-14T15:25:25.145173Z"
    }
   },
   "outputs": [
    {
     "data": {
      "text/plain": [
       "{'learn': {'RMSE': 684.3320214726081}}"
      ]
     },
     "execution_count": 30,
     "metadata": {},
     "output_type": "execute_result"
    }
   ],
   "source": [
    "model_sel3.best_score_"
   ]
  },
  {
   "cell_type": "code",
   "execution_count": 31,
   "metadata": {
    "ExecuteTime": {
     "end_time": "2019-11-14T15:25:25.162833Z",
     "start_time": "2019-11-14T15:25:25.150352Z"
    },
    "scrolled": true
   },
   "outputs": [
    {
     "data": {
      "text/plain": [
       "[('Distance (KM)', 27.983112915100037),\n",
       " ('geopy_distance', 22.747713964172675),\n",
       " ('speed', 12.940341874226945),\n",
       " ('Arrival at Pickup - Delta', 6.823206037841023),\n",
       " ('Destination Lat', 5.080550920291668),\n",
       " ('Pickup Lat', 3.6033165429441176),\n",
       " ('Confirmation - Delta', 3.435238099175831),\n",
       " ('Average_Rating', 2.68942023213255),\n",
       " ('Destination Long', 2.129027251837533),\n",
       " ('Age', 1.7867929566505225),\n",
       " ('Placement - Delta', 1.7178973084184863),\n",
       " ('No_Of_Orders', 1.5455645649187506),\n",
       " ('No_of_Ratings', 1.4574286670426124),\n",
       " ('Pickup Long', 1.4470836130730478),\n",
       " ('User Id', 1.1918816740815337),\n",
       " ('Rider Id', 0.4771075883883025),\n",
       " ('Temperature', 0.43332453377430485),\n",
       " ('Confirmation - Weekday (Mo = 1)', 0.3401249291196521),\n",
       " ('Confirmation - Time', 0.30025561618468843),\n",
       " ('Arrival at Pickup - Time', 0.2940873370006031),\n",
       " ('Placement - Weekday (Mo = 1)', 0.27497254596044957),\n",
       " ('Pickup - Day of Month', 0.23405812116187502),\n",
       " ('Pickup - Weekday (Mo = 1)', 0.20148869052216392),\n",
       " ('Placement - Time', 0.1995942689762213),\n",
       " ('Pickup - Time', 0.1926161360834281),\n",
       " ('Arrival at Pickup - Weekday (Mo = 1)', 0.1735976680077842),\n",
       " ('Precipitation in millimeters', 0.10909424679507893),\n",
       " ('Pickup - Hour', 0.07906164490862216),\n",
       " ('Platform Type', 0.06916981001249904),\n",
       " ('Personal or Business', 0.0428702411970042),\n",
       " ('Arrival at Pickup - Weekend', 0.0),\n",
       " ('Placement - Weekend', 0.0),\n",
       " ('Confirmation - Weekend', 0.0),\n",
       " ('Pickup - Weekend', 0.0)]"
      ]
     },
     "execution_count": 31,
     "metadata": {},
     "output_type": "execute_result"
    }
   ],
   "source": [
    "order = model_sel3.feature_importances_.argsort()[::-1]\n",
    "list(zip(X_train.columns[order], model_sel3.feature_importances_[order]))"
   ]
  },
  {
   "cell_type": "code",
   "execution_count": 32,
   "metadata": {
    "ExecuteTime": {
     "end_time": "2019-11-14T15:25:25.317600Z",
     "start_time": "2019-11-14T15:25:25.166310Z"
    }
   },
   "outputs": [],
   "source": [
    "y__pred1 = model_sel1.predict(X__test)\n",
    "y__pred2 = model_sel2.predict(X__test)\n",
    "y__pred3 = model_sel3.predict(X__test)\n",
    "\n",
    "y__pred = np.mean([y__pred2, y__pred3], axis=0)"
   ]
  },
  {
   "cell_type": "code",
   "execution_count": 33,
   "metadata": {
    "ExecuteTime": {
     "end_time": "2019-11-14T15:25:25.342303Z",
     "start_time": "2019-11-14T15:25:25.319963Z"
    }
   },
   "outputs": [
    {
     "data": {
      "text/html": [
       "<div>\n",
       "<style scoped>\n",
       "    .dataframe tbody tr th:only-of-type {\n",
       "        vertical-align: middle;\n",
       "    }\n",
       "\n",
       "    .dataframe tbody tr th {\n",
       "        vertical-align: top;\n",
       "    }\n",
       "\n",
       "    .dataframe thead th {\n",
       "        text-align: right;\n",
       "    }\n",
       "</style>\n",
       "<table border=\"1\" class=\"dataframe\">\n",
       "  <thead>\n",
       "    <tr style=\"text-align: right;\">\n",
       "      <th></th>\n",
       "      <th>Time from Pickup to Arrival</th>\n",
       "    </tr>\n",
       "    <tr>\n",
       "      <th>Order No</th>\n",
       "      <th></th>\n",
       "    </tr>\n",
       "  </thead>\n",
       "  <tbody>\n",
       "    <tr>\n",
       "      <th>Order_No_19248</th>\n",
       "      <td>1729.328993</td>\n",
       "    </tr>\n",
       "    <tr>\n",
       "      <th>Order_No_2699</th>\n",
       "      <td>3188.853713</td>\n",
       "    </tr>\n",
       "    <tr>\n",
       "      <th>Order_No_21486</th>\n",
       "      <td>1907.525266</td>\n",
       "    </tr>\n",
       "    <tr>\n",
       "      <th>Order_No_19336</th>\n",
       "      <td>2549.006641</td>\n",
       "    </tr>\n",
       "    <tr>\n",
       "      <th>Order_No_20374</th>\n",
       "      <td>2931.753184</td>\n",
       "    </tr>\n",
       "  </tbody>\n",
       "</table>\n",
       "</div>"
      ],
      "text/plain": [
       "                Time from Pickup to Arrival\n",
       "Order No                                   \n",
       "Order_No_19248                  1729.328993\n",
       "Order_No_2699                   3188.853713\n",
       "Order_No_21486                  1907.525266\n",
       "Order_No_19336                  2549.006641\n",
       "Order_No_20374                  2931.753184"
      ]
     },
     "execution_count": 33,
     "metadata": {},
     "output_type": "execute_result"
    }
   ],
   "source": [
    "submit_file = \"data/SampleSubmission.csv\"\n",
    "df_submit = pd.read_csv(submit_file, index_col=\"Order_No\")\n",
    "df_submit.index = df_test.index\n",
    "df_submit[\"Time from Pickup to Arrival\"] = y__pred\n",
    "df_submit.head()"
   ]
  },
  {
   "cell_type": "code",
   "execution_count": 34,
   "metadata": {
    "ExecuteTime": {
     "end_time": "2019-11-14T15:25:25.364488Z",
     "start_time": "2019-11-14T15:25:25.344765Z"
    }
   },
   "outputs": [],
   "source": [
    "df_submit.to_csv(\"to_submit/SampleSubmission_mean.csv\")"
   ]
  },
  {
   "cell_type": "markdown",
   "metadata": {
    "ExecuteTime": {
     "end_time": "2019-11-06T15:57:51.089554Z",
     "start_time": "2019-11-06T15:57:51.084198Z"
    }
   },
   "source": [
    "<h1> to be improved"
   ]
  },
  {
   "cell_type": "markdown",
   "metadata": {},
   "source": [
    "- Improve CatBoost Hyperparameters"
   ]
  }
 ],
 "metadata": {
  "kernelspec": {
   "display_name": "Python 3",
   "language": "python",
   "name": "python3"
  },
  "language_info": {
   "codemirror_mode": {
    "name": "ipython",
    "version": 3
   },
   "file_extension": ".py",
   "mimetype": "text/x-python",
   "name": "python",
   "nbconvert_exporter": "python",
   "pygments_lexer": "ipython3",
   "version": "3.7.4"
  },
  "toc": {
   "base_numbering": 1,
   "nav_menu": {},
   "number_sections": true,
   "sideBar": true,
   "skip_h1_title": false,
   "title_cell": "Table of Contents",
   "title_sidebar": "Contents",
   "toc_cell": false,
   "toc_position": {},
   "toc_section_display": true,
   "toc_window_display": true
  }
 },
 "nbformat": 4,
 "nbformat_minor": 2
}
