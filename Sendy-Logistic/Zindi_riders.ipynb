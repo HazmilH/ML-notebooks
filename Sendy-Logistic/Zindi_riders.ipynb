{
 "cells": [
  {
   "cell_type": "markdown",
   "metadata": {},
   "source": [
    "Here we will create a Rider mean speed feature based on Distance and time from pickup to arrival available in the train dataframe. For the missing values we will build a regression model to predict them."
   ]
  },
  {
   "cell_type": "code",
   "execution_count": 1,
   "metadata": {
    "ExecuteTime": {
     "end_time": "2019-11-26T14:20:17.751230Z",
     "start_time": "2019-11-26T14:20:17.285241Z"
    }
   },
   "outputs": [],
   "source": [
    "import pandas as pd\n",
    "import numpy as np\n",
    "import matplotlib.pyplot as plt\n",
    "from datetime import datetime\n",
    "from geopy import distance\n",
    "import pickle\n",
    "from utils_dump_load import load_from_pickle, dump_to_pickle"
   ]
  },
  {
   "cell_type": "markdown",
   "metadata": {},
   "source": [
    "<h1> EDA"
   ]
  },
  {
   "cell_type": "markdown",
   "metadata": {},
   "source": [
    "<h2> Loading data"
   ]
  },
  {
   "cell_type": "code",
   "execution_count": 2,
   "metadata": {
    "ExecuteTime": {
     "end_time": "2019-11-26T14:20:17.824060Z",
     "start_time": "2019-11-26T14:20:17.760501Z"
    }
   },
   "outputs": [
    {
     "data": {
      "text/plain": [
       "(21201, 29)"
      ]
     },
     "execution_count": 2,
     "metadata": {},
     "output_type": "execute_result"
    }
   ],
   "source": [
    "pickle_filename = \"data/train_temp.pkl\"\n",
    "df_train = load_from_pickle(pickle_filename)\n",
    "df_train.shape"
   ]
  },
  {
   "cell_type": "code",
   "execution_count": 3,
   "metadata": {
    "ExecuteTime": {
     "end_time": "2019-11-26T14:20:17.944369Z",
     "start_time": "2019-11-26T14:20:17.920918Z"
    }
   },
   "outputs": [
    {
     "data": {
      "text/plain": [
       "(7068, 25)"
      ]
     },
     "execution_count": 3,
     "metadata": {},
     "output_type": "execute_result"
    }
   ],
   "source": [
    "pickle_filename = \"data/test_temp.pkl\"\n",
    "df_test = load_from_pickle(pickle_filename)\n",
    "df_test.shape"
   ]
  },
  {
   "cell_type": "markdown",
   "metadata": {
    "ExecuteTime": {
     "end_time": "2019-11-14T15:30:55.233236Z",
     "start_time": "2019-11-14T15:30:55.180893Z"
    }
   },
   "source": [
    "filepath_test = \"data/Test.csv\"\n",
    "df_test = pd.read_csv(filepath_test, index_col=\"Order No\")\n",
    "df_test.shape"
   ]
  },
  {
   "cell_type": "markdown",
   "metadata": {
    "ExecuteTime": {
     "end_time": "2019-11-14T15:30:55.388802Z",
     "start_time": "2019-11-14T15:30:55.235890Z"
    }
   },
   "source": [
    "filepath_train = \"data/Train.csv\"\n",
    "df_train = pd.read_csv(filepath_train, index_col=\"Order No\")\n",
    "df_train.shape"
   ]
  },
  {
   "cell_type": "code",
   "execution_count": 4,
   "metadata": {
    "ExecuteTime": {
     "end_time": "2019-11-26T14:20:18.562009Z",
     "start_time": "2019-11-26T14:20:18.545294Z"
    }
   },
   "outputs": [
    {
     "data": {
      "text/plain": [
       "(960, 4)"
      ]
     },
     "execution_count": 4,
     "metadata": {},
     "output_type": "execute_result"
    }
   ],
   "source": [
    "filepath_riders = \"data/Riders.csv\"\n",
    "df_riders = pd.read_csv(filepath_riders, index_col=\"Rider Id\")\n",
    "df_riders.shape"
   ]
  },
  {
   "cell_type": "code",
   "execution_count": 5,
   "metadata": {
    "ExecuteTime": {
     "end_time": "2019-11-26T14:20:18.685144Z",
     "start_time": "2019-11-26T14:20:18.667997Z"
    }
   },
   "outputs": [
    {
     "data": {
      "text/html": [
       "<div>\n",
       "<style scoped>\n",
       "    .dataframe tbody tr th:only-of-type {\n",
       "        vertical-align: middle;\n",
       "    }\n",
       "\n",
       "    .dataframe tbody tr th {\n",
       "        vertical-align: top;\n",
       "    }\n",
       "\n",
       "    .dataframe thead th {\n",
       "        text-align: right;\n",
       "    }\n",
       "</style>\n",
       "<table border=\"1\" class=\"dataframe\">\n",
       "  <thead>\n",
       "    <tr style=\"text-align: right;\">\n",
       "      <th></th>\n",
       "      <th>No_Of_Orders</th>\n",
       "      <th>Age</th>\n",
       "      <th>Average_Rating</th>\n",
       "      <th>No_of_Ratings</th>\n",
       "    </tr>\n",
       "    <tr>\n",
       "      <th>Rider Id</th>\n",
       "      <th></th>\n",
       "      <th></th>\n",
       "      <th></th>\n",
       "      <th></th>\n",
       "    </tr>\n",
       "  </thead>\n",
       "  <tbody>\n",
       "    <tr>\n",
       "      <th>Rider_Id_396</th>\n",
       "      <td>2946</td>\n",
       "      <td>2298</td>\n",
       "      <td>14.0</td>\n",
       "      <td>1159</td>\n",
       "    </tr>\n",
       "    <tr>\n",
       "      <th>Rider_Id_479</th>\n",
       "      <td>360</td>\n",
       "      <td>951</td>\n",
       "      <td>13.5</td>\n",
       "      <td>176</td>\n",
       "    </tr>\n",
       "    <tr>\n",
       "      <th>Rider_Id_648</th>\n",
       "      <td>1746</td>\n",
       "      <td>821</td>\n",
       "      <td>14.3</td>\n",
       "      <td>466</td>\n",
       "    </tr>\n",
       "    <tr>\n",
       "      <th>Rider_Id_753</th>\n",
       "      <td>314</td>\n",
       "      <td>980</td>\n",
       "      <td>12.5</td>\n",
       "      <td>75</td>\n",
       "    </tr>\n",
       "    <tr>\n",
       "      <th>Rider_Id_335</th>\n",
       "      <td>536</td>\n",
       "      <td>1113</td>\n",
       "      <td>13.7</td>\n",
       "      <td>156</td>\n",
       "    </tr>\n",
       "  </tbody>\n",
       "</table>\n",
       "</div>"
      ],
      "text/plain": [
       "              No_Of_Orders   Age  Average_Rating  No_of_Ratings\n",
       "Rider Id                                                       \n",
       "Rider_Id_396          2946  2298            14.0           1159\n",
       "Rider_Id_479           360   951            13.5            176\n",
       "Rider_Id_648          1746   821            14.3            466\n",
       "Rider_Id_753           314   980            12.5             75\n",
       "Rider_Id_335           536  1113            13.7            156"
      ]
     },
     "execution_count": 5,
     "metadata": {},
     "output_type": "execute_result"
    }
   ],
   "source": [
    "df_riders.head()"
   ]
  },
  {
   "cell_type": "markdown",
   "metadata": {},
   "source": [
    "<h2> Merge data"
   ]
  },
  {
   "cell_type": "code",
   "execution_count": 6,
   "metadata": {
    "ExecuteTime": {
     "end_time": "2019-11-26T14:20:19.120501Z",
     "start_time": "2019-11-26T14:20:19.007197Z"
    }
   },
   "outputs": [],
   "source": [
    "df_train = df_train.merge(df_riders, left_on='Rider Id', right_on='Rider Id', right_index=True)\n",
    "df_test = df_test.merge(df_riders, left_on='Rider Id', right_on='Rider Id', right_index=True)"
   ]
  },
  {
   "cell_type": "markdown",
   "metadata": {
    "ExecuteTime": {
     "end_time": "2019-11-13T15:49:41.713869Z",
     "start_time": "2019-11-13T15:49:41.707318Z"
    }
   },
   "source": [
    "<h2> Compute geopy distance"
   ]
  },
  {
   "cell_type": "code",
   "execution_count": 7,
   "metadata": {
    "ExecuteTime": {
     "end_time": "2019-11-26T14:20:19.419785Z",
     "start_time": "2019-11-26T14:20:19.413014Z"
    }
   },
   "outputs": [],
   "source": [
    "def compute_distance(row):\n",
    "    src = (row[\"Pickup Lat\"],row[\"Pickup Long\"])\n",
    "    dest= (row[\"Destination Lat\"],row[\"Destination Long\"])\n",
    "    return distance.distance(src,dest).km"
   ]
  },
  {
   "cell_type": "code",
   "execution_count": 8,
   "metadata": {
    "ExecuteTime": {
     "end_time": "2019-11-26T14:20:26.722296Z",
     "start_time": "2019-11-26T14:20:19.632837Z"
    }
   },
   "outputs": [],
   "source": [
    "df_train[\"geopy_distance\"] = df_train.apply(compute_distance,axis=1)\n",
    "df_test[\"geopy_distance\"] = df_test.apply(compute_distance,axis=1)"
   ]
  },
  {
   "cell_type": "markdown",
   "metadata": {},
   "source": [
    "<h2> Compute mean distance"
   ]
  },
  {
   "cell_type": "code",
   "execution_count": 9,
   "metadata": {
    "ExecuteTime": {
     "end_time": "2019-11-26T14:20:26.755277Z",
     "start_time": "2019-11-26T14:20:26.724344Z"
    }
   },
   "outputs": [],
   "source": [
    "df_train[\"Distance mean\"] = (df_train[\"Distance (KM)\"] + df_train[\"geopy_distance\"])/2\n",
    "df_test[\"Distance mean\"] = (df_test[\"Distance (KM)\"] + df_test[\"geopy_distance\"])/2"
   ]
  },
  {
   "cell_type": "markdown",
   "metadata": {},
   "source": [
    "<h2> Compute speed / geospeed"
   ]
  },
  {
   "cell_type": "code",
   "execution_count": 10,
   "metadata": {
    "ExecuteTime": {
     "end_time": "2019-11-26T14:20:26.760413Z",
     "start_time": "2019-11-26T14:20:26.757388Z"
    }
   },
   "outputs": [],
   "source": [
    "speed_threshold = 100 #Km/h"
   ]
  },
  {
   "cell_type": "code",
   "execution_count": 11,
   "metadata": {
    "ExecuteTime": {
     "end_time": "2019-11-26T14:20:26.805881Z",
     "start_time": "2019-11-26T14:20:26.764081Z"
    }
   },
   "outputs": [
    {
     "data": {
      "text/html": [
       "<div>\n",
       "<style scoped>\n",
       "    .dataframe tbody tr th:only-of-type {\n",
       "        vertical-align: middle;\n",
       "    }\n",
       "\n",
       "    .dataframe tbody tr th {\n",
       "        vertical-align: top;\n",
       "    }\n",
       "\n",
       "    .dataframe thead th {\n",
       "        text-align: right;\n",
       "    }\n",
       "</style>\n",
       "<table border=\"1\" class=\"dataframe\">\n",
       "  <thead>\n",
       "    <tr style=\"text-align: right;\">\n",
       "      <th></th>\n",
       "      <th>User Id</th>\n",
       "      <th>Vehicle Type</th>\n",
       "      <th>Platform Type</th>\n",
       "      <th>Personal or Business</th>\n",
       "      <th>Placement - Day of Month</th>\n",
       "      <th>Placement - Weekday (Mo = 1)</th>\n",
       "      <th>Placement - Time</th>\n",
       "      <th>Confirmation - Day of Month</th>\n",
       "      <th>Confirmation - Weekday (Mo = 1)</th>\n",
       "      <th>Confirmation - Time</th>\n",
       "      <th>...</th>\n",
       "      <th>Destination Long</th>\n",
       "      <th>Rider Id</th>\n",
       "      <th>Time from Pickup to Arrival</th>\n",
       "      <th>Pickup - Hour</th>\n",
       "      <th>No_Of_Orders</th>\n",
       "      <th>Age</th>\n",
       "      <th>Average_Rating</th>\n",
       "      <th>No_of_Ratings</th>\n",
       "      <th>geopy_distance</th>\n",
       "      <th>Distance mean</th>\n",
       "    </tr>\n",
       "    <tr>\n",
       "      <th>Order No</th>\n",
       "      <th></th>\n",
       "      <th></th>\n",
       "      <th></th>\n",
       "      <th></th>\n",
       "      <th></th>\n",
       "      <th></th>\n",
       "      <th></th>\n",
       "      <th></th>\n",
       "      <th></th>\n",
       "      <th></th>\n",
       "      <th></th>\n",
       "      <th></th>\n",
       "      <th></th>\n",
       "      <th></th>\n",
       "      <th></th>\n",
       "      <th></th>\n",
       "      <th></th>\n",
       "      <th></th>\n",
       "      <th></th>\n",
       "      <th></th>\n",
       "      <th></th>\n",
       "    </tr>\n",
       "  </thead>\n",
       "  <tbody>\n",
       "    <tr>\n",
       "      <th>Order_No_4211</th>\n",
       "      <td>User_Id_633</td>\n",
       "      <td>Bike</td>\n",
       "      <td>3</td>\n",
       "      <td>Business</td>\n",
       "      <td>9</td>\n",
       "      <td>5</td>\n",
       "      <td>9:35:46 AM</td>\n",
       "      <td>9</td>\n",
       "      <td>5</td>\n",
       "      <td>9:40:10 AM</td>\n",
       "      <td>...</td>\n",
       "      <td>36.829741</td>\n",
       "      <td>Rider_Id_432</td>\n",
       "      <td>745</td>\n",
       "      <td>10</td>\n",
       "      <td>1637</td>\n",
       "      <td>1309</td>\n",
       "      <td>13.8</td>\n",
       "      <td>549</td>\n",
       "      <td>1.919586</td>\n",
       "      <td>2.959793</td>\n",
       "    </tr>\n",
       "    <tr>\n",
       "      <th>Order_No_27440</th>\n",
       "      <td>User_Id_2642</td>\n",
       "      <td>Bike</td>\n",
       "      <td>3</td>\n",
       "      <td>Personal</td>\n",
       "      <td>18</td>\n",
       "      <td>5</td>\n",
       "      <td>3:41:17 PM</td>\n",
       "      <td>18</td>\n",
       "      <td>5</td>\n",
       "      <td>3:41:30 PM</td>\n",
       "      <td>...</td>\n",
       "      <td>36.904295</td>\n",
       "      <td>Rider_Id_432</td>\n",
       "      <td>2886</td>\n",
       "      <td>16</td>\n",
       "      <td>1637</td>\n",
       "      <td>1309</td>\n",
       "      <td>13.8</td>\n",
       "      <td>549</td>\n",
       "      <td>13.367010</td>\n",
       "      <td>16.683505</td>\n",
       "    </tr>\n",
       "    <tr>\n",
       "      <th>Order_No_14170</th>\n",
       "      <td>User_Id_3339</td>\n",
       "      <td>Bike</td>\n",
       "      <td>3</td>\n",
       "      <td>Business</td>\n",
       "      <td>31</td>\n",
       "      <td>5</td>\n",
       "      <td>12:51:41 PM</td>\n",
       "      <td>31</td>\n",
       "      <td>5</td>\n",
       "      <td>1:12:49 PM</td>\n",
       "      <td>...</td>\n",
       "      <td>36.818206</td>\n",
       "      <td>Rider_Id_432</td>\n",
       "      <td>2615</td>\n",
       "      <td>13</td>\n",
       "      <td>1637</td>\n",
       "      <td>1309</td>\n",
       "      <td>13.8</td>\n",
       "      <td>549</td>\n",
       "      <td>4.484905</td>\n",
       "      <td>5.242453</td>\n",
       "    </tr>\n",
       "    <tr>\n",
       "      <th>Order_No_21727</th>\n",
       "      <td>User_Id_3523</td>\n",
       "      <td>Bike</td>\n",
       "      <td>3</td>\n",
       "      <td>Personal</td>\n",
       "      <td>2</td>\n",
       "      <td>2</td>\n",
       "      <td>7:12:10 AM</td>\n",
       "      <td>2</td>\n",
       "      <td>2</td>\n",
       "      <td>7:12:29 AM</td>\n",
       "      <td>...</td>\n",
       "      <td>36.802061</td>\n",
       "      <td>Rider_Id_432</td>\n",
       "      <td>2986</td>\n",
       "      <td>7</td>\n",
       "      <td>1637</td>\n",
       "      <td>1309</td>\n",
       "      <td>13.8</td>\n",
       "      <td>549</td>\n",
       "      <td>8.903984</td>\n",
       "      <td>13.451992</td>\n",
       "    </tr>\n",
       "    <tr>\n",
       "      <th>Order_No_8301</th>\n",
       "      <td>User_Id_87</td>\n",
       "      <td>Bike</td>\n",
       "      <td>2</td>\n",
       "      <td>Personal</td>\n",
       "      <td>22</td>\n",
       "      <td>2</td>\n",
       "      <td>10:40:58 AM</td>\n",
       "      <td>22</td>\n",
       "      <td>2</td>\n",
       "      <td>10:42:24 AM</td>\n",
       "      <td>...</td>\n",
       "      <td>36.752427</td>\n",
       "      <td>Rider_Id_432</td>\n",
       "      <td>1602</td>\n",
       "      <td>10</td>\n",
       "      <td>1637</td>\n",
       "      <td>1309</td>\n",
       "      <td>13.8</td>\n",
       "      <td>549</td>\n",
       "      <td>5.997613</td>\n",
       "      <td>6.498806</td>\n",
       "    </tr>\n",
       "  </tbody>\n",
       "</table>\n",
       "<p>5 rows × 35 columns</p>\n",
       "</div>"
      ],
      "text/plain": [
       "                     User Id Vehicle Type  Platform Type Personal or Business  \\\n",
       "Order No                                                                        \n",
       "Order_No_4211    User_Id_633         Bike              3             Business   \n",
       "Order_No_27440  User_Id_2642         Bike              3             Personal   \n",
       "Order_No_14170  User_Id_3339         Bike              3             Business   \n",
       "Order_No_21727  User_Id_3523         Bike              3             Personal   \n",
       "Order_No_8301     User_Id_87         Bike              2             Personal   \n",
       "\n",
       "                Placement - Day of Month  Placement - Weekday (Mo = 1)  \\\n",
       "Order No                                                                 \n",
       "Order_No_4211                          9                             5   \n",
       "Order_No_27440                        18                             5   \n",
       "Order_No_14170                        31                             5   \n",
       "Order_No_21727                         2                             2   \n",
       "Order_No_8301                         22                             2   \n",
       "\n",
       "               Placement - Time  Confirmation - Day of Month  \\\n",
       "Order No                                                       \n",
       "Order_No_4211        9:35:46 AM                            9   \n",
       "Order_No_27440       3:41:17 PM                           18   \n",
       "Order_No_14170      12:51:41 PM                           31   \n",
       "Order_No_21727       7:12:10 AM                            2   \n",
       "Order_No_8301       10:40:58 AM                           22   \n",
       "\n",
       "                Confirmation - Weekday (Mo = 1) Confirmation - Time  \\\n",
       "Order No                                                              \n",
       "Order_No_4211                                 5          9:40:10 AM   \n",
       "Order_No_27440                                5          3:41:30 PM   \n",
       "Order_No_14170                                5          1:12:49 PM   \n",
       "Order_No_21727                                2          7:12:29 AM   \n",
       "Order_No_8301                                 2         10:42:24 AM   \n",
       "\n",
       "                    ...        Destination Long      Rider Id  \\\n",
       "Order No            ...                                         \n",
       "Order_No_4211       ...               36.829741  Rider_Id_432   \n",
       "Order_No_27440      ...               36.904295  Rider_Id_432   \n",
       "Order_No_14170      ...               36.818206  Rider_Id_432   \n",
       "Order_No_21727      ...               36.802061  Rider_Id_432   \n",
       "Order_No_8301       ...               36.752427  Rider_Id_432   \n",
       "\n",
       "               Time from Pickup to Arrival  Pickup - Hour  No_Of_Orders   Age  \\\n",
       "Order No                                                                        \n",
       "Order_No_4211                          745             10          1637  1309   \n",
       "Order_No_27440                        2886             16          1637  1309   \n",
       "Order_No_14170                        2615             13          1637  1309   \n",
       "Order_No_21727                        2986              7          1637  1309   \n",
       "Order_No_8301                         1602             10          1637  1309   \n",
       "\n",
       "                Average_Rating  No_of_Ratings geopy_distance  Distance mean  \n",
       "Order No                                                                     \n",
       "Order_No_4211             13.8            549       1.919586       2.959793  \n",
       "Order_No_27440            13.8            549      13.367010      16.683505  \n",
       "Order_No_14170            13.8            549       4.484905       5.242453  \n",
       "Order_No_21727            13.8            549       8.903984      13.451992  \n",
       "Order_No_8301             13.8            549       5.997613       6.498806  \n",
       "\n",
       "[5 rows x 35 columns]"
      ]
     },
     "execution_count": 11,
     "metadata": {},
     "output_type": "execute_result"
    }
   ],
   "source": [
    "df_train.head()"
   ]
  },
  {
   "cell_type": "code",
   "execution_count": 12,
   "metadata": {
    "ExecuteTime": {
     "end_time": "2019-11-26T14:20:26.819124Z",
     "start_time": "2019-11-26T14:20:26.808858Z"
    }
   },
   "outputs": [],
   "source": [
    "df_train[\"speed\"] = (df_train[\"Distance (KM)\"] / df_train[\"Time from Pickup to Arrival\"])*3600\n",
    "df_train[\"mean speed\"] = (df_train[\"Distance mean\"] / df_train[\"Time from Pickup to Arrival\"])*3600\n",
    "df_train[\"geospeed\"] = (df_train[\"geopy_distance\"] / df_train[\"Time from Pickup to Arrival\"])*3600"
   ]
  },
  {
   "cell_type": "code",
   "execution_count": 13,
   "metadata": {
    "ExecuteTime": {
     "end_time": "2019-11-26T14:20:27.150143Z",
     "start_time": "2019-11-26T14:20:26.821299Z"
    }
   },
   "outputs": [
    {
     "data": {
      "image/png": "[encoded data removed]",
      "text/plain": [
       "<Figure size 720x288 with 1 Axes>"
      ]
     },
     "metadata": {
      "needs_background": "light"
     },
     "output_type": "display_data"
    }
   ],
   "source": [
    "plt.figure(figsize=(10,4))\n",
    "plt.hist(df_train[\"speed\"], bins=100)\n",
    "plt.show()"
   ]
  },
  {
   "cell_type": "code",
   "execution_count": 14,
   "metadata": {
    "ExecuteTime": {
     "end_time": "2019-11-26T14:20:27.476389Z",
     "start_time": "2019-11-26T14:20:27.153378Z"
    }
   },
   "outputs": [
    {
     "data": {
      "image/png": "[encoded data removed]",
      "text/plain": [
       "<Figure size 720x288 with 1 Axes>"
      ]
     },
     "metadata": {
      "needs_background": "light"
     },
     "output_type": "display_data"
    }
   ],
   "source": [
    "plt.figure(figsize=(10,4))\n",
    "plt.hist(df_train[df_train[\"speed\"]>speed_threshold][\"Time from Pickup to Arrival\"], bins=100)\n",
    "plt.show()"
   ]
  },
  {
   "cell_type": "code",
   "execution_count": 15,
   "metadata": {
    "ExecuteTime": {
     "end_time": "2019-11-26T14:20:27.887731Z",
     "start_time": "2019-11-26T14:20:27.479654Z"
    }
   },
   "outputs": [
    {
     "data": {
      "image/png": "[encoded data removed]",
      "text/plain": [
       "<Figure size 720x288 with 1 Axes>"
      ]
     },
     "metadata": {
      "needs_background": "light"
     },
     "output_type": "display_data"
    }
   ],
   "source": [
    "plt.figure(figsize=(10,4))\n",
    "plt.hist(df_train[df_train[\"speed\"]>speed_threshold][\"Distance (KM)\"], bins=100)\n",
    "plt.show()"
   ]
  },
  {
   "cell_type": "code",
   "execution_count": 16,
   "metadata": {
    "ExecuteTime": {
     "end_time": "2019-11-26T14:21:22.573150Z",
     "start_time": "2019-11-26T14:21:22.552872Z"
    }
   },
   "outputs": [],
   "source": [
    "median_speed = df_train.groupby(\"Rider Id\")[\"speed\"].median()\n",
    "median_meanspeed = df_train.groupby(\"Rider Id\")[\"mean speed\"].median()\n",
    "median_geospeed = df_train.groupby(\"Rider Id\")[\"geospeed\"].median()"
   ]
  },
  {
   "cell_type": "code",
   "execution_count": 17,
   "metadata": {
    "ExecuteTime": {
     "end_time": "2019-11-26T14:21:23.088103Z",
     "start_time": "2019-11-26T14:21:23.065802Z"
    }
   },
   "outputs": [],
   "source": [
    "max_speed = df_train.groupby(\"Rider Id\")[\"speed\"].max()\n",
    "max_meanspeed = df_train.groupby(\"Rider Id\")[\"mean speed\"].max()\n",
    "max_geospeed = df_train.groupby(\"Rider Id\")[\"geospeed\"].max()"
   ]
  },
  {
   "cell_type": "code",
   "execution_count": 18,
   "metadata": {
    "ExecuteTime": {
     "end_time": "2019-11-26T14:22:04.863335Z",
     "start_time": "2019-11-26T14:22:04.417530Z"
    }
   },
   "outputs": [
    {
     "data": {
      "image/png": "[encoded data removed]",
      "text/plain": [
       "<Figure size 864x360 with 2 Axes>"
      ]
     },
     "metadata": {
      "needs_background": "light"
     },
     "output_type": "display_data"
    }
   ],
   "source": [
    "plt.figure(figsize=(12,5))\n",
    "\n",
    "plt.subplot(1, 2, 1)\n",
    "plt.hist(median_speed[median_speed<speed_threshold], bins=100)\n",
    "plt.title(\"speed\")\n",
    "\n",
    "#[mean_speed<speed_threshold]\n",
    "\n",
    "plt.subplot(1, 2, 2)\n",
    "plt.hist(median_geospeed[median_geospeed<speed_threshold], bins=100, color=\"g\")\n",
    "plt.title(\"geospeed\")\n",
    "\n",
    "plt.show()"
   ]
  },
  {
   "cell_type": "code",
   "execution_count": 21,
   "metadata": {
    "ExecuteTime": {
     "end_time": "2019-11-26T14:23:39.369901Z",
     "start_time": "2019-11-26T14:23:38.753617Z"
    }
   },
   "outputs": [
    {
     "data": {
      "image/png": "[encoded data removed]",
      "text/plain": [
       "<Figure size 864x360 with 2 Axes>"
      ]
     },
     "metadata": {
      "needs_background": "light"
     },
     "output_type": "display_data"
    }
   ],
   "source": [
    "plt.figure(figsize=(12,5))\n",
    "\n",
    "plt.subplot(1, 2, 1)\n",
    "plt.hist(max_speed[max_speed<speed_threshold], bins=100)\n",
    "plt.title(\"speed\")\n",
    "\n",
    "#\n",
    "\n",
    "plt.subplot(1, 2, 2)\n",
    "plt.hist(max_geospeed[max_geospeed<speed_threshold], bins=100, color=\"g\")\n",
    "plt.title(\"geospeed\")\n",
    "\n",
    "plt.show()"
   ]
  },
  {
   "cell_type": "code",
   "execution_count": 24,
   "metadata": {
    "ExecuteTime": {
     "end_time": "2019-11-26T14:23:53.549874Z",
     "start_time": "2019-11-26T14:23:53.539727Z"
    }
   },
   "outputs": [
    {
     "data": {
      "text/plain": [
       "23"
      ]
     },
     "execution_count": 24,
     "metadata": {},
     "output_type": "execute_result"
    }
   ],
   "source": [
    "len(median_speed[median_speed>speed_threshold])"
   ]
  },
  {
   "cell_type": "code",
   "execution_count": 26,
   "metadata": {
    "ExecuteTime": {
     "end_time": "2019-11-26T14:25:55.873490Z",
     "start_time": "2019-11-26T14:25:55.862002Z"
    }
   },
   "outputs": [
    {
     "data": {
      "text/plain": [
       "(23.064602242391885, 19.005139918013846, 14.922784108433774)"
      ]
     },
     "execution_count": 26,
     "metadata": {},
     "output_type": "execute_result"
    }
   ],
   "source": [
    "median_riders_speed = df_train[\"speed\"].median()\n",
    "median_riders_meanspeed = df_train[\"mean speed\"].median()\n",
    "median_riders_geospeed = df_train[\"geospeed\"].median()\n",
    "median_riders_speed, median_riders_meanspeed, median_riders_geospeed"
   ]
  },
  {
   "cell_type": "code",
   "execution_count": 28,
   "metadata": {
    "ExecuteTime": {
     "end_time": "2019-11-26T14:26:25.612225Z",
     "start_time": "2019-11-26T14:26:25.600653Z"
    }
   },
   "outputs": [
    {
     "data": {
      "text/plain": [
       "(61200.0, 52140.939470921876, 43081.87894184376)"
      ]
     },
     "execution_count": 28,
     "metadata": {},
     "output_type": "execute_result"
    }
   ],
   "source": [
    "max_riders_speed = df_train[\"speed\"].max()\n",
    "max_riders_meanspeed = df_train[\"mean speed\"].max()\n",
    "max_riders_geospeed = df_train[\"geospeed\"].max()\n",
    "max_riders_speed, max_riders_meanspeed, max_riders_geospeed"
   ]
  },
  {
   "cell_type": "code",
   "execution_count": 37,
   "metadata": {
    "ExecuteTime": {
     "end_time": "2019-11-26T14:30:08.773511Z",
     "start_time": "2019-11-26T14:30:08.763321Z"
    }
   },
   "outputs": [],
   "source": [
    "def get_speed(r_id, ref=median_speed):\n",
    "    try:\n",
    "        return ref[r_id]\n",
    "    except:\n",
    "        return \"NaN\""
   ]
  },
  {
   "cell_type": "code",
   "execution_count": 38,
   "metadata": {
    "ExecuteTime": {
     "end_time": "2019-11-26T14:30:08.959110Z",
     "start_time": "2019-11-26T14:30:08.954151Z"
    }
   },
   "outputs": [],
   "source": [
    "df_riders = df_riders.reset_index()"
   ]
  },
  {
   "cell_type": "code",
   "execution_count": 39,
   "metadata": {
    "ExecuteTime": {
     "end_time": "2019-11-26T14:30:09.146616Z",
     "start_time": "2019-11-26T14:30:09.118496Z"
    }
   },
   "outputs": [],
   "source": [
    "df_riders[\"speed\"] = df_riders[\"Rider Id\"].apply(lambda x: get_speed(x, median_geospeed))\n",
    "df_riders[\"maxspeed\"] = df_riders[\"Rider Id\"].apply(lambda x: get_speed(x, max_speed))"
   ]
  },
  {
   "cell_type": "code",
   "execution_count": 40,
   "metadata": {
    "ExecuteTime": {
     "end_time": "2019-11-26T14:30:09.316207Z",
     "start_time": "2019-11-26T14:30:09.283893Z"
    }
   },
   "outputs": [],
   "source": [
    "df_riders[\"geospeed\"] = df_riders[\"Rider Id\"].apply(lambda x: get_speed(x, median_geospeed))\n",
    "df_riders[\"max geospeed\"] = df_riders[\"Rider Id\"].apply(lambda x: get_speed(x, max_geospeed))"
   ]
  },
  {
   "cell_type": "code",
   "execution_count": 41,
   "metadata": {
    "ExecuteTime": {
     "end_time": "2019-11-26T14:30:09.648044Z",
     "start_time": "2019-11-26T14:30:09.620669Z"
    }
   },
   "outputs": [],
   "source": [
    "df_riders[\"meanspeed\"] = df_riders[\"Rider Id\"].apply(lambda x: get_speed(x, median_meanspeed))\n",
    "df_riders[\"max meanspeed\"] = df_riders[\"Rider Id\"].apply(lambda x: get_speed(x, max_meanspeed))"
   ]
  },
  {
   "cell_type": "code",
   "execution_count": 42,
   "metadata": {
    "ExecuteTime": {
     "end_time": "2019-11-26T14:30:09.965004Z",
     "start_time": "2019-11-26T14:30:09.947273Z"
    }
   },
   "outputs": [
    {
     "data": {
      "text/html": [
       "<div>\n",
       "<style scoped>\n",
       "    .dataframe tbody tr th:only-of-type {\n",
       "        vertical-align: middle;\n",
       "    }\n",
       "\n",
       "    .dataframe tbody tr th {\n",
       "        vertical-align: top;\n",
       "    }\n",
       "\n",
       "    .dataframe thead th {\n",
       "        text-align: right;\n",
       "    }\n",
       "</style>\n",
       "<table border=\"1\" class=\"dataframe\">\n",
       "  <thead>\n",
       "    <tr style=\"text-align: right;\">\n",
       "      <th></th>\n",
       "      <th>No_Of_Orders</th>\n",
       "      <th>Age</th>\n",
       "      <th>Average_Rating</th>\n",
       "      <th>No_of_Ratings</th>\n",
       "      <th>speed</th>\n",
       "      <th>maxspeed</th>\n",
       "      <th>geospeed</th>\n",
       "      <th>max geospeed</th>\n",
       "      <th>meanspeed</th>\n",
       "      <th>max meanspeed</th>\n",
       "    </tr>\n",
       "    <tr>\n",
       "      <th>Rider Id</th>\n",
       "      <th></th>\n",
       "      <th></th>\n",
       "      <th></th>\n",
       "      <th></th>\n",
       "      <th></th>\n",
       "      <th></th>\n",
       "      <th></th>\n",
       "      <th></th>\n",
       "      <th></th>\n",
       "      <th></th>\n",
       "    </tr>\n",
       "  </thead>\n",
       "  <tbody>\n",
       "    <tr>\n",
       "      <th>Rider_Id_396</th>\n",
       "      <td>2946</td>\n",
       "      <td>2298</td>\n",
       "      <td>14</td>\n",
       "      <td>1159</td>\n",
       "      <td>8.86556</td>\n",
       "      <td>29.3279</td>\n",
       "      <td>8.86556</td>\n",
       "      <td>11.4824</td>\n",
       "      <td>17.3664</td>\n",
       "      <td>20.4051</td>\n",
       "    </tr>\n",
       "    <tr>\n",
       "      <th>Rider_Id_479</th>\n",
       "      <td>360</td>\n",
       "      <td>951</td>\n",
       "      <td>13.5</td>\n",
       "      <td>176</td>\n",
       "      <td>11.9398</td>\n",
       "      <td>25.4597</td>\n",
       "      <td>11.9398</td>\n",
       "      <td>16.3674</td>\n",
       "      <td>17.354</td>\n",
       "      <td>20.703</td>\n",
       "    </tr>\n",
       "    <tr>\n",
       "      <th>Rider_Id_648</th>\n",
       "      <td>1746</td>\n",
       "      <td>821</td>\n",
       "      <td>14.3</td>\n",
       "      <td>466</td>\n",
       "      <td>18.8161</td>\n",
       "      <td>51.7398</td>\n",
       "      <td>18.8161</td>\n",
       "      <td>45.2545</td>\n",
       "      <td>23.2508</td>\n",
       "      <td>48.4972</td>\n",
       "    </tr>\n",
       "    <tr>\n",
       "      <th>Rider_Id_753</th>\n",
       "      <td>314</td>\n",
       "      <td>980</td>\n",
       "      <td>12.5</td>\n",
       "      <td>75</td>\n",
       "      <td>13.6807</td>\n",
       "      <td>35.027</td>\n",
       "      <td>13.6807</td>\n",
       "      <td>26.2191</td>\n",
       "      <td>17.6832</td>\n",
       "      <td>30.6231</td>\n",
       "    </tr>\n",
       "    <tr>\n",
       "      <th>Rider_Id_335</th>\n",
       "      <td>536</td>\n",
       "      <td>1113</td>\n",
       "      <td>13.7</td>\n",
       "      <td>156</td>\n",
       "      <td>NaN</td>\n",
       "      <td>NaN</td>\n",
       "      <td>NaN</td>\n",
       "      <td>NaN</td>\n",
       "      <td>NaN</td>\n",
       "      <td>NaN</td>\n",
       "    </tr>\n",
       "  </tbody>\n",
       "</table>\n",
       "</div>"
      ],
      "text/plain": [
       "             No_Of_Orders   Age Average_Rating No_of_Ratings    speed  \\\n",
       "Rider Id                                                                \n",
       "Rider_Id_396         2946  2298             14          1159  8.86556   \n",
       "Rider_Id_479          360   951           13.5           176  11.9398   \n",
       "Rider_Id_648         1746   821           14.3           466  18.8161   \n",
       "Rider_Id_753          314   980           12.5            75  13.6807   \n",
       "Rider_Id_335          536  1113           13.7           156      NaN   \n",
       "\n",
       "             maxspeed geospeed max geospeed meanspeed max meanspeed  \n",
       "Rider Id                                                             \n",
       "Rider_Id_396  29.3279  8.86556      11.4824   17.3664       20.4051  \n",
       "Rider_Id_479  25.4597  11.9398      16.3674    17.354        20.703  \n",
       "Rider_Id_648  51.7398  18.8161      45.2545   23.2508       48.4972  \n",
       "Rider_Id_753   35.027  13.6807      26.2191   17.6832       30.6231  \n",
       "Rider_Id_335      NaN      NaN          NaN       NaN           NaN  "
      ]
     },
     "execution_count": 42,
     "metadata": {},
     "output_type": "execute_result"
    }
   ],
   "source": [
    "riders_columns = ['No_Of_Orders', 'Age', 'Average_Rating','No_of_Ratings', 'speed', 'maxspeed', \"geospeed\", \"max geospeed\", \"meanspeed\", \"max meanspeed\"]\n",
    "data = df_riders[riders_columns]\n",
    "df_riders = pd.DataFrame(data.values, index=df_riders[\"Rider Id\"], columns=riders_columns)\n",
    "df_riders.head()"
   ]
  },
  {
   "cell_type": "markdown",
   "metadata": {
    "ExecuteTime": {
     "end_time": "2019-11-13T15:51:11.083834Z",
     "start_time": "2019-11-13T15:51:11.075835Z"
    }
   },
   "source": [
    "<h1> ML: Speed regression"
   ]
  },
  {
   "cell_type": "markdown",
   "metadata": {},
   "source": [
    "<h2> Data preparation"
   ]
  },
  {
   "cell_type": "code",
   "execution_count": 43,
   "metadata": {
    "ExecuteTime": {
     "end_time": "2019-11-26T14:37:00.601146Z",
     "start_time": "2019-11-26T14:37:00.598092Z"
    }
   },
   "outputs": [],
   "source": [
    "targets = ['speed', 'maxspeed', \"geospeed\", \"max geospeed\", \"meanspeed\", \"max meanspeed\"]"
   ]
  },
  {
   "cell_type": "markdown",
   "metadata": {},
   "source": [
    "<h3> Create the test set"
   ]
  },
  {
   "cell_type": "code",
   "execution_count": 61,
   "metadata": {
    "ExecuteTime": {
     "end_time": "2019-11-26T14:46:42.422333Z",
     "start_time": "2019-11-26T14:46:42.388483Z"
    }
   },
   "outputs": [
    {
     "data": {
      "text/plain": [
       "(36, 10)"
      ]
     },
     "execution_count": 61,
     "metadata": {},
     "output_type": "execute_result"
    }
   ],
   "source": [
    "df_riders_test = df_riders[df_riders[\"speed\"] == \"NaN\"]\n",
    "\n",
    "df_y_nan = df_riders_test[targets]\n",
    "    \n",
    "X__test = df_riders_test.drop(targets, axis=1)\n",
    "df_riders_test.shape"
   ]
  },
  {
   "cell_type": "markdown",
   "metadata": {},
   "source": [
    "<h3> Create the train set"
   ]
  },
  {
   "cell_type": "code",
   "execution_count": 62,
   "metadata": {
    "ExecuteTime": {
     "end_time": "2019-11-26T14:46:42.784056Z",
     "start_time": "2019-11-26T14:46:42.741401Z"
    }
   },
   "outputs": [],
   "source": [
    "df_riders_t = df_riders[df_riders[\"speed\"] != \"NaN\"]"
   ]
  },
  {
   "cell_type": "code",
   "execution_count": 63,
   "metadata": {
    "ExecuteTime": {
     "end_time": "2019-11-26T14:46:42.885760Z",
     "start_time": "2019-11-26T14:46:42.872597Z"
    }
   },
   "outputs": [
    {
     "name": "stdout",
     "output_type": "stream",
     "text": [
      "exclude 19 out of 924\n"
     ]
    }
   ],
   "source": [
    "# Integrate a speed threshold\n",
    "speed_threshold = 100 #km/h\n",
    "df_riders_train = df_riders_t[df_riders_t[\"speed\"]<speed_threshold]\n",
    "df_riders_exclude = df_riders_t[df_riders_t[\"speed\"]>speed_threshold]\n",
    "print(\"exclude\", df_riders_exclude.shape[0], \"out of\", df_riders_t.shape[0])"
   ]
  },
  {
   "cell_type": "code",
   "execution_count": 64,
   "metadata": {
    "ExecuteTime": {
     "end_time": "2019-11-26T14:46:43.123760Z",
     "start_time": "2019-11-26T14:46:43.119547Z"
    }
   },
   "outputs": [],
   "source": [
    "df_y = df_riders_train[targets]"
   ]
  },
  {
   "cell_type": "code",
   "execution_count": 65,
   "metadata": {
    "ExecuteTime": {
     "end_time": "2019-11-26T14:46:43.269926Z",
     "start_time": "2019-11-26T14:46:43.262583Z"
    }
   },
   "outputs": [
    {
     "data": {
      "text/plain": [
       "(905, 10)"
      ]
     },
     "execution_count": 65,
     "metadata": {},
     "output_type": "execute_result"
    }
   ],
   "source": [
    "X = df_riders_train.drop(targets, axis=1)\n",
    "df_riders_train.shape"
   ]
  },
  {
   "cell_type": "code",
   "execution_count": 104,
   "metadata": {
    "ExecuteTime": {
     "end_time": "2019-11-26T14:55:43.569746Z",
     "start_time": "2019-11-26T14:55:43.557265Z"
    }
   },
   "outputs": [],
   "source": [
    "for column in X.columns:\n",
    "    X[column] = X[column].astype(\"float\")\n",
    "    X__test[column] = X__test[column].astype(\"float\")"
   ]
  },
  {
   "cell_type": "markdown",
   "metadata": {},
   "source": [
    "<h2> Building the model"
   ]
  },
  {
   "cell_type": "code",
   "execution_count": 105,
   "metadata": {
    "ExecuteTime": {
     "end_time": "2019-11-26T14:55:44.026675Z",
     "start_time": "2019-11-26T14:55:44.017118Z"
    }
   },
   "outputs": [
    {
     "data": {
      "text/plain": [
       "['speed', 'maxspeed', 'geospeed', 'max geospeed', 'meanspeed', 'max meanspeed']"
      ]
     },
     "execution_count": 105,
     "metadata": {},
     "output_type": "execute_result"
    }
   ],
   "source": [
    "targets"
   ]
  },
  {
   "cell_type": "code",
   "execution_count": 106,
   "metadata": {
    "ExecuteTime": {
     "end_time": "2019-11-26T14:55:44.154537Z",
     "start_time": "2019-11-26T14:55:44.150701Z"
    }
   },
   "outputs": [],
   "source": [
    "y = df_y[\"meanspeed\"]"
   ]
  },
  {
   "cell_type": "code",
   "execution_count": 107,
   "metadata": {
    "ExecuteTime": {
     "end_time": "2019-11-26T14:55:44.266159Z",
     "start_time": "2019-11-26T14:55:44.254399Z"
    }
   },
   "outputs": [],
   "source": [
    "from sklearn.model_selection import train_test_split\n",
    "from sklearn.metrics import mean_squared_error\n",
    "\n",
    "X_train, X_test, y_train, y_test = train_test_split(X, y, random_state=0, test_size=0.2)"
   ]
  },
  {
   "cell_type": "code",
   "execution_count": 108,
   "metadata": {
    "ExecuteTime": {
     "end_time": "2019-11-26T14:55:44.463038Z",
     "start_time": "2019-11-26T14:55:44.408863Z"
    }
   },
   "outputs": [
    {
     "name": "stderr",
     "output_type": "stream",
     "text": [
      "/home/zyncus/bin/anaconda/lib/python3.7/site-packages/xgboost/core.py:587: FutureWarning: Series.base is deprecated and will be removed in a future version\n",
      "  if getattr(data, 'base', None) is not None and \\\n"
     ]
    }
   ],
   "source": [
    "from sklearn.linear_model import LinearRegression\n",
    "from lightgbm.sklearn import LGBMRegressor\n",
    "from xgboost.sklearn import XGBRegressor\n",
    "from sklearn.ensemble import RandomForestRegressor\n",
    "\n",
    "model = XGBRegressor()\n",
    "model.fit(X_train, y_train)\n",
    "y_pred = model.predict(X_test)"
   ]
  },
  {
   "cell_type": "code",
   "execution_count": 109,
   "metadata": {
    "ExecuteTime": {
     "end_time": "2019-11-26T14:55:44.650217Z",
     "start_time": "2019-11-26T14:55:44.644163Z"
    }
   },
   "outputs": [
    {
     "data": {
      "text/plain": [
       "33.10811730643417"
      ]
     },
     "execution_count": 109,
     "metadata": {},
     "output_type": "execute_result"
    }
   ],
   "source": [
    "mean_squared_error(y_pred, y_test)"
   ]
  },
  {
   "cell_type": "code",
   "execution_count": 110,
   "metadata": {
    "ExecuteTime": {
     "end_time": "2019-11-26T14:55:45.058439Z",
     "start_time": "2019-11-26T14:55:44.779773Z"
    }
   },
   "outputs": [
    {
     "data": {
      "image/png": "[encoded data removed]",
      "text/plain": [
       "<Figure size 432x288 with 1 Axes>"
      ]
     },
     "metadata": {
      "needs_background": "light"
     },
     "output_type": "display_data"
    }
   ],
   "source": [
    "plt.figure()\n",
    "plt.scatter(y_pred, y_test)\n",
    "plt.title(\"Predicted Speed compare to Actual Speed\")\n",
    "plt.show()"
   ]
  },
  {
   "cell_type": "markdown",
   "metadata": {},
   "source": [
    "<h1> Filling df_riders with speed prediction"
   ]
  },
  {
   "cell_type": "code",
   "execution_count": 117,
   "metadata": {
    "ExecuteTime": {
     "end_time": "2019-11-26T14:57:42.223138Z",
     "start_time": "2019-11-26T14:57:41.896601Z"
    }
   },
   "outputs": [
    {
     "name": "stderr",
     "output_type": "stream",
     "text": [
      "/home/zyncus/bin/anaconda/lib/python3.7/site-packages/xgboost/core.py:587: FutureWarning: Series.base is deprecated and will be removed in a future version\n",
      "  if getattr(data, 'base', None) is not None and \\\n",
      "/home/zyncus/bin/anaconda/lib/python3.7/site-packages/xgboost/core.py:588: FutureWarning: Series.base is deprecated and will be removed in a future version\n",
      "  data.base is not None and isinstance(data, np.ndarray) \\\n"
     ]
    }
   ],
   "source": [
    "df__pred = pd.DataFrame(index = X__test.index)\n",
    "for target in targets:\n",
    "    model_s = XGBRegressor()\n",
    "    model_s.fit(X, df_y[target])\n",
    "    df__pred[target] = model_s.predict(X__test)"
   ]
  },
  {
   "cell_type": "code",
   "execution_count": 119,
   "metadata": {
    "ExecuteTime": {
     "end_time": "2019-11-26T14:57:59.464549Z",
     "start_time": "2019-11-26T14:57:59.451113Z"
    }
   },
   "outputs": [
    {
     "data": {
      "text/html": [
       "<div>\n",
       "<style scoped>\n",
       "    .dataframe tbody tr th:only-of-type {\n",
       "        vertical-align: middle;\n",
       "    }\n",
       "\n",
       "    .dataframe tbody tr th {\n",
       "        vertical-align: top;\n",
       "    }\n",
       "\n",
       "    .dataframe thead th {\n",
       "        text-align: right;\n",
       "    }\n",
       "</style>\n",
       "<table border=\"1\" class=\"dataframe\">\n",
       "  <thead>\n",
       "    <tr style=\"text-align: right;\">\n",
       "      <th></th>\n",
       "      <th>speed</th>\n",
       "      <th>maxspeed</th>\n",
       "      <th>geospeed</th>\n",
       "      <th>max geospeed</th>\n",
       "      <th>meanspeed</th>\n",
       "      <th>max meanspeed</th>\n",
       "    </tr>\n",
       "    <tr>\n",
       "      <th>Rider Id</th>\n",
       "      <th></th>\n",
       "      <th></th>\n",
       "      <th></th>\n",
       "      <th></th>\n",
       "      <th></th>\n",
       "      <th></th>\n",
       "    </tr>\n",
       "  </thead>\n",
       "  <tbody>\n",
       "    <tr>\n",
       "      <th>Rider_Id_335</th>\n",
       "      <td>15.052905</td>\n",
       "      <td>887.220459</td>\n",
       "      <td>15.052905</td>\n",
       "      <td>489.519623</td>\n",
       "      <td>19.531078</td>\n",
       "      <td>716.876831</td>\n",
       "    </tr>\n",
       "    <tr>\n",
       "      <th>Rider_Id_757</th>\n",
       "      <td>15.602324</td>\n",
       "      <td>1043.676514</td>\n",
       "      <td>15.602324</td>\n",
       "      <td>678.016907</td>\n",
       "      <td>18.606432</td>\n",
       "      <td>1197.502441</td>\n",
       "    </tr>\n",
       "    <tr>\n",
       "      <th>Rider_Id_437</th>\n",
       "      <td>15.266510</td>\n",
       "      <td>258.524811</td>\n",
       "      <td>15.266510</td>\n",
       "      <td>234.338715</td>\n",
       "      <td>19.986156</td>\n",
       "      <td>192.160965</td>\n",
       "    </tr>\n",
       "    <tr>\n",
       "      <th>Rider_Id_153</th>\n",
       "      <td>14.277929</td>\n",
       "      <td>107.211411</td>\n",
       "      <td>14.277929</td>\n",
       "      <td>47.491917</td>\n",
       "      <td>17.376793</td>\n",
       "      <td>145.216095</td>\n",
       "    </tr>\n",
       "    <tr>\n",
       "      <th>Rider_Id_374</th>\n",
       "      <td>15.532578</td>\n",
       "      <td>971.503418</td>\n",
       "      <td>15.532578</td>\n",
       "      <td>458.057312</td>\n",
       "      <td>18.804474</td>\n",
       "      <td>1014.997131</td>\n",
       "    </tr>\n",
       "  </tbody>\n",
       "</table>\n",
       "</div>"
      ],
      "text/plain": [
       "                  speed     maxspeed   geospeed  max geospeed  meanspeed  \\\n",
       "Rider Id                                                                   \n",
       "Rider_Id_335  15.052905   887.220459  15.052905    489.519623  19.531078   \n",
       "Rider_Id_757  15.602324  1043.676514  15.602324    678.016907  18.606432   \n",
       "Rider_Id_437  15.266510   258.524811  15.266510    234.338715  19.986156   \n",
       "Rider_Id_153  14.277929   107.211411  14.277929     47.491917  17.376793   \n",
       "Rider_Id_374  15.532578   971.503418  15.532578    458.057312  18.804474   \n",
       "\n",
       "              max meanspeed  \n",
       "Rider Id                     \n",
       "Rider_Id_335     716.876831  \n",
       "Rider_Id_757    1197.502441  \n",
       "Rider_Id_437     192.160965  \n",
       "Rider_Id_153     145.216095  \n",
       "Rider_Id_374    1014.997131  "
      ]
     },
     "execution_count": 119,
     "metadata": {},
     "output_type": "execute_result"
    }
   ],
   "source": [
    "df__pred.head()"
   ]
  },
  {
   "cell_type": "code",
   "execution_count": 120,
   "metadata": {
    "ExecuteTime": {
     "end_time": "2019-11-26T14:59:00.828257Z",
     "start_time": "2019-11-26T14:59:00.479205Z"
    }
   },
   "outputs": [
    {
     "data": {
      "image/png": "[encoded data removed]",
      "text/plain": [
       "<Figure size 864x360 with 2 Axes>"
      ]
     },
     "metadata": {
      "needs_background": "light"
     },
     "output_type": "display_data"
    }
   ],
   "source": [
    "y__speed_pred_s = sorted(df__pred[\"speed\"])\n",
    "y__geospeed_pred_s = sorted(df__pred[\"geospeed\"])\n",
    "\n",
    "plt.figure(figsize=(12,5))\n",
    "\n",
    "plt.subplot(1, 2, 1)\n",
    "plt.plot(np.arange(len(y__speed_pred_s)), y__speed_pred_s)\n",
    "plt.title(\"speed predicted values\")\n",
    "\n",
    "plt.subplot(1, 2, 2)\n",
    "plt.plot(np.arange(len(y__geospeed_pred_s)), y__geospeed_pred_s)\n",
    "plt.title(\"geospeed predicted values\")\n",
    "\n",
    "plt.show()"
   ]
  },
  {
   "cell_type": "code",
   "execution_count": 121,
   "metadata": {
    "ExecuteTime": {
     "end_time": "2019-11-26T14:59:20.862580Z",
     "start_time": "2019-11-26T14:59:20.835368Z"
    }
   },
   "outputs": [
    {
     "name": "stdout",
     "output_type": "stream",
     "text": [
      "(36, 10)\n"
     ]
    },
    {
     "data": {
      "text/html": [
       "<div>\n",
       "<style scoped>\n",
       "    .dataframe tbody tr th:only-of-type {\n",
       "        vertical-align: middle;\n",
       "    }\n",
       "\n",
       "    .dataframe tbody tr th {\n",
       "        vertical-align: top;\n",
       "    }\n",
       "\n",
       "    .dataframe thead th {\n",
       "        text-align: right;\n",
       "    }\n",
       "</style>\n",
       "<table border=\"1\" class=\"dataframe\">\n",
       "  <thead>\n",
       "    <tr style=\"text-align: right;\">\n",
       "      <th></th>\n",
       "      <th>No_Of_Orders</th>\n",
       "      <th>Age</th>\n",
       "      <th>Average_Rating</th>\n",
       "      <th>No_of_Ratings</th>\n",
       "      <th>speed</th>\n",
       "      <th>maxspeed</th>\n",
       "      <th>geospeed</th>\n",
       "      <th>max geospeed</th>\n",
       "      <th>meanspeed</th>\n",
       "      <th>max meanspeed</th>\n",
       "    </tr>\n",
       "    <tr>\n",
       "      <th>Rider Id</th>\n",
       "      <th></th>\n",
       "      <th></th>\n",
       "      <th></th>\n",
       "      <th></th>\n",
       "      <th></th>\n",
       "      <th></th>\n",
       "      <th></th>\n",
       "      <th></th>\n",
       "      <th></th>\n",
       "      <th></th>\n",
       "    </tr>\n",
       "  </thead>\n",
       "  <tbody>\n",
       "    <tr>\n",
       "      <th>Rider_Id_335</th>\n",
       "      <td>536.0</td>\n",
       "      <td>1113.0</td>\n",
       "      <td>13.7</td>\n",
       "      <td>156.0</td>\n",
       "      <td>15.052905</td>\n",
       "      <td>887.220459</td>\n",
       "      <td>15.052905</td>\n",
       "      <td>489.519623</td>\n",
       "      <td>19.531078</td>\n",
       "      <td>716.876831</td>\n",
       "    </tr>\n",
       "    <tr>\n",
       "      <th>Rider_Id_757</th>\n",
       "      <td>2101.0</td>\n",
       "      <td>1066.0</td>\n",
       "      <td>12.3</td>\n",
       "      <td>229.0</td>\n",
       "      <td>15.602324</td>\n",
       "      <td>1043.676514</td>\n",
       "      <td>15.602324</td>\n",
       "      <td>678.016907</td>\n",
       "      <td>18.606432</td>\n",
       "      <td>1197.502441</td>\n",
       "    </tr>\n",
       "    <tr>\n",
       "      <th>Rider_Id_437</th>\n",
       "      <td>2966.0</td>\n",
       "      <td>2053.0</td>\n",
       "      <td>14.0</td>\n",
       "      <td>1147.0</td>\n",
       "      <td>15.266510</td>\n",
       "      <td>258.524811</td>\n",
       "      <td>15.266510</td>\n",
       "      <td>234.338715</td>\n",
       "      <td>19.986156</td>\n",
       "      <td>192.160965</td>\n",
       "    </tr>\n",
       "    <tr>\n",
       "      <th>Rider_Id_153</th>\n",
       "      <td>233.0</td>\n",
       "      <td>982.0</td>\n",
       "      <td>13.9</td>\n",
       "      <td>85.0</td>\n",
       "      <td>14.277929</td>\n",
       "      <td>107.211411</td>\n",
       "      <td>14.277929</td>\n",
       "      <td>47.491917</td>\n",
       "      <td>17.376793</td>\n",
       "      <td>145.216095</td>\n",
       "    </tr>\n",
       "    <tr>\n",
       "      <th>Rider_Id_374</th>\n",
       "      <td>1985.0</td>\n",
       "      <td>1191.0</td>\n",
       "      <td>12.3</td>\n",
       "      <td>143.0</td>\n",
       "      <td>15.532578</td>\n",
       "      <td>971.503418</td>\n",
       "      <td>15.532578</td>\n",
       "      <td>458.057312</td>\n",
       "      <td>18.804474</td>\n",
       "      <td>1014.997131</td>\n",
       "    </tr>\n",
       "  </tbody>\n",
       "</table>\n",
       "</div>"
      ],
      "text/plain": [
       "              No_Of_Orders     Age  Average_Rating  No_of_Ratings      speed  \\\n",
       "Rider Id                                                                       \n",
       "Rider_Id_335         536.0  1113.0            13.7          156.0  15.052905   \n",
       "Rider_Id_757        2101.0  1066.0            12.3          229.0  15.602324   \n",
       "Rider_Id_437        2966.0  2053.0            14.0         1147.0  15.266510   \n",
       "Rider_Id_153         233.0   982.0            13.9           85.0  14.277929   \n",
       "Rider_Id_374        1985.0  1191.0            12.3          143.0  15.532578   \n",
       "\n",
       "                 maxspeed   geospeed  max geospeed  meanspeed  max meanspeed  \n",
       "Rider Id                                                                      \n",
       "Rider_Id_335   887.220459  15.052905    489.519623  19.531078     716.876831  \n",
       "Rider_Id_757  1043.676514  15.602324    678.016907  18.606432    1197.502441  \n",
       "Rider_Id_437   258.524811  15.266510    234.338715  19.986156     192.160965  \n",
       "Rider_Id_153   107.211411  14.277929     47.491917  17.376793     145.216095  \n",
       "Rider_Id_374   971.503418  15.532578    458.057312  18.804474    1014.997131  "
      ]
     },
     "execution_count": 121,
     "metadata": {},
     "output_type": "execute_result"
    }
   ],
   "source": [
    "df__pred = pd.concat([X__test, df__pred], axis=1)\n",
    "print(df__pred.shape)\n",
    "df__pred.head()"
   ]
  },
  {
   "cell_type": "code",
   "execution_count": 122,
   "metadata": {
    "ExecuteTime": {
     "end_time": "2019-11-26T14:59:30.139773Z",
     "start_time": "2019-11-26T14:59:30.113234Z"
    }
   },
   "outputs": [
    {
     "name": "stdout",
     "output_type": "stream",
     "text": [
      "(960, 10)\n"
     ]
    },
    {
     "data": {
      "text/html": [
       "<div>\n",
       "<style scoped>\n",
       "    .dataframe tbody tr th:only-of-type {\n",
       "        vertical-align: middle;\n",
       "    }\n",
       "\n",
       "    .dataframe tbody tr th {\n",
       "        vertical-align: top;\n",
       "    }\n",
       "\n",
       "    .dataframe thead th {\n",
       "        text-align: right;\n",
       "    }\n",
       "</style>\n",
       "<table border=\"1\" class=\"dataframe\">\n",
       "  <thead>\n",
       "    <tr style=\"text-align: right;\">\n",
       "      <th></th>\n",
       "      <th>No_Of_Orders</th>\n",
       "      <th>Age</th>\n",
       "      <th>Average_Rating</th>\n",
       "      <th>No_of_Ratings</th>\n",
       "      <th>speed</th>\n",
       "      <th>maxspeed</th>\n",
       "      <th>geospeed</th>\n",
       "      <th>max geospeed</th>\n",
       "      <th>meanspeed</th>\n",
       "      <th>max meanspeed</th>\n",
       "    </tr>\n",
       "    <tr>\n",
       "      <th>Rider Id</th>\n",
       "      <th></th>\n",
       "      <th></th>\n",
       "      <th></th>\n",
       "      <th></th>\n",
       "      <th></th>\n",
       "      <th></th>\n",
       "      <th></th>\n",
       "      <th></th>\n",
       "      <th></th>\n",
       "      <th></th>\n",
       "    </tr>\n",
       "  </thead>\n",
       "  <tbody>\n",
       "    <tr>\n",
       "      <th>Rider_Id_335</th>\n",
       "      <td>536</td>\n",
       "      <td>1113</td>\n",
       "      <td>13.7</td>\n",
       "      <td>156</td>\n",
       "      <td>15.0529</td>\n",
       "      <td>887.22</td>\n",
       "      <td>15.0529</td>\n",
       "      <td>489.52</td>\n",
       "      <td>19.5311</td>\n",
       "      <td>716.877</td>\n",
       "    </tr>\n",
       "    <tr>\n",
       "      <th>Rider_Id_757</th>\n",
       "      <td>2101</td>\n",
       "      <td>1066</td>\n",
       "      <td>12.3</td>\n",
       "      <td>229</td>\n",
       "      <td>15.6023</td>\n",
       "      <td>1043.68</td>\n",
       "      <td>15.6023</td>\n",
       "      <td>678.017</td>\n",
       "      <td>18.6064</td>\n",
       "      <td>1197.5</td>\n",
       "    </tr>\n",
       "    <tr>\n",
       "      <th>Rider_Id_437</th>\n",
       "      <td>2966</td>\n",
       "      <td>2053</td>\n",
       "      <td>14</td>\n",
       "      <td>1147</td>\n",
       "      <td>15.2665</td>\n",
       "      <td>258.525</td>\n",
       "      <td>15.2665</td>\n",
       "      <td>234.339</td>\n",
       "      <td>19.9862</td>\n",
       "      <td>192.161</td>\n",
       "    </tr>\n",
       "    <tr>\n",
       "      <th>Rider_Id_153</th>\n",
       "      <td>233</td>\n",
       "      <td>982</td>\n",
       "      <td>13.9</td>\n",
       "      <td>85</td>\n",
       "      <td>14.2779</td>\n",
       "      <td>107.211</td>\n",
       "      <td>14.2779</td>\n",
       "      <td>47.4919</td>\n",
       "      <td>17.3768</td>\n",
       "      <td>145.216</td>\n",
       "    </tr>\n",
       "    <tr>\n",
       "      <th>Rider_Id_374</th>\n",
       "      <td>1985</td>\n",
       "      <td>1191</td>\n",
       "      <td>12.3</td>\n",
       "      <td>143</td>\n",
       "      <td>15.5326</td>\n",
       "      <td>971.503</td>\n",
       "      <td>15.5326</td>\n",
       "      <td>458.057</td>\n",
       "      <td>18.8045</td>\n",
       "      <td>1015</td>\n",
       "    </tr>\n",
       "  </tbody>\n",
       "</table>\n",
       "</div>"
      ],
      "text/plain": [
       "             No_Of_Orders   Age Average_Rating No_of_Ratings    speed  \\\n",
       "Rider Id                                                                \n",
       "Rider_Id_335          536  1113           13.7           156  15.0529   \n",
       "Rider_Id_757         2101  1066           12.3           229  15.6023   \n",
       "Rider_Id_437         2966  2053             14          1147  15.2665   \n",
       "Rider_Id_153          233   982           13.9            85  14.2779   \n",
       "Rider_Id_374         1985  1191           12.3           143  15.5326   \n",
       "\n",
       "             maxspeed geospeed max geospeed meanspeed max meanspeed  \n",
       "Rider Id                                                             \n",
       "Rider_Id_335   887.22  15.0529       489.52   19.5311       716.877  \n",
       "Rider_Id_757  1043.68  15.6023      678.017   18.6064        1197.5  \n",
       "Rider_Id_437  258.525  15.2665      234.339   19.9862       192.161  \n",
       "Rider_Id_153  107.211  14.2779      47.4919   17.3768       145.216  \n",
       "Rider_Id_374  971.503  15.5326      458.057   18.8045          1015  "
      ]
     },
     "execution_count": 122,
     "metadata": {},
     "output_type": "execute_result"
    }
   ],
   "source": [
    "df__riders = pd.concat([df__pred, df_riders_t], axis=0)\n",
    "print(df__riders.shape)\n",
    "df__riders.head()"
   ]
  },
  {
   "cell_type": "code",
   "execution_count": 123,
   "metadata": {
    "ExecuteTime": {
     "end_time": "2019-11-26T14:59:36.472774Z",
     "start_time": "2019-11-26T14:59:36.461004Z"
    }
   },
   "outputs": [
    {
     "name": "stdout",
     "output_type": "stream",
     "text": [
      "<class 'pandas.core.frame.DataFrame'>\n",
      "Index: 960 entries, Rider_Id_335 to Rider_Id_201\n",
      "Data columns (total 10 columns):\n",
      "No_Of_Orders      960 non-null object\n",
      "Age               960 non-null object\n",
      "Average_Rating    960 non-null object\n",
      "No_of_Ratings     960 non-null object\n",
      "speed             960 non-null float64\n",
      "maxspeed          960 non-null object\n",
      "geospeed          960 non-null object\n",
      "max geospeed      960 non-null object\n",
      "meanspeed         960 non-null object\n",
      "max meanspeed     960 non-null object\n",
      "dtypes: float64(1), object(9)\n",
      "memory usage: 82.5+ KB\n"
     ]
    }
   ],
   "source": [
    "df__riders[\"speed\"] = df__riders[\"speed\"].astype(\"float\")\n",
    "df__riders.info()"
   ]
  },
  {
   "cell_type": "markdown",
   "metadata": {},
   "source": [
    "<h2> Dumping to pickle"
   ]
  },
  {
   "cell_type": "code",
   "execution_count": 124,
   "metadata": {
    "ExecuteTime": {
     "end_time": "2019-11-26T14:59:40.046651Z",
     "start_time": "2019-11-26T14:59:40.041298Z"
    }
   },
   "outputs": [
    {
     "data": {
      "text/plain": [
       "(960, 10)"
      ]
     },
     "execution_count": 124,
     "metadata": {},
     "output_type": "execute_result"
    }
   ],
   "source": [
    "df__riders.shape"
   ]
  },
  {
   "cell_type": "code",
   "execution_count": 125,
   "metadata": {
    "ExecuteTime": {
     "end_time": "2019-11-26T14:59:41.399032Z",
     "start_time": "2019-11-26T14:59:41.264420Z"
    }
   },
   "outputs": [],
   "source": [
    "pickle_filename = \"data/riders.pkl\"\n",
    "content = (df__riders)\n",
    "dump_to_pickle(content, pickle_filename)"
   ]
  }
 ],
 "metadata": {
  "kernelspec": {
   "display_name": "Python 3",
   "language": "python",
   "name": "python3"
  },
  "language_info": {
   "codemirror_mode": {
    "name": "ipython",
    "version": 3
   },
   "file_extension": ".py",
   "mimetype": "text/x-python",
   "name": "python",
   "nbconvert_exporter": "python",
   "pygments_lexer": "ipython3",
   "version": "3.7.4"
  },
  "toc": {
   "base_numbering": 1,
   "nav_menu": {},
   "number_sections": true,
   "sideBar": true,
   "skip_h1_title": false,
   "title_cell": "Table of Contents",
   "title_sidebar": "Contents",
   "toc_cell": false,
   "toc_position": {},
   "toc_section_display": true,
   "toc_window_display": true
  }
 },
 "nbformat": 4,
 "nbformat_minor": 2
}
