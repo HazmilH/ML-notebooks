{
 "cells": [
  {
   "cell_type": "code",
   "execution_count": 1,
   "metadata": {
    "ExecuteTime": {
     "end_time": "2019-11-14T15:30:55.178936Z",
     "start_time": "2019-11-14T15:30:54.692629Z"
    }
   },
   "outputs": [],
   "source": [
    "import pandas as pd\n",
    "import numpy as np\n",
    "import matplotlib.pyplot as plt\n",
    "from datetime import datetime\n",
    "from geopy import distance\n",
    "import pickle\n",
    "from utils_dump_load import load_from_pickle, dump_to_pickle"
   ]
  },
  {
   "cell_type": "markdown",
   "metadata": {},
   "source": [
    "<h1> EDA"
   ]
  },
  {
   "cell_type": "markdown",
   "metadata": {},
   "source": [
    "<h2> Loading data"
   ]
  },
  {
   "cell_type": "code",
   "execution_count": 2,
   "metadata": {
    "ExecuteTime": {
     "end_time": "2019-11-14T15:30:55.233236Z",
     "start_time": "2019-11-14T15:30:55.180893Z"
    }
   },
   "outputs": [
    {
     "data": {
      "text/plain": [
       "(7068, 24)"
      ]
     },
     "execution_count": 2,
     "metadata": {},
     "output_type": "execute_result"
    }
   ],
   "source": [
    "filepath_test = \"data/Test.csv\"\n",
    "df_test = pd.read_csv(filepath_test, index_col=\"Order No\")\n",
    "df_test.shape"
   ]
  },
  {
   "cell_type": "code",
   "execution_count": 3,
   "metadata": {
    "ExecuteTime": {
     "end_time": "2019-11-14T15:30:55.388802Z",
     "start_time": "2019-11-14T15:30:55.235890Z"
    }
   },
   "outputs": [
    {
     "data": {
      "text/plain": [
       "(21201, 28)"
      ]
     },
     "execution_count": 3,
     "metadata": {},
     "output_type": "execute_result"
    }
   ],
   "source": [
    "filepath_train = \"data/Train.csv\"\n",
    "df_train = pd.read_csv(filepath_train, index_col=\"Order No\")\n",
    "df_train.shape"
   ]
  },
  {
   "cell_type": "code",
   "execution_count": 4,
   "metadata": {
    "ExecuteTime": {
     "end_time": "2019-11-14T15:30:55.400470Z",
     "start_time": "2019-11-14T15:30:55.391341Z"
    }
   },
   "outputs": [
    {
     "data": {
      "text/plain": [
       "(960, 4)"
      ]
     },
     "execution_count": 4,
     "metadata": {},
     "output_type": "execute_result"
    }
   ],
   "source": [
    "filepath_riders = \"data/Riders.csv\"\n",
    "df_riders = pd.read_csv(filepath_riders, index_col=\"Rider Id\")\n",
    "df_riders.shape"
   ]
  },
  {
   "cell_type": "code",
   "execution_count": 5,
   "metadata": {
    "ExecuteTime": {
     "end_time": "2019-11-14T15:30:55.427813Z",
     "start_time": "2019-11-14T15:30:55.403087Z"
    }
   },
   "outputs": [
    {
     "data": {
      "text/html": [
       "<div>\n",
       "<style scoped>\n",
       "    .dataframe tbody tr th:only-of-type {\n",
       "        vertical-align: middle;\n",
       "    }\n",
       "\n",
       "    .dataframe tbody tr th {\n",
       "        vertical-align: top;\n",
       "    }\n",
       "\n",
       "    .dataframe thead th {\n",
       "        text-align: right;\n",
       "    }\n",
       "</style>\n",
       "<table border=\"1\" class=\"dataframe\">\n",
       "  <thead>\n",
       "    <tr style=\"text-align: right;\">\n",
       "      <th></th>\n",
       "      <th>No_Of_Orders</th>\n",
       "      <th>Age</th>\n",
       "      <th>Average_Rating</th>\n",
       "      <th>No_of_Ratings</th>\n",
       "    </tr>\n",
       "    <tr>\n",
       "      <th>Rider Id</th>\n",
       "      <th></th>\n",
       "      <th></th>\n",
       "      <th></th>\n",
       "      <th></th>\n",
       "    </tr>\n",
       "  </thead>\n",
       "  <tbody>\n",
       "    <tr>\n",
       "      <th>Rider_Id_396</th>\n",
       "      <td>2946</td>\n",
       "      <td>2298</td>\n",
       "      <td>14.0</td>\n",
       "      <td>1159</td>\n",
       "    </tr>\n",
       "    <tr>\n",
       "      <th>Rider_Id_479</th>\n",
       "      <td>360</td>\n",
       "      <td>951</td>\n",
       "      <td>13.5</td>\n",
       "      <td>176</td>\n",
       "    </tr>\n",
       "    <tr>\n",
       "      <th>Rider_Id_648</th>\n",
       "      <td>1746</td>\n",
       "      <td>821</td>\n",
       "      <td>14.3</td>\n",
       "      <td>466</td>\n",
       "    </tr>\n",
       "    <tr>\n",
       "      <th>Rider_Id_753</th>\n",
       "      <td>314</td>\n",
       "      <td>980</td>\n",
       "      <td>12.5</td>\n",
       "      <td>75</td>\n",
       "    </tr>\n",
       "    <tr>\n",
       "      <th>Rider_Id_335</th>\n",
       "      <td>536</td>\n",
       "      <td>1113</td>\n",
       "      <td>13.7</td>\n",
       "      <td>156</td>\n",
       "    </tr>\n",
       "  </tbody>\n",
       "</table>\n",
       "</div>"
      ],
      "text/plain": [
       "              No_Of_Orders   Age  Average_Rating  No_of_Ratings\n",
       "Rider Id                                                       \n",
       "Rider_Id_396          2946  2298            14.0           1159\n",
       "Rider_Id_479           360   951            13.5            176\n",
       "Rider_Id_648          1746   821            14.3            466\n",
       "Rider_Id_753           314   980            12.5             75\n",
       "Rider_Id_335           536  1113            13.7            156"
      ]
     },
     "execution_count": 5,
     "metadata": {},
     "output_type": "execute_result"
    }
   ],
   "source": [
    "df_riders.head()"
   ]
  },
  {
   "cell_type": "markdown",
   "metadata": {},
   "source": [
    "<h2> Merge data"
   ]
  },
  {
   "cell_type": "code",
   "execution_count": 6,
   "metadata": {
    "ExecuteTime": {
     "end_time": "2019-11-14T15:30:55.566570Z",
     "start_time": "2019-11-14T15:30:55.431537Z"
    }
   },
   "outputs": [],
   "source": [
    "df_train = df_train.merge(df_riders, left_on='Rider Id', right_on='Rider Id', right_index=True)\n",
    "df_test = df_test.merge(df_riders, left_on='Rider Id', right_on='Rider Id', right_index=True)"
   ]
  },
  {
   "cell_type": "markdown",
   "metadata": {
    "ExecuteTime": {
     "end_time": "2019-11-13T15:49:41.713869Z",
     "start_time": "2019-11-13T15:49:41.707318Z"
    }
   },
   "source": [
    "<h2> Compute geopy distance"
   ]
  },
  {
   "cell_type": "code",
   "execution_count": 7,
   "metadata": {
    "ExecuteTime": {
     "end_time": "2019-11-14T15:30:55.572698Z",
     "start_time": "2019-11-14T15:30:55.568876Z"
    }
   },
   "outputs": [],
   "source": [
    "def compute_distance(row):\n",
    "    src = (row[\"Pickup Lat\"],row[\"Pickup Long\"])\n",
    "    dest= (row[\"Destination Lat\"],row[\"Destination Long\"])\n",
    "    return distance.distance(src,dest).km"
   ]
  },
  {
   "cell_type": "code",
   "execution_count": 8,
   "metadata": {
    "ExecuteTime": {
     "end_time": "2019-11-14T15:31:03.109600Z",
     "start_time": "2019-11-14T15:30:55.575558Z"
    }
   },
   "outputs": [],
   "source": [
    "df_train[\"geopy_distance\"] = df_train.apply(compute_distance,axis=1)\n",
    "df_test[\"geopy_distance\"] = df_test.apply(compute_distance,axis=1)"
   ]
  },
  {
   "cell_type": "markdown",
   "metadata": {},
   "source": [
    "<h2> Compute speed / geospeed"
   ]
  },
  {
   "cell_type": "code",
   "execution_count": 9,
   "metadata": {
    "ExecuteTime": {
     "end_time": "2019-11-14T15:31:03.113769Z",
     "start_time": "2019-11-14T15:31:03.111639Z"
    }
   },
   "outputs": [],
   "source": [
    "speed_threshold = 100 #Km/h"
   ]
  },
  {
   "cell_type": "code",
   "execution_count": 10,
   "metadata": {
    "ExecuteTime": {
     "end_time": "2019-11-14T15:31:03.144925Z",
     "start_time": "2019-11-14T15:31:03.116126Z"
    }
   },
   "outputs": [],
   "source": [
    "df_train[\"speed\"] = (df_train[\"Distance (KM)\"] / df_train[\"Time from Pickup to Arrival\"])*3600\n",
    "df_train[\"geospeed\"] = (df_train[\"geopy_distance\"] / df_train[\"Time from Pickup to Arrival\"])*3600"
   ]
  },
  {
   "cell_type": "code",
   "execution_count": 11,
   "metadata": {
    "ExecuteTime": {
     "end_time": "2019-11-14T15:31:03.478685Z",
     "start_time": "2019-11-14T15:31:03.149901Z"
    }
   },
   "outputs": [
    {
     "data": {
      "image/png": "[encoded data removed]",
      "text/plain": [
       "<Figure size 720x288 with 1 Axes>"
      ]
     },
     "metadata": {
      "needs_background": "light"
     },
     "output_type": "display_data"
    }
   ],
   "source": [
    "plt.figure(figsize=(10,4))\n",
    "plt.hist(df_train[\"speed\"], bins=100)\n",
    "plt.show()"
   ]
  },
  {
   "cell_type": "code",
   "execution_count": 12,
   "metadata": {
    "ExecuteTime": {
     "end_time": "2019-11-14T15:31:03.814305Z",
     "start_time": "2019-11-14T15:31:03.488124Z"
    }
   },
   "outputs": [
    {
     "data": {
      "image/png": "[encoded data removed]",
      "text/plain": [
       "<Figure size 720x288 with 1 Axes>"
      ]
     },
     "metadata": {
      "needs_background": "light"
     },
     "output_type": "display_data"
    }
   ],
   "source": [
    "plt.figure(figsize=(10,4))\n",
    "plt.hist(df_train[df_train[\"speed\"]>speed_threshold][\"Time from Pickup to Arrival\"], bins=100)\n",
    "plt.show()"
   ]
  },
  {
   "cell_type": "code",
   "execution_count": 13,
   "metadata": {
    "ExecuteTime": {
     "end_time": "2019-11-14T15:31:04.155257Z",
     "start_time": "2019-11-14T15:31:03.821184Z"
    }
   },
   "outputs": [
    {
     "data": {
      "image/png": "[encoded data removed]",
      "text/plain": [
       "<Figure size 720x288 with 1 Axes>"
      ]
     },
     "metadata": {
      "needs_background": "light"
     },
     "output_type": "display_data"
    }
   ],
   "source": [
    "plt.figure(figsize=(10,4))\n",
    "plt.hist(df_train[df_train[\"speed\"]>speed_threshold][\"Distance (KM)\"], bins=100)\n",
    "plt.show()"
   ]
  },
  {
   "cell_type": "code",
   "execution_count": 14,
   "metadata": {
    "ExecuteTime": {
     "end_time": "2019-11-14T15:31:04.172270Z",
     "start_time": "2019-11-14T15:31:04.158435Z"
    }
   },
   "outputs": [],
   "source": [
    "mean_speed = df_train.groupby(\"Rider Id\")[\"speed\"].mean()\n",
    "mean_geospeed = df_train.groupby(\"Rider Id\")[\"geospeed\"].mean()"
   ]
  },
  {
   "cell_type": "code",
   "execution_count": 15,
   "metadata": {
    "ExecuteTime": {
     "end_time": "2019-11-14T15:31:04.809690Z",
     "start_time": "2019-11-14T15:31:04.175349Z"
    }
   },
   "outputs": [
    {
     "data": {
      "image/png": "[encoded data removed]",
      "text/plain": [
       "<Figure size 864x360 with 2 Axes>"
      ]
     },
     "metadata": {
      "needs_background": "light"
     },
     "output_type": "display_data"
    }
   ],
   "source": [
    "plt.figure(figsize=(12,5))\n",
    "\n",
    "plt.subplot(1, 2, 1)\n",
    "plt.hist(mean_speed[mean_speed<speed_threshold], bins=100)\n",
    "plt.title(\"speed\")\n",
    "\n",
    "plt.subplot(1, 2, 2)\n",
    "plt.hist(mean_geospeed[mean_geospeed<speed_threshold], bins=100, color=\"g\")\n",
    "plt.title(\"geospeed\")\n",
    "\n",
    "plt.show()"
   ]
  },
  {
   "cell_type": "code",
   "execution_count": 16,
   "metadata": {
    "ExecuteTime": {
     "end_time": "2019-11-14T15:31:04.823765Z",
     "start_time": "2019-11-14T15:31:04.817409Z"
    }
   },
   "outputs": [
    {
     "data": {
      "text/plain": [
       "(249.30537853208438, 156.5807340761476)"
      ]
     },
     "execution_count": 16,
     "metadata": {},
     "output_type": "execute_result"
    }
   ],
   "source": [
    "mean_riders_speed = df_train[\"speed\"].mean()\n",
    "mean_riders_geospeed = df_train[\"geospeed\"].mean()\n",
    "mean_riders_speed, mean_riders_geospeed"
   ]
  },
  {
   "cell_type": "code",
   "execution_count": 17,
   "metadata": {
    "ExecuteTime": {
     "end_time": "2019-11-14T15:31:04.840172Z",
     "start_time": "2019-11-14T15:31:04.826883Z"
    }
   },
   "outputs": [],
   "source": [
    "def get_speed(r_id):\n",
    "    try:\n",
    "        return mean_speed[r_id]\n",
    "    except:\n",
    "        return \"NaN\""
   ]
  },
  {
   "cell_type": "code",
   "execution_count": 18,
   "metadata": {
    "ExecuteTime": {
     "end_time": "2019-11-14T15:31:04.867016Z",
     "start_time": "2019-11-14T15:31:04.846797Z"
    }
   },
   "outputs": [],
   "source": [
    "def get_geospeed(r_id):\n",
    "    try:\n",
    "        return mean_geospeed[r_id]\n",
    "    except:\n",
    "        return \"NaN\""
   ]
  },
  {
   "cell_type": "code",
   "execution_count": 19,
   "metadata": {
    "ExecuteTime": {
     "end_time": "2019-11-14T15:31:04.878187Z",
     "start_time": "2019-11-14T15:31:04.869999Z"
    }
   },
   "outputs": [],
   "source": [
    "df_riders = df_riders.reset_index()"
   ]
  },
  {
   "cell_type": "code",
   "execution_count": 20,
   "metadata": {
    "ExecuteTime": {
     "end_time": "2019-11-14T15:31:04.929807Z",
     "start_time": "2019-11-14T15:31:04.881518Z"
    }
   },
   "outputs": [],
   "source": [
    "df_riders[\"speed\"] = df_riders[\"Rider Id\"].apply(lambda x: get_speed(x))\n",
    "df_riders[\"geospeed\"] = df_riders[\"Rider Id\"].apply(lambda x: get_geospeed(x))"
   ]
  },
  {
   "cell_type": "code",
   "execution_count": 21,
   "metadata": {
    "ExecuteTime": {
     "end_time": "2019-11-14T15:31:04.955893Z",
     "start_time": "2019-11-14T15:31:04.934730Z"
    }
   },
   "outputs": [
    {
     "data": {
      "text/html": [
       "<div>\n",
       "<style scoped>\n",
       "    .dataframe tbody tr th:only-of-type {\n",
       "        vertical-align: middle;\n",
       "    }\n",
       "\n",
       "    .dataframe tbody tr th {\n",
       "        vertical-align: top;\n",
       "    }\n",
       "\n",
       "    .dataframe thead th {\n",
       "        text-align: right;\n",
       "    }\n",
       "</style>\n",
       "<table border=\"1\" class=\"dataframe\">\n",
       "  <thead>\n",
       "    <tr style=\"text-align: right;\">\n",
       "      <th></th>\n",
       "      <th>No_Of_Orders</th>\n",
       "      <th>Age</th>\n",
       "      <th>Average_Rating</th>\n",
       "      <th>No_of_Ratings</th>\n",
       "      <th>speed</th>\n",
       "      <th>geospeed</th>\n",
       "    </tr>\n",
       "    <tr>\n",
       "      <th>Rider Id</th>\n",
       "      <th></th>\n",
       "      <th></th>\n",
       "      <th></th>\n",
       "      <th></th>\n",
       "      <th></th>\n",
       "      <th></th>\n",
       "    </tr>\n",
       "  </thead>\n",
       "  <tbody>\n",
       "    <tr>\n",
       "      <th>Rider_Id_396</th>\n",
       "      <td>2946</td>\n",
       "      <td>2298</td>\n",
       "      <td>14</td>\n",
       "      <td>1159</td>\n",
       "      <td>25.8673</td>\n",
       "      <td>8.86556</td>\n",
       "    </tr>\n",
       "    <tr>\n",
       "      <th>Rider_Id_479</th>\n",
       "      <td>360</td>\n",
       "      <td>951</td>\n",
       "      <td>13.5</td>\n",
       "      <td>176</td>\n",
       "      <td>20.6516</td>\n",
       "      <td>12.5004</td>\n",
       "    </tr>\n",
       "    <tr>\n",
       "      <th>Rider_Id_648</th>\n",
       "      <td>1746</td>\n",
       "      <td>821</td>\n",
       "      <td>14.3</td>\n",
       "      <td>466</td>\n",
       "      <td>27.9318</td>\n",
       "      <td>19.8829</td>\n",
       "    </tr>\n",
       "    <tr>\n",
       "      <th>Rider_Id_753</th>\n",
       "      <td>314</td>\n",
       "      <td>980</td>\n",
       "      <td>12.5</td>\n",
       "      <td>75</td>\n",
       "      <td>20.3334</td>\n",
       "      <td>13.712</td>\n",
       "    </tr>\n",
       "    <tr>\n",
       "      <th>Rider_Id_335</th>\n",
       "      <td>536</td>\n",
       "      <td>1113</td>\n",
       "      <td>13.7</td>\n",
       "      <td>156</td>\n",
       "      <td>NaN</td>\n",
       "      <td>NaN</td>\n",
       "    </tr>\n",
       "  </tbody>\n",
       "</table>\n",
       "</div>"
      ],
      "text/plain": [
       "             No_Of_Orders   Age Average_Rating No_of_Ratings    speed geospeed\n",
       "Rider Id                                                                      \n",
       "Rider_Id_396         2946  2298             14          1159  25.8673  8.86556\n",
       "Rider_Id_479          360   951           13.5           176  20.6516  12.5004\n",
       "Rider_Id_648         1746   821           14.3           466  27.9318  19.8829\n",
       "Rider_Id_753          314   980           12.5            75  20.3334   13.712\n",
       "Rider_Id_335          536  1113           13.7           156      NaN      NaN"
      ]
     },
     "execution_count": 21,
     "metadata": {},
     "output_type": "execute_result"
    }
   ],
   "source": [
    "riders_columns = ['No_Of_Orders', 'Age', 'Average_Rating','No_of_Ratings', 'speed', 'geospeed']\n",
    "data = df_riders[riders_columns]\n",
    "df_riders = pd.DataFrame(data.values, index=df_riders[\"Rider Id\"], columns=riders_columns)\n",
    "df_riders.head()"
   ]
  },
  {
   "cell_type": "markdown",
   "metadata": {
    "ExecuteTime": {
     "end_time": "2019-11-13T15:51:11.083834Z",
     "start_time": "2019-11-13T15:51:11.075835Z"
    }
   },
   "source": [
    "<h1> ML: Speed regression"
   ]
  },
  {
   "cell_type": "markdown",
   "metadata": {},
   "source": [
    "<h2> Data preparation"
   ]
  },
  {
   "cell_type": "code",
   "execution_count": 22,
   "metadata": {
    "ExecuteTime": {
     "end_time": "2019-11-14T15:31:05.019114Z",
     "start_time": "2019-11-14T15:31:04.957717Z"
    }
   },
   "outputs": [
    {
     "data": {
      "text/plain": [
       "(36, 6)"
      ]
     },
     "execution_count": 22,
     "metadata": {},
     "output_type": "execute_result"
    }
   ],
   "source": [
    "df_riders_test = df_riders[df_riders[\"speed\"] == \"NaN\"]\n",
    "y__speed_test = df_riders_test[\"speed\"]\n",
    "y__geospeed_test = df_riders_test[\"geospeed\"]\n",
    "X__test = df_riders_test.drop([\"speed\", \"geospeed\"], axis=1)\n",
    "df_riders_test.shape"
   ]
  },
  {
   "cell_type": "code",
   "execution_count": 23,
   "metadata": {
    "ExecuteTime": {
     "end_time": "2019-11-14T15:31:05.088819Z",
     "start_time": "2019-11-14T15:31:05.022130Z"
    }
   },
   "outputs": [
    {
     "data": {
      "text/plain": [
       "(924, 6)"
      ]
     },
     "execution_count": 23,
     "metadata": {},
     "output_type": "execute_result"
    }
   ],
   "source": [
    "df_riders_train = df_riders[df_riders[\"speed\"] != \"NaN\"]\n",
    "y_speed = df_riders_train[\"speed\"]\n",
    "y_geospeed = df_riders_train[\"geospeed\"]\n",
    "X = df_riders_train.drop([\"speed\", \"geospeed\"], axis=1)\n",
    "df_riders_train.shape"
   ]
  },
  {
   "cell_type": "code",
   "execution_count": 24,
   "metadata": {
    "ExecuteTime": {
     "end_time": "2019-11-14T15:31:05.674256Z",
     "start_time": "2019-11-14T15:31:05.090946Z"
    }
   },
   "outputs": [],
   "source": [
    "from sklearn.model_selection import train_test_split\n",
    "from sklearn.metrics import mean_squared_error\n",
    "\n",
    "X_train, X_test, y_train, y_test = train_test_split(X, y_speed, random_state=0, test_size=0.2)"
   ]
  },
  {
   "cell_type": "code",
   "execution_count": 25,
   "metadata": {
    "ExecuteTime": {
     "end_time": "2019-11-14T15:31:05.738376Z",
     "start_time": "2019-11-14T15:31:05.676445Z"
    }
   },
   "outputs": [],
   "source": [
    "from sklearn.linear_model import LinearRegression\n",
    "\n",
    "model = LinearRegression()\n",
    "\n",
    "model.fit(X_train, y_train)\n",
    "\n",
    "y_pred = model.predict(X_test)"
   ]
  },
  {
   "cell_type": "code",
   "execution_count": 26,
   "metadata": {
    "ExecuteTime": {
     "end_time": "2019-11-14T15:31:05.752325Z",
     "start_time": "2019-11-14T15:31:05.743495Z"
    }
   },
   "outputs": [
    {
     "data": {
      "text/plain": [
       "836759.3083792542"
      ]
     },
     "execution_count": 26,
     "metadata": {},
     "output_type": "execute_result"
    }
   ],
   "source": [
    "mean_squared_error(y_pred, y_test)"
   ]
  },
  {
   "cell_type": "markdown",
   "metadata": {},
   "source": [
    "<h1> Filling df_riders with speed prediction"
   ]
  },
  {
   "cell_type": "code",
   "execution_count": 27,
   "metadata": {
    "ExecuteTime": {
     "end_time": "2019-11-14T15:31:05.766152Z",
     "start_time": "2019-11-14T15:31:05.754997Z"
    }
   },
   "outputs": [],
   "source": [
    "from sklearn.linear_model import LinearRegression\n",
    "model_s = LinearRegression()\n",
    "model_s.fit(X, y_speed)\n",
    "y__speed_pred = model_s.predict(X__test)"
   ]
  },
  {
   "cell_type": "code",
   "execution_count": 28,
   "metadata": {
    "ExecuteTime": {
     "end_time": "2019-11-14T15:31:05.776316Z",
     "start_time": "2019-11-14T15:31:05.769642Z"
    }
   },
   "outputs": [],
   "source": [
    "model_g = LinearRegression()\n",
    "model_g.fit(X, y_geospeed)\n",
    "y__geospeed_pred = model_g.predict(X__test)"
   ]
  },
  {
   "cell_type": "code",
   "execution_count": 29,
   "metadata": {
    "ExecuteTime": {
     "end_time": "2019-11-14T15:31:05.786948Z",
     "start_time": "2019-11-14T15:31:05.779030Z"
    }
   },
   "outputs": [],
   "source": [
    "df_speed_pred = pd.DataFrame(data=y__speed_pred , index = X__test.index, columns=[\"speed\"])\n",
    "df_geospeed_pred = pd.DataFrame(data=y__geospeed_pred , index = X__test.index, columns=[\"geospeed\"])"
   ]
  },
  {
   "cell_type": "code",
   "execution_count": 30,
   "metadata": {
    "ExecuteTime": {
     "end_time": "2019-11-14T15:31:06.078755Z",
     "start_time": "2019-11-14T15:31:05.790893Z"
    }
   },
   "outputs": [
    {
     "data": {
      "image/png": "[encoded data removed]",
      "text/plain": [
       "<Figure size 864x360 with 2 Axes>"
      ]
     },
     "metadata": {
      "needs_background": "light"
     },
     "output_type": "display_data"
    }
   ],
   "source": [
    "y__speed_pred_s = sorted(y__speed_pred)\n",
    "y__geospeed_pred_s = sorted(y__geospeed_pred)\n",
    "\n",
    "plt.figure(figsize=(12,5))\n",
    "\n",
    "plt.subplot(1, 2, 1)\n",
    "plt.plot(np.arange(len(y__speed_pred_s)), y__speed_pred_s)\n",
    "plt.title(\"speed predicted values\")\n",
    "\n",
    "plt.subplot(1, 2, 2)\n",
    "plt.plot(np.arange(len(y__geospeed_pred_s)), y__geospeed_pred_s)\n",
    "plt.title(\"geospeed predicted values\")\n",
    "\n",
    "plt.show()"
   ]
  },
  {
   "cell_type": "code",
   "execution_count": 31,
   "metadata": {
    "ExecuteTime": {
     "end_time": "2019-11-14T15:31:06.102331Z",
     "start_time": "2019-11-14T15:31:06.081213Z"
    }
   },
   "outputs": [
    {
     "name": "stdout",
     "output_type": "stream",
     "text": [
      "(36, 6)\n"
     ]
    },
    {
     "data": {
      "text/html": [
       "<div>\n",
       "<style scoped>\n",
       "    .dataframe tbody tr th:only-of-type {\n",
       "        vertical-align: middle;\n",
       "    }\n",
       "\n",
       "    .dataframe tbody tr th {\n",
       "        vertical-align: top;\n",
       "    }\n",
       "\n",
       "    .dataframe thead th {\n",
       "        text-align: right;\n",
       "    }\n",
       "</style>\n",
       "<table border=\"1\" class=\"dataframe\">\n",
       "  <thead>\n",
       "    <tr style=\"text-align: right;\">\n",
       "      <th></th>\n",
       "      <th>No_Of_Orders</th>\n",
       "      <th>Age</th>\n",
       "      <th>Average_Rating</th>\n",
       "      <th>No_of_Ratings</th>\n",
       "      <th>speed</th>\n",
       "      <th>geospeed</th>\n",
       "    </tr>\n",
       "    <tr>\n",
       "      <th>Rider Id</th>\n",
       "      <th></th>\n",
       "      <th></th>\n",
       "      <th></th>\n",
       "      <th></th>\n",
       "      <th></th>\n",
       "      <th></th>\n",
       "    </tr>\n",
       "  </thead>\n",
       "  <tbody>\n",
       "    <tr>\n",
       "      <th>Rider_Id_335</th>\n",
       "      <td>536</td>\n",
       "      <td>1113</td>\n",
       "      <td>13.7</td>\n",
       "      <td>156</td>\n",
       "      <td>61.301760</td>\n",
       "      <td>39.044116</td>\n",
       "    </tr>\n",
       "    <tr>\n",
       "      <th>Rider_Id_757</th>\n",
       "      <td>2101</td>\n",
       "      <td>1066</td>\n",
       "      <td>12.3</td>\n",
       "      <td>229</td>\n",
       "      <td>462.733479</td>\n",
       "      <td>294.327071</td>\n",
       "    </tr>\n",
       "    <tr>\n",
       "      <th>Rider_Id_437</th>\n",
       "      <td>2966</td>\n",
       "      <td>2053</td>\n",
       "      <td>14</td>\n",
       "      <td>1147</td>\n",
       "      <td>-181.532449</td>\n",
       "      <td>-118.361945</td>\n",
       "    </tr>\n",
       "    <tr>\n",
       "      <th>Rider_Id_153</th>\n",
       "      <td>233</td>\n",
       "      <td>982</td>\n",
       "      <td>13.9</td>\n",
       "      <td>85</td>\n",
       "      <td>46.481889</td>\n",
       "      <td>30.520078</td>\n",
       "    </tr>\n",
       "    <tr>\n",
       "      <th>Rider_Id_374</th>\n",
       "      <td>1985</td>\n",
       "      <td>1191</td>\n",
       "      <td>12.3</td>\n",
       "      <td>143</td>\n",
       "      <td>488.863389</td>\n",
       "      <td>308.727129</td>\n",
       "    </tr>\n",
       "  </tbody>\n",
       "</table>\n",
       "</div>"
      ],
      "text/plain": [
       "             No_Of_Orders   Age Average_Rating No_of_Ratings       speed  \\\n",
       "Rider Id                                                                   \n",
       "Rider_Id_335          536  1113           13.7           156   61.301760   \n",
       "Rider_Id_757         2101  1066           12.3           229  462.733479   \n",
       "Rider_Id_437         2966  2053             14          1147 -181.532449   \n",
       "Rider_Id_153          233   982           13.9            85   46.481889   \n",
       "Rider_Id_374         1985  1191           12.3           143  488.863389   \n",
       "\n",
       "                geospeed  \n",
       "Rider Id                  \n",
       "Rider_Id_335   39.044116  \n",
       "Rider_Id_757  294.327071  \n",
       "Rider_Id_437 -118.361945  \n",
       "Rider_Id_153   30.520078  \n",
       "Rider_Id_374  308.727129  "
      ]
     },
     "execution_count": 31,
     "metadata": {},
     "output_type": "execute_result"
    }
   ],
   "source": [
    "df__pred = pd.concat([X__test, df_speed_pred, df_geospeed_pred], axis=1)\n",
    "print(df__pred.shape)\n",
    "df__pred.head()"
   ]
  },
  {
   "cell_type": "code",
   "execution_count": 32,
   "metadata": {
    "ExecuteTime": {
     "end_time": "2019-11-14T15:31:06.127191Z",
     "start_time": "2019-11-14T15:31:06.105308Z"
    }
   },
   "outputs": [
    {
     "name": "stdout",
     "output_type": "stream",
     "text": [
      "(960, 6)\n"
     ]
    },
    {
     "data": {
      "text/html": [
       "<div>\n",
       "<style scoped>\n",
       "    .dataframe tbody tr th:only-of-type {\n",
       "        vertical-align: middle;\n",
       "    }\n",
       "\n",
       "    .dataframe tbody tr th {\n",
       "        vertical-align: top;\n",
       "    }\n",
       "\n",
       "    .dataframe thead th {\n",
       "        text-align: right;\n",
       "    }\n",
       "</style>\n",
       "<table border=\"1\" class=\"dataframe\">\n",
       "  <thead>\n",
       "    <tr style=\"text-align: right;\">\n",
       "      <th></th>\n",
       "      <th>No_Of_Orders</th>\n",
       "      <th>Age</th>\n",
       "      <th>Average_Rating</th>\n",
       "      <th>No_of_Ratings</th>\n",
       "      <th>speed</th>\n",
       "      <th>geospeed</th>\n",
       "    </tr>\n",
       "    <tr>\n",
       "      <th>Rider Id</th>\n",
       "      <th></th>\n",
       "      <th></th>\n",
       "      <th></th>\n",
       "      <th></th>\n",
       "      <th></th>\n",
       "      <th></th>\n",
       "    </tr>\n",
       "  </thead>\n",
       "  <tbody>\n",
       "    <tr>\n",
       "      <th>Rider_Id_335</th>\n",
       "      <td>536</td>\n",
       "      <td>1113</td>\n",
       "      <td>13.7</td>\n",
       "      <td>156</td>\n",
       "      <td>61.3018</td>\n",
       "      <td>39.0441</td>\n",
       "    </tr>\n",
       "    <tr>\n",
       "      <th>Rider_Id_757</th>\n",
       "      <td>2101</td>\n",
       "      <td>1066</td>\n",
       "      <td>12.3</td>\n",
       "      <td>229</td>\n",
       "      <td>462.733</td>\n",
       "      <td>294.327</td>\n",
       "    </tr>\n",
       "    <tr>\n",
       "      <th>Rider_Id_437</th>\n",
       "      <td>2966</td>\n",
       "      <td>2053</td>\n",
       "      <td>14</td>\n",
       "      <td>1147</td>\n",
       "      <td>-181.532</td>\n",
       "      <td>-118.362</td>\n",
       "    </tr>\n",
       "    <tr>\n",
       "      <th>Rider_Id_153</th>\n",
       "      <td>233</td>\n",
       "      <td>982</td>\n",
       "      <td>13.9</td>\n",
       "      <td>85</td>\n",
       "      <td>46.4819</td>\n",
       "      <td>30.5201</td>\n",
       "    </tr>\n",
       "    <tr>\n",
       "      <th>Rider_Id_374</th>\n",
       "      <td>1985</td>\n",
       "      <td>1191</td>\n",
       "      <td>12.3</td>\n",
       "      <td>143</td>\n",
       "      <td>488.863</td>\n",
       "      <td>308.727</td>\n",
       "    </tr>\n",
       "  </tbody>\n",
       "</table>\n",
       "</div>"
      ],
      "text/plain": [
       "             No_Of_Orders   Age Average_Rating No_of_Ratings    speed geospeed\n",
       "Rider Id                                                                      \n",
       "Rider_Id_335          536  1113           13.7           156  61.3018  39.0441\n",
       "Rider_Id_757         2101  1066           12.3           229  462.733  294.327\n",
       "Rider_Id_437         2966  2053             14          1147 -181.532 -118.362\n",
       "Rider_Id_153          233   982           13.9            85  46.4819  30.5201\n",
       "Rider_Id_374         1985  1191           12.3           143  488.863  308.727"
      ]
     },
     "execution_count": 32,
     "metadata": {},
     "output_type": "execute_result"
    }
   ],
   "source": [
    "df__riders = pd.concat([df__pred, df_riders_train], axis=0)\n",
    "print(df__riders.shape)\n",
    "df__riders.head()"
   ]
  },
  {
   "cell_type": "code",
   "execution_count": 33,
   "metadata": {
    "ExecuteTime": {
     "end_time": "2019-11-14T15:31:06.142662Z",
     "start_time": "2019-11-14T15:31:06.130280Z"
    }
   },
   "outputs": [
    {
     "name": "stdout",
     "output_type": "stream",
     "text": [
      "<class 'pandas.core.frame.DataFrame'>\n",
      "Index: 960 entries, Rider_Id_335 to Rider_Id_201\n",
      "Data columns (total 6 columns):\n",
      "No_Of_Orders      960 non-null object\n",
      "Age               960 non-null object\n",
      "Average_Rating    960 non-null object\n",
      "No_of_Ratings     960 non-null object\n",
      "speed             960 non-null float64\n",
      "geospeed          960 non-null object\n",
      "dtypes: float64(1), object(5)\n",
      "memory usage: 52.5+ KB\n"
     ]
    }
   ],
   "source": [
    "df__riders[\"speed\"] = df__riders[\"speed\"].astype(\"float\")\n",
    "df__riders.info()"
   ]
  },
  {
   "cell_type": "markdown",
   "metadata": {},
   "source": [
    "<h2> Dumping to pickle"
   ]
  },
  {
   "cell_type": "code",
   "execution_count": 34,
   "metadata": {
    "ExecuteTime": {
     "end_time": "2019-11-14T15:31:06.201240Z",
     "start_time": "2019-11-14T15:31:06.148644Z"
    }
   },
   "outputs": [],
   "source": [
    "pickle_filename = \"data/riders.pkl\"\n",
    "content = (df__riders)\n",
    "dump_to_pickle(content, pickle_filename)"
   ]
  }
 ],
 "metadata": {
  "kernelspec": {
   "display_name": "Python 3",
   "language": "python",
   "name": "python3"
  },
  "language_info": {
   "codemirror_mode": {
    "name": "ipython",
    "version": 3
   },
   "file_extension": ".py",
   "mimetype": "text/x-python",
   "name": "python",
   "nbconvert_exporter": "python",
   "pygments_lexer": "ipython3",
   "version": "3.7.4"
  },
  "toc": {
   "base_numbering": 1,
   "nav_menu": {},
   "number_sections": true,
   "sideBar": true,
   "skip_h1_title": false,
   "title_cell": "Table of Contents",
   "title_sidebar": "Contents",
   "toc_cell": false,
   "toc_position": {},
   "toc_section_display": true,
   "toc_window_display": false
  }
 },
 "nbformat": 4,
 "nbformat_minor": 2
}
