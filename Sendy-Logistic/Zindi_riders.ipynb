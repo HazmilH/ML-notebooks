{
 "cells": [
  {
   "cell_type": "code",
   "execution_count": 73,
   "metadata": {
    "ExecuteTime": {
     "end_time": "2019-11-13T16:42:37.754913Z",
     "start_time": "2019-11-13T16:42:37.749283Z"
    }
   },
   "outputs": [],
   "source": [
    "import pandas as pd\n",
    "import numpy as np\n",
    "import matplotlib.pyplot as plt\n",
    "from datetime import datetime\n",
    "from geopy import distance\n",
    "import pickle\n",
    "from utils_dump_load import load_from_pickle, dump_to_pickle"
   ]
  },
  {
   "cell_type": "markdown",
   "metadata": {},
   "source": [
    "<h1> EDA"
   ]
  },
  {
   "cell_type": "markdown",
   "metadata": {},
   "source": [
    "<h2> Loading data"
   ]
  },
  {
   "cell_type": "code",
   "execution_count": 74,
   "metadata": {
    "ExecuteTime": {
     "end_time": "2019-11-13T16:42:38.152348Z",
     "start_time": "2019-11-13T16:42:38.100736Z"
    }
   },
   "outputs": [
    {
     "data": {
      "text/plain": [
       "(7068, 24)"
      ]
     },
     "execution_count": 74,
     "metadata": {},
     "output_type": "execute_result"
    }
   ],
   "source": [
    "filepath_test = \"data/Test.csv\"\n",
    "df_test = pd.read_csv(filepath_test, index_col=\"Order No\")\n",
    "df_test.shape"
   ]
  },
  {
   "cell_type": "code",
   "execution_count": 75,
   "metadata": {
    "ExecuteTime": {
     "end_time": "2019-11-13T16:42:38.457477Z",
     "start_time": "2019-11-13T16:42:38.259555Z"
    }
   },
   "outputs": [
    {
     "data": {
      "text/plain": [
       "(21201, 28)"
      ]
     },
     "execution_count": 75,
     "metadata": {},
     "output_type": "execute_result"
    }
   ],
   "source": [
    "filepath_train = \"data/Train.csv\"\n",
    "df_train = pd.read_csv(filepath_train, index_col=\"Order No\")\n",
    "df_train.shape"
   ]
  },
  {
   "cell_type": "code",
   "execution_count": 76,
   "metadata": {
    "ExecuteTime": {
     "end_time": "2019-11-13T16:42:38.491961Z",
     "start_time": "2019-11-13T16:42:38.460246Z"
    }
   },
   "outputs": [
    {
     "data": {
      "text/html": [
       "<div>\n",
       "<style scoped>\n",
       "    .dataframe tbody tr th:only-of-type {\n",
       "        vertical-align: middle;\n",
       "    }\n",
       "\n",
       "    .dataframe tbody tr th {\n",
       "        vertical-align: top;\n",
       "    }\n",
       "\n",
       "    .dataframe thead th {\n",
       "        text-align: right;\n",
       "    }\n",
       "</style>\n",
       "<table border=\"1\" class=\"dataframe\">\n",
       "  <thead>\n",
       "    <tr style=\"text-align: right;\">\n",
       "      <th></th>\n",
       "      <th>User Id</th>\n",
       "      <th>Vehicle Type</th>\n",
       "      <th>Platform Type</th>\n",
       "      <th>Personal or Business</th>\n",
       "      <th>Placement - Day of Month</th>\n",
       "      <th>Placement - Weekday (Mo = 1)</th>\n",
       "      <th>Placement - Time</th>\n",
       "      <th>Confirmation - Day of Month</th>\n",
       "      <th>Confirmation - Weekday (Mo = 1)</th>\n",
       "      <th>Confirmation - Time</th>\n",
       "      <th>...</th>\n",
       "      <th>Arrival at Destination - Time</th>\n",
       "      <th>Distance (KM)</th>\n",
       "      <th>Temperature</th>\n",
       "      <th>Precipitation in millimeters</th>\n",
       "      <th>Pickup Lat</th>\n",
       "      <th>Pickup Long</th>\n",
       "      <th>Destination Lat</th>\n",
       "      <th>Destination Long</th>\n",
       "      <th>Rider Id</th>\n",
       "      <th>Time from Pickup to Arrival</th>\n",
       "    </tr>\n",
       "    <tr>\n",
       "      <th>Order No</th>\n",
       "      <th></th>\n",
       "      <th></th>\n",
       "      <th></th>\n",
       "      <th></th>\n",
       "      <th></th>\n",
       "      <th></th>\n",
       "      <th></th>\n",
       "      <th></th>\n",
       "      <th></th>\n",
       "      <th></th>\n",
       "      <th></th>\n",
       "      <th></th>\n",
       "      <th></th>\n",
       "      <th></th>\n",
       "      <th></th>\n",
       "      <th></th>\n",
       "      <th></th>\n",
       "      <th></th>\n",
       "      <th></th>\n",
       "      <th></th>\n",
       "      <th></th>\n",
       "    </tr>\n",
       "  </thead>\n",
       "  <tbody>\n",
       "    <tr>\n",
       "      <th>Order_No_4211</th>\n",
       "      <td>User_Id_633</td>\n",
       "      <td>Bike</td>\n",
       "      <td>3</td>\n",
       "      <td>Business</td>\n",
       "      <td>9</td>\n",
       "      <td>5</td>\n",
       "      <td>9:35:46 AM</td>\n",
       "      <td>9</td>\n",
       "      <td>5</td>\n",
       "      <td>9:40:10 AM</td>\n",
       "      <td>...</td>\n",
       "      <td>10:39:55 AM</td>\n",
       "      <td>4</td>\n",
       "      <td>20.4</td>\n",
       "      <td>NaN</td>\n",
       "      <td>-1.317755</td>\n",
       "      <td>36.830370</td>\n",
       "      <td>-1.300406</td>\n",
       "      <td>36.829741</td>\n",
       "      <td>Rider_Id_432</td>\n",
       "      <td>745</td>\n",
       "    </tr>\n",
       "    <tr>\n",
       "      <th>Order_No_25375</th>\n",
       "      <td>User_Id_2285</td>\n",
       "      <td>Bike</td>\n",
       "      <td>3</td>\n",
       "      <td>Personal</td>\n",
       "      <td>12</td>\n",
       "      <td>5</td>\n",
       "      <td>11:16:16 AM</td>\n",
       "      <td>12</td>\n",
       "      <td>5</td>\n",
       "      <td>11:23:21 AM</td>\n",
       "      <td>...</td>\n",
       "      <td>12:17:22 PM</td>\n",
       "      <td>16</td>\n",
       "      <td>26.4</td>\n",
       "      <td>NaN</td>\n",
       "      <td>-1.351453</td>\n",
       "      <td>36.899315</td>\n",
       "      <td>-1.295004</td>\n",
       "      <td>36.814358</td>\n",
       "      <td>Rider_Id_856</td>\n",
       "      <td>1993</td>\n",
       "    </tr>\n",
       "    <tr>\n",
       "      <th>Order_No_1899</th>\n",
       "      <td>User_Id_265</td>\n",
       "      <td>Bike</td>\n",
       "      <td>3</td>\n",
       "      <td>Business</td>\n",
       "      <td>30</td>\n",
       "      <td>2</td>\n",
       "      <td>12:39:25 PM</td>\n",
       "      <td>30</td>\n",
       "      <td>2</td>\n",
       "      <td>12:42:44 PM</td>\n",
       "      <td>...</td>\n",
       "      <td>1:00:38 PM</td>\n",
       "      <td>3</td>\n",
       "      <td>NaN</td>\n",
       "      <td>NaN</td>\n",
       "      <td>-1.308284</td>\n",
       "      <td>36.843419</td>\n",
       "      <td>-1.300921</td>\n",
       "      <td>36.828195</td>\n",
       "      <td>Rider_Id_155</td>\n",
       "      <td>455</td>\n",
       "    </tr>\n",
       "    <tr>\n",
       "      <th>Order_No_9336</th>\n",
       "      <td>User_Id_1402</td>\n",
       "      <td>Bike</td>\n",
       "      <td>3</td>\n",
       "      <td>Business</td>\n",
       "      <td>15</td>\n",
       "      <td>5</td>\n",
       "      <td>9:25:34 AM</td>\n",
       "      <td>15</td>\n",
       "      <td>5</td>\n",
       "      <td>9:26:05 AM</td>\n",
       "      <td>...</td>\n",
       "      <td>10:05:27 AM</td>\n",
       "      <td>9</td>\n",
       "      <td>19.2</td>\n",
       "      <td>NaN</td>\n",
       "      <td>-1.281301</td>\n",
       "      <td>36.832396</td>\n",
       "      <td>-1.257147</td>\n",
       "      <td>36.795063</td>\n",
       "      <td>Rider_Id_855</td>\n",
       "      <td>1341</td>\n",
       "    </tr>\n",
       "    <tr>\n",
       "      <th>Order_No_27883</th>\n",
       "      <td>User_Id_1737</td>\n",
       "      <td>Bike</td>\n",
       "      <td>1</td>\n",
       "      <td>Personal</td>\n",
       "      <td>13</td>\n",
       "      <td>1</td>\n",
       "      <td>9:55:18 AM</td>\n",
       "      <td>13</td>\n",
       "      <td>1</td>\n",
       "      <td>9:56:18 AM</td>\n",
       "      <td>...</td>\n",
       "      <td>10:25:37 AM</td>\n",
       "      <td>9</td>\n",
       "      <td>15.4</td>\n",
       "      <td>NaN</td>\n",
       "      <td>-1.266597</td>\n",
       "      <td>36.792118</td>\n",
       "      <td>-1.295041</td>\n",
       "      <td>36.809817</td>\n",
       "      <td>Rider_Id_770</td>\n",
       "      <td>1214</td>\n",
       "    </tr>\n",
       "  </tbody>\n",
       "</table>\n",
       "<p>5 rows × 28 columns</p>\n",
       "</div>"
      ],
      "text/plain": [
       "                     User Id Vehicle Type  Platform Type Personal or Business  \\\n",
       "Order No                                                                        \n",
       "Order_No_4211    User_Id_633         Bike              3             Business   \n",
       "Order_No_25375  User_Id_2285         Bike              3             Personal   \n",
       "Order_No_1899    User_Id_265         Bike              3             Business   \n",
       "Order_No_9336   User_Id_1402         Bike              3             Business   \n",
       "Order_No_27883  User_Id_1737         Bike              1             Personal   \n",
       "\n",
       "                Placement - Day of Month  Placement - Weekday (Mo = 1)  \\\n",
       "Order No                                                                 \n",
       "Order_No_4211                          9                             5   \n",
       "Order_No_25375                        12                             5   \n",
       "Order_No_1899                         30                             2   \n",
       "Order_No_9336                         15                             5   \n",
       "Order_No_27883                        13                             1   \n",
       "\n",
       "               Placement - Time  Confirmation - Day of Month  \\\n",
       "Order No                                                       \n",
       "Order_No_4211        9:35:46 AM                            9   \n",
       "Order_No_25375      11:16:16 AM                           12   \n",
       "Order_No_1899       12:39:25 PM                           30   \n",
       "Order_No_9336        9:25:34 AM                           15   \n",
       "Order_No_27883       9:55:18 AM                           13   \n",
       "\n",
       "                Confirmation - Weekday (Mo = 1) Confirmation - Time  \\\n",
       "Order No                                                              \n",
       "Order_No_4211                                 5          9:40:10 AM   \n",
       "Order_No_25375                                5         11:23:21 AM   \n",
       "Order_No_1899                                 2         12:42:44 PM   \n",
       "Order_No_9336                                 5          9:26:05 AM   \n",
       "Order_No_27883                                1          9:56:18 AM   \n",
       "\n",
       "                           ...               Arrival at Destination - Time  \\\n",
       "Order No                   ...                                               \n",
       "Order_No_4211              ...                                 10:39:55 AM   \n",
       "Order_No_25375             ...                                 12:17:22 PM   \n",
       "Order_No_1899              ...                                  1:00:38 PM   \n",
       "Order_No_9336              ...                                 10:05:27 AM   \n",
       "Order_No_27883             ...                                 10:25:37 AM   \n",
       "\n",
       "                Distance (KM) Temperature  Precipitation in millimeters  \\\n",
       "Order No                                                                  \n",
       "Order_No_4211               4        20.4                           NaN   \n",
       "Order_No_25375             16        26.4                           NaN   \n",
       "Order_No_1899               3         NaN                           NaN   \n",
       "Order_No_9336               9        19.2                           NaN   \n",
       "Order_No_27883              9        15.4                           NaN   \n",
       "\n",
       "                Pickup Lat Pickup Long  Destination Lat  Destination Long  \\\n",
       "Order No                                                                    \n",
       "Order_No_4211    -1.317755   36.830370        -1.300406         36.829741   \n",
       "Order_No_25375   -1.351453   36.899315        -1.295004         36.814358   \n",
       "Order_No_1899    -1.308284   36.843419        -1.300921         36.828195   \n",
       "Order_No_9336    -1.281301   36.832396        -1.257147         36.795063   \n",
       "Order_No_27883   -1.266597   36.792118        -1.295041         36.809817   \n",
       "\n",
       "                    Rider Id  Time from Pickup to Arrival  \n",
       "Order No                                                   \n",
       "Order_No_4211   Rider_Id_432                          745  \n",
       "Order_No_25375  Rider_Id_856                         1993  \n",
       "Order_No_1899   Rider_Id_155                          455  \n",
       "Order_No_9336   Rider_Id_855                         1341  \n",
       "Order_No_27883  Rider_Id_770                         1214  \n",
       "\n",
       "[5 rows x 28 columns]"
      ]
     },
     "execution_count": 76,
     "metadata": {},
     "output_type": "execute_result"
    }
   ],
   "source": [
    "df_train.head()"
   ]
  },
  {
   "cell_type": "code",
   "execution_count": 77,
   "metadata": {
    "ExecuteTime": {
     "end_time": "2019-11-13T16:42:38.510342Z",
     "start_time": "2019-11-13T16:42:38.495485Z"
    }
   },
   "outputs": [
    {
     "data": {
      "text/plain": [
       "(960, 4)"
      ]
     },
     "execution_count": 77,
     "metadata": {},
     "output_type": "execute_result"
    }
   ],
   "source": [
    "filepath_riders = \"data/Riders.csv\"\n",
    "df_riders = pd.read_csv(filepath_riders, index_col=\"Rider Id\")\n",
    "df_riders.shape"
   ]
  },
  {
   "cell_type": "code",
   "execution_count": 78,
   "metadata": {
    "ExecuteTime": {
     "end_time": "2019-11-13T16:42:38.630343Z",
     "start_time": "2019-11-13T16:42:38.616081Z"
    }
   },
   "outputs": [
    {
     "data": {
      "text/html": [
       "<div>\n",
       "<style scoped>\n",
       "    .dataframe tbody tr th:only-of-type {\n",
       "        vertical-align: middle;\n",
       "    }\n",
       "\n",
       "    .dataframe tbody tr th {\n",
       "        vertical-align: top;\n",
       "    }\n",
       "\n",
       "    .dataframe thead th {\n",
       "        text-align: right;\n",
       "    }\n",
       "</style>\n",
       "<table border=\"1\" class=\"dataframe\">\n",
       "  <thead>\n",
       "    <tr style=\"text-align: right;\">\n",
       "      <th></th>\n",
       "      <th>No_Of_Orders</th>\n",
       "      <th>Age</th>\n",
       "      <th>Average_Rating</th>\n",
       "      <th>No_of_Ratings</th>\n",
       "    </tr>\n",
       "    <tr>\n",
       "      <th>Rider Id</th>\n",
       "      <th></th>\n",
       "      <th></th>\n",
       "      <th></th>\n",
       "      <th></th>\n",
       "    </tr>\n",
       "  </thead>\n",
       "  <tbody>\n",
       "    <tr>\n",
       "      <th>Rider_Id_396</th>\n",
       "      <td>2946</td>\n",
       "      <td>2298</td>\n",
       "      <td>14.0</td>\n",
       "      <td>1159</td>\n",
       "    </tr>\n",
       "    <tr>\n",
       "      <th>Rider_Id_479</th>\n",
       "      <td>360</td>\n",
       "      <td>951</td>\n",
       "      <td>13.5</td>\n",
       "      <td>176</td>\n",
       "    </tr>\n",
       "    <tr>\n",
       "      <th>Rider_Id_648</th>\n",
       "      <td>1746</td>\n",
       "      <td>821</td>\n",
       "      <td>14.3</td>\n",
       "      <td>466</td>\n",
       "    </tr>\n",
       "    <tr>\n",
       "      <th>Rider_Id_753</th>\n",
       "      <td>314</td>\n",
       "      <td>980</td>\n",
       "      <td>12.5</td>\n",
       "      <td>75</td>\n",
       "    </tr>\n",
       "    <tr>\n",
       "      <th>Rider_Id_335</th>\n",
       "      <td>536</td>\n",
       "      <td>1113</td>\n",
       "      <td>13.7</td>\n",
       "      <td>156</td>\n",
       "    </tr>\n",
       "  </tbody>\n",
       "</table>\n",
       "</div>"
      ],
      "text/plain": [
       "              No_Of_Orders   Age  Average_Rating  No_of_Ratings\n",
       "Rider Id                                                       \n",
       "Rider_Id_396          2946  2298            14.0           1159\n",
       "Rider_Id_479           360   951            13.5            176\n",
       "Rider_Id_648          1746   821            14.3            466\n",
       "Rider_Id_753           314   980            12.5             75\n",
       "Rider_Id_335           536  1113            13.7            156"
      ]
     },
     "execution_count": 78,
     "metadata": {},
     "output_type": "execute_result"
    }
   ],
   "source": [
    "df_riders.head()"
   ]
  },
  {
   "cell_type": "markdown",
   "metadata": {},
   "source": [
    "<h2> Merge data"
   ]
  },
  {
   "cell_type": "code",
   "execution_count": 79,
   "metadata": {
    "ExecuteTime": {
     "end_time": "2019-11-13T16:42:38.931975Z",
     "start_time": "2019-11-13T16:42:38.839159Z"
    }
   },
   "outputs": [],
   "source": [
    "df_train = df_train.merge(df_riders, left_on='Rider Id', right_on='Rider Id', right_index=True)\n",
    "df_test = df_test.merge(df_riders, left_on='Rider Id', right_on='Rider Id', right_index=True)"
   ]
  },
  {
   "cell_type": "markdown",
   "metadata": {
    "ExecuteTime": {
     "end_time": "2019-11-13T15:49:41.713869Z",
     "start_time": "2019-11-13T15:49:41.707318Z"
    }
   },
   "source": [
    "<h2> Compute geopy distance"
   ]
  },
  {
   "cell_type": "code",
   "execution_count": 80,
   "metadata": {
    "ExecuteTime": {
     "end_time": "2019-11-13T16:42:39.092047Z",
     "start_time": "2019-11-13T16:42:39.086982Z"
    }
   },
   "outputs": [],
   "source": [
    "def compute_distance(row):\n",
    "    src = (row[\"Pickup Lat\"],row[\"Pickup Long\"])\n",
    "    dest= (row[\"Destination Lat\"],row[\"Destination Long\"])\n",
    "    return distance.distance(src,dest).km"
   ]
  },
  {
   "cell_type": "code",
   "execution_count": 81,
   "metadata": {
    "ExecuteTime": {
     "end_time": "2019-11-13T16:42:46.497159Z",
     "start_time": "2019-11-13T16:42:39.210053Z"
    }
   },
   "outputs": [],
   "source": [
    "df_train[\"geopy_distance\"] = df_train.apply(compute_distance,axis=1)\n",
    "df_test[\"geopy_distance\"] = df_test.apply(compute_distance,axis=1)"
   ]
  },
  {
   "cell_type": "markdown",
   "metadata": {},
   "source": [
    "<h2> Compute speed / geospeed"
   ]
  },
  {
   "cell_type": "code",
   "execution_count": 82,
   "metadata": {
    "ExecuteTime": {
     "end_time": "2019-11-13T16:42:46.501741Z",
     "start_time": "2019-11-13T16:42:46.499101Z"
    }
   },
   "outputs": [],
   "source": [
    "speed_threshold = 10000"
   ]
  },
  {
   "cell_type": "code",
   "execution_count": 83,
   "metadata": {
    "ExecuteTime": {
     "end_time": "2019-11-13T16:42:46.523978Z",
     "start_time": "2019-11-13T16:42:46.503880Z"
    }
   },
   "outputs": [],
   "source": [
    "df_train[\"speed\"] = (df_train[\"Distance (KM)\"] / df_train[\"Time from Pickup to Arrival\"])*3600\n",
    "df_train[\"geospeed\"] = (df_train[\"geopy_distance\"] / df_train[\"Time from Pickup to Arrival\"])*3600"
   ]
  },
  {
   "cell_type": "code",
   "execution_count": 84,
   "metadata": {
    "ExecuteTime": {
     "end_time": "2019-11-13T16:42:46.852211Z",
     "start_time": "2019-11-13T16:42:46.531222Z"
    }
   },
   "outputs": [
    {
     "data": {
      "image/png": "[encoded data removed]",
      "text/plain": [
       "<Figure size 720x288 with 1 Axes>"
      ]
     },
     "metadata": {
      "needs_background": "light"
     },
     "output_type": "display_data"
    }
   ],
   "source": [
    "plt.figure(figsize=(10,4))\n",
    "plt.hist(df_train[\"speed\"], bins=100)\n",
    "plt.show()"
   ]
  },
  {
   "cell_type": "code",
   "execution_count": 85,
   "metadata": {
    "ExecuteTime": {
     "end_time": "2019-11-13T16:42:47.181117Z",
     "start_time": "2019-11-13T16:42:46.855190Z"
    }
   },
   "outputs": [
    {
     "data": {
      "image/png": "[encoded data removed]",
      "text/plain": [
       "<Figure size 720x288 with 1 Axes>"
      ]
     },
     "metadata": {
      "needs_background": "light"
     },
     "output_type": "display_data"
    }
   ],
   "source": [
    "plt.figure(figsize=(10,4))\n",
    "plt.hist(df_train[df_train[\"speed\"]>speed_threshold][\"Time from Pickup to Arrival\"], bins=100)\n",
    "plt.show()"
   ]
  },
  {
   "cell_type": "code",
   "execution_count": 86,
   "metadata": {
    "ExecuteTime": {
     "end_time": "2019-11-13T16:42:47.516571Z",
     "start_time": "2019-11-13T16:42:47.184728Z"
    }
   },
   "outputs": [
    {
     "data": {
      "image/png": "[encoded data removed]",
      "text/plain": [
       "<Figure size 720x288 with 1 Axes>"
      ]
     },
     "metadata": {
      "needs_background": "light"
     },
     "output_type": "display_data"
    }
   ],
   "source": [
    "plt.figure(figsize=(10,4))\n",
    "plt.hist(df_train[df_train[\"speed\"]>speed_threshold][\"Distance (KM)\"], bins=100)\n",
    "plt.show()"
   ]
  },
  {
   "cell_type": "code",
   "execution_count": 87,
   "metadata": {
    "ExecuteTime": {
     "end_time": "2019-11-13T16:42:47.544409Z",
     "start_time": "2019-11-13T16:42:47.523228Z"
    }
   },
   "outputs": [],
   "source": [
    "mean_speed = df_train.groupby(\"Rider Id\")[\"speed\"].mean()\n",
    "mean_geospeed = df_train.groupby(\"Rider Id\")[\"geospeed\"].mean()"
   ]
  },
  {
   "cell_type": "code",
   "execution_count": 88,
   "metadata": {
    "ExecuteTime": {
     "end_time": "2019-11-13T16:42:48.205311Z",
     "start_time": "2019-11-13T16:42:47.547587Z"
    }
   },
   "outputs": [
    {
     "data": {
      "image/png": "[encoded data removed]",
      "text/plain": [
       "<Figure size 864x360 with 2 Axes>"
      ]
     },
     "metadata": {
      "needs_background": "light"
     },
     "output_type": "display_data"
    }
   ],
   "source": [
    "plt.figure(figsize=(12,5))\n",
    "\n",
    "plt.subplot(1, 2, 1)\n",
    "plt.hist(mean_speed[mean_speed<speed_threshold], bins=100)\n",
    "plt.title(\"speed\")\n",
    "\n",
    "plt.subplot(1, 2, 2)\n",
    "plt.hist(mean_geospeed[mean_geospeed<speed_threshold], bins=100, color=\"g\")\n",
    "plt.title(\"geospeed\")\n",
    "\n",
    "plt.show()"
   ]
  },
  {
   "cell_type": "code",
   "execution_count": 89,
   "metadata": {
    "ExecuteTime": {
     "end_time": "2019-11-13T16:42:48.224833Z",
     "start_time": "2019-11-13T16:42:48.212059Z"
    }
   },
   "outputs": [
    {
     "data": {
      "text/plain": [
       "(249.30537853208438, 156.5807340761476)"
      ]
     },
     "execution_count": 89,
     "metadata": {},
     "output_type": "execute_result"
    }
   ],
   "source": [
    "mean_riders_speed = df_train[\"speed\"].mean()\n",
    "mean_riders_geospeed = df_train[\"geospeed\"].mean()\n",
    "mean_riders_speed, mean_riders_geospeed"
   ]
  },
  {
   "cell_type": "code",
   "execution_count": 90,
   "metadata": {
    "ExecuteTime": {
     "end_time": "2019-11-13T16:42:48.239061Z",
     "start_time": "2019-11-13T16:42:48.229750Z"
    }
   },
   "outputs": [],
   "source": [
    "def get_speed(r_id):\n",
    "    try:\n",
    "        return mean_speed[r_id]\n",
    "    except:\n",
    "        return \"NaN\""
   ]
  },
  {
   "cell_type": "code",
   "execution_count": 91,
   "metadata": {
    "ExecuteTime": {
     "end_time": "2019-11-13T16:42:48.251768Z",
     "start_time": "2019-11-13T16:42:48.242159Z"
    }
   },
   "outputs": [],
   "source": [
    "def get_geospeed(r_id):\n",
    "    try:\n",
    "        return mean_geospeed[r_id]\n",
    "    except:\n",
    "        return \"NaN\""
   ]
  },
  {
   "cell_type": "code",
   "execution_count": 92,
   "metadata": {
    "ExecuteTime": {
     "end_time": "2019-11-13T16:42:48.267221Z",
     "start_time": "2019-11-13T16:42:48.255188Z"
    }
   },
   "outputs": [],
   "source": [
    "df_riders = df_riders.reset_index()"
   ]
  },
  {
   "cell_type": "code",
   "execution_count": 93,
   "metadata": {
    "ExecuteTime": {
     "end_time": "2019-11-13T16:42:48.301069Z",
     "start_time": "2019-11-13T16:42:48.270587Z"
    }
   },
   "outputs": [],
   "source": [
    "df_riders[\"speed\"] = df_riders[\"Rider Id\"].apply(lambda x: get_speed(x))\n",
    "df_riders[\"geospeed\"] = df_riders[\"Rider Id\"].apply(lambda x: get_geospeed(x))"
   ]
  },
  {
   "cell_type": "code",
   "execution_count": 94,
   "metadata": {
    "ExecuteTime": {
     "end_time": "2019-11-13T16:42:48.334825Z",
     "start_time": "2019-11-13T16:42:48.303313Z"
    }
   },
   "outputs": [
    {
     "data": {
      "text/html": [
       "<div>\n",
       "<style scoped>\n",
       "    .dataframe tbody tr th:only-of-type {\n",
       "        vertical-align: middle;\n",
       "    }\n",
       "\n",
       "    .dataframe tbody tr th {\n",
       "        vertical-align: top;\n",
       "    }\n",
       "\n",
       "    .dataframe thead th {\n",
       "        text-align: right;\n",
       "    }\n",
       "</style>\n",
       "<table border=\"1\" class=\"dataframe\">\n",
       "  <thead>\n",
       "    <tr style=\"text-align: right;\">\n",
       "      <th></th>\n",
       "      <th>No_Of_Orders</th>\n",
       "      <th>Age</th>\n",
       "      <th>Average_Rating</th>\n",
       "      <th>No_of_Ratings</th>\n",
       "      <th>speed</th>\n",
       "      <th>geospeed</th>\n",
       "    </tr>\n",
       "    <tr>\n",
       "      <th>Rider Id</th>\n",
       "      <th></th>\n",
       "      <th></th>\n",
       "      <th></th>\n",
       "      <th></th>\n",
       "      <th></th>\n",
       "      <th></th>\n",
       "    </tr>\n",
       "  </thead>\n",
       "  <tbody>\n",
       "    <tr>\n",
       "      <th>Rider_Id_396</th>\n",
       "      <td>2946</td>\n",
       "      <td>2298</td>\n",
       "      <td>14</td>\n",
       "      <td>1159</td>\n",
       "      <td>25.8673</td>\n",
       "      <td>8.86556</td>\n",
       "    </tr>\n",
       "    <tr>\n",
       "      <th>Rider_Id_479</th>\n",
       "      <td>360</td>\n",
       "      <td>951</td>\n",
       "      <td>13.5</td>\n",
       "      <td>176</td>\n",
       "      <td>20.6516</td>\n",
       "      <td>12.5004</td>\n",
       "    </tr>\n",
       "    <tr>\n",
       "      <th>Rider_Id_648</th>\n",
       "      <td>1746</td>\n",
       "      <td>821</td>\n",
       "      <td>14.3</td>\n",
       "      <td>466</td>\n",
       "      <td>27.9318</td>\n",
       "      <td>19.8829</td>\n",
       "    </tr>\n",
       "    <tr>\n",
       "      <th>Rider_Id_753</th>\n",
       "      <td>314</td>\n",
       "      <td>980</td>\n",
       "      <td>12.5</td>\n",
       "      <td>75</td>\n",
       "      <td>20.3334</td>\n",
       "      <td>13.712</td>\n",
       "    </tr>\n",
       "    <tr>\n",
       "      <th>Rider_Id_335</th>\n",
       "      <td>536</td>\n",
       "      <td>1113</td>\n",
       "      <td>13.7</td>\n",
       "      <td>156</td>\n",
       "      <td>NaN</td>\n",
       "      <td>NaN</td>\n",
       "    </tr>\n",
       "  </tbody>\n",
       "</table>\n",
       "</div>"
      ],
      "text/plain": [
       "             No_Of_Orders   Age Average_Rating No_of_Ratings    speed geospeed\n",
       "Rider Id                                                                      \n",
       "Rider_Id_396         2946  2298             14          1159  25.8673  8.86556\n",
       "Rider_Id_479          360   951           13.5           176  20.6516  12.5004\n",
       "Rider_Id_648         1746   821           14.3           466  27.9318  19.8829\n",
       "Rider_Id_753          314   980           12.5            75  20.3334   13.712\n",
       "Rider_Id_335          536  1113           13.7           156      NaN      NaN"
      ]
     },
     "execution_count": 94,
     "metadata": {},
     "output_type": "execute_result"
    }
   ],
   "source": [
    "riders_columns = ['No_Of_Orders', 'Age', 'Average_Rating','No_of_Ratings', 'speed', 'geospeed']\n",
    "data = df_riders[riders_columns]\n",
    "df_riders = pd.DataFrame(data.values, index=df_riders[\"Rider Id\"], columns=riders_columns)\n",
    "df_riders.head()"
   ]
  },
  {
   "cell_type": "markdown",
   "metadata": {
    "ExecuteTime": {
     "end_time": "2019-11-13T15:51:11.083834Z",
     "start_time": "2019-11-13T15:51:11.075835Z"
    }
   },
   "source": [
    "<h1> ML: Speed regression"
   ]
  },
  {
   "cell_type": "markdown",
   "metadata": {},
   "source": [
    "<h2> Data preparation"
   ]
  },
  {
   "cell_type": "code",
   "execution_count": 95,
   "metadata": {
    "ExecuteTime": {
     "end_time": "2019-11-13T16:42:51.558667Z",
     "start_time": "2019-11-13T16:42:51.534098Z"
    }
   },
   "outputs": [
    {
     "data": {
      "text/plain": [
       "(36, 6)"
      ]
     },
     "execution_count": 95,
     "metadata": {},
     "output_type": "execute_result"
    }
   ],
   "source": [
    "df_riders_test = df_riders[df_riders[\"speed\"] == \"NaN\"]\n",
    "y__speed_test = df_riders_test[\"speed\"]\n",
    "y__geospeed_test = df_riders_test[\"geospeed\"]\n",
    "X__test = df_riders_test.drop([\"speed\", \"geospeed\"], axis=1)\n",
    "df_riders_test.shape"
   ]
  },
  {
   "cell_type": "code",
   "execution_count": 96,
   "metadata": {
    "ExecuteTime": {
     "end_time": "2019-11-13T16:42:52.280074Z",
     "start_time": "2019-11-13T16:42:52.252835Z"
    }
   },
   "outputs": [
    {
     "data": {
      "text/plain": [
       "(924, 6)"
      ]
     },
     "execution_count": 96,
     "metadata": {},
     "output_type": "execute_result"
    }
   ],
   "source": [
    "df_riders_train = df_riders[df_riders[\"speed\"] != \"NaN\"]\n",
    "y_speed = df_riders_train[\"speed\"]\n",
    "y_geospeed = df_riders_train[\"geospeed\"]\n",
    "X = df_riders_train.drop([\"speed\", \"geospeed\"], axis=1)\n",
    "df_riders_train.shape"
   ]
  },
  {
   "cell_type": "code",
   "execution_count": 100,
   "metadata": {
    "ExecuteTime": {
     "end_time": "2019-11-13T16:43:21.517708Z",
     "start_time": "2019-11-13T16:43:21.508802Z"
    }
   },
   "outputs": [],
   "source": [
    "from sklearn.model_selection import train_test_split\n",
    "from sklearn.metrics import mean_squared_error\n",
    "\n",
    "X_train, X_test, y_train, y_test = train_test_split(X, y_speed, random_state=0, test_size=0.2)"
   ]
  },
  {
   "cell_type": "code",
   "execution_count": 101,
   "metadata": {
    "ExecuteTime": {
     "end_time": "2019-11-13T16:43:22.739320Z",
     "start_time": "2019-11-13T16:43:22.732502Z"
    }
   },
   "outputs": [],
   "source": [
    "from sklearn.linear_model import LinearRegression\n",
    "\n",
    "model = LinearRegression()\n",
    "\n",
    "model.fit(X_train, y_train)\n",
    "\n",
    "y_pred = model.predict(X_test)"
   ]
  },
  {
   "cell_type": "code",
   "execution_count": 102,
   "metadata": {
    "ExecuteTime": {
     "end_time": "2019-11-13T16:43:23.086425Z",
     "start_time": "2019-11-13T16:43:23.081937Z"
    }
   },
   "outputs": [
    {
     "data": {
      "text/plain": [
       "836759.3083792542"
      ]
     },
     "execution_count": 102,
     "metadata": {},
     "output_type": "execute_result"
    }
   ],
   "source": [
    "mean_squared_error(y_pred, y_test)"
   ]
  },
  {
   "cell_type": "markdown",
   "metadata": {},
   "source": [
    "<h1> Filling df_riders with speed prediction"
   ]
  },
  {
   "cell_type": "code",
   "execution_count": 108,
   "metadata": {
    "ExecuteTime": {
     "end_time": "2019-11-13T16:45:07.902603Z",
     "start_time": "2019-11-13T16:45:07.895939Z"
    }
   },
   "outputs": [],
   "source": [
    "from sklearn.linear_model import LinearRegression\n",
    "model_s = LinearRegression()\n",
    "model_s.fit(X, y_speed)\n",
    "y__speed_pred = model_s.predict(X__test)"
   ]
  },
  {
   "cell_type": "code",
   "execution_count": 109,
   "metadata": {
    "ExecuteTime": {
     "end_time": "2019-11-13T16:45:08.296878Z",
     "start_time": "2019-11-13T16:45:08.287453Z"
    }
   },
   "outputs": [],
   "source": [
    "model_g = LinearRegression()\n",
    "model_g.fit(X, y_geospeed)\n",
    "y__geospeed_pred = model_g.predict(X__test)"
   ]
  },
  {
   "cell_type": "code",
   "execution_count": 118,
   "metadata": {
    "ExecuteTime": {
     "end_time": "2019-11-13T16:48:05.280294Z",
     "start_time": "2019-11-13T16:48:05.268098Z"
    }
   },
   "outputs": [
    {
     "data": {
      "text/html": [
       "<div>\n",
       "<style scoped>\n",
       "    .dataframe tbody tr th:only-of-type {\n",
       "        vertical-align: middle;\n",
       "    }\n",
       "\n",
       "    .dataframe tbody tr th {\n",
       "        vertical-align: top;\n",
       "    }\n",
       "\n",
       "    .dataframe thead th {\n",
       "        text-align: right;\n",
       "    }\n",
       "</style>\n",
       "<table border=\"1\" class=\"dataframe\">\n",
       "  <thead>\n",
       "    <tr style=\"text-align: right;\">\n",
       "      <th></th>\n",
       "      <th>speed</th>\n",
       "    </tr>\n",
       "    <tr>\n",
       "      <th>Rider Id</th>\n",
       "      <th></th>\n",
       "    </tr>\n",
       "  </thead>\n",
       "  <tbody>\n",
       "    <tr>\n",
       "      <th>Rider_Id_335</th>\n",
       "      <td>61.301760</td>\n",
       "    </tr>\n",
       "    <tr>\n",
       "      <th>Rider_Id_757</th>\n",
       "      <td>462.733479</td>\n",
       "    </tr>\n",
       "    <tr>\n",
       "      <th>Rider_Id_437</th>\n",
       "      <td>-181.532449</td>\n",
       "    </tr>\n",
       "    <tr>\n",
       "      <th>Rider_Id_153</th>\n",
       "      <td>46.481889</td>\n",
       "    </tr>\n",
       "    <tr>\n",
       "      <th>Rider_Id_374</th>\n",
       "      <td>488.863389</td>\n",
       "    </tr>\n",
       "  </tbody>\n",
       "</table>\n",
       "</div>"
      ],
      "text/plain": [
       "                   speed\n",
       "Rider Id                \n",
       "Rider_Id_335   61.301760\n",
       "Rider_Id_757  462.733479\n",
       "Rider_Id_437 -181.532449\n",
       "Rider_Id_153   46.481889\n",
       "Rider_Id_374  488.863389"
      ]
     },
     "execution_count": 118,
     "metadata": {},
     "output_type": "execute_result"
    }
   ],
   "source": [
    "df_speed_pred = pd.DataFrame(data=y__speed_pred , index = X__test.index, columns=[\"speed\"])\n",
    "df_speed_pred.head()"
   ]
  },
  {
   "cell_type": "code",
   "execution_count": 119,
   "metadata": {
    "ExecuteTime": {
     "end_time": "2019-11-13T16:48:05.439920Z",
     "start_time": "2019-11-13T16:48:05.428186Z"
    }
   },
   "outputs": [
    {
     "data": {
      "text/html": [
       "<div>\n",
       "<style scoped>\n",
       "    .dataframe tbody tr th:only-of-type {\n",
       "        vertical-align: middle;\n",
       "    }\n",
       "\n",
       "    .dataframe tbody tr th {\n",
       "        vertical-align: top;\n",
       "    }\n",
       "\n",
       "    .dataframe thead th {\n",
       "        text-align: right;\n",
       "    }\n",
       "</style>\n",
       "<table border=\"1\" class=\"dataframe\">\n",
       "  <thead>\n",
       "    <tr style=\"text-align: right;\">\n",
       "      <th></th>\n",
       "      <th>geospeed</th>\n",
       "    </tr>\n",
       "    <tr>\n",
       "      <th>Rider Id</th>\n",
       "      <th></th>\n",
       "    </tr>\n",
       "  </thead>\n",
       "  <tbody>\n",
       "    <tr>\n",
       "      <th>Rider_Id_335</th>\n",
       "      <td>39.044116</td>\n",
       "    </tr>\n",
       "    <tr>\n",
       "      <th>Rider_Id_757</th>\n",
       "      <td>294.327071</td>\n",
       "    </tr>\n",
       "    <tr>\n",
       "      <th>Rider_Id_437</th>\n",
       "      <td>-118.361945</td>\n",
       "    </tr>\n",
       "    <tr>\n",
       "      <th>Rider_Id_153</th>\n",
       "      <td>30.520078</td>\n",
       "    </tr>\n",
       "    <tr>\n",
       "      <th>Rider_Id_374</th>\n",
       "      <td>308.727129</td>\n",
       "    </tr>\n",
       "  </tbody>\n",
       "</table>\n",
       "</div>"
      ],
      "text/plain": [
       "                geospeed\n",
       "Rider Id                \n",
       "Rider_Id_335   39.044116\n",
       "Rider_Id_757  294.327071\n",
       "Rider_Id_437 -118.361945\n",
       "Rider_Id_153   30.520078\n",
       "Rider_Id_374  308.727129"
      ]
     },
     "execution_count": 119,
     "metadata": {},
     "output_type": "execute_result"
    }
   ],
   "source": [
    "df_geospeed_pred = pd.DataFrame(data=y__geospeed_pred , index = X__test.index, columns=[\"geospeed\"])\n",
    "df_geospeed_pred.head()"
   ]
  },
  {
   "cell_type": "code",
   "execution_count": 120,
   "metadata": {
    "ExecuteTime": {
     "end_time": "2019-11-13T16:48:05.582743Z",
     "start_time": "2019-11-13T16:48:05.576238Z"
    }
   },
   "outputs": [
    {
     "data": {
      "text/plain": [
       "array([  61.30175964,  462.73347935, -181.53244944,   46.48188898,\n",
       "        488.86338918, -238.40159735, -124.5007029 ,  -15.91636872,\n",
       "         61.0563267 , 1422.66899636, -146.22823615,  703.07170285,\n",
       "        253.64257352, -115.78216229,   42.13742649,  -70.67453708,\n",
       "        262.79850504,   -3.72129637,   30.78010762,  247.16606177,\n",
       "        -15.33075474,  -34.06864926, -185.4543736 ,  112.07678158,\n",
       "        272.18611586,   83.75850357,  113.70470814,  109.46282333,\n",
       "        439.44213328,  377.31203962,  432.76541383,   18.60609602,\n",
       "        131.9810178 ,  295.90806586,  163.80252983,  178.34129838])"
      ]
     },
     "execution_count": 120,
     "metadata": {},
     "output_type": "execute_result"
    }
   ],
   "source": [
    "y__pred"
   ]
  },
  {
   "cell_type": "code",
   "execution_count": 30,
   "metadata": {
    "ExecuteTime": {
     "end_time": "2019-11-13T16:05:58.930648Z",
     "start_time": "2019-11-13T16:05:58.917865Z"
    }
   },
   "outputs": [],
   "source": [
    "y__pred_sort = sorted(y__pred)"
   ]
  },
  {
   "cell_type": "code",
   "execution_count": 31,
   "metadata": {
    "ExecuteTime": {
     "end_time": "2019-11-13T16:05:59.130746Z",
     "start_time": "2019-11-13T16:05:58.934595Z"
    }
   },
   "outputs": [
    {
     "data": {
      "image/png": "[encoded data removed]",
      "text/plain": [
       "<Figure size 432x288 with 1 Axes>"
      ]
     },
     "metadata": {
      "needs_background": "light"
     },
     "output_type": "display_data"
    }
   ],
   "source": [
    "plt.figure()\n",
    "plt.plot(np.arange(len(y__pred)), y__pred_sort)\n",
    "plt.title(\"speed predicted values\")\n",
    "plt.show()"
   ]
  },
  {
   "cell_type": "code",
   "execution_count": 121,
   "metadata": {
    "ExecuteTime": {
     "end_time": "2019-11-13T16:48:12.906856Z",
     "start_time": "2019-11-13T16:48:12.888690Z"
    }
   },
   "outputs": [
    {
     "name": "stdout",
     "output_type": "stream",
     "text": [
      "(36, 6)\n"
     ]
    },
    {
     "data": {
      "text/html": [
       "<div>\n",
       "<style scoped>\n",
       "    .dataframe tbody tr th:only-of-type {\n",
       "        vertical-align: middle;\n",
       "    }\n",
       "\n",
       "    .dataframe tbody tr th {\n",
       "        vertical-align: top;\n",
       "    }\n",
       "\n",
       "    .dataframe thead th {\n",
       "        text-align: right;\n",
       "    }\n",
       "</style>\n",
       "<table border=\"1\" class=\"dataframe\">\n",
       "  <thead>\n",
       "    <tr style=\"text-align: right;\">\n",
       "      <th></th>\n",
       "      <th>No_Of_Orders</th>\n",
       "      <th>Age</th>\n",
       "      <th>Average_Rating</th>\n",
       "      <th>No_of_Ratings</th>\n",
       "      <th>speed</th>\n",
       "      <th>geospeed</th>\n",
       "    </tr>\n",
       "    <tr>\n",
       "      <th>Rider Id</th>\n",
       "      <th></th>\n",
       "      <th></th>\n",
       "      <th></th>\n",
       "      <th></th>\n",
       "      <th></th>\n",
       "      <th></th>\n",
       "    </tr>\n",
       "  </thead>\n",
       "  <tbody>\n",
       "    <tr>\n",
       "      <th>Rider_Id_335</th>\n",
       "      <td>536</td>\n",
       "      <td>1113</td>\n",
       "      <td>13.7</td>\n",
       "      <td>156</td>\n",
       "      <td>61.301760</td>\n",
       "      <td>39.044116</td>\n",
       "    </tr>\n",
       "    <tr>\n",
       "      <th>Rider_Id_757</th>\n",
       "      <td>2101</td>\n",
       "      <td>1066</td>\n",
       "      <td>12.3</td>\n",
       "      <td>229</td>\n",
       "      <td>462.733479</td>\n",
       "      <td>294.327071</td>\n",
       "    </tr>\n",
       "    <tr>\n",
       "      <th>Rider_Id_437</th>\n",
       "      <td>2966</td>\n",
       "      <td>2053</td>\n",
       "      <td>14</td>\n",
       "      <td>1147</td>\n",
       "      <td>-181.532449</td>\n",
       "      <td>-118.361945</td>\n",
       "    </tr>\n",
       "    <tr>\n",
       "      <th>Rider_Id_153</th>\n",
       "      <td>233</td>\n",
       "      <td>982</td>\n",
       "      <td>13.9</td>\n",
       "      <td>85</td>\n",
       "      <td>46.481889</td>\n",
       "      <td>30.520078</td>\n",
       "    </tr>\n",
       "    <tr>\n",
       "      <th>Rider_Id_374</th>\n",
       "      <td>1985</td>\n",
       "      <td>1191</td>\n",
       "      <td>12.3</td>\n",
       "      <td>143</td>\n",
       "      <td>488.863389</td>\n",
       "      <td>308.727129</td>\n",
       "    </tr>\n",
       "  </tbody>\n",
       "</table>\n",
       "</div>"
      ],
      "text/plain": [
       "             No_Of_Orders   Age Average_Rating No_of_Ratings       speed  \\\n",
       "Rider Id                                                                   \n",
       "Rider_Id_335          536  1113           13.7           156   61.301760   \n",
       "Rider_Id_757         2101  1066           12.3           229  462.733479   \n",
       "Rider_Id_437         2966  2053             14          1147 -181.532449   \n",
       "Rider_Id_153          233   982           13.9            85   46.481889   \n",
       "Rider_Id_374         1985  1191           12.3           143  488.863389   \n",
       "\n",
       "                geospeed  \n",
       "Rider Id                  \n",
       "Rider_Id_335   39.044116  \n",
       "Rider_Id_757  294.327071  \n",
       "Rider_Id_437 -118.361945  \n",
       "Rider_Id_153   30.520078  \n",
       "Rider_Id_374  308.727129  "
      ]
     },
     "execution_count": 121,
     "metadata": {},
     "output_type": "execute_result"
    }
   ],
   "source": [
    "df__pred = pd.concat([X__test, df_speed_pred, df_geospeed_pred], axis=1)\n",
    "print(df__pred.shape)\n",
    "df__pred.head()"
   ]
  },
  {
   "cell_type": "code",
   "execution_count": 122,
   "metadata": {
    "ExecuteTime": {
     "end_time": "2019-11-13T16:48:16.567341Z",
     "start_time": "2019-11-13T16:48:16.556655Z"
    }
   },
   "outputs": [
    {
     "name": "stdout",
     "output_type": "stream",
     "text": [
      "(924, 6)\n"
     ]
    },
    {
     "data": {
      "text/html": [
       "<div>\n",
       "<style scoped>\n",
       "    .dataframe tbody tr th:only-of-type {\n",
       "        vertical-align: middle;\n",
       "    }\n",
       "\n",
       "    .dataframe tbody tr th {\n",
       "        vertical-align: top;\n",
       "    }\n",
       "\n",
       "    .dataframe thead th {\n",
       "        text-align: right;\n",
       "    }\n",
       "</style>\n",
       "<table border=\"1\" class=\"dataframe\">\n",
       "  <thead>\n",
       "    <tr style=\"text-align: right;\">\n",
       "      <th></th>\n",
       "      <th>No_Of_Orders</th>\n",
       "      <th>Age</th>\n",
       "      <th>Average_Rating</th>\n",
       "      <th>No_of_Ratings</th>\n",
       "      <th>speed</th>\n",
       "      <th>geospeed</th>\n",
       "    </tr>\n",
       "    <tr>\n",
       "      <th>Rider Id</th>\n",
       "      <th></th>\n",
       "      <th></th>\n",
       "      <th></th>\n",
       "      <th></th>\n",
       "      <th></th>\n",
       "      <th></th>\n",
       "    </tr>\n",
       "  </thead>\n",
       "  <tbody>\n",
       "    <tr>\n",
       "      <th>Rider_Id_396</th>\n",
       "      <td>2946</td>\n",
       "      <td>2298</td>\n",
       "      <td>14</td>\n",
       "      <td>1159</td>\n",
       "      <td>25.8673</td>\n",
       "      <td>8.86556</td>\n",
       "    </tr>\n",
       "    <tr>\n",
       "      <th>Rider_Id_479</th>\n",
       "      <td>360</td>\n",
       "      <td>951</td>\n",
       "      <td>13.5</td>\n",
       "      <td>176</td>\n",
       "      <td>20.6516</td>\n",
       "      <td>12.5004</td>\n",
       "    </tr>\n",
       "    <tr>\n",
       "      <th>Rider_Id_648</th>\n",
       "      <td>1746</td>\n",
       "      <td>821</td>\n",
       "      <td>14.3</td>\n",
       "      <td>466</td>\n",
       "      <td>27.9318</td>\n",
       "      <td>19.8829</td>\n",
       "    </tr>\n",
       "    <tr>\n",
       "      <th>Rider_Id_753</th>\n",
       "      <td>314</td>\n",
       "      <td>980</td>\n",
       "      <td>12.5</td>\n",
       "      <td>75</td>\n",
       "      <td>20.3334</td>\n",
       "      <td>13.712</td>\n",
       "    </tr>\n",
       "    <tr>\n",
       "      <th>Rider_Id_720</th>\n",
       "      <td>2608</td>\n",
       "      <td>1798</td>\n",
       "      <td>13.2</td>\n",
       "      <td>504</td>\n",
       "      <td>41.3711</td>\n",
       "      <td>28.4343</td>\n",
       "    </tr>\n",
       "  </tbody>\n",
       "</table>\n",
       "</div>"
      ],
      "text/plain": [
       "             No_Of_Orders   Age Average_Rating No_of_Ratings    speed geospeed\n",
       "Rider Id                                                                      \n",
       "Rider_Id_396         2946  2298             14          1159  25.8673  8.86556\n",
       "Rider_Id_479          360   951           13.5           176  20.6516  12.5004\n",
       "Rider_Id_648         1746   821           14.3           466  27.9318  19.8829\n",
       "Rider_Id_753          314   980           12.5            75  20.3334   13.712\n",
       "Rider_Id_720         2608  1798           13.2           504  41.3711  28.4343"
      ]
     },
     "execution_count": 122,
     "metadata": {},
     "output_type": "execute_result"
    }
   ],
   "source": [
    "print(df_riders_train.shape)\n",
    "df_riders_train.head()"
   ]
  },
  {
   "cell_type": "code",
   "execution_count": 123,
   "metadata": {
    "ExecuteTime": {
     "end_time": "2019-11-13T16:48:17.310485Z",
     "start_time": "2019-11-13T16:48:17.289630Z"
    }
   },
   "outputs": [
    {
     "name": "stdout",
     "output_type": "stream",
     "text": [
      "(960, 6)\n"
     ]
    },
    {
     "data": {
      "text/html": [
       "<div>\n",
       "<style scoped>\n",
       "    .dataframe tbody tr th:only-of-type {\n",
       "        vertical-align: middle;\n",
       "    }\n",
       "\n",
       "    .dataframe tbody tr th {\n",
       "        vertical-align: top;\n",
       "    }\n",
       "\n",
       "    .dataframe thead th {\n",
       "        text-align: right;\n",
       "    }\n",
       "</style>\n",
       "<table border=\"1\" class=\"dataframe\">\n",
       "  <thead>\n",
       "    <tr style=\"text-align: right;\">\n",
       "      <th></th>\n",
       "      <th>No_Of_Orders</th>\n",
       "      <th>Age</th>\n",
       "      <th>Average_Rating</th>\n",
       "      <th>No_of_Ratings</th>\n",
       "      <th>speed</th>\n",
       "      <th>geospeed</th>\n",
       "    </tr>\n",
       "    <tr>\n",
       "      <th>Rider Id</th>\n",
       "      <th></th>\n",
       "      <th></th>\n",
       "      <th></th>\n",
       "      <th></th>\n",
       "      <th></th>\n",
       "      <th></th>\n",
       "    </tr>\n",
       "  </thead>\n",
       "  <tbody>\n",
       "    <tr>\n",
       "      <th>Rider_Id_335</th>\n",
       "      <td>536</td>\n",
       "      <td>1113</td>\n",
       "      <td>13.7</td>\n",
       "      <td>156</td>\n",
       "      <td>61.3018</td>\n",
       "      <td>39.0441</td>\n",
       "    </tr>\n",
       "    <tr>\n",
       "      <th>Rider_Id_757</th>\n",
       "      <td>2101</td>\n",
       "      <td>1066</td>\n",
       "      <td>12.3</td>\n",
       "      <td>229</td>\n",
       "      <td>462.733</td>\n",
       "      <td>294.327</td>\n",
       "    </tr>\n",
       "    <tr>\n",
       "      <th>Rider_Id_437</th>\n",
       "      <td>2966</td>\n",
       "      <td>2053</td>\n",
       "      <td>14</td>\n",
       "      <td>1147</td>\n",
       "      <td>-181.532</td>\n",
       "      <td>-118.362</td>\n",
       "    </tr>\n",
       "    <tr>\n",
       "      <th>Rider_Id_153</th>\n",
       "      <td>233</td>\n",
       "      <td>982</td>\n",
       "      <td>13.9</td>\n",
       "      <td>85</td>\n",
       "      <td>46.4819</td>\n",
       "      <td>30.5201</td>\n",
       "    </tr>\n",
       "    <tr>\n",
       "      <th>Rider_Id_374</th>\n",
       "      <td>1985</td>\n",
       "      <td>1191</td>\n",
       "      <td>12.3</td>\n",
       "      <td>143</td>\n",
       "      <td>488.863</td>\n",
       "      <td>308.727</td>\n",
       "    </tr>\n",
       "  </tbody>\n",
       "</table>\n",
       "</div>"
      ],
      "text/plain": [
       "             No_Of_Orders   Age Average_Rating No_of_Ratings    speed geospeed\n",
       "Rider Id                                                                      \n",
       "Rider_Id_335          536  1113           13.7           156  61.3018  39.0441\n",
       "Rider_Id_757         2101  1066           12.3           229  462.733  294.327\n",
       "Rider_Id_437         2966  2053             14          1147 -181.532 -118.362\n",
       "Rider_Id_153          233   982           13.9            85  46.4819  30.5201\n",
       "Rider_Id_374         1985  1191           12.3           143  488.863  308.727"
      ]
     },
     "execution_count": 123,
     "metadata": {},
     "output_type": "execute_result"
    }
   ],
   "source": [
    "df__riders = pd.concat([df__pred, df_riders_train], axis=0)\n",
    "print(df__riders.shape)\n",
    "df__riders.head()"
   ]
  },
  {
   "cell_type": "code",
   "execution_count": 124,
   "metadata": {
    "ExecuteTime": {
     "end_time": "2019-11-13T16:48:19.786700Z",
     "start_time": "2019-11-13T16:48:19.782835Z"
    }
   },
   "outputs": [
    {
     "data": {
      "text/plain": [
       "(960, 6)"
      ]
     },
     "execution_count": 124,
     "metadata": {},
     "output_type": "execute_result"
    }
   ],
   "source": [
    "df_riders.shape"
   ]
  },
  {
   "cell_type": "code",
   "execution_count": 125,
   "metadata": {
    "ExecuteTime": {
     "end_time": "2019-11-13T16:48:20.362303Z",
     "start_time": "2019-11-13T16:48:20.358952Z"
    }
   },
   "outputs": [],
   "source": [
    "df__riders[\"speed\"] = df__riders[\"speed\"].astype(\"float\")"
   ]
  },
  {
   "cell_type": "code",
   "execution_count": 126,
   "metadata": {
    "ExecuteTime": {
     "end_time": "2019-11-13T16:48:20.734202Z",
     "start_time": "2019-11-13T16:48:20.721033Z"
    }
   },
   "outputs": [
    {
     "name": "stdout",
     "output_type": "stream",
     "text": [
      "<class 'pandas.core.frame.DataFrame'>\n",
      "Index: 960 entries, Rider_Id_335 to Rider_Id_201\n",
      "Data columns (total 6 columns):\n",
      "No_Of_Orders      960 non-null object\n",
      "Age               960 non-null object\n",
      "Average_Rating    960 non-null object\n",
      "No_of_Ratings     960 non-null object\n",
      "speed             960 non-null float64\n",
      "geospeed          960 non-null object\n",
      "dtypes: float64(1), object(5)\n",
      "memory usage: 52.5+ KB\n"
     ]
    }
   ],
   "source": [
    "df__riders.info()"
   ]
  },
  {
   "cell_type": "markdown",
   "metadata": {},
   "source": [
    "<h2> Dumping to pickle"
   ]
  },
  {
   "cell_type": "code",
   "execution_count": 127,
   "metadata": {
    "ExecuteTime": {
     "end_time": "2019-11-13T16:48:21.767259Z",
     "start_time": "2019-11-13T16:48:21.699488Z"
    }
   },
   "outputs": [],
   "source": [
    "pickle_filename = \"data/riders.pkl\"\n",
    "content = (df__riders)\n",
    "dump_to_pickle(content, pickle_filename)"
   ]
  },
  {
   "cell_type": "code",
   "execution_count": null,
   "metadata": {},
   "outputs": [],
   "source": []
  },
  {
   "cell_type": "code",
   "execution_count": null,
   "metadata": {},
   "outputs": [],
   "source": []
  },
  {
   "cell_type": "code",
   "execution_count": null,
   "metadata": {},
   "outputs": [],
   "source": []
  },
  {
   "cell_type": "code",
   "execution_count": null,
   "metadata": {},
   "outputs": [],
   "source": []
  }
 ],
 "metadata": {
  "kernelspec": {
   "display_name": "Python 3",
   "language": "python",
   "name": "python3"
  },
  "language_info": {
   "codemirror_mode": {
    "name": "ipython",
    "version": 3
   },
   "file_extension": ".py",
   "mimetype": "text/x-python",
   "name": "python",
   "nbconvert_exporter": "python",
   "pygments_lexer": "ipython3",
   "version": "3.7.4"
  },
  "toc": {
   "base_numbering": 1,
   "nav_menu": {},
   "number_sections": true,
   "sideBar": true,
   "skip_h1_title": false,
   "title_cell": "Table of Contents",
   "title_sidebar": "Contents",
   "toc_cell": false,
   "toc_position": {},
   "toc_section_display": true,
   "toc_window_display": true
  }
 },
 "nbformat": 4,
 "nbformat_minor": 2
}
