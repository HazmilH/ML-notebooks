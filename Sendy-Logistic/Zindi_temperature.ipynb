{
 "cells": [
  {
   "cell_type": "markdown",
   "metadata": {},
   "source": [
    "Here we will build a regression model to predict the missing Temperature values within the training and test datasets."
   ]
  },
  {
   "cell_type": "code",
   "execution_count": 1,
   "metadata": {
    "ExecuteTime": {
     "end_time": "2019-11-26T14:13:06.803509Z",
     "start_time": "2019-11-26T14:13:06.024640Z"
    }
   },
   "outputs": [],
   "source": [
    "import pandas as pd\n",
    "import numpy as np\n",
    "import matplotlib.pyplot as plt\n",
    "from datetime import datetime\n",
    "from geopy import distance\n",
    "import pickle\n",
    "from utils_dump_load import load_from_pickle, dump_to_pickle"
   ]
  },
  {
   "cell_type": "code",
   "execution_count": 2,
   "metadata": {
    "ExecuteTime": {
     "end_time": "2019-11-26T14:13:06.809218Z",
     "start_time": "2019-11-26T14:13:06.805588Z"
    }
   },
   "outputs": [],
   "source": [
    "pd.set_option('display.max_columns', 40)"
   ]
  },
  {
   "cell_type": "markdown",
   "metadata": {},
   "source": [
    "<h1> Loading the data"
   ]
  },
  {
   "cell_type": "code",
   "execution_count": 3,
   "metadata": {
    "ExecuteTime": {
     "end_time": "2019-11-26T14:13:06.891719Z",
     "start_time": "2019-11-26T14:13:06.812179Z"
    }
   },
   "outputs": [
    {
     "data": {
      "text/plain": [
       "(7068, 24)"
      ]
     },
     "execution_count": 3,
     "metadata": {},
     "output_type": "execute_result"
    }
   ],
   "source": [
    "filepath_test = \"data/Test.csv\"\n",
    "df_test = pd.read_csv(filepath_test, index_col=\"Order No\")\n",
    "df_test.shape"
   ]
  },
  {
   "cell_type": "code",
   "execution_count": 4,
   "metadata": {
    "ExecuteTime": {
     "end_time": "2019-11-26T14:13:07.050812Z",
     "start_time": "2019-11-26T14:13:06.894433Z"
    }
   },
   "outputs": [
    {
     "data": {
      "text/plain": [
       "(21201, 28)"
      ]
     },
     "execution_count": 4,
     "metadata": {},
     "output_type": "execute_result"
    }
   ],
   "source": [
    "filepath_train = \"data/Train.csv\"\n",
    "df_train = pd.read_csv(filepath_train, index_col=\"Order No\")\n",
    "df_train.shape"
   ]
  },
  {
   "cell_type": "markdown",
   "metadata": {},
   "source": [
    "<h1> Creating the needed features"
   ]
  },
  {
   "cell_type": "code",
   "execution_count": 5,
   "metadata": {
    "ExecuteTime": {
     "end_time": "2019-11-26T14:13:07.157422Z",
     "start_time": "2019-11-26T14:13:07.150339Z"
    }
   },
   "outputs": [],
   "source": [
    "def get_hour(x):\n",
    "    datetime_object = datetime.strptime(x, \"%I:%M:%S %p\")\n",
    "    return datetime_object.hour"
   ]
  },
  {
   "cell_type": "code",
   "execution_count": 6,
   "metadata": {
    "ExecuteTime": {
     "end_time": "2019-11-26T14:13:07.961021Z",
     "start_time": "2019-11-26T14:13:07.585936Z"
    }
   },
   "outputs": [],
   "source": [
    "df_train[\"Pickup - Hour\"] = df_train[\"Pickup - Time\"].apply(lambda x: get_hour(x))\n",
    "df_test[\"Pickup - Hour\"] = df_test[\"Pickup - Time\"].apply(lambda x: get_hour(x))"
   ]
  },
  {
   "cell_type": "markdown",
   "metadata": {},
   "source": [
    "<h1> Feature selection"
   ]
  },
  {
   "cell_type": "code",
   "execution_count": 7,
   "metadata": {
    "ExecuteTime": {
     "end_time": "2019-11-26T14:13:08.162436Z",
     "start_time": "2019-11-26T14:13:08.157865Z"
    }
   },
   "outputs": [],
   "source": [
    "feature_selection = [\"Pickup - Day of Month\", \"Pickup - Weekday (Mo = 1)\", \"Pickup - Hour\" ]"
   ]
  },
  {
   "cell_type": "code",
   "execution_count": 8,
   "metadata": {
    "ExecuteTime": {
     "end_time": "2019-11-26T14:13:08.377785Z",
     "start_time": "2019-11-26T14:13:08.345688Z"
    }
   },
   "outputs": [],
   "source": [
    "df = df_train.dropna()"
   ]
  },
  {
   "cell_type": "code",
   "execution_count": 9,
   "metadata": {
    "ExecuteTime": {
     "end_time": "2019-11-26T14:13:08.870201Z",
     "start_time": "2019-11-26T14:13:08.858308Z"
    }
   },
   "outputs": [],
   "source": [
    "y = df[\"Temperature\"]\n",
    "X = df[feature_selection]"
   ]
  },
  {
   "cell_type": "code",
   "execution_count": 10,
   "metadata": {
    "ExecuteTime": {
     "end_time": "2019-11-26T14:13:09.901809Z",
     "start_time": "2019-11-26T14:13:09.896112Z"
    }
   },
   "outputs": [
    {
     "data": {
      "text/plain": [
       "0"
      ]
     },
     "execution_count": 10,
     "metadata": {},
     "output_type": "execute_result"
    }
   ],
   "source": [
    "y.isna().sum()"
   ]
  },
  {
   "cell_type": "code",
   "execution_count": 13,
   "metadata": {
    "ExecuteTime": {
     "end_time": "2019-11-26T14:13:30.718410Z",
     "start_time": "2019-11-26T14:13:30.708345Z"
    }
   },
   "outputs": [],
   "source": [
    "from sklearn.model_selection import train_test_split\n",
    "from sklearn.metrics import mean_squared_error\n",
    "\n",
    "X__train, X__test, y__train, y__test = train_test_split(X, y, random_state=0, test_size=0.2)"
   ]
  },
  {
   "cell_type": "code",
   "execution_count": 14,
   "metadata": {
    "ExecuteTime": {
     "end_time": "2019-11-26T14:13:42.290836Z",
     "start_time": "2019-11-26T14:13:42.280375Z"
    }
   },
   "outputs": [
    {
     "data": {
      "text/plain": [
       "3.333019830584398"
      ]
     },
     "execution_count": 14,
     "metadata": {},
     "output_type": "execute_result"
    }
   ],
   "source": [
    "from sklearn.linear_model import LinearRegression\n",
    "\n",
    "lr = LinearRegression()\n",
    "lr.fit(X__train, y__train)\n",
    "y_pred = lr.predict(X__test)\n",
    "\n",
    "mean_squared_error(y__test, y_pred)"
   ]
  },
  {
   "cell_type": "code",
   "execution_count": 15,
   "metadata": {
    "ExecuteTime": {
     "end_time": "2019-11-26T14:13:43.490354Z",
     "start_time": "2019-11-26T14:13:43.387857Z"
    }
   },
   "outputs": [
    {
     "data": {
      "text/plain": [
       "1.0725759514217368"
      ]
     },
     "execution_count": 15,
     "metadata": {},
     "output_type": "execute_result"
    }
   ],
   "source": [
    "from lightgbm.sklearn import LGBMRegressor\n",
    "\n",
    "lgbm = LGBMRegressor()\n",
    "lgbm.fit(X__train, y__train)\n",
    "y_pred = lgbm.predict(X__test)\n",
    "\n",
    "mean_squared_error(y__test, y_pred)"
   ]
  },
  {
   "cell_type": "code",
   "execution_count": 18,
   "metadata": {
    "ExecuteTime": {
     "end_time": "2019-11-26T14:14:30.882769Z",
     "start_time": "2019-11-26T14:14:30.754613Z"
    }
   },
   "outputs": [
    {
     "data": {
      "image/png": "[encoded data removed]",
      "text/plain": [
       "<Figure size 504x504 with 1 Axes>"
      ]
     },
     "metadata": {
      "needs_background": "light"
     },
     "output_type": "display_data"
    }
   ],
   "source": [
    "plt.figure(figsize=(7,7))\n",
    "plt.scatter(y_pred, y__test)\n",
    "plt.title(\"Predicted Temperature compare to Actual Temperature\")\n",
    "plt.show()"
   ]
  },
  {
   "cell_type": "markdown",
   "metadata": {},
   "source": [
    "Let's choose the LGBM model  !!"
   ]
  },
  {
   "cell_type": "markdown",
   "metadata": {},
   "source": [
    "<h1> Let's fit the LGBM regressor on all actual values"
   ]
  },
  {
   "cell_type": "code",
   "execution_count": 19,
   "metadata": {
    "ExecuteTime": {
     "end_time": "2019-11-26T14:14:56.935794Z",
     "start_time": "2019-11-26T14:14:56.927656Z"
    }
   },
   "outputs": [
    {
     "data": {
      "text/plain": [
       "((21201, 29), (7068, 25))"
      ]
     },
     "execution_count": 19,
     "metadata": {},
     "output_type": "execute_result"
    }
   ],
   "source": [
    "df_train.shape, df_test.shape"
   ]
  },
  {
   "cell_type": "code",
   "execution_count": 20,
   "metadata": {
    "ExecuteTime": {
     "end_time": "2019-11-26T14:14:58.537209Z",
     "start_time": "2019-11-26T14:14:58.530238Z"
    }
   },
   "outputs": [
    {
     "data": {
      "text/plain": [
       "(21201, 3)"
      ]
     },
     "execution_count": 20,
     "metadata": {},
     "output_type": "execute_result"
    }
   ],
   "source": [
    "y_train = df_train[\"Temperature\"]\n",
    "X_train = df_train[feature_selection]\n",
    "X_train.shape"
   ]
  },
  {
   "cell_type": "code",
   "execution_count": 21,
   "metadata": {
    "ExecuteTime": {
     "end_time": "2019-11-26T14:14:59.122079Z",
     "start_time": "2019-11-26T14:14:59.113748Z"
    }
   },
   "outputs": [
    {
     "data": {
      "text/plain": [
       "(7068, 3)"
      ]
     },
     "execution_count": 21,
     "metadata": {},
     "output_type": "execute_result"
    }
   ],
   "source": [
    "y_test = df_test[\"Temperature\"]\n",
    "X_test = df_test[feature_selection]\n",
    "X_test.shape"
   ]
  },
  {
   "cell_type": "code",
   "execution_count": 22,
   "metadata": {
    "ExecuteTime": {
     "end_time": "2019-11-26T14:15:02.718755Z",
     "start_time": "2019-11-26T14:15:02.710263Z"
    }
   },
   "outputs": [],
   "source": [
    "y = pd.concat([y_train, y_test], axis=0)\n",
    "X = pd.concat([X_train, X_test], axis=0)"
   ]
  },
  {
   "cell_type": "code",
   "execution_count": 23,
   "metadata": {
    "ExecuteTime": {
     "end_time": "2019-11-26T14:15:03.224628Z",
     "start_time": "2019-11-26T14:15:03.217994Z"
    }
   },
   "outputs": [
    {
     "data": {
      "text/plain": [
       "((28269,), (28269, 3))"
      ]
     },
     "execution_count": 23,
     "metadata": {},
     "output_type": "execute_result"
    }
   ],
   "source": [
    "y.shape, X.shape"
   ]
  },
  {
   "cell_type": "code",
   "execution_count": 24,
   "metadata": {
    "ExecuteTime": {
     "end_time": "2019-11-26T14:15:07.087834Z",
     "start_time": "2019-11-26T14:15:07.059393Z"
    }
   },
   "outputs": [
    {
     "data": {
      "text/plain": [
       "((22466, 3), (5803, 3))"
      ]
     },
     "execution_count": 24,
     "metadata": {},
     "output_type": "execute_result"
    }
   ],
   "source": [
    "y_known = y[y.isna()==False]\n",
    "X_known = X[y.isna()==False]\n",
    "\n",
    "y_unknown = y[y.isna()==True]\n",
    "X_unknown = X[y.isna()==True]\n",
    "\n",
    "X_known.shape, X_unknown.shape"
   ]
  },
  {
   "cell_type": "code",
   "execution_count": 25,
   "metadata": {
    "ExecuteTime": {
     "end_time": "2019-11-26T14:15:10.118203Z",
     "start_time": "2019-11-26T14:15:10.111822Z"
    }
   },
   "outputs": [
    {
     "data": {
      "text/plain": [
       "5803"
      ]
     },
     "execution_count": 25,
     "metadata": {},
     "output_type": "execute_result"
    }
   ],
   "source": [
    "y_unknown.isna().sum()"
   ]
  },
  {
   "cell_type": "code",
   "execution_count": 26,
   "metadata": {
    "ExecuteTime": {
     "end_time": "2019-11-26T14:15:28.017258Z",
     "start_time": "2019-11-26T14:15:27.843356Z"
    }
   },
   "outputs": [],
   "source": [
    "from lightgbm.sklearn import LGBMRegressor\n",
    "\n",
    "lgbm = LGBMRegressor()\n",
    "lgbm.fit(X_known, y_known)\n",
    "y_pred = lgbm.predict(X_unknown)"
   ]
  },
  {
   "cell_type": "code",
   "execution_count": 27,
   "metadata": {
    "ExecuteTime": {
     "end_time": "2019-11-26T14:15:28.218025Z",
     "start_time": "2019-11-26T14:15:28.169095Z"
    }
   },
   "outputs": [],
   "source": [
    "y_test_unknow = lgbm.predict(X_test[y_test.isna()==True])\n",
    "y_train_unknow = lgbm.predict(X_train[y_train.isna()==True])"
   ]
  },
  {
   "cell_type": "code",
   "execution_count": 29,
   "metadata": {
    "ExecuteTime": {
     "end_time": "2019-11-26T14:15:46.721906Z",
     "start_time": "2019-11-26T14:15:46.609762Z"
    }
   },
   "outputs": [
    {
     "name": "stderr",
     "output_type": "stream",
     "text": [
      "/home/zyncus/bin/anaconda/lib/python3.7/site-packages/ipykernel_launcher.py:1: SettingWithCopyWarning: \n",
      "A value is trying to be set on a copy of a slice from a DataFrame\n",
      "\n",
      "See the caveats in the documentation: http://pandas.pydata.org/pandas-docs/stable/indexing.html#indexing-view-versus-copy\n",
      "  \"\"\"Entry point for launching an IPython kernel.\n",
      "/home/zyncus/bin/anaconda/lib/python3.7/site-packages/ipykernel_launcher.py:2: SettingWithCopyWarning: \n",
      "A value is trying to be set on a copy of a slice from a DataFrame\n",
      "\n",
      "See the caveats in the documentation: http://pandas.pydata.org/pandas-docs/stable/indexing.html#indexing-view-versus-copy\n",
      "  \n"
     ]
    }
   ],
   "source": [
    "y_train[y_train.isna()==True] = y_train_unknow\n",
    "y_test[y_test.isna()==True] = y_test_unknow"
   ]
  },
  {
   "cell_type": "code",
   "execution_count": 30,
   "metadata": {
    "ExecuteTime": {
     "end_time": "2019-11-26T14:15:48.721850Z",
     "start_time": "2019-11-26T14:15:48.714828Z"
    }
   },
   "outputs": [
    {
     "name": "stdout",
     "output_type": "stream",
     "text": [
      "0\n",
      "0\n"
     ]
    }
   ],
   "source": [
    "print(y_train.isna().sum())\n",
    "print(y_test.isna().sum())"
   ]
  },
  {
   "cell_type": "code",
   "execution_count": 31,
   "metadata": {
    "ExecuteTime": {
     "end_time": "2019-11-26T14:15:58.215303Z",
     "start_time": "2019-11-26T14:15:58.207849Z"
    }
   },
   "outputs": [],
   "source": [
    "df_train[\"Temperature\"] = y_train\n",
    "df_test[\"Temperature\"] = y_test"
   ]
  },
  {
   "cell_type": "code",
   "execution_count": 32,
   "metadata": {
    "ExecuteTime": {
     "end_time": "2019-11-26T14:15:58.717845Z",
     "start_time": "2019-11-26T14:15:58.691252Z"
    }
   },
   "outputs": [
    {
     "name": "stdout",
     "output_type": "stream",
     "text": [
      "<class 'pandas.core.frame.DataFrame'>\n",
      "Index: 21201 entries, Order_No_4211 to Order_No_9836\n",
      "Data columns (total 29 columns):\n",
      "User Id                                      21201 non-null object\n",
      "Vehicle Type                                 21201 non-null object\n",
      "Platform Type                                21201 non-null int64\n",
      "Personal or Business                         21201 non-null object\n",
      "Placement - Day of Month                     21201 non-null int64\n",
      "Placement - Weekday (Mo = 1)                 21201 non-null int64\n",
      "Placement - Time                             21201 non-null object\n",
      "Confirmation - Day of Month                  21201 non-null int64\n",
      "Confirmation - Weekday (Mo = 1)              21201 non-null int64\n",
      "Confirmation - Time                          21201 non-null object\n",
      "Arrival at Pickup - Day of Month             21201 non-null int64\n",
      "Arrival at Pickup - Weekday (Mo = 1)         21201 non-null int64\n",
      "Arrival at Pickup - Time                     21201 non-null object\n",
      "Pickup - Day of Month                        21201 non-null int64\n",
      "Pickup - Weekday (Mo = 1)                    21201 non-null int64\n",
      "Pickup - Time                                21201 non-null object\n",
      "Arrival at Destination - Day of Month        21201 non-null int64\n",
      "Arrival at Destination - Weekday (Mo = 1)    21201 non-null int64\n",
      "Arrival at Destination - Time                21201 non-null object\n",
      "Distance (KM)                                21201 non-null int64\n",
      "Temperature                                  21201 non-null float64\n",
      "Precipitation in millimeters                 552 non-null float64\n",
      "Pickup Lat                                   21201 non-null float64\n",
      "Pickup Long                                  21201 non-null float64\n",
      "Destination Lat                              21201 non-null float64\n",
      "Destination Long                             21201 non-null float64\n",
      "Rider Id                                     21201 non-null object\n",
      "Time from Pickup to Arrival                  21201 non-null int64\n",
      "Pickup - Hour                                21201 non-null int64\n",
      "dtypes: float64(6), int64(14), object(9)\n",
      "memory usage: 4.9+ MB\n"
     ]
    }
   ],
   "source": [
    "df_train.info()"
   ]
  },
  {
   "cell_type": "code",
   "execution_count": 83,
   "metadata": {
    "ExecuteTime": {
     "end_time": "2019-11-25T18:35:59.266599Z",
     "start_time": "2019-11-25T18:35:59.259479Z"
    }
   },
   "outputs": [
    {
     "data": {
      "text/plain": [
       "((21201, 29), (7068, 25))"
      ]
     },
     "execution_count": 83,
     "metadata": {},
     "output_type": "execute_result"
    }
   ],
   "source": [
    "df_train.shape, df_test.shape"
   ]
  },
  {
   "cell_type": "markdown",
   "metadata": {},
   "source": [
    "<h1> Dumping dataframes train and test with filled Temperature feature"
   ]
  },
  {
   "cell_type": "code",
   "execution_count": 33,
   "metadata": {
    "ExecuteTime": {
     "end_time": "2019-11-26T14:16:44.233379Z",
     "start_time": "2019-11-26T14:16:43.681084Z"
    }
   },
   "outputs": [],
   "source": [
    "pickle_filename = \"data/train_temp.pkl\"\n",
    "content = df_train\n",
    "dump_to_pickle(content, pickle_filename)"
   ]
  },
  {
   "cell_type": "code",
   "execution_count": 34,
   "metadata": {
    "ExecuteTime": {
     "end_time": "2019-11-26T14:16:44.463174Z",
     "start_time": "2019-11-26T14:16:44.236563Z"
    }
   },
   "outputs": [],
   "source": [
    "pickle_filename = \"data/test_temp.pkl\"\n",
    "content = df_test\n",
    "dump_to_pickle(content, pickle_filename)"
   ]
  }
 ],
 "metadata": {
  "kernelspec": {
   "display_name": "Python 3",
   "language": "python",
   "name": "python3"
  },
  "language_info": {
   "codemirror_mode": {
    "name": "ipython",
    "version": 3
   },
   "file_extension": ".py",
   "mimetype": "text/x-python",
   "name": "python",
   "nbconvert_exporter": "python",
   "pygments_lexer": "ipython3",
   "version": "3.7.4"
  },
  "toc": {
   "base_numbering": 1,
   "nav_menu": {},
   "number_sections": true,
   "sideBar": true,
   "skip_h1_title": false,
   "title_cell": "Table of Contents",
   "title_sidebar": "Contents",
   "toc_cell": false,
   "toc_position": {},
   "toc_section_display": true,
   "toc_window_display": false
  }
 },
 "nbformat": 4,
 "nbformat_minor": 2
}
