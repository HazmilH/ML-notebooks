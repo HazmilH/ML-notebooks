{
 "cells": [
  {
   "cell_type": "code",
   "execution_count": 1,
   "metadata": {
    "ExecuteTime": {
     "end_time": "2019-11-26T15:06:41.683349Z",
     "start_time": "2019-11-26T15:06:41.045254Z"
    }
   },
   "outputs": [],
   "source": [
    "import pandas as pd\n",
    "import numpy as np\n",
    "import matplotlib.pyplot as plt\n",
    "from datetime import datetime\n",
    "from geopy import distance\n",
    "import pickle\n",
    "from utils_dump_load import load_from_pickle, dump_to_pickle"
   ]
  },
  {
   "cell_type": "markdown",
   "metadata": {},
   "source": [
    "<h1> Data description"
   ]
  },
  {
   "cell_type": "markdown",
   "metadata": {},
   "source": [
    "The training dataset provided here is a subset of over 20,000 orders and only includes direct orders (i.e. Sendy “express” orders) with bikes in Nairobi"
   ]
  },
  {
   "cell_type": "code",
   "execution_count": 2,
   "metadata": {
    "ExecuteTime": {
     "end_time": "2019-11-26T15:06:41.691791Z",
     "start_time": "2019-11-26T15:06:41.685661Z"
    }
   },
   "outputs": [],
   "source": [
    "pd.set_option('display.max_columns', 40)"
   ]
  },
  {
   "cell_type": "markdown",
   "metadata": {},
   "source": [
    "<h1> Loading Data"
   ]
  },
  {
   "cell_type": "markdown",
   "metadata": {},
   "source": [
    "<h2> Test Dataframe"
   ]
  },
  {
   "cell_type": "code",
   "execution_count": 3,
   "metadata": {
    "ExecuteTime": {
     "end_time": "2019-11-26T15:06:42.224284Z",
     "start_time": "2019-11-26T15:06:42.149640Z"
    }
   },
   "outputs": [
    {
     "data": {
      "text/plain": [
       "(7068, 24)"
      ]
     },
     "execution_count": 3,
     "metadata": {},
     "output_type": "execute_result"
    }
   ],
   "source": [
    "filepath_test = \"data/Test.csv\"\n",
    "df_test = pd.read_csv(filepath_test, index_col=\"Order No\")\n",
    "df_test.shape"
   ]
  },
  {
   "cell_type": "code",
   "execution_count": 4,
   "metadata": {
    "ExecuteTime": {
     "end_time": "2019-11-26T15:06:42.356124Z",
     "start_time": "2019-11-26T15:06:42.344399Z"
    }
   },
   "outputs": [
    {
     "data": {
      "text/plain": [
       "array(['Bike'], dtype=object)"
      ]
     },
     "execution_count": 4,
     "metadata": {},
     "output_type": "execute_result"
    }
   ],
   "source": [
    "df_test[\"Vehicle Type\"].unique()"
   ]
  },
  {
   "cell_type": "markdown",
   "metadata": {},
   "source": [
    "<h2> Train Dataframe"
   ]
  },
  {
   "cell_type": "code",
   "execution_count": 5,
   "metadata": {
    "ExecuteTime": {
     "end_time": "2019-11-26T15:06:43.128144Z",
     "start_time": "2019-11-26T15:06:42.960244Z"
    }
   },
   "outputs": [
    {
     "data": {
      "text/plain": [
       "(21201, 28)"
      ]
     },
     "execution_count": 5,
     "metadata": {},
     "output_type": "execute_result"
    }
   ],
   "source": [
    "filepath_train = \"data/Train.csv\"\n",
    "df_train = pd.read_csv(filepath_train, index_col=\"Order No\")\n",
    "df_train.shape"
   ]
  },
  {
   "cell_type": "code",
   "execution_count": 6,
   "metadata": {
    "ExecuteTime": {
     "end_time": "2019-11-26T15:06:43.350418Z",
     "start_time": "2019-11-26T15:06:43.310741Z"
    },
    "scrolled": true
   },
   "outputs": [
    {
     "data": {
      "text/html": [
       "<div>\n",
       "<style scoped>\n",
       "    .dataframe tbody tr th:only-of-type {\n",
       "        vertical-align: middle;\n",
       "    }\n",
       "\n",
       "    .dataframe tbody tr th {\n",
       "        vertical-align: top;\n",
       "    }\n",
       "\n",
       "    .dataframe thead th {\n",
       "        text-align: right;\n",
       "    }\n",
       "</style>\n",
       "<table border=\"1\" class=\"dataframe\">\n",
       "  <thead>\n",
       "    <tr style=\"text-align: right;\">\n",
       "      <th></th>\n",
       "      <th>User Id</th>\n",
       "      <th>Vehicle Type</th>\n",
       "      <th>Platform Type</th>\n",
       "      <th>Personal or Business</th>\n",
       "      <th>Placement - Day of Month</th>\n",
       "      <th>Placement - Weekday (Mo = 1)</th>\n",
       "      <th>Placement - Time</th>\n",
       "      <th>Confirmation - Day of Month</th>\n",
       "      <th>Confirmation - Weekday (Mo = 1)</th>\n",
       "      <th>Confirmation - Time</th>\n",
       "      <th>Arrival at Pickup - Day of Month</th>\n",
       "      <th>Arrival at Pickup - Weekday (Mo = 1)</th>\n",
       "      <th>Arrival at Pickup - Time</th>\n",
       "      <th>Pickup - Day of Month</th>\n",
       "      <th>Pickup - Weekday (Mo = 1)</th>\n",
       "      <th>Pickup - Time</th>\n",
       "      <th>Arrival at Destination - Day of Month</th>\n",
       "      <th>Arrival at Destination - Weekday (Mo = 1)</th>\n",
       "      <th>Arrival at Destination - Time</th>\n",
       "      <th>Distance (KM)</th>\n",
       "      <th>Temperature</th>\n",
       "      <th>Precipitation in millimeters</th>\n",
       "      <th>Pickup Lat</th>\n",
       "      <th>Pickup Long</th>\n",
       "      <th>Destination Lat</th>\n",
       "      <th>Destination Long</th>\n",
       "      <th>Rider Id</th>\n",
       "      <th>Time from Pickup to Arrival</th>\n",
       "    </tr>\n",
       "    <tr>\n",
       "      <th>Order No</th>\n",
       "      <th></th>\n",
       "      <th></th>\n",
       "      <th></th>\n",
       "      <th></th>\n",
       "      <th></th>\n",
       "      <th></th>\n",
       "      <th></th>\n",
       "      <th></th>\n",
       "      <th></th>\n",
       "      <th></th>\n",
       "      <th></th>\n",
       "      <th></th>\n",
       "      <th></th>\n",
       "      <th></th>\n",
       "      <th></th>\n",
       "      <th></th>\n",
       "      <th></th>\n",
       "      <th></th>\n",
       "      <th></th>\n",
       "      <th></th>\n",
       "      <th></th>\n",
       "      <th></th>\n",
       "      <th></th>\n",
       "      <th></th>\n",
       "      <th></th>\n",
       "      <th></th>\n",
       "      <th></th>\n",
       "      <th></th>\n",
       "    </tr>\n",
       "  </thead>\n",
       "  <tbody>\n",
       "    <tr>\n",
       "      <th>Order_No_4211</th>\n",
       "      <td>User_Id_633</td>\n",
       "      <td>Bike</td>\n",
       "      <td>3</td>\n",
       "      <td>Business</td>\n",
       "      <td>9</td>\n",
       "      <td>5</td>\n",
       "      <td>9:35:46 AM</td>\n",
       "      <td>9</td>\n",
       "      <td>5</td>\n",
       "      <td>9:40:10 AM</td>\n",
       "      <td>9</td>\n",
       "      <td>5</td>\n",
       "      <td>10:04:47 AM</td>\n",
       "      <td>9</td>\n",
       "      <td>5</td>\n",
       "      <td>10:27:30 AM</td>\n",
       "      <td>9</td>\n",
       "      <td>5</td>\n",
       "      <td>10:39:55 AM</td>\n",
       "      <td>4</td>\n",
       "      <td>20.4</td>\n",
       "      <td>NaN</td>\n",
       "      <td>-1.317755</td>\n",
       "      <td>36.830370</td>\n",
       "      <td>-1.300406</td>\n",
       "      <td>36.829741</td>\n",
       "      <td>Rider_Id_432</td>\n",
       "      <td>745</td>\n",
       "    </tr>\n",
       "    <tr>\n",
       "      <th>Order_No_25375</th>\n",
       "      <td>User_Id_2285</td>\n",
       "      <td>Bike</td>\n",
       "      <td>3</td>\n",
       "      <td>Personal</td>\n",
       "      <td>12</td>\n",
       "      <td>5</td>\n",
       "      <td>11:16:16 AM</td>\n",
       "      <td>12</td>\n",
       "      <td>5</td>\n",
       "      <td>11:23:21 AM</td>\n",
       "      <td>12</td>\n",
       "      <td>5</td>\n",
       "      <td>11:40:22 AM</td>\n",
       "      <td>12</td>\n",
       "      <td>5</td>\n",
       "      <td>11:44:09 AM</td>\n",
       "      <td>12</td>\n",
       "      <td>5</td>\n",
       "      <td>12:17:22 PM</td>\n",
       "      <td>16</td>\n",
       "      <td>26.4</td>\n",
       "      <td>NaN</td>\n",
       "      <td>-1.351453</td>\n",
       "      <td>36.899315</td>\n",
       "      <td>-1.295004</td>\n",
       "      <td>36.814358</td>\n",
       "      <td>Rider_Id_856</td>\n",
       "      <td>1993</td>\n",
       "    </tr>\n",
       "    <tr>\n",
       "      <th>Order_No_1899</th>\n",
       "      <td>User_Id_265</td>\n",
       "      <td>Bike</td>\n",
       "      <td>3</td>\n",
       "      <td>Business</td>\n",
       "      <td>30</td>\n",
       "      <td>2</td>\n",
       "      <td>12:39:25 PM</td>\n",
       "      <td>30</td>\n",
       "      <td>2</td>\n",
       "      <td>12:42:44 PM</td>\n",
       "      <td>30</td>\n",
       "      <td>2</td>\n",
       "      <td>12:49:34 PM</td>\n",
       "      <td>30</td>\n",
       "      <td>2</td>\n",
       "      <td>12:53:03 PM</td>\n",
       "      <td>30</td>\n",
       "      <td>2</td>\n",
       "      <td>1:00:38 PM</td>\n",
       "      <td>3</td>\n",
       "      <td>NaN</td>\n",
       "      <td>NaN</td>\n",
       "      <td>-1.308284</td>\n",
       "      <td>36.843419</td>\n",
       "      <td>-1.300921</td>\n",
       "      <td>36.828195</td>\n",
       "      <td>Rider_Id_155</td>\n",
       "      <td>455</td>\n",
       "    </tr>\n",
       "    <tr>\n",
       "      <th>Order_No_9336</th>\n",
       "      <td>User_Id_1402</td>\n",
       "      <td>Bike</td>\n",
       "      <td>3</td>\n",
       "      <td>Business</td>\n",
       "      <td>15</td>\n",
       "      <td>5</td>\n",
       "      <td>9:25:34 AM</td>\n",
       "      <td>15</td>\n",
       "      <td>5</td>\n",
       "      <td>9:26:05 AM</td>\n",
       "      <td>15</td>\n",
       "      <td>5</td>\n",
       "      <td>9:37:56 AM</td>\n",
       "      <td>15</td>\n",
       "      <td>5</td>\n",
       "      <td>9:43:06 AM</td>\n",
       "      <td>15</td>\n",
       "      <td>5</td>\n",
       "      <td>10:05:27 AM</td>\n",
       "      <td>9</td>\n",
       "      <td>19.2</td>\n",
       "      <td>NaN</td>\n",
       "      <td>-1.281301</td>\n",
       "      <td>36.832396</td>\n",
       "      <td>-1.257147</td>\n",
       "      <td>36.795063</td>\n",
       "      <td>Rider_Id_855</td>\n",
       "      <td>1341</td>\n",
       "    </tr>\n",
       "    <tr>\n",
       "      <th>Order_No_27883</th>\n",
       "      <td>User_Id_1737</td>\n",
       "      <td>Bike</td>\n",
       "      <td>1</td>\n",
       "      <td>Personal</td>\n",
       "      <td>13</td>\n",
       "      <td>1</td>\n",
       "      <td>9:55:18 AM</td>\n",
       "      <td>13</td>\n",
       "      <td>1</td>\n",
       "      <td>9:56:18 AM</td>\n",
       "      <td>13</td>\n",
       "      <td>1</td>\n",
       "      <td>10:03:53 AM</td>\n",
       "      <td>13</td>\n",
       "      <td>1</td>\n",
       "      <td>10:05:23 AM</td>\n",
       "      <td>13</td>\n",
       "      <td>1</td>\n",
       "      <td>10:25:37 AM</td>\n",
       "      <td>9</td>\n",
       "      <td>15.4</td>\n",
       "      <td>NaN</td>\n",
       "      <td>-1.266597</td>\n",
       "      <td>36.792118</td>\n",
       "      <td>-1.295041</td>\n",
       "      <td>36.809817</td>\n",
       "      <td>Rider_Id_770</td>\n",
       "      <td>1214</td>\n",
       "    </tr>\n",
       "  </tbody>\n",
       "</table>\n",
       "</div>"
      ],
      "text/plain": [
       "                     User Id Vehicle Type  Platform Type Personal or Business  \\\n",
       "Order No                                                                        \n",
       "Order_No_4211    User_Id_633         Bike              3             Business   \n",
       "Order_No_25375  User_Id_2285         Bike              3             Personal   \n",
       "Order_No_1899    User_Id_265         Bike              3             Business   \n",
       "Order_No_9336   User_Id_1402         Bike              3             Business   \n",
       "Order_No_27883  User_Id_1737         Bike              1             Personal   \n",
       "\n",
       "                Placement - Day of Month  Placement - Weekday (Mo = 1)  \\\n",
       "Order No                                                                 \n",
       "Order_No_4211                          9                             5   \n",
       "Order_No_25375                        12                             5   \n",
       "Order_No_1899                         30                             2   \n",
       "Order_No_9336                         15                             5   \n",
       "Order_No_27883                        13                             1   \n",
       "\n",
       "               Placement - Time  Confirmation - Day of Month  \\\n",
       "Order No                                                       \n",
       "Order_No_4211        9:35:46 AM                            9   \n",
       "Order_No_25375      11:16:16 AM                           12   \n",
       "Order_No_1899       12:39:25 PM                           30   \n",
       "Order_No_9336        9:25:34 AM                           15   \n",
       "Order_No_27883       9:55:18 AM                           13   \n",
       "\n",
       "                Confirmation - Weekday (Mo = 1) Confirmation - Time  \\\n",
       "Order No                                                              \n",
       "Order_No_4211                                 5          9:40:10 AM   \n",
       "Order_No_25375                                5         11:23:21 AM   \n",
       "Order_No_1899                                 2         12:42:44 PM   \n",
       "Order_No_9336                                 5          9:26:05 AM   \n",
       "Order_No_27883                                1          9:56:18 AM   \n",
       "\n",
       "                Arrival at Pickup - Day of Month  \\\n",
       "Order No                                           \n",
       "Order_No_4211                                  9   \n",
       "Order_No_25375                                12   \n",
       "Order_No_1899                                 30   \n",
       "Order_No_9336                                 15   \n",
       "Order_No_27883                                13   \n",
       "\n",
       "                Arrival at Pickup - Weekday (Mo = 1) Arrival at Pickup - Time  \\\n",
       "Order No                                                                        \n",
       "Order_No_4211                                      5              10:04:47 AM   \n",
       "Order_No_25375                                     5              11:40:22 AM   \n",
       "Order_No_1899                                      2              12:49:34 PM   \n",
       "Order_No_9336                                      5               9:37:56 AM   \n",
       "Order_No_27883                                     1              10:03:53 AM   \n",
       "\n",
       "                Pickup - Day of Month  Pickup - Weekday (Mo = 1)  \\\n",
       "Order No                                                           \n",
       "Order_No_4211                       9                          5   \n",
       "Order_No_25375                     12                          5   \n",
       "Order_No_1899                      30                          2   \n",
       "Order_No_9336                      15                          5   \n",
       "Order_No_27883                     13                          1   \n",
       "\n",
       "               Pickup - Time  Arrival at Destination - Day of Month  \\\n",
       "Order No                                                              \n",
       "Order_No_4211    10:27:30 AM                                      9   \n",
       "Order_No_25375   11:44:09 AM                                     12   \n",
       "Order_No_1899    12:53:03 PM                                     30   \n",
       "Order_No_9336     9:43:06 AM                                     15   \n",
       "Order_No_27883   10:05:23 AM                                     13   \n",
       "\n",
       "                Arrival at Destination - Weekday (Mo = 1)  \\\n",
       "Order No                                                    \n",
       "Order_No_4211                                           5   \n",
       "Order_No_25375                                          5   \n",
       "Order_No_1899                                           2   \n",
       "Order_No_9336                                           5   \n",
       "Order_No_27883                                          1   \n",
       "\n",
       "               Arrival at Destination - Time  Distance (KM)  Temperature  \\\n",
       "Order No                                                                   \n",
       "Order_No_4211                    10:39:55 AM              4         20.4   \n",
       "Order_No_25375                   12:17:22 PM             16         26.4   \n",
       "Order_No_1899                     1:00:38 PM              3          NaN   \n",
       "Order_No_9336                    10:05:27 AM              9         19.2   \n",
       "Order_No_27883                   10:25:37 AM              9         15.4   \n",
       "\n",
       "                Precipitation in millimeters  Pickup Lat  Pickup Long  \\\n",
       "Order No                                                                \n",
       "Order_No_4211                            NaN   -1.317755    36.830370   \n",
       "Order_No_25375                           NaN   -1.351453    36.899315   \n",
       "Order_No_1899                            NaN   -1.308284    36.843419   \n",
       "Order_No_9336                            NaN   -1.281301    36.832396   \n",
       "Order_No_27883                           NaN   -1.266597    36.792118   \n",
       "\n",
       "                Destination Lat  Destination Long      Rider Id  \\\n",
       "Order No                                                          \n",
       "Order_No_4211         -1.300406         36.829741  Rider_Id_432   \n",
       "Order_No_25375        -1.295004         36.814358  Rider_Id_856   \n",
       "Order_No_1899         -1.300921         36.828195  Rider_Id_155   \n",
       "Order_No_9336         -1.257147         36.795063  Rider_Id_855   \n",
       "Order_No_27883        -1.295041         36.809817  Rider_Id_770   \n",
       "\n",
       "                Time from Pickup to Arrival  \n",
       "Order No                                     \n",
       "Order_No_4211                           745  \n",
       "Order_No_25375                         1993  \n",
       "Order_No_1899                           455  \n",
       "Order_No_9336                          1341  \n",
       "Order_No_27883                         1214  "
      ]
     },
     "execution_count": 6,
     "metadata": {},
     "output_type": "execute_result"
    }
   ],
   "source": [
    "df_train.head()"
   ]
  },
  {
   "cell_type": "markdown",
   "metadata": {
    "ExecuteTime": {
     "end_time": "2019-11-13T11:52:49.821088Z",
     "start_time": "2019-11-13T11:52:49.815521Z"
    }
   },
   "source": [
    "<h2> Riders Dataframe"
   ]
  },
  {
   "cell_type": "code",
   "execution_count": 7,
   "metadata": {
    "ExecuteTime": {
     "end_time": "2019-11-26T15:06:56.106120Z",
     "start_time": "2019-11-26T15:06:56.100026Z"
    }
   },
   "outputs": [],
   "source": [
    "pickle_filename = \"data/riders.pkl\"\n",
    "df_riders = load_from_pickle(pickle_filename)"
   ]
  },
  {
   "cell_type": "markdown",
   "metadata": {},
   "source": [
    "<h2> Merges"
   ]
  },
  {
   "cell_type": "code",
   "execution_count": 8,
   "metadata": {
    "ExecuteTime": {
     "end_time": "2019-11-26T15:06:56.565896Z",
     "start_time": "2019-11-26T15:06:56.410190Z"
    }
   },
   "outputs": [],
   "source": [
    "df_train = df_train.merge(df_riders, left_on='Rider Id', right_on='Rider Id', right_index=True)\n",
    "df_test = df_test.merge(df_riders, left_on='Rider Id', right_on='Rider Id', right_index=True)"
   ]
  },
  {
   "cell_type": "markdown",
   "metadata": {
    "ExecuteTime": {
     "end_time": "2019-11-06T11:28:27.428309Z",
     "start_time": "2019-11-06T11:28:27.422761Z"
    }
   },
   "source": [
    "<h1> Feature engineering"
   ]
  },
  {
   "cell_type": "code",
   "execution_count": 9,
   "metadata": {
    "ExecuteTime": {
     "end_time": "2019-11-26T15:06:56.729500Z",
     "start_time": "2019-11-26T15:06:56.721870Z"
    }
   },
   "outputs": [],
   "source": [
    "steps = [\"Placement\", \"Confirmation\", \"Arrival at Pickup\", \"Pickup\"]"
   ]
  },
  {
   "cell_type": "markdown",
   "metadata": {},
   "source": [
    "- Vehicule type can be dropped ? -> Yes no other Vehicule type in test folder\n",
    "- Used_id and Rider_id would be dropped as well as first approach"
   ]
  },
  {
   "cell_type": "markdown",
   "metadata": {
    "ExecuteTime": {
     "end_time": "2019-11-08T16:56:59.444517Z",
     "start_time": "2019-11-08T16:56:59.429720Z"
    }
   },
   "source": [
    "<h2> Business / Personal"
   ]
  },
  {
   "cell_type": "markdown",
   "metadata": {},
   "source": [
    "- \"Personal or Business\": 1 - Business / 0 - Personal"
   ]
  },
  {
   "cell_type": "code",
   "execution_count": 10,
   "metadata": {
    "ExecuteTime": {
     "end_time": "2019-11-26T15:06:57.387085Z",
     "start_time": "2019-11-26T15:06:57.282027Z"
    }
   },
   "outputs": [
    {
     "name": "stderr",
     "output_type": "stream",
     "text": [
      "/home/zyncus/bin/anaconda/lib/python3.7/site-packages/ipykernel_launcher.py:1: SettingWithCopyWarning: \n",
      "A value is trying to be set on a copy of a slice from a DataFrame\n",
      "\n",
      "See the caveats in the documentation: http://pandas.pydata.org/pandas-docs/stable/indexing.html#indexing-view-versus-copy\n",
      "  \"\"\"Entry point for launching an IPython kernel.\n",
      "/home/zyncus/bin/anaconda/lib/python3.7/site-packages/ipykernel_launcher.py:2: SettingWithCopyWarning: \n",
      "A value is trying to be set on a copy of a slice from a DataFrame\n",
      "\n",
      "See the caveats in the documentation: http://pandas.pydata.org/pandas-docs/stable/indexing.html#indexing-view-versus-copy\n",
      "  \n"
     ]
    }
   ],
   "source": [
    "df_train[\"Personal or Business\"][df_train[\"Personal or Business\"] == 'Business'] = 1\n",
    "df_train[\"Personal or Business\"][df_train[\"Personal or Business\"] == 'Personal'] = 0"
   ]
  },
  {
   "cell_type": "code",
   "execution_count": 11,
   "metadata": {
    "ExecuteTime": {
     "end_time": "2019-11-26T15:06:57.566234Z",
     "start_time": "2019-11-26T15:06:57.477892Z"
    }
   },
   "outputs": [
    {
     "name": "stderr",
     "output_type": "stream",
     "text": [
      "/home/zyncus/bin/anaconda/lib/python3.7/site-packages/ipykernel_launcher.py:1: SettingWithCopyWarning: \n",
      "A value is trying to be set on a copy of a slice from a DataFrame\n",
      "\n",
      "See the caveats in the documentation: http://pandas.pydata.org/pandas-docs/stable/indexing.html#indexing-view-versus-copy\n",
      "  \"\"\"Entry point for launching an IPython kernel.\n",
      "/home/zyncus/bin/anaconda/lib/python3.7/site-packages/ipykernel_launcher.py:2: SettingWithCopyWarning: \n",
      "A value is trying to be set on a copy of a slice from a DataFrame\n",
      "\n",
      "See the caveats in the documentation: http://pandas.pydata.org/pandas-docs/stable/indexing.html#indexing-view-versus-copy\n",
      "  \n"
     ]
    }
   ],
   "source": [
    "df_test[\"Personal or Business\"][df_test[\"Personal or Business\"] == 'Business'] = 1\n",
    "df_test[\"Personal or Business\"][df_test[\"Personal or Business\"] == 'Personal'] = 0"
   ]
  },
  {
   "cell_type": "markdown",
   "metadata": {},
   "source": [
    "<h2> Pickup Hour"
   ]
  },
  {
   "cell_type": "code",
   "execution_count": 12,
   "metadata": {
    "ExecuteTime": {
     "end_time": "2019-11-26T15:06:58.127922Z",
     "start_time": "2019-11-26T15:06:58.123598Z"
    }
   },
   "outputs": [],
   "source": [
    "def get_hour(x):\n",
    "    datetime_object = datetime.strptime(x, \"%I:%M:%S %p\")\n",
    "    return datetime_object.hour"
   ]
  },
  {
   "cell_type": "code",
   "execution_count": 13,
   "metadata": {
    "ExecuteTime": {
     "end_time": "2019-11-26T15:06:58.846132Z",
     "start_time": "2019-11-26T15:06:58.443556Z"
    }
   },
   "outputs": [],
   "source": [
    "df_train[\"Pickup - Hour\"] = df_train[\"Pickup - Time\"].apply(lambda x: get_hour(x))\n",
    "df_test[\"Pickup - Hour\"] = df_test[\"Pickup - Time\"].apply(lambda x: get_hour(x))"
   ]
  },
  {
   "cell_type": "markdown",
   "metadata": {
    "ExecuteTime": {
     "end_time": "2019-11-08T12:05:21.396936Z",
     "start_time": "2019-11-08T12:05:21.392494Z"
    }
   },
   "source": [
    "<h2> Filling Precipitations"
   ]
  },
  {
   "cell_type": "code",
   "execution_count": 15,
   "metadata": {
    "ExecuteTime": {
     "end_time": "2019-11-26T15:06:59.604888Z",
     "start_time": "2019-11-26T15:06:59.587950Z"
    }
   },
   "outputs": [],
   "source": [
    "mean_temps = df_train.groupby(\"Pickup - Hour\")[\"Temperature\"].mean()\n",
    "mean_rains = df_train.groupby(\"Pickup - Hour\")[\"Precipitation in millimeters\"].mean()\n",
    "mean_rains.fillna(method=\"ffill\", inplace=True)\n",
    "mean_rains[0] = mean_rains[23]"
   ]
  },
  {
   "cell_type": "code",
   "execution_count": 16,
   "metadata": {
    "ExecuteTime": {
     "end_time": "2019-11-25T22:44:35.593467Z",
     "start_time": "2019-11-25T22:44:35.590559Z"
    }
   },
   "outputs": [],
   "source": [
    "def fill_rains(precip, hour):\n",
    "    if np.isnan(precip):\n",
    "        return mean_rains[hour]\n",
    "    else:\n",
    "        return precip"
   ]
  },
  {
   "cell_type": "code",
   "execution_count": 17,
   "metadata": {
    "ExecuteTime": {
     "end_time": "2019-11-25T22:44:36.929015Z",
     "start_time": "2019-11-25T22:44:35.595840Z"
    }
   },
   "outputs": [],
   "source": [
    "df_train[\"Precipitation in millimeters\"] = df_train.apply(lambda x: fill_rains(x[\"Precipitation in millimeters\"], x[\"Pickup - Hour\"]), axis=1)\n",
    "df_test[\"Precipitation in millimeters\"] = df_test.apply(lambda x: fill_rains(x[\"Precipitation in millimeters\"], x[\"Pickup - Hour\"]), axis=1)"
   ]
  },
  {
   "cell_type": "markdown",
   "metadata": {},
   "source": [
    "<h2> Filling Temperature"
   ]
  },
  {
   "cell_type": "markdown",
   "metadata": {},
   "source": [
    "Not needed anymore as we  filled the missing temperature with a XGBoost regressor."
   ]
  },
  {
   "cell_type": "code",
   "execution_count": 16,
   "metadata": {
    "ExecuteTime": {
     "end_time": "2019-11-26T15:07:59.664712Z",
     "start_time": "2019-11-26T15:07:59.660792Z"
    }
   },
   "outputs": [],
   "source": [
    "def fill_temps(precip, hour):\n",
    "    if np.isnan(precip):\n",
    "        return mean_temps[hour]\n",
    "    else:\n",
    "        return precip"
   ]
  },
  {
   "cell_type": "code",
   "execution_count": 17,
   "metadata": {
    "ExecuteTime": {
     "end_time": "2019-11-26T15:08:00.691450Z",
     "start_time": "2019-11-26T15:07:59.862147Z"
    }
   },
   "outputs": [],
   "source": [
    "df_train[\"Temperature\"] = df_train.apply(lambda x: fill_temps(x[\"Temperature\"], x[\"Pickup - Hour\"]), axis=1)\n",
    "df_test[\"Temperature\"] = df_test.apply(lambda x: fill_temps(x[\"Temperature\"], x[\"Pickup - Hour\"]), axis=1)"
   ]
  },
  {
   "cell_type": "markdown",
   "metadata": {},
   "source": [
    "<h2> Weekend feature"
   ]
  },
  {
   "cell_type": "code",
   "execution_count": 18,
   "metadata": {
    "ExecuteTime": {
     "end_time": "2019-11-26T15:08:00.699033Z",
     "start_time": "2019-11-26T15:08:00.694066Z"
    }
   },
   "outputs": [],
   "source": [
    "def weekend(x):\n",
    "    if x in [5, 6, 7]:\n",
    "        return 1\n",
    "    else:\n",
    "        return 0"
   ]
  },
  {
   "cell_type": "code",
   "execution_count": 19,
   "metadata": {
    "ExecuteTime": {
     "end_time": "2019-11-26T15:08:01.031380Z",
     "start_time": "2019-11-26T15:08:00.927636Z"
    }
   },
   "outputs": [],
   "source": [
    "for step in steps:\n",
    "    feature_name = step + \" - \" + \"Weekday (Mo = 1)\"\n",
    "    new_feature = step + \" - Weekend\"\n",
    "    df_train[new_feature] = df_train[feature_name].apply(lambda x: weekend(x))\n",
    "    df_test[new_feature] = df_test[feature_name].apply(lambda x: weekend(x))"
   ]
  },
  {
   "cell_type": "markdown",
   "metadata": {},
   "source": [
    "<h2> Datetime and Timelaps between steps"
   ]
  },
  {
   "cell_type": "code",
   "execution_count": 20,
   "metadata": {
    "ExecuteTime": {
     "end_time": "2019-11-26T15:08:01.284747Z",
     "start_time": "2019-11-26T15:08:01.276547Z"
    }
   },
   "outputs": [
    {
     "data": {
      "text/plain": [
       "'4:12:56 PM'"
      ]
     },
     "execution_count": 20,
     "metadata": {},
     "output_type": "execute_result"
    }
   ],
   "source": [
    "example = df_train[\"Placement - Time\"].values[7]\n",
    "example"
   ]
  },
  {
   "cell_type": "code",
   "execution_count": 21,
   "metadata": {
    "ExecuteTime": {
     "end_time": "2019-11-26T15:08:02.480420Z",
     "start_time": "2019-11-26T15:08:02.476224Z"
    }
   },
   "outputs": [
    {
     "data": {
      "text/plain": [
       "58376.0"
      ]
     },
     "execution_count": 21,
     "metadata": {},
     "output_type": "execute_result"
    }
   ],
   "source": [
    "ref_datetime = datetime(1900, 1, 1, 0, 0, 0)\n",
    "datetime_object = datetime.strptime(example, \"%I:%M:%S %p\")\n",
    "delta = datetime_object - ref_datetime\n",
    "delta.total_seconds()"
   ]
  },
  {
   "cell_type": "code",
   "execution_count": 22,
   "metadata": {
    "ExecuteTime": {
     "end_time": "2019-11-26T15:08:02.657813Z",
     "start_time": "2019-11-26T15:08:02.650208Z"
    }
   },
   "outputs": [],
   "source": [
    "def get_timestamp(x):\n",
    "    datetime_object = datetime.strptime(x, \"%I:%M:%S %p\")\n",
    "    delta = datetime_object - ref_datetime\n",
    "    return delta.total_seconds()"
   ]
  },
  {
   "cell_type": "code",
   "execution_count": 23,
   "metadata": {
    "ExecuteTime": {
     "end_time": "2019-11-26T15:08:04.267957Z",
     "start_time": "2019-11-26T15:08:02.823528Z"
    }
   },
   "outputs": [],
   "source": [
    "for step in steps:\n",
    "    feature_name = step + \" - \" + \"Time\"\n",
    "    df_train[feature_name] = df_train[feature_name].apply(lambda x: get_timestamp(x))\n",
    "    df_test[feature_name] = df_test[feature_name].apply(lambda x: get_timestamp(x))"
   ]
  },
  {
   "cell_type": "code",
   "execution_count": 24,
   "metadata": {
    "ExecuteTime": {
     "end_time": "2019-11-26T15:08:04.555272Z",
     "start_time": "2019-11-26T15:08:04.271070Z"
    }
   },
   "outputs": [],
   "source": [
    "df_train[\"Arrival at Destination - Time\"] = df_train[\"Arrival at Destination - Time\"].apply(lambda x: get_timestamp(x))"
   ]
  },
  {
   "cell_type": "markdown",
   "metadata": {},
   "source": [
    "<h2> Adding delta time between steps"
   ]
  },
  {
   "cell_type": "code",
   "execution_count": 25,
   "metadata": {
    "ExecuteTime": {
     "end_time": "2019-11-26T15:08:06.356441Z",
     "start_time": "2019-11-26T15:08:04.557535Z"
    }
   },
   "outputs": [],
   "source": [
    "for i in range(len(steps)):\n",
    "    if i < len(steps)-1:\n",
    "        step1 = steps[i] + \" - \" + \"Time\"\n",
    "        step2 = steps[i+1] + \" - \" + \"Time\"\n",
    "        new_feature = steps[i] + \" - \" + \"Delta\"\n",
    "        df_train[new_feature] = df_train.apply(lambda x: x[step2] - x[step1], axis=1)\n",
    "        df_test[new_feature] = df_test.apply(lambda x: x[step2] - x[step1], axis=1)"
   ]
  },
  {
   "cell_type": "markdown",
   "metadata": {},
   "source": [
    "<h2> Compute geopy distance"
   ]
  },
  {
   "cell_type": "code",
   "execution_count": 26,
   "metadata": {
    "ExecuteTime": {
     "end_time": "2019-11-26T15:08:06.363699Z",
     "start_time": "2019-11-26T15:08:06.359181Z"
    }
   },
   "outputs": [],
   "source": [
    "def compute_distance(row):\n",
    "    src = (row[\"Pickup Lat\"],row[\"Pickup Long\"])\n",
    "    dest= (row[\"Destination Lat\"],row[\"Destination Long\"])\n",
    "    return distance.distance(src,dest).km"
   ]
  },
  {
   "cell_type": "code",
   "execution_count": 27,
   "metadata": {
    "ExecuteTime": {
     "end_time": "2019-11-26T15:08:13.589198Z",
     "start_time": "2019-11-26T15:08:06.367527Z"
    }
   },
   "outputs": [],
   "source": [
    "df_train[\"geopy_distance\"] = df_train.apply(compute_distance,axis=1)\n",
    "df_test[\"geopy_distance\"] = df_test.apply(compute_distance,axis=1)"
   ]
  },
  {
   "cell_type": "code",
   "execution_count": 28,
   "metadata": {
    "ExecuteTime": {
     "end_time": "2019-11-26T15:08:14.206922Z",
     "start_time": "2019-11-26T15:08:13.591554Z"
    }
   },
   "outputs": [
    {
     "data": {
      "image/png": "[encoded data removed]",
      "text/plain": [
       "<Figure size 864x360 with 2 Axes>"
      ]
     },
     "metadata": {
      "needs_background": "light"
     },
     "output_type": "display_data"
    }
   ],
   "source": [
    "plt.figure(figsize=(12,5))\n",
    "\n",
    "plt.subplot(1, 2, 1)\n",
    "plt.scatter(df_train[\"Distance (KM)\"], df_train[\"geopy_distance\"])\n",
    "plt.title(\"TRAIN: Correlation between Geopy distance and Distance (KM)\")\n",
    "\n",
    "\n",
    "plt.subplot(1, 2, 2)\n",
    "plt.scatter(df_test[\"Distance (KM)\"], df_test[\"geopy_distance\"], c=\"g\")\n",
    "plt.title(\"TEST: Correlation between Geopy distance and Distance (KM)\")\n",
    "\n",
    "plt.show()"
   ]
  },
  {
   "cell_type": "markdown",
   "metadata": {},
   "source": [
    "<h2> Distance mean"
   ]
  },
  {
   "cell_type": "code",
   "execution_count": 29,
   "metadata": {
    "ExecuteTime": {
     "end_time": "2019-11-26T15:08:14.260684Z",
     "start_time": "2019-11-26T15:08:14.212128Z"
    }
   },
   "outputs": [],
   "source": [
    "df_train[\"Distance mean\"] = (df_train[\"Distance (KM)\"] + df_train[\"geopy_distance\"])/2\n",
    "df_test[\"Distance mean\"] = (df_test[\"Distance (KM)\"] + df_test[\"geopy_distance\"])/2"
   ]
  },
  {
   "cell_type": "markdown",
   "metadata": {},
   "source": [
    "<h2> Cleaning User_id and Rider_id"
   ]
  },
  {
   "cell_type": "code",
   "execution_count": 30,
   "metadata": {
    "ExecuteTime": {
     "end_time": "2019-11-26T15:08:14.274802Z",
     "start_time": "2019-11-26T15:08:14.266325Z"
    }
   },
   "outputs": [],
   "source": [
    "def clean(x, post):\n",
    "    return x.replace(post, \"\")"
   ]
  },
  {
   "cell_type": "code",
   "execution_count": 31,
   "metadata": {
    "ExecuteTime": {
     "end_time": "2019-11-26T15:08:14.312042Z",
     "start_time": "2019-11-26T15:08:14.278619Z"
    }
   },
   "outputs": [],
   "source": [
    "df_train[\"User Id\"] = df_train[\"User Id\"].apply(lambda x: clean(x, \"User_Id_\"))\n",
    "df_train[\"Rider Id\"] = df_train[\"Rider Id\"].apply(lambda x: clean(x, \"Rider_Id_\"))"
   ]
  },
  {
   "cell_type": "code",
   "execution_count": 32,
   "metadata": {
    "ExecuteTime": {
     "end_time": "2019-11-26T15:08:14.330581Z",
     "start_time": "2019-11-26T15:08:14.315965Z"
    }
   },
   "outputs": [],
   "source": [
    "df_test[\"User Id\"] = df_test[\"User Id\"].apply(lambda x: clean(x, \"User_Id_\"))\n",
    "df_test[\"Rider Id\"] = df_test[\"Rider Id\"].apply(lambda x: clean(x, \"Rider_Id_\"))"
   ]
  },
  {
   "cell_type": "markdown",
   "metadata": {},
   "source": [
    "<h2> Change type of columns"
   ]
  },
  {
   "cell_type": "code",
   "execution_count": 33,
   "metadata": {
    "ExecuteTime": {
     "end_time": "2019-11-26T15:08:14.967779Z",
     "start_time": "2019-11-26T15:08:14.962656Z"
    }
   },
   "outputs": [],
   "source": [
    "cols_to_exclude = [\"Distance (KM)\", \"Temperature\", \"Precipitation in millimeters\", \"Age\", \"No_of_Ratings\", \"No_Of_Orders\", \"Average_Rating\", \"speed\"]\n",
    "\n",
    "cols_to_include = [\"User Id\", \"Rider Id\"]\n",
    "\n",
    "def change_types(df):\n",
    "    for column in df.columns:\n",
    "        if df[column].nunique() < 600 and column not in cols_to_exclude or column in cols_to_include:\n",
    "            df[column] = df[column].astype(\"category\")\n",
    "        elif df[column].nunique() > 600 and column not in cols_to_include or column in cols_to_exclude:\n",
    "            df[column] = df[column].astype(\"float\")"
   ]
  },
  {
   "cell_type": "code",
   "execution_count": 34,
   "metadata": {
    "ExecuteTime": {
     "end_time": "2019-11-26T15:08:15.948472Z",
     "start_time": "2019-11-26T15:08:15.749365Z"
    }
   },
   "outputs": [],
   "source": [
    "change_types(df_train)\n",
    "change_types(df_test)"
   ]
  },
  {
   "cell_type": "code",
   "execution_count": 35,
   "metadata": {
    "ExecuteTime": {
     "end_time": "2019-11-26T15:08:16.683300Z",
     "start_time": "2019-11-26T15:08:16.560291Z"
    },
    "cell_style": "split"
   },
   "outputs": [
    {
     "data": {
      "text/html": [
       "<div>\n",
       "<style scoped>\n",
       "    .dataframe tbody tr th:only-of-type {\n",
       "        vertical-align: middle;\n",
       "    }\n",
       "\n",
       "    .dataframe tbody tr th {\n",
       "        vertical-align: top;\n",
       "    }\n",
       "\n",
       "    .dataframe thead th {\n",
       "        text-align: right;\n",
       "    }\n",
       "</style>\n",
       "<table border=\"1\" class=\"dataframe\">\n",
       "  <thead>\n",
       "    <tr style=\"text-align: right;\">\n",
       "      <th></th>\n",
       "      <th>count</th>\n",
       "      <th>mean</th>\n",
       "      <th>std</th>\n",
       "      <th>min</th>\n",
       "      <th>25%</th>\n",
       "      <th>50%</th>\n",
       "      <th>75%</th>\n",
       "      <th>max</th>\n",
       "    </tr>\n",
       "  </thead>\n",
       "  <tbody>\n",
       "    <tr>\n",
       "      <th>Placement - Time</th>\n",
       "      <td>7068.0</td>\n",
       "      <td>46070.314233</td>\n",
       "      <td>9099.289717</td>\n",
       "      <td>23647.000000</td>\n",
       "      <td>38775.750000</td>\n",
       "      <td>45642.500000</td>\n",
       "      <td>53248.000000</td>\n",
       "      <td>80000.000000</td>\n",
       "    </tr>\n",
       "    <tr>\n",
       "      <th>Confirmation - Time</th>\n",
       "      <td>7068.0</td>\n",
       "      <td>46502.064941</td>\n",
       "      <td>9140.389270</td>\n",
       "      <td>24454.000000</td>\n",
       "      <td>39073.750000</td>\n",
       "      <td>46084.000000</td>\n",
       "      <td>53740.000000</td>\n",
       "      <td>80350.000000</td>\n",
       "    </tr>\n",
       "    <tr>\n",
       "      <th>Arrival at Pickup - Time</th>\n",
       "      <td>7068.0</td>\n",
       "      <td>47277.052207</td>\n",
       "      <td>9152.194703</td>\n",
       "      <td>26227.000000</td>\n",
       "      <td>39938.250000</td>\n",
       "      <td>46918.000000</td>\n",
       "      <td>54519.250000</td>\n",
       "      <td>82430.000000</td>\n",
       "    </tr>\n",
       "    <tr>\n",
       "      <th>Pickup - Time</th>\n",
       "      <td>7068.0</td>\n",
       "      <td>48012.340266</td>\n",
       "      <td>9130.459177</td>\n",
       "      <td>26289.000000</td>\n",
       "      <td>40656.500000</td>\n",
       "      <td>47662.000000</td>\n",
       "      <td>55296.500000</td>\n",
       "      <td>84058.000000</td>\n",
       "    </tr>\n",
       "    <tr>\n",
       "      <th>Distance (KM)</th>\n",
       "      <td>7068.0</td>\n",
       "      <td>9.458970</td>\n",
       "      <td>5.575689</td>\n",
       "      <td>1.000000</td>\n",
       "      <td>5.000000</td>\n",
       "      <td>8.000000</td>\n",
       "      <td>13.000000</td>\n",
       "      <td>47.000000</td>\n",
       "    </tr>\n",
       "    <tr>\n",
       "      <th>Temperature</th>\n",
       "      <td>7068.0</td>\n",
       "      <td>23.216958</td>\n",
       "      <td>3.342323</td>\n",
       "      <td>13.200000</td>\n",
       "      <td>20.872080</td>\n",
       "      <td>23.300000</td>\n",
       "      <td>25.400103</td>\n",
       "      <td>32.100000</td>\n",
       "    </tr>\n",
       "    <tr>\n",
       "      <th>Precipitation in millimeters</th>\n",
       "      <td>199.0</td>\n",
       "      <td>6.651759</td>\n",
       "      <td>14.085439</td>\n",
       "      <td>0.100000</td>\n",
       "      <td>1.100000</td>\n",
       "      <td>2.900000</td>\n",
       "      <td>4.950000</td>\n",
       "      <td>99.100000</td>\n",
       "    </tr>\n",
       "    <tr>\n",
       "      <th>Pickup Lat</th>\n",
       "      <td>7068.0</td>\n",
       "      <td>-1.282043</td>\n",
       "      <td>0.030044</td>\n",
       "      <td>-1.433512</td>\n",
       "      <td>-1.301201</td>\n",
       "      <td>-1.281301</td>\n",
       "      <td>-1.257274</td>\n",
       "      <td>-1.148352</td>\n",
       "    </tr>\n",
       "    <tr>\n",
       "      <th>Pickup Long</th>\n",
       "      <td>7068.0</td>\n",
       "      <td>36.811148</td>\n",
       "      <td>0.037962</td>\n",
       "      <td>36.653828</td>\n",
       "      <td>36.784605</td>\n",
       "      <td>36.807219</td>\n",
       "      <td>36.829716</td>\n",
       "      <td>36.991046</td>\n",
       "    </tr>\n",
       "    <tr>\n",
       "      <th>Destination Lat</th>\n",
       "      <td>7068.0</td>\n",
       "      <td>-1.282255</td>\n",
       "      <td>0.034236</td>\n",
       "      <td>-1.422652</td>\n",
       "      <td>-1.300921</td>\n",
       "      <td>-1.283219</td>\n",
       "      <td>-1.261256</td>\n",
       "      <td>-1.030225</td>\n",
       "    </tr>\n",
       "    <tr>\n",
       "      <th>Destination Long</th>\n",
       "      <td>7068.0</td>\n",
       "      <td>36.811326</td>\n",
       "      <td>0.043507</td>\n",
       "      <td>36.639195</td>\n",
       "      <td>36.786546</td>\n",
       "      <td>36.807927</td>\n",
       "      <td>36.828195</td>\n",
       "      <td>37.018958</td>\n",
       "    </tr>\n",
       "    <tr>\n",
       "      <th>No_Of_Orders</th>\n",
       "      <td>7068.0</td>\n",
       "      <td>1717.032258</td>\n",
       "      <td>1628.842795</td>\n",
       "      <td>3.000000</td>\n",
       "      <td>534.000000</td>\n",
       "      <td>1209.000000</td>\n",
       "      <td>2311.000000</td>\n",
       "      <td>9756.000000</td>\n",
       "    </tr>\n",
       "    <tr>\n",
       "      <th>Age</th>\n",
       "      <td>7068.0</td>\n",
       "      <td>998.400113</td>\n",
       "      <td>672.195000</td>\n",
       "      <td>99.000000</td>\n",
       "      <td>494.000000</td>\n",
       "      <td>872.000000</td>\n",
       "      <td>1239.000000</td>\n",
       "      <td>3764.000000</td>\n",
       "    </tr>\n",
       "    <tr>\n",
       "      <th>Average_Rating</th>\n",
       "      <td>7068.0</td>\n",
       "      <td>13.883178</td>\n",
       "      <td>0.846333</td>\n",
       "      <td>0.000000</td>\n",
       "      <td>13.600000</td>\n",
       "      <td>14.000000</td>\n",
       "      <td>14.300000</td>\n",
       "      <td>15.200000</td>\n",
       "    </tr>\n",
       "    <tr>\n",
       "      <th>No_of_Ratings</th>\n",
       "      <td>7068.0</td>\n",
       "      <td>342.815789</td>\n",
       "      <td>410.064334</td>\n",
       "      <td>0.000000</td>\n",
       "      <td>60.000000</td>\n",
       "      <td>157.000000</td>\n",
       "      <td>491.000000</td>\n",
       "      <td>2298.000000</td>\n",
       "    </tr>\n",
       "    <tr>\n",
       "      <th>speed</th>\n",
       "      <td>7068.0</td>\n",
       "      <td>41.338846</td>\n",
       "      <td>209.696873</td>\n",
       "      <td>2.928747</td>\n",
       "      <td>13.317938</td>\n",
       "      <td>14.830692</td>\n",
       "      <td>16.901294</td>\n",
       "      <td>3182.274688</td>\n",
       "    </tr>\n",
       "    <tr>\n",
       "      <th>maxspeed</th>\n",
       "      <td>7068.0</td>\n",
       "      <td>3910.525380</td>\n",
       "      <td>8340.427012</td>\n",
       "      <td>-330.324860</td>\n",
       "      <td>42.452830</td>\n",
       "      <td>88.524590</td>\n",
       "      <td>3600.000000</td>\n",
       "      <td>61200.000000</td>\n",
       "    </tr>\n",
       "    <tr>\n",
       "      <th>geospeed</th>\n",
       "      <td>7068.0</td>\n",
       "      <td>41.338846</td>\n",
       "      <td>209.696873</td>\n",
       "      <td>2.928747</td>\n",
       "      <td>13.317938</td>\n",
       "      <td>14.830692</td>\n",
       "      <td>16.901294</td>\n",
       "      <td>3182.274688</td>\n",
       "    </tr>\n",
       "    <tr>\n",
       "      <th>max geospeed</th>\n",
       "      <td>7068.0</td>\n",
       "      <td>2570.847017</td>\n",
       "      <td>5719.987534</td>\n",
       "      <td>-1239.234497</td>\n",
       "      <td>31.575716</td>\n",
       "      <td>50.337087</td>\n",
       "      <td>2303.503085</td>\n",
       "      <td>43081.878942</td>\n",
       "    </tr>\n",
       "    <tr>\n",
       "      <th>meanspeed</th>\n",
       "      <td>7068.0</td>\n",
       "      <td>61.400293</td>\n",
       "      <td>337.392941</td>\n",
       "      <td>3.357118</td>\n",
       "      <td>17.009676</td>\n",
       "      <td>19.171241</td>\n",
       "      <td>21.512651</td>\n",
       "      <td>3691.137344</td>\n",
       "    </tr>\n",
       "    <tr>\n",
       "      <th>max meanspeed</th>\n",
       "      <td>7068.0</td>\n",
       "      <td>3227.759012</td>\n",
       "      <td>6965.582157</td>\n",
       "      <td>-839.368835</td>\n",
       "      <td>36.014718</td>\n",
       "      <td>68.298179</td>\n",
       "      <td>3031.334367</td>\n",
       "      <td>52140.939471</td>\n",
       "    </tr>\n",
       "    <tr>\n",
       "      <th>Placement - Delta</th>\n",
       "      <td>7068.0</td>\n",
       "      <td>431.750707</td>\n",
       "      <td>1009.075730</td>\n",
       "      <td>-1049.000000</td>\n",
       "      <td>27.000000</td>\n",
       "      <td>71.000000</td>\n",
       "      <td>303.000000</td>\n",
       "      <td>14540.000000</td>\n",
       "    </tr>\n",
       "    <tr>\n",
       "      <th>Confirmation - Delta</th>\n",
       "      <td>7068.0</td>\n",
       "      <td>774.987267</td>\n",
       "      <td>685.316112</td>\n",
       "      <td>1.000000</td>\n",
       "      <td>317.000000</td>\n",
       "      <td>613.500000</td>\n",
       "      <td>1040.250000</td>\n",
       "      <td>6970.000000</td>\n",
       "    </tr>\n",
       "    <tr>\n",
       "      <th>Arrival at Pickup - Delta</th>\n",
       "      <td>7068.0</td>\n",
       "      <td>735.288059</td>\n",
       "      <td>745.392449</td>\n",
       "      <td>60.000000</td>\n",
       "      <td>263.000000</td>\n",
       "      <td>493.000000</td>\n",
       "      <td>921.000000</td>\n",
       "      <td>5957.000000</td>\n",
       "    </tr>\n",
       "    <tr>\n",
       "      <th>geopy_distance</th>\n",
       "      <td>7068.0</td>\n",
       "      <td>6.471340</td>\n",
       "      <td>4.386515</td>\n",
       "      <td>0.170738</td>\n",
       "      <td>3.197606</td>\n",
       "      <td>5.491356</td>\n",
       "      <td>8.813831</td>\n",
       "      <td>34.543685</td>\n",
       "    </tr>\n",
       "    <tr>\n",
       "      <th>Distance mean</th>\n",
       "      <td>7068.0</td>\n",
       "      <td>7.965155</td>\n",
       "      <td>4.923046</td>\n",
       "      <td>0.655195</td>\n",
       "      <td>4.267260</td>\n",
       "      <td>6.834795</td>\n",
       "      <td>10.820926</td>\n",
       "      <td>40.771843</td>\n",
       "    </tr>\n",
       "  </tbody>\n",
       "</table>\n",
       "</div>"
      ],
      "text/plain": [
       "                               count          mean          std           min  \\\n",
       "Placement - Time              7068.0  46070.314233  9099.289717  23647.000000   \n",
       "Confirmation - Time           7068.0  46502.064941  9140.389270  24454.000000   \n",
       "Arrival at Pickup - Time      7068.0  47277.052207  9152.194703  26227.000000   \n",
       "Pickup - Time                 7068.0  48012.340266  9130.459177  26289.000000   \n",
       "Distance (KM)                 7068.0      9.458970     5.575689      1.000000   \n",
       "Temperature                   7068.0     23.216958     3.342323     13.200000   \n",
       "Precipitation in millimeters   199.0      6.651759    14.085439      0.100000   \n",
       "Pickup Lat                    7068.0     -1.282043     0.030044     -1.433512   \n",
       "Pickup Long                   7068.0     36.811148     0.037962     36.653828   \n",
       "Destination Lat               7068.0     -1.282255     0.034236     -1.422652   \n",
       "Destination Long              7068.0     36.811326     0.043507     36.639195   \n",
       "No_Of_Orders                  7068.0   1717.032258  1628.842795      3.000000   \n",
       "Age                           7068.0    998.400113   672.195000     99.000000   \n",
       "Average_Rating                7068.0     13.883178     0.846333      0.000000   \n",
       "No_of_Ratings                 7068.0    342.815789   410.064334      0.000000   \n",
       "speed                         7068.0     41.338846   209.696873      2.928747   \n",
       "maxspeed                      7068.0   3910.525380  8340.427012   -330.324860   \n",
       "geospeed                      7068.0     41.338846   209.696873      2.928747   \n",
       "max geospeed                  7068.0   2570.847017  5719.987534  -1239.234497   \n",
       "meanspeed                     7068.0     61.400293   337.392941      3.357118   \n",
       "max meanspeed                 7068.0   3227.759012  6965.582157   -839.368835   \n",
       "Placement - Delta             7068.0    431.750707  1009.075730  -1049.000000   \n",
       "Confirmation - Delta          7068.0    774.987267   685.316112      1.000000   \n",
       "Arrival at Pickup - Delta     7068.0    735.288059   745.392449     60.000000   \n",
       "geopy_distance                7068.0      6.471340     4.386515      0.170738   \n",
       "Distance mean                 7068.0      7.965155     4.923046      0.655195   \n",
       "\n",
       "                                       25%           50%           75%  \\\n",
       "Placement - Time              38775.750000  45642.500000  53248.000000   \n",
       "Confirmation - Time           39073.750000  46084.000000  53740.000000   \n",
       "Arrival at Pickup - Time      39938.250000  46918.000000  54519.250000   \n",
       "Pickup - Time                 40656.500000  47662.000000  55296.500000   \n",
       "Distance (KM)                     5.000000      8.000000     13.000000   \n",
       "Temperature                      20.872080     23.300000     25.400103   \n",
       "Precipitation in millimeters      1.100000      2.900000      4.950000   \n",
       "Pickup Lat                       -1.301201     -1.281301     -1.257274   \n",
       "Pickup Long                      36.784605     36.807219     36.829716   \n",
       "Destination Lat                  -1.300921     -1.283219     -1.261256   \n",
       "Destination Long                 36.786546     36.807927     36.828195   \n",
       "No_Of_Orders                    534.000000   1209.000000   2311.000000   \n",
       "Age                             494.000000    872.000000   1239.000000   \n",
       "Average_Rating                   13.600000     14.000000     14.300000   \n",
       "No_of_Ratings                    60.000000    157.000000    491.000000   \n",
       "speed                            13.317938     14.830692     16.901294   \n",
       "maxspeed                         42.452830     88.524590   3600.000000   \n",
       "geospeed                         13.317938     14.830692     16.901294   \n",
       "max geospeed                     31.575716     50.337087   2303.503085   \n",
       "meanspeed                        17.009676     19.171241     21.512651   \n",
       "max meanspeed                    36.014718     68.298179   3031.334367   \n",
       "Placement - Delta                27.000000     71.000000    303.000000   \n",
       "Confirmation - Delta            317.000000    613.500000   1040.250000   \n",
       "Arrival at Pickup - Delta       263.000000    493.000000    921.000000   \n",
       "geopy_distance                    3.197606      5.491356      8.813831   \n",
       "Distance mean                     4.267260      6.834795     10.820926   \n",
       "\n",
       "                                       max  \n",
       "Placement - Time              80000.000000  \n",
       "Confirmation - Time           80350.000000  \n",
       "Arrival at Pickup - Time      82430.000000  \n",
       "Pickup - Time                 84058.000000  \n",
       "Distance (KM)                    47.000000  \n",
       "Temperature                      32.100000  \n",
       "Precipitation in millimeters     99.100000  \n",
       "Pickup Lat                       -1.148352  \n",
       "Pickup Long                      36.991046  \n",
       "Destination Lat                  -1.030225  \n",
       "Destination Long                 37.018958  \n",
       "No_Of_Orders                   9756.000000  \n",
       "Age                            3764.000000  \n",
       "Average_Rating                   15.200000  \n",
       "No_of_Ratings                  2298.000000  \n",
       "speed                          3182.274688  \n",
       "maxspeed                      61200.000000  \n",
       "geospeed                       3182.274688  \n",
       "max geospeed                  43081.878942  \n",
       "meanspeed                      3691.137344  \n",
       "max meanspeed                 52140.939471  \n",
       "Placement - Delta             14540.000000  \n",
       "Confirmation - Delta           6970.000000  \n",
       "Arrival at Pickup - Delta      5957.000000  \n",
       "geopy_distance                   34.543685  \n",
       "Distance mean                    40.771843  "
      ]
     },
     "execution_count": 35,
     "metadata": {},
     "output_type": "execute_result"
    }
   ],
   "source": [
    "df_test.describe().T"
   ]
  },
  {
   "cell_type": "code",
   "execution_count": 36,
   "metadata": {
    "ExecuteTime": {
     "end_time": "2019-11-26T15:08:18.215553Z",
     "start_time": "2019-11-26T15:08:18.073258Z"
    },
    "cell_style": "split",
    "scrolled": false
   },
   "outputs": [
    {
     "data": {
      "text/html": [
       "<div>\n",
       "<style scoped>\n",
       "    .dataframe tbody tr th:only-of-type {\n",
       "        vertical-align: middle;\n",
       "    }\n",
       "\n",
       "    .dataframe tbody tr th {\n",
       "        vertical-align: top;\n",
       "    }\n",
       "\n",
       "    .dataframe thead th {\n",
       "        text-align: right;\n",
       "    }\n",
       "</style>\n",
       "<table border=\"1\" class=\"dataframe\">\n",
       "  <thead>\n",
       "    <tr style=\"text-align: right;\">\n",
       "      <th></th>\n",
       "      <th>count</th>\n",
       "      <th>mean</th>\n",
       "      <th>std</th>\n",
       "      <th>min</th>\n",
       "      <th>25%</th>\n",
       "      <th>50%</th>\n",
       "      <th>75%</th>\n",
       "      <th>max</th>\n",
       "    </tr>\n",
       "  </thead>\n",
       "  <tbody>\n",
       "    <tr>\n",
       "      <th>Placement - Time</th>\n",
       "      <td>21201.0</td>\n",
       "      <td>46182.663695</td>\n",
       "      <td>9090.211849</td>\n",
       "      <td>436.000000</td>\n",
       "      <td>38806.000000</td>\n",
       "      <td>45836.000000</td>\n",
       "      <td>53425.000000</td>\n",
       "      <td>82021.000000</td>\n",
       "    </tr>\n",
       "    <tr>\n",
       "      <th>Confirmation - Time</th>\n",
       "      <td>21201.0</td>\n",
       "      <td>46615.894816</td>\n",
       "      <td>9139.332233</td>\n",
       "      <td>515.000000</td>\n",
       "      <td>39189.000000</td>\n",
       "      <td>46272.000000</td>\n",
       "      <td>53904.000000</td>\n",
       "      <td>82762.000000</td>\n",
       "    </tr>\n",
       "    <tr>\n",
       "      <th>Arrival at Pickup - Time</th>\n",
       "      <td>21201.0</td>\n",
       "      <td>47392.416254</td>\n",
       "      <td>9146.488556</td>\n",
       "      <td>731.000000</td>\n",
       "      <td>39937.000000</td>\n",
       "      <td>47057.000000</td>\n",
       "      <td>54645.000000</td>\n",
       "      <td>83400.000000</td>\n",
       "    </tr>\n",
       "    <tr>\n",
       "      <th>Pickup - Time</th>\n",
       "      <td>21201.0</td>\n",
       "      <td>48136.602660</td>\n",
       "      <td>9131.670601</td>\n",
       "      <td>2992.000000</td>\n",
       "      <td>40682.000000</td>\n",
       "      <td>47826.000000</td>\n",
       "      <td>55384.000000</td>\n",
       "      <td>83621.000000</td>\n",
       "    </tr>\n",
       "    <tr>\n",
       "      <th>Arrival at Destination - Time</th>\n",
       "      <td>21201.0</td>\n",
       "      <td>49693.523607</td>\n",
       "      <td>9196.430890</td>\n",
       "      <td>2997.000000</td>\n",
       "      <td>42191.000000</td>\n",
       "      <td>49404.000000</td>\n",
       "      <td>56949.000000</td>\n",
       "      <td>83996.000000</td>\n",
       "    </tr>\n",
       "    <tr>\n",
       "      <th>Distance (KM)</th>\n",
       "      <td>21201.0</td>\n",
       "      <td>9.506533</td>\n",
       "      <td>5.668963</td>\n",
       "      <td>1.000000</td>\n",
       "      <td>5.000000</td>\n",
       "      <td>8.000000</td>\n",
       "      <td>13.000000</td>\n",
       "      <td>49.000000</td>\n",
       "    </tr>\n",
       "    <tr>\n",
       "      <th>Temperature</th>\n",
       "      <td>21201.0</td>\n",
       "      <td>23.249017</td>\n",
       "      <td>3.355284</td>\n",
       "      <td>11.200000</td>\n",
       "      <td>20.872080</td>\n",
       "      <td>23.500000</td>\n",
       "      <td>25.400103</td>\n",
       "      <td>32.100000</td>\n",
       "    </tr>\n",
       "    <tr>\n",
       "      <th>Precipitation in millimeters</th>\n",
       "      <td>552.0</td>\n",
       "      <td>7.905797</td>\n",
       "      <td>17.089971</td>\n",
       "      <td>0.100000</td>\n",
       "      <td>1.075000</td>\n",
       "      <td>2.900000</td>\n",
       "      <td>4.900000</td>\n",
       "      <td>99.100000</td>\n",
       "    </tr>\n",
       "    <tr>\n",
       "      <th>Pickup Lat</th>\n",
       "      <td>21201.0</td>\n",
       "      <td>-1.281470</td>\n",
       "      <td>0.030507</td>\n",
       "      <td>-1.438302</td>\n",
       "      <td>-1.300921</td>\n",
       "      <td>-1.279395</td>\n",
       "      <td>-1.257147</td>\n",
       "      <td>-1.147170</td>\n",
       "    </tr>\n",
       "    <tr>\n",
       "      <th>Pickup Long</th>\n",
       "      <td>21201.0</td>\n",
       "      <td>36.811264</td>\n",
       "      <td>0.037473</td>\n",
       "      <td>36.653621</td>\n",
       "      <td>36.784605</td>\n",
       "      <td>36.807040</td>\n",
       "      <td>36.829741</td>\n",
       "      <td>36.991046</td>\n",
       "    </tr>\n",
       "    <tr>\n",
       "      <th>Destination Lat</th>\n",
       "      <td>21201.0</td>\n",
       "      <td>-1.282581</td>\n",
       "      <td>0.034824</td>\n",
       "      <td>-1.430298</td>\n",
       "      <td>-1.301201</td>\n",
       "      <td>-1.284382</td>\n",
       "      <td>-1.261177</td>\n",
       "      <td>-1.030225</td>\n",
       "    </tr>\n",
       "    <tr>\n",
       "      <th>Destination Long</th>\n",
       "      <td>21201.0</td>\n",
       "      <td>36.811220</td>\n",
       "      <td>0.044721</td>\n",
       "      <td>36.606594</td>\n",
       "      <td>36.785661</td>\n",
       "      <td>36.808002</td>\n",
       "      <td>36.829477</td>\n",
       "      <td>37.016779</td>\n",
       "    </tr>\n",
       "    <tr>\n",
       "      <th>Time from Pickup to Arrival</th>\n",
       "      <td>21201.0</td>\n",
       "      <td>1556.920947</td>\n",
       "      <td>987.270788</td>\n",
       "      <td>1.000000</td>\n",
       "      <td>882.000000</td>\n",
       "      <td>1369.000000</td>\n",
       "      <td>2040.000000</td>\n",
       "      <td>7883.000000</td>\n",
       "    </tr>\n",
       "    <tr>\n",
       "      <th>No_Of_Orders</th>\n",
       "      <td>21201.0</td>\n",
       "      <td>1692.423706</td>\n",
       "      <td>1574.308302</td>\n",
       "      <td>2.000000</td>\n",
       "      <td>557.000000</td>\n",
       "      <td>1212.000000</td>\n",
       "      <td>2311.000000</td>\n",
       "      <td>9756.000000</td>\n",
       "    </tr>\n",
       "    <tr>\n",
       "      <th>Age</th>\n",
       "      <td>21201.0</td>\n",
       "      <td>984.742842</td>\n",
       "      <td>646.652835</td>\n",
       "      <td>96.000000</td>\n",
       "      <td>495.000000</td>\n",
       "      <td>872.000000</td>\n",
       "      <td>1236.000000</td>\n",
       "      <td>3764.000000</td>\n",
       "    </tr>\n",
       "    <tr>\n",
       "      <th>Average_Rating</th>\n",
       "      <td>21201.0</td>\n",
       "      <td>13.882520</td>\n",
       "      <td>0.916071</td>\n",
       "      <td>0.000000</td>\n",
       "      <td>13.600000</td>\n",
       "      <td>14.000000</td>\n",
       "      <td>14.300000</td>\n",
       "      <td>15.200000</td>\n",
       "    </tr>\n",
       "    <tr>\n",
       "      <th>No_of_Ratings</th>\n",
       "      <td>21201.0</td>\n",
       "      <td>341.067119</td>\n",
       "      <td>402.867746</td>\n",
       "      <td>0.000000</td>\n",
       "      <td>61.000000</td>\n",
       "      <td>161.000000</td>\n",
       "      <td>495.000000</td>\n",
       "      <td>2298.000000</td>\n",
       "    </tr>\n",
       "    <tr>\n",
       "      <th>speed</th>\n",
       "      <td>21201.0</td>\n",
       "      <td>37.799968</td>\n",
       "      <td>193.273848</td>\n",
       "      <td>1.618331</td>\n",
       "      <td>13.344464</td>\n",
       "      <td>15.014854</td>\n",
       "      <td>16.938388</td>\n",
       "      <td>3182.274688</td>\n",
       "    </tr>\n",
       "    <tr>\n",
       "      <th>maxspeed</th>\n",
       "      <td>21201.0</td>\n",
       "      <td>3983.948694</td>\n",
       "      <td>8410.476319</td>\n",
       "      <td>3.785489</td>\n",
       "      <td>43.263757</td>\n",
       "      <td>88.524590</td>\n",
       "      <td>3600.000000</td>\n",
       "      <td>61200.000000</td>\n",
       "    </tr>\n",
       "    <tr>\n",
       "      <th>geospeed</th>\n",
       "      <td>21201.0</td>\n",
       "      <td>37.799968</td>\n",
       "      <td>193.273848</td>\n",
       "      <td>1.618331</td>\n",
       "      <td>13.344464</td>\n",
       "      <td>15.014854</td>\n",
       "      <td>16.938388</td>\n",
       "      <td>3182.274688</td>\n",
       "    </tr>\n",
       "    <tr>\n",
       "      <th>max geospeed</th>\n",
       "      <td>21201.0</td>\n",
       "      <td>2615.515346</td>\n",
       "      <td>5772.152270</td>\n",
       "      <td>1.618331</td>\n",
       "      <td>31.575716</td>\n",
       "      <td>50.337087</td>\n",
       "      <td>2544.853783</td>\n",
       "      <td>43081.878942</td>\n",
       "    </tr>\n",
       "    <tr>\n",
       "      <th>meanspeed</th>\n",
       "      <td>21201.0</td>\n",
       "      <td>55.559178</td>\n",
       "      <td>312.155903</td>\n",
       "      <td>3.357118</td>\n",
       "      <td>17.009676</td>\n",
       "      <td>19.315928</td>\n",
       "      <td>21.569027</td>\n",
       "      <td>3691.137344</td>\n",
       "    </tr>\n",
       "    <tr>\n",
       "      <th>max meanspeed</th>\n",
       "      <td>21201.0</td>\n",
       "      <td>3287.401386</td>\n",
       "      <td>7028.483314</td>\n",
       "      <td>3.357118</td>\n",
       "      <td>36.656138</td>\n",
       "      <td>68.298179</td>\n",
       "      <td>3072.426891</td>\n",
       "      <td>52140.939471</td>\n",
       "    </tr>\n",
       "    <tr>\n",
       "      <th>Placement - Delta</th>\n",
       "      <td>21201.0</td>\n",
       "      <td>433.231121</td>\n",
       "      <td>1025.742011</td>\n",
       "      <td>-4664.000000</td>\n",
       "      <td>27.000000</td>\n",
       "      <td>69.000000</td>\n",
       "      <td>289.000000</td>\n",
       "      <td>14480.000000</td>\n",
       "    </tr>\n",
       "    <tr>\n",
       "      <th>Confirmation - Delta</th>\n",
       "      <td>21201.0</td>\n",
       "      <td>776.521438</td>\n",
       "      <td>687.758556</td>\n",
       "      <td>0.000000</td>\n",
       "      <td>303.000000</td>\n",
       "      <td>614.000000</td>\n",
       "      <td>1045.000000</td>\n",
       "      <td>6374.000000</td>\n",
       "    </tr>\n",
       "    <tr>\n",
       "      <th>Arrival at Pickup - Delta</th>\n",
       "      <td>21201.0</td>\n",
       "      <td>744.186406</td>\n",
       "      <td>761.216606</td>\n",
       "      <td>60.000000</td>\n",
       "      <td>263.000000</td>\n",
       "      <td>491.000000</td>\n",
       "      <td>929.000000</td>\n",
       "      <td>5985.000000</td>\n",
       "    </tr>\n",
       "    <tr>\n",
       "      <th>geopy_distance</th>\n",
       "      <td>21201.0</td>\n",
       "      <td>6.497214</td>\n",
       "      <td>4.443468</td>\n",
       "      <td>0.088669</td>\n",
       "      <td>3.122714</td>\n",
       "      <td>5.461964</td>\n",
       "      <td>8.813831</td>\n",
       "      <td>36.557611</td>\n",
       "    </tr>\n",
       "    <tr>\n",
       "      <th>Distance mean</th>\n",
       "      <td>21201.0</td>\n",
       "      <td>8.001874</td>\n",
       "      <td>4.996305</td>\n",
       "      <td>0.553786</td>\n",
       "      <td>4.160433</td>\n",
       "      <td>6.835309</td>\n",
       "      <td>10.878630</td>\n",
       "      <td>42.346295</td>\n",
       "    </tr>\n",
       "  </tbody>\n",
       "</table>\n",
       "</div>"
      ],
      "text/plain": [
       "                                 count          mean          std  \\\n",
       "Placement - Time               21201.0  46182.663695  9090.211849   \n",
       "Confirmation - Time            21201.0  46615.894816  9139.332233   \n",
       "Arrival at Pickup - Time       21201.0  47392.416254  9146.488556   \n",
       "Pickup - Time                  21201.0  48136.602660  9131.670601   \n",
       "Arrival at Destination - Time  21201.0  49693.523607  9196.430890   \n",
       "Distance (KM)                  21201.0      9.506533     5.668963   \n",
       "Temperature                    21201.0     23.249017     3.355284   \n",
       "Precipitation in millimeters     552.0      7.905797    17.089971   \n",
       "Pickup Lat                     21201.0     -1.281470     0.030507   \n",
       "Pickup Long                    21201.0     36.811264     0.037473   \n",
       "Destination Lat                21201.0     -1.282581     0.034824   \n",
       "Destination Long               21201.0     36.811220     0.044721   \n",
       "Time from Pickup to Arrival    21201.0   1556.920947   987.270788   \n",
       "No_Of_Orders                   21201.0   1692.423706  1574.308302   \n",
       "Age                            21201.0    984.742842   646.652835   \n",
       "Average_Rating                 21201.0     13.882520     0.916071   \n",
       "No_of_Ratings                  21201.0    341.067119   402.867746   \n",
       "speed                          21201.0     37.799968   193.273848   \n",
       "maxspeed                       21201.0   3983.948694  8410.476319   \n",
       "geospeed                       21201.0     37.799968   193.273848   \n",
       "max geospeed                   21201.0   2615.515346  5772.152270   \n",
       "meanspeed                      21201.0     55.559178   312.155903   \n",
       "max meanspeed                  21201.0   3287.401386  7028.483314   \n",
       "Placement - Delta              21201.0    433.231121  1025.742011   \n",
       "Confirmation - Delta           21201.0    776.521438   687.758556   \n",
       "Arrival at Pickup - Delta      21201.0    744.186406   761.216606   \n",
       "geopy_distance                 21201.0      6.497214     4.443468   \n",
       "Distance mean                  21201.0      8.001874     4.996305   \n",
       "\n",
       "                                       min           25%           50%  \\\n",
       "Placement - Time                436.000000  38806.000000  45836.000000   \n",
       "Confirmation - Time             515.000000  39189.000000  46272.000000   \n",
       "Arrival at Pickup - Time        731.000000  39937.000000  47057.000000   \n",
       "Pickup - Time                  2992.000000  40682.000000  47826.000000   \n",
       "Arrival at Destination - Time  2997.000000  42191.000000  49404.000000   \n",
       "Distance (KM)                     1.000000      5.000000      8.000000   \n",
       "Temperature                      11.200000     20.872080     23.500000   \n",
       "Precipitation in millimeters      0.100000      1.075000      2.900000   \n",
       "Pickup Lat                       -1.438302     -1.300921     -1.279395   \n",
       "Pickup Long                      36.653621     36.784605     36.807040   \n",
       "Destination Lat                  -1.430298     -1.301201     -1.284382   \n",
       "Destination Long                 36.606594     36.785661     36.808002   \n",
       "Time from Pickup to Arrival       1.000000    882.000000   1369.000000   \n",
       "No_Of_Orders                      2.000000    557.000000   1212.000000   \n",
       "Age                              96.000000    495.000000    872.000000   \n",
       "Average_Rating                    0.000000     13.600000     14.000000   \n",
       "No_of_Ratings                     0.000000     61.000000    161.000000   \n",
       "speed                             1.618331     13.344464     15.014854   \n",
       "maxspeed                          3.785489     43.263757     88.524590   \n",
       "geospeed                          1.618331     13.344464     15.014854   \n",
       "max geospeed                      1.618331     31.575716     50.337087   \n",
       "meanspeed                         3.357118     17.009676     19.315928   \n",
       "max meanspeed                     3.357118     36.656138     68.298179   \n",
       "Placement - Delta             -4664.000000     27.000000     69.000000   \n",
       "Confirmation - Delta              0.000000    303.000000    614.000000   \n",
       "Arrival at Pickup - Delta        60.000000    263.000000    491.000000   \n",
       "geopy_distance                    0.088669      3.122714      5.461964   \n",
       "Distance mean                     0.553786      4.160433      6.835309   \n",
       "\n",
       "                                        75%           max  \n",
       "Placement - Time               53425.000000  82021.000000  \n",
       "Confirmation - Time            53904.000000  82762.000000  \n",
       "Arrival at Pickup - Time       54645.000000  83400.000000  \n",
       "Pickup - Time                  55384.000000  83621.000000  \n",
       "Arrival at Destination - Time  56949.000000  83996.000000  \n",
       "Distance (KM)                     13.000000     49.000000  \n",
       "Temperature                       25.400103     32.100000  \n",
       "Precipitation in millimeters       4.900000     99.100000  \n",
       "Pickup Lat                        -1.257147     -1.147170  \n",
       "Pickup Long                       36.829741     36.991046  \n",
       "Destination Lat                   -1.261177     -1.030225  \n",
       "Destination Long                  36.829477     37.016779  \n",
       "Time from Pickup to Arrival     2040.000000   7883.000000  \n",
       "No_Of_Orders                    2311.000000   9756.000000  \n",
       "Age                             1236.000000   3764.000000  \n",
       "Average_Rating                    14.300000     15.200000  \n",
       "No_of_Ratings                    495.000000   2298.000000  \n",
       "speed                             16.938388   3182.274688  \n",
       "maxspeed                        3600.000000  61200.000000  \n",
       "geospeed                          16.938388   3182.274688  \n",
       "max geospeed                    2544.853783  43081.878942  \n",
       "meanspeed                         21.569027   3691.137344  \n",
       "max meanspeed                   3072.426891  52140.939471  \n",
       "Placement - Delta                289.000000  14480.000000  \n",
       "Confirmation - Delta            1045.000000   6374.000000  \n",
       "Arrival at Pickup - Delta        929.000000   5985.000000  \n",
       "geopy_distance                     8.813831     36.557611  \n",
       "Distance mean                     10.878630     42.346295  "
      ]
     },
     "execution_count": 36,
     "metadata": {},
     "output_type": "execute_result"
    }
   ],
   "source": [
    "df_train.describe().T"
   ]
  },
  {
   "cell_type": "markdown",
   "metadata": {},
   "source": [
    "<h2> Checking of time between Pickup and Time delta"
   ]
  },
  {
   "cell_type": "code",
   "execution_count": 37,
   "metadata": {
    "ExecuteTime": {
     "end_time": "2019-11-26T15:08:26.931140Z",
     "start_time": "2019-11-26T15:08:26.188030Z"
    }
   },
   "outputs": [],
   "source": [
    "from sklearn.metrics import accuracy_score, mean_squared_error"
   ]
  },
  {
   "cell_type": "code",
   "execution_count": 38,
   "metadata": {
    "ExecuteTime": {
     "end_time": "2019-11-26T15:08:26.938196Z",
     "start_time": "2019-11-26T15:08:26.933189Z"
    }
   },
   "outputs": [],
   "source": [
    "y_delta = df_train[\"Arrival at Destination - Time\"] - df_train[\"Pickup - Time\"]"
   ]
  },
  {
   "cell_type": "code",
   "execution_count": 39,
   "metadata": {
    "ExecuteTime": {
     "end_time": "2019-11-26T15:08:26.948786Z",
     "start_time": "2019-11-26T15:08:26.941301Z"
    }
   },
   "outputs": [],
   "source": [
    "y = df_train[\"Time from Pickup to Arrival\"]"
   ]
  },
  {
   "cell_type": "code",
   "execution_count": 40,
   "metadata": {
    "ExecuteTime": {
     "end_time": "2019-11-26T15:08:26.969884Z",
     "start_time": "2019-11-26T15:08:26.951855Z"
    }
   },
   "outputs": [
    {
     "data": {
      "text/plain": [
       "1.0"
      ]
     },
     "execution_count": 40,
     "metadata": {},
     "output_type": "execute_result"
    }
   ],
   "source": [
    "accuracy_score(y, y_delta)"
   ]
  },
  {
   "cell_type": "markdown",
   "metadata": {},
   "source": [
    "<h2> No short duration into X_train"
   ]
  },
  {
   "cell_type": "markdown",
   "metadata": {},
   "source": [
    "Building a specific training dataset with NO short duration duration"
   ]
  },
  {
   "cell_type": "code",
   "execution_count": 41,
   "metadata": {
    "ExecuteTime": {
     "end_time": "2019-11-26T15:08:29.556516Z",
     "start_time": "2019-11-26T15:08:28.061532Z"
    }
   },
   "outputs": [
    {
     "data": {
      "image/png": "[encoded data removed]",
      "text/plain": [
       "<Figure size 1080x360 with 1 Axes>"
      ]
     },
     "metadata": {
      "needs_background": "light"
     },
     "output_type": "display_data"
    }
   ],
   "source": [
    "plt.figure(figsize=(15,5))\n",
    "plt.hist(y, bins=1000)\n",
    "plt.title(\"Distribution of the delivery duration from pickup to destination\")\n",
    "plt.show()"
   ]
  },
  {
   "cell_type": "code",
   "execution_count": 42,
   "metadata": {
    "ExecuteTime": {
     "end_time": "2019-11-26T15:08:29.582961Z",
     "start_time": "2019-11-26T15:08:29.559964Z"
    }
   },
   "outputs": [
    {
     "data": {
      "text/plain": [
       "(2054.0, 501.0)"
      ]
     },
     "execution_count": 42,
     "metadata": {},
     "output_type": "execute_result"
    }
   ],
   "source": [
    "y[y<10].sum(), y[y>40][y<50].sum()"
   ]
  },
  {
   "cell_type": "markdown",
   "metadata": {
    "ExecuteTime": {
     "end_time": "2019-11-13T12:57:16.228446Z",
     "start_time": "2019-11-13T12:57:16.224365Z"
    }
   },
   "source": [
    "<h2> Dump to pickle file"
   ]
  },
  {
   "cell_type": "code",
   "execution_count": 43,
   "metadata": {
    "ExecuteTime": {
     "end_time": "2019-11-26T15:08:30.360066Z",
     "start_time": "2019-11-26T15:08:30.355604Z"
    }
   },
   "outputs": [
    {
     "data": {
      "text/plain": [
       "((21201, 48), (7068, 44))"
      ]
     },
     "execution_count": 43,
     "metadata": {},
     "output_type": "execute_result"
    }
   ],
   "source": [
    "df_train.shape, df_test.shape"
   ]
  },
  {
   "cell_type": "code",
   "execution_count": 44,
   "metadata": {
    "ExecuteTime": {
     "end_time": "2019-11-26T15:08:30.959802Z",
     "start_time": "2019-11-26T15:08:30.680883Z"
    }
   },
   "outputs": [],
   "source": [
    "pickle_filename = \"data/data.pkl\"\n",
    "content = (df_train, df_test)\n",
    "dump_to_pickle(content, pickle_filename)"
   ]
  },
  {
   "cell_type": "markdown",
   "metadata": {
    "ExecuteTime": {
     "end_time": "2019-11-06T15:57:51.089554Z",
     "start_time": "2019-11-06T15:57:51.084198Z"
    }
   },
   "source": [
    "<h1> to be improved"
   ]
  },
  {
   "cell_type": "markdown",
   "metadata": {},
   "source": [
    "- API calls -> Check route with lat and long between pickup and arival\n",
    "- Uber data for traffic\n",
    "\n",
    "- Scalling data ?\n",
    "- Adding delta time instead of timelapse ?\n",
    "- Get dummies ?"
   ]
  },
  {
   "cell_type": "code",
   "execution_count": null,
   "metadata": {},
   "outputs": [],
   "source": []
  },
  {
   "cell_type": "code",
   "execution_count": null,
   "metadata": {},
   "outputs": [],
   "source": []
  }
 ],
 "metadata": {
  "kernelspec": {
   "display_name": "Python 3",
   "language": "python",
   "name": "python3"
  },
  "language_info": {
   "codemirror_mode": {
    "name": "ipython",
    "version": 3
   },
   "file_extension": ".py",
   "mimetype": "text/x-python",
   "name": "python",
   "nbconvert_exporter": "python",
   "pygments_lexer": "ipython3",
   "version": "3.7.4"
  },
  "toc": {
   "base_numbering": 1,
   "nav_menu": {},
   "number_sections": true,
   "sideBar": true,
   "skip_h1_title": false,
   "title_cell": "Table of Contents",
   "title_sidebar": "Contents",
   "toc_cell": false,
   "toc_position": {
    "height": "calc(100% - 180px)",
    "left": "10px",
    "top": "150px",
    "width": "271.719px"
   },
   "toc_section_display": true,
   "toc_window_display": true
  }
 },
 "nbformat": 4,
 "nbformat_minor": 2
}
