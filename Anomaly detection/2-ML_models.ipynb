{
 "cells": [
  {
   "cell_type": "markdown",
   "metadata": {},
   "source": [
    "<h1> Supervised Classification Model"
   ]
  },
  {
   "cell_type": "code",
   "execution_count": 195,
   "metadata": {
    "ExecuteTime": {
     "end_time": "2019-10-26T10:06:09.116495Z",
     "start_time": "2019-10-26T10:06:09.113099Z"
    }
   },
   "outputs": [],
   "source": [
    "from sklearn.metrics import precision_recall_curve, roc_curve, auc, accuracy_score, f1_score, classification_report"
   ]
  },
  {
   "cell_type": "markdown",
   "metadata": {},
   "source": [
    "<h2> Logistic Regression"
   ]
  },
  {
   "cell_type": "code",
   "execution_count": 196,
   "metadata": {
    "ExecuteTime": {
     "end_time": "2019-10-26T10:06:09.650478Z",
     "start_time": "2019-10-26T10:06:09.647340Z"
    }
   },
   "outputs": [],
   "source": [
    "from sklearn.linear_model import LogisticRegression"
   ]
  },
  {
   "cell_type": "markdown",
   "metadata": {
    "ExecuteTime": {
     "end_time": "2019-10-21T14:46:55.094051Z",
     "start_time": "2019-10-21T14:46:55.088704Z"
    }
   },
   "source": [
    "<h3> Raw data"
   ]
  },
  {
   "cell_type": "code",
   "execution_count": 197,
   "metadata": {
    "ExecuteTime": {
     "end_time": "2019-10-26T10:06:12.852543Z",
     "start_time": "2019-10-26T10:06:10.016628Z"
    }
   },
   "outputs": [
    {
     "name": "stderr",
     "output_type": "stream",
     "text": [
      "/home/zyncus/bin/anaconda/lib/python3.7/site-packages/sklearn/linear_model/logistic.py:433: FutureWarning: Default solver will be changed to 'lbfgs' in 0.22. Specify a solver to silence this warning.\n",
      "  FutureWarning)\n"
     ]
    },
    {
     "data": {
      "text/plain": [
       "0.973907005031907"
      ]
     },
     "execution_count": 197,
     "metadata": {},
     "output_type": "execute_result"
    }
   ],
   "source": [
    "lr = LogisticRegression()\n",
    "lr.fit(X_train_scaled, y_train)\n",
    "y_score_lr = lr.predict_proba(X_test_scaled)\n",
    "fpr_lr, tpr_lr, _ = roc_curve(y_test, y_score_lr[:,1])\n",
    "roc_auc = auc(fpr_lr, tpr_lr)\n",
    "roc_auc"
   ]
  },
  {
   "cell_type": "code",
   "execution_count": 198,
   "metadata": {
    "ExecuteTime": {
     "end_time": "2019-10-26T10:06:12.866503Z",
     "start_time": "2019-10-26T10:06:12.861089Z"
    }
   },
   "outputs": [
    {
     "name": "stdout",
     "output_type": "stream",
     "text": [
      "105 transactions classified as fraudulent out of 155\n"
     ]
    }
   ],
   "source": [
    "y_pred = np.round(y_score_lr[:,1], 0)\n",
    "print(int(y_pred.sum()), \"transactions classified as fraudulent out of\", y_test.sum())"
   ]
  },
  {
   "cell_type": "markdown",
   "metadata": {
    "ExecuteTime": {
     "end_time": "2019-10-21T14:47:16.534486Z",
     "start_time": "2019-10-21T14:47:16.529960Z"
    }
   },
   "source": [
    "<h3> Undersampling"
   ]
  },
  {
   "cell_type": "code",
   "execution_count": 199,
   "metadata": {
    "ExecuteTime": {
     "end_time": "2019-10-26T10:06:13.411355Z",
     "start_time": "2019-10-26T10:06:12.868918Z"
    }
   },
   "outputs": [
    {
     "name": "stderr",
     "output_type": "stream",
     "text": [
      "/home/zyncus/bin/anaconda/lib/python3.7/site-packages/sklearn/linear_model/logistic.py:433: FutureWarning: Default solver will be changed to 'lbfgs' in 0.22. Specify a solver to silence this warning.\n",
      "  FutureWarning)\n"
     ]
    },
    {
     "data": {
      "text/plain": [
       "0.9773968882662463"
      ]
     },
     "execution_count": 199,
     "metadata": {},
     "output_type": "execute_result"
    }
   ],
   "source": [
    "lr = LogisticRegression()\n",
    "lr.fit(X_undersamp, y_undersamp)\n",
    "y_score_lr_u = lr.predict_proba(X_test_scaled)\n",
    "fpr_lr_u, tpr_lr_u, _ = roc_curve(y_test, y_score_lr_u[:,1])\n",
    "roc_auc = auc(fpr_lr_u, tpr_lr_u)\n",
    "roc_auc"
   ]
  },
  {
   "cell_type": "code",
   "execution_count": 200,
   "metadata": {
    "ExecuteTime": {
     "end_time": "2019-10-26T10:06:13.420252Z",
     "start_time": "2019-10-26T10:06:13.414103Z"
    }
   },
   "outputs": [
    {
     "name": "stdout",
     "output_type": "stream",
     "text": [
      "169 transactions classified as fraudulent out of 155\n"
     ]
    }
   ],
   "source": [
    "y_pred = np.round(y_score_lr_u[:,1], 0)\n",
    "print(int(y_pred.sum()), \"transactions classified as fraudulent out of\", y_test.sum())"
   ]
  },
  {
   "cell_type": "markdown",
   "metadata": {},
   "source": [
    "<h3> Oversampling"
   ]
  },
  {
   "cell_type": "code",
   "execution_count": 201,
   "metadata": {
    "ExecuteTime": {
     "end_time": "2019-10-26T10:06:16.858650Z",
     "start_time": "2019-10-26T10:06:13.423513Z"
    }
   },
   "outputs": [
    {
     "name": "stderr",
     "output_type": "stream",
     "text": [
      "/home/zyncus/bin/anaconda/lib/python3.7/site-packages/sklearn/linear_model/logistic.py:433: FutureWarning: Default solver will be changed to 'lbfgs' in 0.22. Specify a solver to silence this warning.\n",
      "  FutureWarning)\n"
     ]
    },
    {
     "data": {
      "text/plain": [
       "0.9742421881382548"
      ]
     },
     "execution_count": 201,
     "metadata": {},
     "output_type": "execute_result"
    }
   ],
   "source": [
    "lr = LogisticRegression()\n",
    "lr.fit(X_oversamp, y_oversamp)\n",
    "y_score_lr_o = lr.predict_proba(X_test_scaled)\n",
    "fpr_lr_o, tpr_lr_o, _ = roc_curve(y_test, y_score_lr_o[:,1])\n",
    "roc_auc = auc(fpr_lr_o, tpr_lr_o)\n",
    "roc_auc"
   ]
  },
  {
   "cell_type": "code",
   "execution_count": 202,
   "metadata": {
    "ExecuteTime": {
     "end_time": "2019-10-26T10:06:16.872121Z",
     "start_time": "2019-10-26T10:06:16.861928Z"
    }
   },
   "outputs": [
    {
     "name": "stdout",
     "output_type": "stream",
     "text": [
      "150 transactions classified as fraudulent out of 155\n"
     ]
    }
   ],
   "source": [
    "y_pred = np.round(y_score_lr_o[:,1], 0)\n",
    "print(int(y_pred.sum()), \"transactions classified as fraudulent out of\", y_test.sum())"
   ]
  },
  {
   "cell_type": "markdown",
   "metadata": {},
   "source": [
    "<h3> Comparison"
   ]
  },
  {
   "cell_type": "code",
   "execution_count": 203,
   "metadata": {
    "ExecuteTime": {
     "end_time": "2019-10-26T10:06:17.169422Z",
     "start_time": "2019-10-26T10:06:16.877352Z"
    }
   },
   "outputs": [
    {
     "data": {
      "image/png": "[encoded data removed]",
      "text/plain": [
       "<Figure size 864x576 with 1 Axes>"
      ]
     },
     "metadata": {
      "needs_background": "light"
     },
     "output_type": "display_data"
    }
   ],
   "source": [
    "plt.figure(figsize=(12,8))\n",
    "\n",
    "plt.plot(fpr_lr, tpr_lr, label='raw data')\n",
    "plt.plot(fpr_lr_u, tpr_lr_u, label='undersampling')\n",
    "plt.plot(fpr_lr_o, tpr_lr_o, label='oversampling')\n",
    "plt.plot([0, 1], [0, 1], color='navy', linestyle='--')\n",
    "plt.xlabel('False Positive Rate')\n",
    "plt.ylabel('True Positive Rate')\n",
    "plt.title('ROC logistic regression')\n",
    "plt.legend(loc=\"lower right\")\n",
    "plt.show()"
   ]
  },
  {
   "cell_type": "markdown",
   "metadata": {},
   "source": [
    "-> Best Model: LR with Undersampling"
   ]
  },
  {
   "cell_type": "code",
   "execution_count": 204,
   "metadata": {
    "ExecuteTime": {
     "end_time": "2019-10-26T10:06:17.266376Z",
     "start_time": "2019-10-26T10:06:17.174622Z"
    }
   },
   "outputs": [
    {
     "name": "stdout",
     "output_type": "stream",
     "text": [
      "              precision    recall  f1-score   support\n",
      "\n",
      "           0       1.00      1.00      1.00     85288\n",
      "           1       0.80      0.77      0.79       155\n",
      "\n",
      "   micro avg       1.00      1.00      1.00     85443\n",
      "   macro avg       0.90      0.89      0.89     85443\n",
      "weighted avg       1.00      1.00      1.00     85443\n",
      "\n"
     ]
    }
   ],
   "source": [
    "print(classification_report(y_test, y_pred))"
   ]
  },
  {
   "cell_type": "markdown",
   "metadata": {
    "ExecuteTime": {
     "end_time": "2019-05-16T13:32:48.690751Z",
     "start_time": "2019-05-16T13:32:48.680000Z"
    }
   },
   "source": [
    "<h2> XG Boost"
   ]
  },
  {
   "cell_type": "code",
   "execution_count": 205,
   "metadata": {
    "ExecuteTime": {
     "end_time": "2019-10-26T10:06:22.218296Z",
     "start_time": "2019-10-26T10:06:22.215391Z"
    }
   },
   "outputs": [],
   "source": [
    "import xgboost as xgb"
   ]
  },
  {
   "cell_type": "markdown",
   "metadata": {
    "ExecuteTime": {
     "end_time": "2019-10-21T14:46:55.094051Z",
     "start_time": "2019-10-21T14:46:55.088704Z"
    }
   },
   "source": [
    "<h3> Raw data"
   ]
  },
  {
   "cell_type": "code",
   "execution_count": 206,
   "metadata": {
    "ExecuteTime": {
     "end_time": "2019-10-26T10:07:06.076179Z",
     "start_time": "2019-10-26T10:06:22.821825Z"
    }
   },
   "outputs": [
    {
     "data": {
      "text/plain": [
       "0.9805995851626822"
      ]
     },
     "execution_count": 206,
     "metadata": {},
     "output_type": "execute_result"
    }
   ],
   "source": [
    "xg = xgb.XGBClassifier()\n",
    "xg.fit(X_train_scaled, y_train)\n",
    "y_score_xg = xg.predict_proba(X_test_scaled)\n",
    "fpr_xg, tpr_xg, _ = roc_curve(y_test, y_score_xg[:,1])\n",
    "roc_auc = auc(fpr_xg, tpr_xg)\n",
    "roc_auc"
   ]
  },
  {
   "cell_type": "code",
   "execution_count": 207,
   "metadata": {
    "ExecuteTime": {
     "end_time": "2019-10-26T10:07:06.083109Z",
     "start_time": "2019-10-26T10:07:06.078201Z"
    }
   },
   "outputs": [
    {
     "name": "stdout",
     "output_type": "stream",
     "text": [
      "131 transactions classified as fraudulent out of 155\n"
     ]
    }
   ],
   "source": [
    "y_pred = np.round(y_score_xg[:,1], 0)\n",
    "print(int(y_pred.sum()), \"transactions classified as fraudulent out of\", y_test.sum())"
   ]
  },
  {
   "cell_type": "markdown",
   "metadata": {
    "ExecuteTime": {
     "end_time": "2019-10-21T14:47:16.534486Z",
     "start_time": "2019-10-21T14:47:16.529960Z"
    }
   },
   "source": [
    "<h3> Undersampling"
   ]
  },
  {
   "cell_type": "code",
   "execution_count": 208,
   "metadata": {
    "ExecuteTime": {
     "end_time": "2019-10-26T10:07:13.084055Z",
     "start_time": "2019-10-26T10:07:06.084980Z"
    }
   },
   "outputs": [
    {
     "data": {
      "text/plain": [
       "0.9825965003585575"
      ]
     },
     "execution_count": 208,
     "metadata": {},
     "output_type": "execute_result"
    }
   ],
   "source": [
    "xg = xgb.XGBClassifier()\n",
    "xg.fit(X_undersamp, y_undersamp)\n",
    "y_score_xg_u = xg.predict_proba(X_test_scaled)\n",
    "fpr_xg_u, tpr_xg_u, _ = roc_curve(y_test, y_score_xg_u[:,1])\n",
    "roc_auc = auc(fpr_xg_u, tpr_xg_u)\n",
    "roc_auc"
   ]
  },
  {
   "cell_type": "code",
   "execution_count": 209,
   "metadata": {
    "ExecuteTime": {
     "end_time": "2019-10-26T10:07:13.090520Z",
     "start_time": "2019-10-26T10:07:13.086178Z"
    }
   },
   "outputs": [
    {
     "name": "stdout",
     "output_type": "stream",
     "text": [
      "169 transactions classified as fraudulent out of 155\n"
     ]
    }
   ],
   "source": [
    "y_pred = np.round(y_score_xg_u[:,1], 0)\n",
    "print(int(y_pred.sum()), \"transactions classified as fraudulent out of\", y_test.sum())"
   ]
  },
  {
   "cell_type": "markdown",
   "metadata": {},
   "source": [
    "<h3> Oversampling"
   ]
  },
  {
   "cell_type": "code",
   "execution_count": 210,
   "metadata": {
    "ExecuteTime": {
     "end_time": "2019-10-26T10:07:58.032600Z",
     "start_time": "2019-10-26T10:07:13.092398Z"
    }
   },
   "outputs": [
    {
     "data": {
      "text/plain": [
       "0.9804081654265925"
      ]
     },
     "execution_count": 210,
     "metadata": {},
     "output_type": "execute_result"
    }
   ],
   "source": [
    "xg = xgb.XGBClassifier()\n",
    "xg.fit(X_oversamp, y_oversamp)\n",
    "y_score_xg_o = xg.predict_proba(X_test_scaled)\n",
    "fpr_xg_o, tpr_xg_o, _ = roc_curve(y_test, y_score_xg_o[:,1])\n",
    "roc_auc = auc(fpr_xg_o, tpr_xg_o)\n",
    "roc_auc"
   ]
  },
  {
   "cell_type": "code",
   "execution_count": 211,
   "metadata": {
    "ExecuteTime": {
     "end_time": "2019-10-26T10:07:58.042043Z",
     "start_time": "2019-10-26T10:07:58.036475Z"
    }
   },
   "outputs": [
    {
     "name": "stdout",
     "output_type": "stream",
     "text": [
      "152 transactions classified as fraudulent out of 155\n"
     ]
    }
   ],
   "source": [
    "y_pred = np.round(y_score_xg_o[:,1], 0)\n",
    "print(int(y_pred.sum()), \"transactions classified as fraudulent out of\", y_test.sum())"
   ]
  },
  {
   "cell_type": "markdown",
   "metadata": {},
   "source": [
    "<h3> Comparison"
   ]
  },
  {
   "cell_type": "code",
   "execution_count": 212,
   "metadata": {
    "ExecuteTime": {
     "end_time": "2019-10-26T10:07:58.270000Z",
     "start_time": "2019-10-26T10:07:58.046044Z"
    }
   },
   "outputs": [
    {
     "data": {
      "image/png": "[encoded data removed]",
      "text/plain": [
       "<Figure size 864x576 with 1 Axes>"
      ]
     },
     "metadata": {
      "needs_background": "light"
     },
     "output_type": "display_data"
    }
   ],
   "source": [
    "plt.figure(figsize=(12,8))\n",
    "\n",
    "plt.plot(fpr_xg, tpr_xg, label='raw data')\n",
    "plt.plot(fpr_xg_u, tpr_xg_u, label='undersampling')\n",
    "plt.plot(fpr_xg_o, tpr_xg_o, label='oversampling')\n",
    "plt.plot([0, 1], [0, 1], color='navy', linestyle='--')\n",
    "plt.xlabel('False Positive Rate')\n",
    "plt.ylabel('True Positive Rate')\n",
    "plt.title('ROC XG boost')\n",
    "plt.legend(loc=\"lower right\")\n",
    "plt.show()"
   ]
  },
  {
   "cell_type": "markdown",
   "metadata": {},
   "source": [
    "-> Best Model: LR with Raw data"
   ]
  },
  {
   "cell_type": "markdown",
   "metadata": {},
   "source": [
    "<h2> LGBM"
   ]
  },
  {
   "cell_type": "code",
   "execution_count": 398,
   "metadata": {
    "ExecuteTime": {
     "end_time": "2019-10-26T10:58:16.043793Z",
     "start_time": "2019-10-26T10:58:16.041022Z"
    }
   },
   "outputs": [],
   "source": [
    "import lightgbm as lgb"
   ]
  },
  {
   "cell_type": "markdown",
   "metadata": {
    "ExecuteTime": {
     "end_time": "2019-10-21T14:46:55.094051Z",
     "start_time": "2019-10-21T14:46:55.088704Z"
    }
   },
   "source": [
    "<h3> Raw data"
   ]
  },
  {
   "cell_type": "code",
   "execution_count": 399,
   "metadata": {
    "ExecuteTime": {
     "end_time": "2019-10-26T10:58:21.818999Z",
     "start_time": "2019-10-26T10:58:16.403660Z"
    }
   },
   "outputs": [
    {
     "data": {
      "text/plain": [
       "0.6412328172325419"
      ]
     },
     "execution_count": 399,
     "metadata": {},
     "output_type": "execute_result"
    }
   ],
   "source": [
    "lgbm = lgb.LGBMClassifier()\n",
    "lgbm.fit(X_train_scaled, y_train)\n",
    "y_score_lg = lgbm.predict_proba(X_test_scaled)\n",
    "fpr_lg, tpr_lg, _ = roc_curve(y_test, y_score_lg[:,1])\n",
    "roc_auc = auc(fpr_lg, tpr_lg)\n",
    "roc_auc"
   ]
  },
  {
   "cell_type": "code",
   "execution_count": 400,
   "metadata": {
    "ExecuteTime": {
     "end_time": "2019-10-26T10:58:21.828020Z",
     "start_time": "2019-10-26T10:58:21.821599Z"
    }
   },
   "outputs": [
    {
     "name": "stdout",
     "output_type": "stream",
     "text": [
      "713 transactions classified as fraudulent out of 155\n"
     ]
    }
   ],
   "source": [
    "y_pred = np.round(y_score_lg[:,1], 0)\n",
    "print(int(y_pred.sum()), \"transactions classified as fraudulent out of\", y_test.sum())"
   ]
  },
  {
   "cell_type": "markdown",
   "metadata": {
    "ExecuteTime": {
     "end_time": "2019-10-21T14:47:16.534486Z",
     "start_time": "2019-10-21T14:47:16.529960Z"
    }
   },
   "source": [
    "<h3> Undersampling"
   ]
  },
  {
   "cell_type": "code",
   "execution_count": 401,
   "metadata": {
    "ExecuteTime": {
     "end_time": "2019-10-26T10:58:24.211924Z",
     "start_time": "2019-10-26T10:58:21.830567Z"
    }
   },
   "outputs": [
    {
     "data": {
      "text/plain": [
       "0.9818412604276667"
      ]
     },
     "execution_count": 401,
     "metadata": {},
     "output_type": "execute_result"
    }
   ],
   "source": [
    "lgbm = lgb.LGBMClassifier()\n",
    "lgbm.fit(X_undersamp, y_undersamp)\n",
    "y_score_lg_u = lgbm.predict_proba(X_test_scaled)\n",
    "fpr_lg_u, tpr_lg_u, _ = roc_curve(y_test, y_score_lg_u[:,1])\n",
    "roc_auc = auc(fpr_lg_u, tpr_lg_u)\n",
    "roc_auc"
   ]
  },
  {
   "cell_type": "code",
   "execution_count": 402,
   "metadata": {
    "ExecuteTime": {
     "end_time": "2019-10-26T10:58:24.223553Z",
     "start_time": "2019-10-26T10:58:24.215009Z"
    }
   },
   "outputs": [
    {
     "name": "stdout",
     "output_type": "stream",
     "text": [
      "170 transactions classified as fraudulent out of 155\n"
     ]
    }
   ],
   "source": [
    "y_pred = np.round(y_score_lg_u[:,1], 0)\n",
    "print(int(y_pred.sum()), \"transactions classified as fraudulent out of\", y_test.sum())"
   ]
  },
  {
   "cell_type": "markdown",
   "metadata": {},
   "source": [
    "<h3> Oversampling"
   ]
  },
  {
   "cell_type": "code",
   "execution_count": 403,
   "metadata": {
    "ExecuteTime": {
     "end_time": "2019-10-26T10:58:31.353403Z",
     "start_time": "2019-10-26T10:58:24.226825Z"
    }
   },
   "outputs": [
    {
     "data": {
      "text/plain": [
       "0.9792781800412115"
      ]
     },
     "execution_count": 403,
     "metadata": {},
     "output_type": "execute_result"
    }
   ],
   "source": [
    "lgbm = lgb.LGBMClassifier()\n",
    "lgbm.fit(X_oversamp, y_oversamp)\n",
    "y_score_lg_o = lgbm.predict_proba(X_test_scaled)\n",
    "fpr_lg_o, tpr_lg_o, _ = roc_curve(y_test, y_score_lg_o[:,1])\n",
    "roc_auc = auc(fpr_lg_o, tpr_lg_o)\n",
    "roc_auc"
   ]
  },
  {
   "cell_type": "code",
   "execution_count": 404,
   "metadata": {
    "ExecuteTime": {
     "end_time": "2019-10-26T10:58:31.363773Z",
     "start_time": "2019-10-26T10:58:31.356228Z"
    }
   },
   "outputs": [
    {
     "name": "stdout",
     "output_type": "stream",
     "text": [
      "145 transactions classified as fraudulent out of 155\n"
     ]
    }
   ],
   "source": [
    "y_pred = np.round(y_score_lg_o[:,1], 0)\n",
    "print(int(y_pred.sum()), \"transactions classified as fraudulent out of\", y_test.sum())"
   ]
  },
  {
   "cell_type": "markdown",
   "metadata": {},
   "source": [
    "<h3> Comparison"
   ]
  },
  {
   "cell_type": "code",
   "execution_count": 405,
   "metadata": {
    "ExecuteTime": {
     "end_time": "2019-10-26T10:58:31.595054Z",
     "start_time": "2019-10-26T10:58:31.366412Z"
    }
   },
   "outputs": [
    {
     "data": {
      "image/png": "[encoded data removed]",
      "text/plain": [
       "<Figure size 864x576 with 1 Axes>"
      ]
     },
     "metadata": {
      "needs_background": "light"
     },
     "output_type": "display_data"
    }
   ],
   "source": [
    "plt.figure(figsize=(12,8))\n",
    "\n",
    "plt.plot(fpr_lg, tpr_lg, label='raw data')\n",
    "plt.plot(fpr_lg_u, tpr_lg_u, label='undersampling')\n",
    "plt.plot(fpr_lg_o, tpr_lg_o, label='oversampling')\n",
    "plt.plot([0, 1], [0, 1], color='navy', linestyle='--')\n",
    "plt.xlabel('False Positive Rate')\n",
    "plt.ylabel('True Positive Rate')\n",
    "plt.title('ROC LGBM')\n",
    "plt.legend(loc=\"lower right\")\n",
    "plt.show()"
   ]
  },
  {
   "cell_type": "markdown",
   "metadata": {},
   "source": [
    "-> Best Model: LR with Oversampling"
   ]
  },
  {
   "cell_type": "markdown",
   "metadata": {
    "ExecuteTime": {
     "end_time": "2019-05-17T09:43:08.244573Z",
     "start_time": "2019-05-17T09:43:08.237145Z"
    }
   },
   "source": [
    "<h1> Anomaly detection model (Unsupervised)"
   ]
  },
  {
   "cell_type": "markdown",
   "metadata": {},
   "source": [
    "- Ratio of Class 1 in y: 0.17 %\n",
    "- Ratio of Class 1 in y_undersamp: 0.99 %\n",
    "- Ratio of Class 1 in y_oversamp: 0.99 %"
   ]
  },
  {
   "cell_type": "code",
   "execution_count": 221,
   "metadata": {
    "ExecuteTime": {
     "end_time": "2019-10-26T10:08:27.211144Z",
     "start_time": "2019-10-26T10:08:27.184084Z"
    }
   },
   "outputs": [
    {
     "data": {
      "text/plain": [
       "(199027, 32)"
      ]
     },
     "execution_count": 221,
     "metadata": {},
     "output_type": "execute_result"
    }
   ],
   "source": [
    "X_train_inliers = X_train_scaled[y_train==0]\n",
    "X_train_inliers.shape"
   ]
  },
  {
   "cell_type": "code",
   "execution_count": 222,
   "metadata": {
    "ExecuteTime": {
     "end_time": "2019-10-26T10:08:27.426886Z",
     "start_time": "2019-10-26T10:08:27.422751Z"
    }
   },
   "outputs": [
    {
     "data": {
      "text/plain": [
       "(85443, 32)"
      ]
     },
     "execution_count": 222,
     "metadata": {},
     "output_type": "execute_result"
    }
   ],
   "source": [
    "X_test_scaled.shape"
   ]
  },
  {
   "cell_type": "markdown",
   "metadata": {
    "ExecuteTime": {
     "end_time": "2019-10-21T15:11:30.412480Z",
     "start_time": "2019-10-21T15:11:30.408628Z"
    }
   },
   "source": [
    "<h2> Gaussian distribution based"
   ]
  },
  {
   "cell_type": "code",
   "execution_count": 223,
   "metadata": {
    "ExecuteTime": {
     "end_time": "2019-10-26T10:08:27.920291Z",
     "start_time": "2019-10-26T10:08:27.911287Z"
    }
   },
   "outputs": [],
   "source": [
    "from sklearn.covariance import EllipticEnvelope"
   ]
  },
  {
   "cell_type": "code",
   "execution_count": 224,
   "metadata": {
    "ExecuteTime": {
     "end_time": "2019-10-26T10:08:28.101290Z",
     "start_time": "2019-10-26T10:08:28.095027Z"
    }
   },
   "outputs": [],
   "source": [
    "G = EllipticEnvelope(random_state=0)"
   ]
  },
  {
   "cell_type": "code",
   "execution_count": 225,
   "metadata": {
    "ExecuteTime": {
     "end_time": "2019-10-26T10:09:12.265349Z",
     "start_time": "2019-10-26T10:08:28.288050Z"
    }
   },
   "outputs": [
    {
     "name": "stderr",
     "output_type": "stream",
     "text": [
      "/home/zyncus/bin/anaconda/lib/python3.7/site-packages/sklearn/covariance/robust_covariance.py:646: UserWarning: The covariance matrix associated to your dataset is not full rank\n",
      "  warnings.warn(\"The covariance matrix associated to your dataset \"\n"
     ]
    }
   ],
   "source": [
    "G.fit(X_train_inliers)\n",
    "y_predG = G.predict(X_test_scaled)"
   ]
  },
  {
   "cell_type": "code",
   "execution_count": 226,
   "metadata": {
    "ExecuteTime": {
     "end_time": "2019-10-26T10:09:12.269606Z",
     "start_time": "2019-10-26T10:09:12.267289Z"
    }
   },
   "outputs": [],
   "source": [
    "#y_predG = G.fit_predict(X_test)"
   ]
  },
  {
   "cell_type": "code",
   "execution_count": 227,
   "metadata": {
    "ExecuteTime": {
     "end_time": "2019-10-26T10:09:12.287407Z",
     "start_time": "2019-10-26T10:09:12.271552Z"
    }
   },
   "outputs": [],
   "source": [
    "# predict returns 1 for an inlier and -1 for an outlier\n",
    "y_predG[y_predG == 1] = 0\n",
    "y_predG[y_predG == -1] = 1"
   ]
  },
  {
   "cell_type": "code",
   "execution_count": 228,
   "metadata": {
    "ExecuteTime": {
     "end_time": "2019-10-26T10:09:12.394035Z",
     "start_time": "2019-10-26T10:09:12.289360Z"
    }
   },
   "outputs": [
    {
     "name": "stdout",
     "output_type": "stream",
     "text": [
      "              precision    recall  f1-score   support\n",
      "\n",
      "           0       1.00      0.91      0.95     85288\n",
      "           1       0.02      0.87      0.03       155\n",
      "\n",
      "   micro avg       0.91      0.91      0.91     85443\n",
      "   macro avg       0.51      0.89      0.49     85443\n",
      "weighted avg       1.00      0.91      0.95     85443\n",
      "\n"
     ]
    }
   ],
   "source": [
    "print(classification_report(y_test, y_predG))"
   ]
  },
  {
   "cell_type": "code",
   "execution_count": 229,
   "metadata": {
    "ExecuteTime": {
     "end_time": "2019-10-26T10:09:12.403884Z",
     "start_time": "2019-10-26T10:09:12.397765Z"
    }
   },
   "outputs": [
    {
     "name": "stdout",
     "output_type": "stream",
     "text": [
      "7935 transactions classified as fraudulent out of 155\n"
     ]
    }
   ],
   "source": [
    "print(y_predG.sum(), \"transactions classified as fraudulent out of\", y_test.sum())"
   ]
  },
  {
   "cell_type": "code",
   "execution_count": 230,
   "metadata": {
    "ExecuteTime": {
     "end_time": "2019-10-26T10:09:12.511127Z",
     "start_time": "2019-10-26T10:09:12.407697Z"
    }
   },
   "outputs": [
    {
     "data": {
      "text/plain": [
       "0.921240442251075"
      ]
     },
     "execution_count": 230,
     "metadata": {},
     "output_type": "execute_result"
    }
   ],
   "source": [
    "y_score_g = -G.score_samples(X_test_scaled)\n",
    "fpr_G, tpr_G, _ = roc_curve(y_test, y_score_g)\n",
    "roc_auc = auc(fpr_G, tpr_G)\n",
    "roc_auc"
   ]
  },
  {
   "cell_type": "markdown",
   "metadata": {},
   "source": [
    "<h2> Local Outlier Factor (LOF)"
   ]
  },
  {
   "cell_type": "markdown",
   "metadata": {},
   "source": [
    "!!! LOF takes a long time to compute."
   ]
  },
  {
   "cell_type": "code",
   "execution_count": 231,
   "metadata": {
    "ExecuteTime": {
     "end_time": "2019-10-26T10:09:12.522146Z",
     "start_time": "2019-10-26T10:09:12.514671Z"
    }
   },
   "outputs": [],
   "source": [
    "from sklearn.neighbors import LocalOutlierFactor"
   ]
  },
  {
   "cell_type": "code",
   "execution_count": 232,
   "metadata": {
    "ExecuteTime": {
     "end_time": "2019-10-26T10:09:12.536418Z",
     "start_time": "2019-10-26T10:09:12.528968Z"
    }
   },
   "outputs": [],
   "source": [
    "LOF = LocalOutlierFactor(contamination=\"auto\", novelty=True) "
   ]
  },
  {
   "cell_type": "code",
   "execution_count": 233,
   "metadata": {
    "ExecuteTime": {
     "end_time": "2019-10-26T10:09:12.547349Z",
     "start_time": "2019-10-26T10:09:12.539730Z"
    }
   },
   "outputs": [],
   "source": [
    "#LOF.fit(X_train_inliers)\n",
    "#y_predLOF = LOF.predict(X_test_scaled) #assign novelty to True"
   ]
  },
  {
   "cell_type": "code",
   "execution_count": 234,
   "metadata": {
    "ExecuteTime": {
     "end_time": "2019-10-26T10:09:12.572845Z",
     "start_time": "2019-10-26T10:09:12.550879Z"
    }
   },
   "outputs": [
    {
     "ename": "NameError",
     "evalue": "name 'y_predLOF' is not defined",
     "output_type": "error",
     "traceback": [
      "\u001b[0;31m---------------------------------------------------------------------------\u001b[0m",
      "\u001b[0;31mNameError\u001b[0m                                 Traceback (most recent call last)",
      "\u001b[0;32m<ipython-input-234-60f30817f816>\u001b[0m in \u001b[0;36m<module>\u001b[0;34m()\u001b[0m\n\u001b[0;32m----> 1\u001b[0;31m \u001b[0my_predLOF\u001b[0m\u001b[0;34m[\u001b[0m\u001b[0my_predLOF\u001b[0m \u001b[0;34m==\u001b[0m \u001b[0;36m1\u001b[0m\u001b[0;34m]\u001b[0m \u001b[0;34m=\u001b[0m \u001b[0;36m0\u001b[0m\u001b[0;34m\u001b[0m\u001b[0;34m\u001b[0m\u001b[0m\n\u001b[0m\u001b[1;32m      2\u001b[0m \u001b[0my_predLOF\u001b[0m\u001b[0;34m[\u001b[0m\u001b[0my_predLOF\u001b[0m \u001b[0;34m==\u001b[0m \u001b[0;34m-\u001b[0m\u001b[0;36m1\u001b[0m\u001b[0;34m]\u001b[0m \u001b[0;34m=\u001b[0m \u001b[0;36m1\u001b[0m\u001b[0;34m\u001b[0m\u001b[0;34m\u001b[0m\u001b[0m\n",
      "\u001b[0;31mNameError\u001b[0m: name 'y_predLOF' is not defined"
     ]
    }
   ],
   "source": [
    "y_predLOF[y_predLOF == 1] = 0\n",
    "y_predLOF[y_predLOF == -1] = 1"
   ]
  },
  {
   "cell_type": "code",
   "execution_count": null,
   "metadata": {
    "ExecuteTime": {
     "end_time": "2019-10-26T10:09:12.573816Z",
     "start_time": "2019-10-26T10:08:31.367Z"
    }
   },
   "outputs": [],
   "source": [
    "n_errors = (y_predLOF != y_test).sum()\n",
    "X_scores = LOF.negative_outlier_factor_\n",
    "n_errors, LOF.offset_"
   ]
  },
  {
   "cell_type": "code",
   "execution_count": null,
   "metadata": {
    "ExecuteTime": {
     "end_time": "2019-10-26T10:09:12.575401Z",
     "start_time": "2019-10-26T10:08:32.053Z"
    }
   },
   "outputs": [],
   "source": [
    "print(classification_report(y_test, y_predLOF))"
   ]
  },
  {
   "cell_type": "code",
   "execution_count": null,
   "metadata": {
    "ExecuteTime": {
     "end_time": "2019-10-26T10:09:12.577117Z",
     "start_time": "2019-10-26T10:08:32.252Z"
    }
   },
   "outputs": [],
   "source": [
    "print(y_predLOF.sum(), \"transactions classified as fraudulent out of\", y_test.sum())"
   ]
  },
  {
   "cell_type": "code",
   "execution_count": null,
   "metadata": {
    "ExecuteTime": {
     "end_time": "2019-10-26T10:09:12.579152Z",
     "start_time": "2019-10-26T10:08:32.404Z"
    }
   },
   "outputs": [],
   "source": [
    "y_score_lof = -LOF.score_samples(X_test_scaled)\n",
    "fpr_LOF, tpr_LOF, _ = roc_curve(y_test, y_score_lof)\n",
    "roc_auc = auc(fpr_LOF, tpr_LOF)\n",
    "roc_auc"
   ]
  },
  {
   "cell_type": "markdown",
   "metadata": {},
   "source": [
    "<h2> Isolation Forest"
   ]
  },
  {
   "cell_type": "code",
   "execution_count": 235,
   "metadata": {
    "ExecuteTime": {
     "end_time": "2019-10-26T10:09:27.387760Z",
     "start_time": "2019-10-26T10:09:27.384109Z"
    }
   },
   "outputs": [],
   "source": [
    "from sklearn.ensemble import IsolationForest"
   ]
  },
  {
   "cell_type": "code",
   "execution_count": 236,
   "metadata": {
    "ExecuteTime": {
     "end_time": "2019-10-26T10:09:42.660785Z",
     "start_time": "2019-10-26T10:09:27.635151Z"
    }
   },
   "outputs": [],
   "source": [
    "IF = IsolationForest(n_estimators=100, contamination=\"auto\", behaviour=\"new\", random_state=0)\n",
    "IF.fit(X_train_inliers)\n",
    "y_predIF = IF.predict(X_test_scaled)"
   ]
  },
  {
   "cell_type": "code",
   "execution_count": 237,
   "metadata": {
    "ExecuteTime": {
     "end_time": "2019-10-26T10:09:42.665719Z",
     "start_time": "2019-10-26T10:09:42.663017Z"
    }
   },
   "outputs": [],
   "source": [
    "#y_predIF = IF.fit_predict(X_test)"
   ]
  },
  {
   "cell_type": "code",
   "execution_count": 238,
   "metadata": {
    "ExecuteTime": {
     "end_time": "2019-10-26T10:09:42.683713Z",
     "start_time": "2019-10-26T10:09:42.668733Z"
    }
   },
   "outputs": [],
   "source": [
    "y_predIF[y_predIF == 1] = 0\n",
    "y_predIF[y_predIF == -1] = 1"
   ]
  },
  {
   "cell_type": "code",
   "execution_count": 239,
   "metadata": {
    "ExecuteTime": {
     "end_time": "2019-10-26T10:09:42.761810Z",
     "start_time": "2019-10-26T10:09:42.687651Z"
    },
    "scrolled": false
   },
   "outputs": [
    {
     "name": "stdout",
     "output_type": "stream",
     "text": [
      "              precision    recall  f1-score   support\n",
      "\n",
      "           0       1.00      0.97      0.98     85288\n",
      "           1       0.05      0.81      0.09       155\n",
      "\n",
      "   micro avg       0.97      0.97      0.97     85443\n",
      "   macro avg       0.52      0.89      0.54     85443\n",
      "weighted avg       1.00      0.97      0.98     85443\n",
      "\n"
     ]
    }
   ],
   "source": [
    "print(classification_report(y_test, y_predIF))"
   ]
  },
  {
   "cell_type": "code",
   "execution_count": 240,
   "metadata": {
    "ExecuteTime": {
     "end_time": "2019-10-26T10:09:42.770966Z",
     "start_time": "2019-10-26T10:09:42.766745Z"
    }
   },
   "outputs": [
    {
     "name": "stdout",
     "output_type": "stream",
     "text": [
      "2642 transactions classified as fraudulent out of 155\n"
     ]
    }
   ],
   "source": [
    "print(y_predIF.sum(), \"transactions classified as fraudulent out of\", y_test.sum())"
   ]
  },
  {
   "cell_type": "code",
   "execution_count": 241,
   "metadata": {
    "ExecuteTime": {
     "end_time": "2019-10-26T10:09:46.264466Z",
     "start_time": "2019-10-26T10:09:42.773100Z"
    }
   },
   "outputs": [
    {
     "data": {
      "text/plain": [
       "0.9507023640583254"
      ]
     },
     "execution_count": 241,
     "metadata": {},
     "output_type": "execute_result"
    }
   ],
   "source": [
    "y_score_if = -IF.score_samples(X_test_scaled)\n",
    "fpr_IF, tpr_IF, _ = roc_curve(y_test, y_score_if)\n",
    "roc_auc = auc(fpr_IF, tpr_IF)\n",
    "roc_auc"
   ]
  },
  {
   "cell_type": "markdown",
   "metadata": {},
   "source": [
    "<h2> Comparison"
   ]
  },
  {
   "cell_type": "code",
   "execution_count": 242,
   "metadata": {
    "ExecuteTime": {
     "end_time": "2019-10-26T10:09:46.456873Z",
     "start_time": "2019-10-26T10:09:46.267266Z"
    }
   },
   "outputs": [
    {
     "data": {
      "image/png": "[encoded data removed]",
      "text/plain": [
       "<Figure size 864x576 with 1 Axes>"
      ]
     },
     "metadata": {
      "needs_background": "light"
     },
     "output_type": "display_data"
    }
   ],
   "source": [
    "plt.figure(figsize=(12,8))\n",
    "\n",
    "plt.plot(fpr_G, tpr_G, label='Gaussian distribution')\n",
    "#plt.plot(fpr_LOF, tpr_LOF, label='Local Outlier Factor')\n",
    "plt.plot(fpr_IF, tpr_IF, label='Isolation forest')\n",
    "plt.plot([0, 1], [0, 1], color='navy', linestyle='--')\n",
    "plt.xlabel('False Positive Rate')\n",
    "plt.ylabel('True Positive Rate')\n",
    "plt.title('ROC anomaly detection models')\n",
    "plt.legend(loc=\"lower right\")\n",
    "plt.show()"
   ]
  },
  {
   "cell_type": "markdown",
   "metadata": {
    "ExecuteTime": {
     "end_time": "2019-10-25T08:30:28.560269Z",
     "start_time": "2019-10-25T08:30:28.556865Z"
    }
   },
   "source": [
    "<h1> Comparison of both methods"
   ]
  },
  {
   "cell_type": "markdown",
   "metadata": {},
   "source": [
    "<h2> ROC AUC"
   ]
  },
  {
   "cell_type": "code",
   "execution_count": 243,
   "metadata": {
    "ExecuteTime": {
     "end_time": "2019-10-26T10:09:46.698255Z",
     "start_time": "2019-10-26T10:09:46.459976Z"
    }
   },
   "outputs": [
    {
     "data": {
      "image/png": "[encoded data removed]",
      "text/plain": [
       "<Figure size 864x576 with 1 Axes>"
      ]
     },
     "metadata": {
      "needs_background": "light"
     },
     "output_type": "display_data"
    }
   ],
   "source": [
    "plt.figure(figsize=(12,8))\n",
    "\n",
    "plt.plot(fpr_G, tpr_G, label='Gaussian distribution')\n",
    "#plt.plot(fpr_LOF, tpr_LOF, label='Local Outlier Factor')\n",
    "plt.plot(fpr_IF, tpr_IF, label='Isolation forest')\n",
    "plt.plot(fpr_lr_u, tpr_lr_u, label='Logistic regression undersampled')\n",
    "plt.plot(fpr_xg_u, tpr_xg_u, label='XG boost undersampled')\n",
    "plt.plot(fpr_lg_u, tpr_lg_u, label='LGBM undersampled')\n",
    "plt.plot([0, 1], [0, 1], color='navy', linestyle='--')\n",
    "plt.xlabel('False Positive Rate')\n",
    "plt.ylabel('True Positive Rate')\n",
    "plt.title('ROC models comparison')\n",
    "plt.legend(loc=\"lower right\")\n",
    "plt.show()"
   ]
  },
  {
   "cell_type": "markdown",
   "metadata": {},
   "source": [
    "<h2> Recall / Precsion tradeoff"
   ]
  },
  {
   "cell_type": "code",
   "execution_count": 394,
   "metadata": {
    "ExecuteTime": {
     "end_time": "2019-10-26T10:57:56.744402Z",
     "start_time": "2019-10-26T10:57:56.741633Z"
    }
   },
   "outputs": [],
   "source": [
    "ytest = y_test.values.reshape(-1,1)"
   ]
  },
  {
   "cell_type": "code",
   "execution_count": 513,
   "metadata": {
    "ExecuteTime": {
     "end_time": "2019-10-26T11:09:48.602075Z",
     "start_time": "2019-10-26T11:09:48.539148Z"
    }
   },
   "outputs": [],
   "source": [
    "precision_lr , recall_lr, threshold_lr = precision_recall_curve(ytest, y_score_lr_u[:,1])\n",
    "precision_xg_u , recall_xg_u, threshold_xg_u = precision_recall_curve(ytest, y_score_xg_u[:,1])\n",
    "precision_lg_o , recall_lg_o, threshold_lg_o = precision_recall_curve(ytest, y_score_lg_o[:,1])"
   ]
  },
  {
   "cell_type": "code",
   "execution_count": 514,
   "metadata": {
    "ExecuteTime": {
     "end_time": "2019-10-26T11:09:48.940635Z",
     "start_time": "2019-10-26T11:09:48.895343Z"
    }
   },
   "outputs": [],
   "source": [
    "precision_g , recall_g, threshold_g = precision_recall_curve(ytest, y_score_g)\n",
    "precision_if , recall_if, threshold_if = precision_recall_curve(ytest, y_score_if)"
   ]
  },
  {
   "cell_type": "code",
   "execution_count": 515,
   "metadata": {
    "ExecuteTime": {
     "end_time": "2019-10-26T11:09:49.443691Z",
     "start_time": "2019-10-26T11:09:49.127186Z"
    },
    "scrolled": true
   },
   "outputs": [
    {
     "data": {
      "image/png": "[encoded data removed]",
      "text/plain": [
       "<Figure size 864x576 with 1 Axes>"
      ]
     },
     "metadata": {
      "needs_background": "light"
     },
     "output_type": "display_data"
    }
   ],
   "source": [
    "plt.figure(figsize=(12,8))\n",
    "plt.plot(recall_lr, precision_lr, label=\"Logistic regression\")\n",
    "plt.plot(recall_xg_u, precision_xg_u, label=\"XG boost\")\n",
    "plt.plot(recall_lg_o, precision_lg_o, label=\"LGBM\")\n",
    "plt.plot(recall_if, precision_if, label=\"Isolation Forest\")\n",
    "plt.plot(recall_g, precision_g, label=\"Gaussian distribution\")\n",
    "plt.xlabel('Recall')\n",
    "plt.ylabel('Precision')\n",
    "plt.title(\"Precision-Recall tradeoff\")\n",
    "plt.legend(loc=\"lower right\")\n",
    "plt.show()"
   ]
  },
  {
   "cell_type": "code",
   "execution_count": null,
   "metadata": {},
   "outputs": [],
   "source": []
  }
 ],
 "metadata": {
  "kernelspec": {
   "display_name": "Python 3",
   "language": "python",
   "name": "python3"
  },
  "language_info": {
   "codemirror_mode": {
    "name": "ipython",
    "version": 3
   },
   "file_extension": ".py",
   "mimetype": "text/x-python",
   "name": "python",
   "nbconvert_exporter": "python",
   "pygments_lexer": "ipython3",
   "version": "3.7.4"
  },
  "toc": {
   "base_numbering": 1,
   "nav_menu": {},
   "number_sections": true,
   "sideBar": true,
   "skip_h1_title": false,
   "title_cell": "Table of Contents",
   "title_sidebar": "Contents",
   "toc_cell": false,
   "toc_position": {},
   "toc_section_display": true,
   "toc_window_display": true
  }
 },
 "nbformat": 4,
 "nbformat_minor": 2
}
