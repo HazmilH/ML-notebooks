{
 "cells": [
  {
   "cell_type": "markdown",
   "metadata": {},
   "source": [
    "# Introduction\n",
    "\n",
    "https://www.kaggle.com/mlg-ulb/creditcardfraud\n",
    "\n",
    "## Context\n",
    "It is important that credit card companies are able to recognize fraudulent credit card transactions so that customers are not charged for items that they did not purchase.\n",
    "\n",
    "## Data\n",
    "The datasets contains transactions made by credit cards in September 2013 by european cardholders. This dataset presents transactions that occurred in two days, where we have 492 frauds out of 284,807 transactions. The dataset is highly unbalanced, the positive class (frauds) account for 0.172% of all transactions.\n",
    "\n",
    "It contains only numerical input variables which are the result of a PCA transformation. Unfortunately, due to confidentiality issues, we cannot provide the original features and more background information about the data. Features V1, V2, ... V28 are the principal components obtained with PCA, the only features which have not been transformed with PCA are 'Time' and 'Amount'. Feature 'Time' contains the seconds elapsed between each transaction and the first transaction in the dataset. The feature 'Amount' is the transaction Amount, this feature can be used for example-dependant cost-senstive learning. Feature 'Class' is the response variable and it takes value 1 in case of fraud and 0 otherwise.\n",
    "\n",
    "## Inspiration\n",
    "Identify fraudulent credit card transactions.\n",
    "\n",
    "Given the class imbalance ratio, we recommend measuring the accuracy using the Area Under the Precision-Recall Curve (AUPRC). Confusion matrix accuracy is not meaningful for unbalanced classification."
   ]
  },
  {
   "cell_type": "markdown",
   "metadata": {},
   "source": [
    "<h1> EDA"
   ]
  },
  {
   "cell_type": "code",
   "execution_count": 1,
   "metadata": {
    "ExecuteTime": {
     "end_time": "2019-10-21T16:17:30.999325Z",
     "start_time": "2019-10-21T16:17:28.601867Z"
    }
   },
   "outputs": [],
   "source": [
    "import pandas as pd\n",
    "import numpy as np\n",
    "import seaborn as sns\n",
    "from matplotlib import pyplot as plt"
   ]
  },
  {
   "cell_type": "code",
   "execution_count": 2,
   "metadata": {
    "ExecuteTime": {
     "end_time": "2019-10-21T16:17:50.176625Z",
     "start_time": "2019-10-21T16:17:31.006621Z"
    }
   },
   "outputs": [],
   "source": [
    "filepath = \"data/creditcard.csv\"\n",
    "df = pd.read_csv(filepath, engine=\"python\")"
   ]
  },
  {
   "cell_type": "code",
   "execution_count": 3,
   "metadata": {
    "ExecuteTime": {
     "end_time": "2019-10-21T16:17:50.200100Z",
     "start_time": "2019-10-21T16:17:50.181306Z"
    }
   },
   "outputs": [
    {
     "data": {
      "text/plain": [
       "(284807, 31)"
      ]
     },
     "execution_count": 3,
     "metadata": {},
     "output_type": "execute_result"
    }
   ],
   "source": [
    "df.shape"
   ]
  },
  {
   "cell_type": "code",
   "execution_count": 4,
   "metadata": {
    "ExecuteTime": {
     "end_time": "2019-10-21T16:17:50.299473Z",
     "start_time": "2019-10-21T16:17:50.203602Z"
    }
   },
   "outputs": [
    {
     "data": {
      "text/html": [
       "<div>\n",
       "<style scoped>\n",
       "    .dataframe tbody tr th:only-of-type {\n",
       "        vertical-align: middle;\n",
       "    }\n",
       "\n",
       "    .dataframe tbody tr th {\n",
       "        vertical-align: top;\n",
       "    }\n",
       "\n",
       "    .dataframe thead th {\n",
       "        text-align: right;\n",
       "    }\n",
       "</style>\n",
       "<table border=\"1\" class=\"dataframe\">\n",
       "  <thead>\n",
       "    <tr style=\"text-align: right;\">\n",
       "      <th></th>\n",
       "      <th>Time</th>\n",
       "      <th>V1</th>\n",
       "      <th>V2</th>\n",
       "      <th>V3</th>\n",
       "      <th>V4</th>\n",
       "      <th>V5</th>\n",
       "      <th>V6</th>\n",
       "      <th>V7</th>\n",
       "      <th>V8</th>\n",
       "      <th>V9</th>\n",
       "      <th>...</th>\n",
       "      <th>V21</th>\n",
       "      <th>V22</th>\n",
       "      <th>V23</th>\n",
       "      <th>V24</th>\n",
       "      <th>V25</th>\n",
       "      <th>V26</th>\n",
       "      <th>V27</th>\n",
       "      <th>V28</th>\n",
       "      <th>Amount</th>\n",
       "      <th>Class</th>\n",
       "    </tr>\n",
       "  </thead>\n",
       "  <tbody>\n",
       "    <tr>\n",
       "      <th>0</th>\n",
       "      <td>0.0</td>\n",
       "      <td>-1.359807</td>\n",
       "      <td>-0.072781</td>\n",
       "      <td>2.536347</td>\n",
       "      <td>1.378155</td>\n",
       "      <td>-0.338321</td>\n",
       "      <td>0.462388</td>\n",
       "      <td>0.239599</td>\n",
       "      <td>0.098698</td>\n",
       "      <td>0.363787</td>\n",
       "      <td>...</td>\n",
       "      <td>-0.018307</td>\n",
       "      <td>0.277838</td>\n",
       "      <td>-0.110474</td>\n",
       "      <td>0.066928</td>\n",
       "      <td>0.128539</td>\n",
       "      <td>-0.189115</td>\n",
       "      <td>0.133558</td>\n",
       "      <td>-0.021053</td>\n",
       "      <td>149.62</td>\n",
       "      <td>0</td>\n",
       "    </tr>\n",
       "    <tr>\n",
       "      <th>1</th>\n",
       "      <td>0.0</td>\n",
       "      <td>1.191857</td>\n",
       "      <td>0.266151</td>\n",
       "      <td>0.166480</td>\n",
       "      <td>0.448154</td>\n",
       "      <td>0.060018</td>\n",
       "      <td>-0.082361</td>\n",
       "      <td>-0.078803</td>\n",
       "      <td>0.085102</td>\n",
       "      <td>-0.255425</td>\n",
       "      <td>...</td>\n",
       "      <td>-0.225775</td>\n",
       "      <td>-0.638672</td>\n",
       "      <td>0.101288</td>\n",
       "      <td>-0.339846</td>\n",
       "      <td>0.167170</td>\n",
       "      <td>0.125895</td>\n",
       "      <td>-0.008983</td>\n",
       "      <td>0.014724</td>\n",
       "      <td>2.69</td>\n",
       "      <td>0</td>\n",
       "    </tr>\n",
       "    <tr>\n",
       "      <th>2</th>\n",
       "      <td>1.0</td>\n",
       "      <td>-1.358354</td>\n",
       "      <td>-1.340163</td>\n",
       "      <td>1.773209</td>\n",
       "      <td>0.379780</td>\n",
       "      <td>-0.503198</td>\n",
       "      <td>1.800499</td>\n",
       "      <td>0.791461</td>\n",
       "      <td>0.247676</td>\n",
       "      <td>-1.514654</td>\n",
       "      <td>...</td>\n",
       "      <td>0.247998</td>\n",
       "      <td>0.771679</td>\n",
       "      <td>0.909412</td>\n",
       "      <td>-0.689281</td>\n",
       "      <td>-0.327642</td>\n",
       "      <td>-0.139097</td>\n",
       "      <td>-0.055353</td>\n",
       "      <td>-0.059752</td>\n",
       "      <td>378.66</td>\n",
       "      <td>0</td>\n",
       "    </tr>\n",
       "    <tr>\n",
       "      <th>3</th>\n",
       "      <td>1.0</td>\n",
       "      <td>-0.966272</td>\n",
       "      <td>-0.185226</td>\n",
       "      <td>1.792993</td>\n",
       "      <td>-0.863291</td>\n",
       "      <td>-0.010309</td>\n",
       "      <td>1.247203</td>\n",
       "      <td>0.237609</td>\n",
       "      <td>0.377436</td>\n",
       "      <td>-1.387024</td>\n",
       "      <td>...</td>\n",
       "      <td>-0.108300</td>\n",
       "      <td>0.005274</td>\n",
       "      <td>-0.190321</td>\n",
       "      <td>-1.175575</td>\n",
       "      <td>0.647376</td>\n",
       "      <td>-0.221929</td>\n",
       "      <td>0.062723</td>\n",
       "      <td>0.061458</td>\n",
       "      <td>123.50</td>\n",
       "      <td>0</td>\n",
       "    </tr>\n",
       "    <tr>\n",
       "      <th>4</th>\n",
       "      <td>2.0</td>\n",
       "      <td>-1.158233</td>\n",
       "      <td>0.877737</td>\n",
       "      <td>1.548718</td>\n",
       "      <td>0.403034</td>\n",
       "      <td>-0.407193</td>\n",
       "      <td>0.095921</td>\n",
       "      <td>0.592941</td>\n",
       "      <td>-0.270533</td>\n",
       "      <td>0.817739</td>\n",
       "      <td>...</td>\n",
       "      <td>-0.009431</td>\n",
       "      <td>0.798278</td>\n",
       "      <td>-0.137458</td>\n",
       "      <td>0.141267</td>\n",
       "      <td>-0.206010</td>\n",
       "      <td>0.502292</td>\n",
       "      <td>0.219422</td>\n",
       "      <td>0.215153</td>\n",
       "      <td>69.99</td>\n",
       "      <td>0</td>\n",
       "    </tr>\n",
       "  </tbody>\n",
       "</table>\n",
       "<p>5 rows × 31 columns</p>\n",
       "</div>"
      ],
      "text/plain": [
       "   Time        V1        V2        V3        V4        V5        V6        V7  \\\n",
       "0   0.0 -1.359807 -0.072781  2.536347  1.378155 -0.338321  0.462388  0.239599   \n",
       "1   0.0  1.191857  0.266151  0.166480  0.448154  0.060018 -0.082361 -0.078803   \n",
       "2   1.0 -1.358354 -1.340163  1.773209  0.379780 -0.503198  1.800499  0.791461   \n",
       "3   1.0 -0.966272 -0.185226  1.792993 -0.863291 -0.010309  1.247203  0.237609   \n",
       "4   2.0 -1.158233  0.877737  1.548718  0.403034 -0.407193  0.095921  0.592941   \n",
       "\n",
       "         V8        V9  ...         V21       V22       V23       V24  \\\n",
       "0  0.098698  0.363787  ...   -0.018307  0.277838 -0.110474  0.066928   \n",
       "1  0.085102 -0.255425  ...   -0.225775 -0.638672  0.101288 -0.339846   \n",
       "2  0.247676 -1.514654  ...    0.247998  0.771679  0.909412 -0.689281   \n",
       "3  0.377436 -1.387024  ...   -0.108300  0.005274 -0.190321 -1.175575   \n",
       "4 -0.270533  0.817739  ...   -0.009431  0.798278 -0.137458  0.141267   \n",
       "\n",
       "        V25       V26       V27       V28  Amount  Class  \n",
       "0  0.128539 -0.189115  0.133558 -0.021053  149.62      0  \n",
       "1  0.167170  0.125895 -0.008983  0.014724    2.69      0  \n",
       "2 -0.327642 -0.139097 -0.055353 -0.059752  378.66      0  \n",
       "3  0.647376 -0.221929  0.062723  0.061458  123.50      0  \n",
       "4 -0.206010  0.502292  0.219422  0.215153   69.99      0  \n",
       "\n",
       "[5 rows x 31 columns]"
      ]
     },
     "execution_count": 4,
     "metadata": {},
     "output_type": "execute_result"
    }
   ],
   "source": [
    "df.head()"
   ]
  },
  {
   "cell_type": "code",
   "execution_count": 5,
   "metadata": {
    "ExecuteTime": {
     "end_time": "2019-10-21T16:17:51.204784Z",
     "start_time": "2019-10-21T16:17:50.314766Z"
    }
   },
   "outputs": [
    {
     "name": "stderr",
     "output_type": "stream",
     "text": [
      "No handles with labels found to put in legend.\n"
     ]
    },
    {
     "data": {
      "image/png": "[encoded data removed]",
      "text/plain": [
       "<Figure size 1080x504 with 1 Axes>"
      ]
     },
     "metadata": {
      "needs_background": "light"
     },
     "output_type": "display_data"
    }
   ],
   "source": [
    "plt.figure(figsize=(15,7))\n",
    "sns.distplot(df[df[\"Class\"]==1][\"Amount\"])\n",
    "plt.title(\"Distribution of fraudulent payment amount\")\n",
    "plt.legend()\n",
    "plt.show()"
   ]
  },
  {
   "cell_type": "markdown",
   "metadata": {},
   "source": [
    "\n",
    "<h1> Features preparation"
   ]
  },
  {
   "cell_type": "markdown",
   "metadata": {},
   "source": [
    "We would like to get more out of the Time feature, to be able to analyze if the time has a influence on the fraudulent payment."
   ]
  },
  {
   "cell_type": "markdown",
   "metadata": {
    "ExecuteTime": {
     "end_time": "2019-05-16T09:41:26.450065Z",
     "start_time": "2019-05-16T09:41:26.445796Z"
    }
   },
   "source": [
    "<h2> Time feature creation"
   ]
  },
  {
   "cell_type": "code",
   "execution_count": 6,
   "metadata": {
    "ExecuteTime": {
     "end_time": "2019-10-21T16:17:51.249190Z",
     "start_time": "2019-10-21T16:17:51.224594Z"
    }
   },
   "outputs": [],
   "source": [
    "def time_decompo(x):\n",
    "    nb_min, nb_secs = x//60, x%60\n",
    "    nb_hour, nb_mins = nb_min//60, nb_min%60\n",
    "    nb_day, nb_hours = nb_hour//24, nb_hour%24\n",
    "    return nb_day, nb_hours, nb_mins, nb_secs"
   ]
  },
  {
   "cell_type": "code",
   "execution_count": 7,
   "metadata": {
    "ExecuteTime": {
     "end_time": "2019-10-21T16:17:56.620785Z",
     "start_time": "2019-10-21T16:17:51.256307Z"
    }
   },
   "outputs": [],
   "source": [
    "df.apply(lambda x: [1, 2], axis=1)\n",
    "df[\"Day\"] = df[\"Time\"].apply(lambda x: time_decompo(x)[0])\n",
    "df[\"Hour\"] = df[\"Time\"].apply(lambda x: time_decompo(x)[1])\n",
    "df[\"Min\"] = df[\"Time\"].apply(lambda x: time_decompo(x)[2])\n",
    "df[\"Sec\"] = df[\"Time\"].apply(lambda x: time_decompo(x)[3])"
   ]
  },
  {
   "cell_type": "markdown",
   "metadata": {},
   "source": [
    "<h2> Data viz with the new time features"
   ]
  },
  {
   "cell_type": "code",
   "execution_count": 8,
   "metadata": {
    "ExecuteTime": {
     "end_time": "2019-10-21T16:17:57.373412Z",
     "start_time": "2019-10-21T16:17:56.624236Z"
    }
   },
   "outputs": [
    {
     "name": "stderr",
     "output_type": "stream",
     "text": [
      "No handles with labels found to put in legend.\n"
     ]
    },
    {
     "data": {
      "image/png": "[encoded data removed]",
      "text/plain": [
       "<Figure size 1080x504 with 1 Axes>"
      ]
     },
     "metadata": {
      "needs_background": "light"
     },
     "output_type": "display_data"
    }
   ],
   "source": [
    "plt.figure(figsize=(15,7))\n",
    "sns.scatterplot(x=df[df[\"Class\"]==1][\"Hour\"], y=df[df[\"Class\"]==1][\"Amount\"])\n",
    "plt.title(\"Amount of credit card payment depending on Hour\")\n",
    "plt.legend()\n",
    "plt.show()"
   ]
  },
  {
   "cell_type": "code",
   "execution_count": 9,
   "metadata": {
    "ExecuteTime": {
     "end_time": "2019-10-21T16:17:57.957923Z",
     "start_time": "2019-10-21T16:17:57.386165Z"
    }
   },
   "outputs": [
    {
     "data": {
      "image/png": "[encoded data removed]",
      "text/plain": [
       "<Figure size 1080x504 with 1 Axes>"
      ]
     },
     "metadata": {
      "needs_background": "light"
     },
     "output_type": "display_data"
    }
   ],
   "source": [
    "plt.figure(figsize=(15,7))\n",
    "sns.distplot(df[\"Hour\"])\n",
    "plt.title(\"Distribution of payment hour\")\n",
    "plt.show()"
   ]
  },
  {
   "cell_type": "markdown",
   "metadata": {},
   "source": [
    "Base on that distribution we can assess H=0 -> H=22H"
   ]
  },
  {
   "cell_type": "code",
   "execution_count": 10,
   "metadata": {
    "ExecuteTime": {
     "end_time": "2019-10-21T16:17:58.716042Z",
     "start_time": "2019-10-21T16:17:57.961351Z"
    },
    "scrolled": false
   },
   "outputs": [
    {
     "data": {
      "image/png": "[encoded data removed]",
      "text/plain": [
       "<Figure size 1080x504 with 1 Axes>"
      ]
     },
     "metadata": {
      "needs_background": "light"
     },
     "output_type": "display_data"
    }
   ],
   "source": [
    "plt.figure(figsize=(15,7))\n",
    "plt.subplots_adjust(hspace=0.4)\n",
    "\n",
    "sns.distplot(df[df[\"Class\"]==1][\"Hour\"], label=\"fraudulent\", bins=20)\n",
    "sns.distplot(df[df[\"Class\"]==0][\"Hour\"], label=\"non fraudulent\", bins=20)\n",
    "plt.title(\"Distribution of fraudulent payment hour\")\n",
    "\n",
    "plt.legend()\n",
    "plt.show()"
   ]
  },
  {
   "cell_type": "markdown",
   "metadata": {},
   "source": [
    "We can clearly noticed that there are more fraudulent payment during the night, It could be interresting to categorize by day and night the hour"
   ]
  },
  {
   "cell_type": "code",
   "execution_count": 11,
   "metadata": {
    "ExecuteTime": {
     "end_time": "2019-10-21T16:17:58.731719Z",
     "start_time": "2019-10-21T16:17:58.722991Z"
    }
   },
   "outputs": [],
   "source": [
    "def night_time(x):\n",
    "    if x < 7 or x > 0:\n",
    "        return 1\n",
    "    else:\n",
    "        return 0"
   ]
  },
  {
   "cell_type": "code",
   "execution_count": 12,
   "metadata": {
    "ExecuteTime": {
     "end_time": "2019-10-21T16:17:59.091129Z",
     "start_time": "2019-10-21T16:17:58.740967Z"
    }
   },
   "outputs": [],
   "source": [
    "df[\"NightTime\"] = df[\"Hour\"].apply(lambda x: night_time(x)) "
   ]
  },
  {
   "cell_type": "code",
   "execution_count": 13,
   "metadata": {
    "ExecuteTime": {
     "end_time": "2019-10-21T16:17:59.104957Z",
     "start_time": "2019-10-21T16:17:59.094763Z"
    }
   },
   "outputs": [
    {
     "data": {
      "text/plain": [
       "(284807, 36)"
      ]
     },
     "execution_count": 13,
     "metadata": {},
     "output_type": "execute_result"
    }
   ],
   "source": [
    "df.shape"
   ]
  },
  {
   "cell_type": "markdown",
   "metadata": {},
   "source": [
    "<h2> Features selection"
   ]
  },
  {
   "cell_type": "code",
   "execution_count": 14,
   "metadata": {
    "ExecuteTime": {
     "end_time": "2019-10-21T16:17:59.279088Z",
     "start_time": "2019-10-21T16:17:59.108557Z"
    }
   },
   "outputs": [],
   "source": [
    "column_drop = [\"Day\", \"Min\", \"Sec\"]\n",
    "df = df.drop(column_drop, axis=1)"
   ]
  },
  {
   "cell_type": "markdown",
   "metadata": {},
   "source": [
    "<h2> Sampling"
   ]
  },
  {
   "cell_type": "code",
   "execution_count": 76,
   "metadata": {
    "ExecuteTime": {
     "end_time": "2019-10-21T16:50:39.825418Z",
     "start_time": "2019-10-21T16:50:39.779126Z"
    }
   },
   "outputs": [],
   "source": [
    "df_sample = df.sample(frac=0.1, replace=False, random_state=0)"
   ]
  },
  {
   "cell_type": "code",
   "execution_count": 77,
   "metadata": {
    "ExecuteTime": {
     "end_time": "2019-10-21T16:50:40.151968Z",
     "start_time": "2019-10-21T16:50:40.144281Z"
    }
   },
   "outputs": [
    {
     "data": {
      "text/plain": [
       "(28481, 33)"
      ]
     },
     "execution_count": 77,
     "metadata": {},
     "output_type": "execute_result"
    }
   ],
   "source": [
    "df_sample.shape"
   ]
  },
  {
   "cell_type": "code",
   "execution_count": 78,
   "metadata": {
    "ExecuteTime": {
     "end_time": "2019-10-21T16:50:40.756882Z",
     "start_time": "2019-10-21T16:50:40.745923Z"
    },
    "scrolled": true
   },
   "outputs": [
    {
     "name": "stdout",
     "output_type": "stream",
     "text": [
      "Ratio of Class 1 in df: 0.173 %\n",
      "Ratio of Class 1 in df_sample: 0.193 %\n"
     ]
    }
   ],
   "source": [
    "ratio = df[\"Class\"].sum()/df.shape[0]\n",
    "print(f\"Ratio of Class 1 in df: {round(ratio*100, 3)} %\")\n",
    "ratio = df_sample[\"Class\"].sum()/df_sample.shape[0]\n",
    "print(f\"Ratio of Class 1 in df_sample: {round(ratio*100, 3)} %\")"
   ]
  },
  {
   "cell_type": "markdown",
   "metadata": {},
   "source": [
    "<h2> Scalling of data"
   ]
  },
  {
   "cell_type": "code",
   "execution_count": 79,
   "metadata": {
    "ExecuteTime": {
     "end_time": "2019-10-21T16:50:41.410962Z",
     "start_time": "2019-10-21T16:50:41.391909Z"
    }
   },
   "outputs": [],
   "source": [
    "y = df_sample[\"Class\"]\n",
    "X = df_sample.drop(\"Class\", axis=1)"
   ]
  },
  {
   "cell_type": "code",
   "execution_count": 80,
   "metadata": {
    "ExecuteTime": {
     "end_time": "2019-10-21T16:50:43.800112Z",
     "start_time": "2019-10-21T16:50:43.735871Z"
    }
   },
   "outputs": [
    {
     "name": "stderr",
     "output_type": "stream",
     "text": [
      "/home/zyncus/bin/anaconda/lib/python3.7/site-packages/sklearn/preprocessing/data.py:645: DataConversionWarning: Data with input dtype int64, float64 were all converted to float64 by StandardScaler.\n",
      "  return self.partial_fit(X, y)\n",
      "/home/zyncus/bin/anaconda/lib/python3.7/site-packages/sklearn/base.py:464: DataConversionWarning: Data with input dtype int64, float64 were all converted to float64 by StandardScaler.\n",
      "  return self.fit(X, **fit_params).transform(X)\n"
     ]
    }
   ],
   "source": [
    "from sklearn.preprocessing import StandardScaler\n",
    "scaler = StandardScaler()\n",
    "X = scaler.fit_transform(X=X)"
   ]
  },
  {
   "cell_type": "code",
   "execution_count": 81,
   "metadata": {
    "ExecuteTime": {
     "end_time": "2019-10-21T16:50:44.269344Z",
     "start_time": "2019-10-21T16:50:44.264065Z"
    }
   },
   "outputs": [
    {
     "data": {
      "text/plain": [
       "(28481, 32)"
      ]
     },
     "execution_count": 81,
     "metadata": {},
     "output_type": "execute_result"
    }
   ],
   "source": [
    "X.shape"
   ]
  },
  {
   "cell_type": "markdown",
   "metadata": {},
   "source": [
    "<h2> Split of X_train, X_test"
   ]
  },
  {
   "cell_type": "code",
   "execution_count": 82,
   "metadata": {
    "ExecuteTime": {
     "end_time": "2019-10-21T16:50:47.028005Z",
     "start_time": "2019-10-21T16:50:47.021268Z"
    }
   },
   "outputs": [
    {
     "data": {
      "text/plain": [
       "(28481, 32)"
      ]
     },
     "execution_count": 82,
     "metadata": {},
     "output_type": "execute_result"
    }
   ],
   "source": [
    "X.shape"
   ]
  },
  {
   "cell_type": "code",
   "execution_count": 83,
   "metadata": {
    "ExecuteTime": {
     "end_time": "2019-10-21T16:50:47.273309Z",
     "start_time": "2019-10-21T16:50:47.226572Z"
    }
   },
   "outputs": [],
   "source": [
    "from sklearn.model_selection import train_test_split\n",
    "X_train, X_test, y_train, y_test = train_test_split(X, y, test_size=0.2, random_state=0)"
   ]
  },
  {
   "cell_type": "code",
   "execution_count": 85,
   "metadata": {
    "ExecuteTime": {
     "end_time": "2019-10-21T16:51:16.626877Z",
     "start_time": "2019-10-21T16:51:16.619476Z"
    }
   },
   "outputs": [
    {
     "name": "stdout",
     "output_type": "stream",
     "text": [
      "Ratio of Class 1 in y_train: 0.21 %\n",
      "Ratio of Class 1 in y_test: 0.12 %\n"
     ]
    }
   ],
   "source": [
    "print(f\"Ratio of Class 1 in y_train: {round((y_train.sum()/len(y_train))*100, 2)} %\")\n",
    "print(f\"Ratio of Class 1 in y_test: {round((y_test.sum()/len(y_test))*100, 2)} %\")"
   ]
  },
  {
   "cell_type": "markdown",
   "metadata": {},
   "source": [
    "<h1> Imbalance data"
   ]
  },
  {
   "cell_type": "markdown",
   "metadata": {
    "ExecuteTime": {
     "end_time": "2019-05-16T10:40:52.239050Z",
     "start_time": "2019-05-16T10:40:52.234381Z"
    }
   },
   "source": [
    "<h2> Undersampling"
   ]
  },
  {
   "cell_type": "code",
   "execution_count": 86,
   "metadata": {
    "ExecuteTime": {
     "end_time": "2019-10-21T16:51:30.820525Z",
     "start_time": "2019-10-21T16:51:30.816545Z"
    }
   },
   "outputs": [],
   "source": [
    "from imblearn.under_sampling import RandomUnderSampler"
   ]
  },
  {
   "cell_type": "code",
   "execution_count": 87,
   "metadata": {
    "ExecuteTime": {
     "end_time": "2019-10-21T16:51:30.985063Z",
     "start_time": "2019-10-21T16:51:30.977015Z"
    }
   },
   "outputs": [],
   "source": [
    "rus = RandomUnderSampler(sampling_strategy='auto', return_indices=False, random_state=0, replacement=False, ratio=0.01)"
   ]
  },
  {
   "cell_type": "code",
   "execution_count": 88,
   "metadata": {
    "ExecuteTime": {
     "end_time": "2019-10-21T16:51:31.334220Z",
     "start_time": "2019-10-21T16:51:31.302518Z"
    }
   },
   "outputs": [
    {
     "data": {
      "text/plain": [
       "((4848, 32), (4848,))"
      ]
     },
     "execution_count": 88,
     "metadata": {},
     "output_type": "execute_result"
    }
   ],
   "source": [
    "X_undersamp, y_undersamp = rus.fit_resample(X_train, y_train)\n",
    "X_undersamp.shape, y_undersamp.shape"
   ]
  },
  {
   "cell_type": "code",
   "execution_count": 89,
   "metadata": {
    "ExecuteTime": {
     "end_time": "2019-10-21T16:51:31.527153Z",
     "start_time": "2019-10-21T16:51:31.520849Z"
    }
   },
   "outputs": [
    {
     "name": "stdout",
     "output_type": "stream",
     "text": [
      "Ratio of Class 1 in y_undersamp: 0.99 %\n"
     ]
    }
   ],
   "source": [
    "print(f\"Ratio of Class 1 in y_undersamp: {round((y_undersamp.sum()/len(y_undersamp))*100, 2)} %\")"
   ]
  },
  {
   "cell_type": "markdown",
   "metadata": {},
   "source": [
    "<h2> Oversampling (SMOTE)"
   ]
  },
  {
   "cell_type": "code",
   "execution_count": 90,
   "metadata": {
    "ExecuteTime": {
     "end_time": "2019-10-21T16:51:31.924813Z",
     "start_time": "2019-10-21T16:51:31.906594Z"
    }
   },
   "outputs": [],
   "source": [
    "from imblearn import over_sampling\n",
    "smote = over_sampling.SMOTE(k_neighbors=5, ratio=0.01, random_state=0)"
   ]
  },
  {
   "cell_type": "code",
   "execution_count": 91,
   "metadata": {
    "ExecuteTime": {
     "end_time": "2019-10-21T16:51:32.318280Z",
     "start_time": "2019-10-21T16:51:32.277339Z"
    }
   },
   "outputs": [
    {
     "data": {
      "text/plain": [
       "((22963, 32), (22963,))"
      ]
     },
     "execution_count": 91,
     "metadata": {},
     "output_type": "execute_result"
    }
   ],
   "source": [
    "X_oversamp, y_oversamp = smote.fit_resample(X_train, y_train)\n",
    "X_oversamp.shape, y_oversamp.shape"
   ]
  },
  {
   "cell_type": "code",
   "execution_count": 92,
   "metadata": {
    "ExecuteTime": {
     "end_time": "2019-10-21T16:51:32.496441Z",
     "start_time": "2019-10-21T16:51:32.491358Z"
    }
   },
   "outputs": [
    {
     "name": "stdout",
     "output_type": "stream",
     "text": [
      "Ratio of Class 1 in y_oversamp: 0.99 %\n"
     ]
    }
   ],
   "source": [
    "print(f\"Ratio of Class 1 in y_oversamp: {round((y_oversamp.sum()/len(y_oversamp))*100, 2)} %\")"
   ]
  },
  {
   "cell_type": "markdown",
   "metadata": {},
   "source": [
    "<h1> Supervised Classification Model"
   ]
  },
  {
   "cell_type": "code",
   "execution_count": 93,
   "metadata": {
    "ExecuteTime": {
     "end_time": "2019-10-21T16:51:49.066642Z",
     "start_time": "2019-10-21T16:51:49.062403Z"
    }
   },
   "outputs": [],
   "source": [
    "from sklearn.metrics import precision_recall_curve, roc_curve, auc, accuracy_score, f1_score, classification_report"
   ]
  },
  {
   "cell_type": "markdown",
   "metadata": {},
   "source": [
    "<h2> Logistic Regression"
   ]
  },
  {
   "cell_type": "code",
   "execution_count": 94,
   "metadata": {
    "ExecuteTime": {
     "end_time": "2019-10-21T16:51:50.904946Z",
     "start_time": "2019-10-21T16:51:50.899355Z"
    }
   },
   "outputs": [],
   "source": [
    "from sklearn.linear_model import LogisticRegression"
   ]
  },
  {
   "cell_type": "markdown",
   "metadata": {
    "ExecuteTime": {
     "end_time": "2019-10-21T14:46:55.094051Z",
     "start_time": "2019-10-21T14:46:55.088704Z"
    }
   },
   "source": [
    "<h3> Raw data"
   ]
  },
  {
   "cell_type": "code",
   "execution_count": 95,
   "metadata": {
    "ExecuteTime": {
     "end_time": "2019-10-21T16:51:51.695725Z",
     "start_time": "2019-10-21T16:51:51.304002Z"
    }
   },
   "outputs": [
    {
     "name": "stderr",
     "output_type": "stream",
     "text": [
      "/home/zyncus/bin/anaconda/lib/python3.7/site-packages/sklearn/linear_model/logistic.py:433: FutureWarning: Default solver will be changed to 'lbfgs' in 0.22. Specify a solver to silence this warning.\n",
      "  FutureWarning)\n"
     ]
    },
    {
     "data": {
      "text/plain": [
       "0.9880743158423299"
      ]
     },
     "execution_count": 95,
     "metadata": {},
     "output_type": "execute_result"
    }
   ],
   "source": [
    "lr = LogisticRegression()\n",
    "lr.fit(X_train, y_train)\n",
    "y_score = lr.predict_proba(X_test)\n",
    "fpr, tpr, _ = roc_curve(y_test, y_score[:,1])\n",
    "roc_auc = auc(fpr, tpr)\n",
    "roc_auc"
   ]
  },
  {
   "cell_type": "markdown",
   "metadata": {
    "ExecuteTime": {
     "end_time": "2019-10-21T14:47:16.534486Z",
     "start_time": "2019-10-21T14:47:16.529960Z"
    }
   },
   "source": [
    "<h3> Undersampling"
   ]
  },
  {
   "cell_type": "code",
   "execution_count": 96,
   "metadata": {
    "ExecuteTime": {
     "end_time": "2019-10-21T16:51:52.224070Z",
     "start_time": "2019-10-21T16:51:52.122391Z"
    }
   },
   "outputs": [
    {
     "name": "stderr",
     "output_type": "stream",
     "text": [
      "/home/zyncus/bin/anaconda/lib/python3.7/site-packages/sklearn/linear_model/logistic.py:433: FutureWarning: Default solver will be changed to 'lbfgs' in 0.22. Specify a solver to silence this warning.\n",
      "  FutureWarning)\n"
     ]
    },
    {
     "data": {
      "text/plain": [
       "0.9833793622897313"
      ]
     },
     "execution_count": 96,
     "metadata": {},
     "output_type": "execute_result"
    }
   ],
   "source": [
    "lr = LogisticRegression()\n",
    "lr.fit(X_undersamp, y_undersamp)\n",
    "y_score = lr.predict_proba(X_test)\n",
    "fpr_u, tpr_u, _ = roc_curve(y_test, y_score[:,1])\n",
    "roc_auc = auc(fpr_u, tpr_u)\n",
    "roc_auc"
   ]
  },
  {
   "cell_type": "markdown",
   "metadata": {},
   "source": [
    "<h3> Oversampling"
   ]
  },
  {
   "cell_type": "code",
   "execution_count": 97,
   "metadata": {
    "ExecuteTime": {
     "end_time": "2019-10-21T16:51:53.520240Z",
     "start_time": "2019-10-21T16:51:53.057207Z"
    }
   },
   "outputs": [
    {
     "name": "stderr",
     "output_type": "stream",
     "text": [
      "/home/zyncus/bin/anaconda/lib/python3.7/site-packages/sklearn/linear_model/logistic.py:433: FutureWarning: Default solver will be changed to 'lbfgs' in 0.22. Specify a solver to silence this warning.\n",
      "  FutureWarning)\n"
     ]
    },
    {
     "data": {
      "text/plain": [
       "0.9706251569168969"
      ]
     },
     "execution_count": 97,
     "metadata": {},
     "output_type": "execute_result"
    }
   ],
   "source": [
    "lr = LogisticRegression()\n",
    "lr.fit(X_oversamp, y_oversamp)\n",
    "y_score = lr.predict_proba(X_test)\n",
    "fpr_o, tpr_o, _ = roc_curve(y_test, y_score[:,1])\n",
    "roc_auc = auc(fpr_o, tpr_o)\n",
    "roc_auc"
   ]
  },
  {
   "cell_type": "markdown",
   "metadata": {},
   "source": [
    "<h3> Comparison"
   ]
  },
  {
   "cell_type": "code",
   "execution_count": 98,
   "metadata": {
    "ExecuteTime": {
     "end_time": "2019-10-21T16:51:53.906033Z",
     "start_time": "2019-10-21T16:51:53.530262Z"
    }
   },
   "outputs": [
    {
     "data": {
      "image/png": "[encoded data removed]",
      "text/plain": [
       "<Figure size 864x576 with 1 Axes>"
      ]
     },
     "metadata": {
      "needs_background": "light"
     },
     "output_type": "display_data"
    }
   ],
   "source": [
    "plt.figure(figsize=(12,8))\n",
    "\n",
    "plt.plot(fpr, tpr, label='raw data')\n",
    "plt.plot(fpr_u, tpr_u, label='undersampling')\n",
    "plt.plot(fpr_o, tpr_o, label='oversampling')\n",
    "plt.plot([0, 1], [0, 1], color='navy', linestyle='--')\n",
    "plt.xlabel('False Positive Rate')\n",
    "plt.ylabel('True Positive Rate')\n",
    "plt.title('ROC logistic regression')\n",
    "plt.legend(loc=\"lower right\")\n",
    "plt.show()"
   ]
  },
  {
   "cell_type": "markdown",
   "metadata": {},
   "source": [
    "-> Best Model: LR with Undersampling"
   ]
  },
  {
   "cell_type": "markdown",
   "metadata": {
    "ExecuteTime": {
     "end_time": "2019-05-16T13:32:48.690751Z",
     "start_time": "2019-05-16T13:32:48.680000Z"
    }
   },
   "source": [
    "<h2> XG Boost"
   ]
  },
  {
   "cell_type": "code",
   "execution_count": 99,
   "metadata": {
    "ExecuteTime": {
     "end_time": "2019-10-21T16:51:58.240967Z",
     "start_time": "2019-10-21T16:51:58.125014Z"
    }
   },
   "outputs": [],
   "source": [
    "import xgboost as xgb"
   ]
  },
  {
   "cell_type": "markdown",
   "metadata": {
    "ExecuteTime": {
     "end_time": "2019-10-21T14:46:55.094051Z",
     "start_time": "2019-10-21T14:46:55.088704Z"
    }
   },
   "source": [
    "<h3> Raw data"
   ]
  },
  {
   "cell_type": "code",
   "execution_count": 100,
   "metadata": {
    "ExecuteTime": {
     "end_time": "2019-10-21T16:52:03.598553Z",
     "start_time": "2019-10-21T16:51:58.973215Z"
    }
   },
   "outputs": [
    {
     "data": {
      "text/plain": [
       "0.9963344212904846"
      ]
     },
     "execution_count": 100,
     "metadata": {},
     "output_type": "execute_result"
    }
   ],
   "source": [
    "xg = xgb.XGBClassifier()\n",
    "xg.fit(X_train, y_train)\n",
    "y_score = xg.predict_proba(X_test)\n",
    "fpr, tpr, _ = roc_curve(y_test, y_score[:,1])\n",
    "roc_auc = auc(fpr, tpr)\n",
    "roc_auc"
   ]
  },
  {
   "cell_type": "markdown",
   "metadata": {
    "ExecuteTime": {
     "end_time": "2019-10-21T14:47:16.534486Z",
     "start_time": "2019-10-21T14:47:16.529960Z"
    }
   },
   "source": [
    "<h3> Undersampling"
   ]
  },
  {
   "cell_type": "code",
   "execution_count": 101,
   "metadata": {
    "ExecuteTime": {
     "end_time": "2019-10-21T16:52:04.632540Z",
     "start_time": "2019-10-21T16:52:03.601485Z"
    }
   },
   "outputs": [
    {
     "data": {
      "text/plain": [
       "0.9958322872206878"
      ]
     },
     "execution_count": 101,
     "metadata": {},
     "output_type": "execute_result"
    }
   ],
   "source": [
    "xg = xgb.XGBClassifier()\n",
    "xg.fit(X_undersamp, y_undersamp)\n",
    "y_score = xg.predict_proba(X_test)\n",
    "fpr_u, tpr_u, _ = roc_curve(y_test, y_score[:,1])\n",
    "roc_auc = auc(fpr_u, tpr_u)\n",
    "roc_auc"
   ]
  },
  {
   "cell_type": "markdown",
   "metadata": {},
   "source": [
    "<h3> Oversampling"
   ]
  },
  {
   "cell_type": "code",
   "execution_count": 102,
   "metadata": {
    "ExecuteTime": {
     "end_time": "2019-10-21T16:52:09.195997Z",
     "start_time": "2019-10-21T16:52:04.635632Z"
    }
   },
   "outputs": [
    {
     "data": {
      "text/plain": [
       "0.9905598794878233"
      ]
     },
     "execution_count": 102,
     "metadata": {},
     "output_type": "execute_result"
    }
   ],
   "source": [
    "xg = xgb.XGBClassifier()\n",
    "xg.fit(X_oversamp, y_oversamp)\n",
    "y_score = xg.predict_proba(X_test)\n",
    "fpr_o, tpr_o, _ = roc_curve(y_test, y_score[:,1])\n",
    "roc_auc = auc(fpr_o, tpr_o)\n",
    "roc_auc"
   ]
  },
  {
   "cell_type": "markdown",
   "metadata": {},
   "source": [
    "<h3> Comparison"
   ]
  },
  {
   "cell_type": "code",
   "execution_count": 103,
   "metadata": {
    "ExecuteTime": {
     "end_time": "2019-10-21T16:52:09.498192Z",
     "start_time": "2019-10-21T16:52:09.199332Z"
    }
   },
   "outputs": [
    {
     "data": {
      "image/png": "[encoded data removed]",
      "text/plain": [
       "<Figure size 864x576 with 1 Axes>"
      ]
     },
     "metadata": {
      "needs_background": "light"
     },
     "output_type": "display_data"
    }
   ],
   "source": [
    "plt.figure(figsize=(12,8))\n",
    "\n",
    "plt.plot(fpr, tpr, label='raw data')\n",
    "plt.plot(fpr_u, tpr_u, label='undersampling')\n",
    "plt.plot(fpr_o, tpr_o, label='oversampling')\n",
    "plt.plot([0, 1], [0, 1], color='navy', linestyle='--')\n",
    "plt.xlabel('False Positive Rate')\n",
    "plt.ylabel('True Positive Rate')\n",
    "plt.title('ROC XG boost')\n",
    "plt.legend(loc=\"lower right\")\n",
    "plt.show()"
   ]
  },
  {
   "cell_type": "markdown",
   "metadata": {},
   "source": [
    "-> Best Model: LR with Raw data"
   ]
  },
  {
   "cell_type": "markdown",
   "metadata": {},
   "source": [
    "<h2> LGBM"
   ]
  },
  {
   "cell_type": "code",
   "execution_count": 104,
   "metadata": {
    "ExecuteTime": {
     "end_time": "2019-10-21T16:52:22.045937Z",
     "start_time": "2019-10-21T16:52:20.925082Z"
    }
   },
   "outputs": [],
   "source": [
    "import lightgbm as lgb\n",
    "lgbm = lgb.LGBMClassifier()\n",
    "lgbm.fit(X_oversamp, y_oversamp)\n",
    "y_pred_lgbm = lgbm.predict_proba(X_test)[:,1]"
   ]
  },
  {
   "cell_type": "code",
   "execution_count": 105,
   "metadata": {
    "ExecuteTime": {
     "end_time": "2019-10-21T16:52:22.066076Z",
     "start_time": "2019-10-21T16:52:22.048193Z"
    }
   },
   "outputs": [
    {
     "name": "stdout",
     "output_type": "stream",
     "text": [
      "              precision    recall  f1-score   support\n",
      "\n",
      "           0       1.00      1.00      1.00      5690\n",
      "           1       0.75      0.86      0.80         7\n",
      "\n",
      "   micro avg       1.00      1.00      1.00      5697\n",
      "   macro avg       0.87      0.93      0.90      5697\n",
      "weighted avg       1.00      1.00      1.00      5697\n",
      "\n"
     ]
    }
   ],
   "source": [
    "print(classification_report(y_test, np.round(y_pred_lgbm)))"
   ]
  },
  {
   "cell_type": "code",
   "execution_count": 106,
   "metadata": {
    "ExecuteTime": {
     "end_time": "2019-10-21T16:52:22.658447Z",
     "start_time": "2019-10-21T16:52:22.653096Z"
    }
   },
   "outputs": [],
   "source": [
    "import lightgbm as lgb"
   ]
  },
  {
   "cell_type": "markdown",
   "metadata": {
    "ExecuteTime": {
     "end_time": "2019-10-21T14:46:55.094051Z",
     "start_time": "2019-10-21T14:46:55.088704Z"
    }
   },
   "source": [
    "<h3> Raw data"
   ]
  },
  {
   "cell_type": "code",
   "execution_count": 107,
   "metadata": {
    "ExecuteTime": {
     "end_time": "2019-10-21T16:52:24.569345Z",
     "start_time": "2019-10-21T16:52:23.328204Z"
    }
   },
   "outputs": [
    {
     "data": {
      "text/plain": [
       "0.7013055485814713"
      ]
     },
     "execution_count": 107,
     "metadata": {},
     "output_type": "execute_result"
    }
   ],
   "source": [
    "lgbm = lgb.LGBMClassifier()\n",
    "lgbm.fit(X_train, y_train)\n",
    "y_score = lgbm.predict_proba(X_test)\n",
    "fpr, tpr, _ = roc_curve(y_test, y_score[:,1])\n",
    "roc_auc = auc(fpr, tpr)\n",
    "roc_auc"
   ]
  },
  {
   "cell_type": "markdown",
   "metadata": {
    "ExecuteTime": {
     "end_time": "2019-10-21T14:47:16.534486Z",
     "start_time": "2019-10-21T14:47:16.529960Z"
    }
   },
   "source": [
    "<h3> Undersampling"
   ]
  },
  {
   "cell_type": "code",
   "execution_count": 108,
   "metadata": {
    "ExecuteTime": {
     "end_time": "2019-10-21T16:52:26.357357Z",
     "start_time": "2019-10-21T16:52:25.662360Z"
    }
   },
   "outputs": [
    {
     "data": {
      "text/plain": [
       "0.9946773788601556"
      ]
     },
     "execution_count": 108,
     "metadata": {},
     "output_type": "execute_result"
    }
   ],
   "source": [
    "lgbm = lgb.LGBMClassifier()\n",
    "lgbm.fit(X_undersamp, y_undersamp)\n",
    "y_score = lgbm.predict_proba(X_test)\n",
    "fpr_u, tpr_u, _ = roc_curve(y_test, y_score[:,1])\n",
    "roc_auc = auc(fpr_u, tpr_u)\n",
    "roc_auc"
   ]
  },
  {
   "cell_type": "markdown",
   "metadata": {},
   "source": [
    "<h3> Oversampling"
   ]
  },
  {
   "cell_type": "code",
   "execution_count": 109,
   "metadata": {
    "ExecuteTime": {
     "end_time": "2019-10-21T16:52:27.914111Z",
     "start_time": "2019-10-21T16:52:26.801043Z"
    }
   },
   "outputs": [
    {
     "data": {
      "text/plain": [
       "0.9942003514938489"
      ]
     },
     "execution_count": 109,
     "metadata": {},
     "output_type": "execute_result"
    }
   ],
   "source": [
    "lgbm = lgb.LGBMClassifier()\n",
    "lgbm.fit(X_oversamp, y_oversamp)\n",
    "y_score = lgbm.predict_proba(X_test)\n",
    "fpr_o, tpr_o, _ = roc_curve(y_test, y_score[:,1])\n",
    "roc_auc = auc(fpr_o, tpr_o)\n",
    "roc_auc"
   ]
  },
  {
   "cell_type": "markdown",
   "metadata": {},
   "source": [
    "<h3> Comparison"
   ]
  },
  {
   "cell_type": "code",
   "execution_count": 110,
   "metadata": {
    "ExecuteTime": {
     "end_time": "2019-10-21T16:52:28.832590Z",
     "start_time": "2019-10-21T16:52:28.541242Z"
    }
   },
   "outputs": [
    {
     "data": {
      "image/png": "[encoded data removed]",
      "text/plain": [
       "<Figure size 864x576 with 1 Axes>"
      ]
     },
     "metadata": {
      "needs_background": "light"
     },
     "output_type": "display_data"
    }
   ],
   "source": [
    "plt.figure(figsize=(12,8))\n",
    "\n",
    "plt.plot(fpr, tpr, label='raw data')\n",
    "plt.plot(fpr_u, tpr_u, label='undersampling')\n",
    "plt.plot(fpr_o, tpr_o, label='oversampling')\n",
    "plt.plot([0, 1], [0, 1], color='navy', linestyle='--')\n",
    "plt.xlabel('False Positive Rate')\n",
    "plt.ylabel('True Positive Rate')\n",
    "plt.title('ROC LGBM')\n",
    "plt.legend(loc=\"lower right\")\n",
    "plt.show()"
   ]
  },
  {
   "cell_type": "markdown",
   "metadata": {},
   "source": [
    "-> Best Model: LR with Oversampling"
   ]
  },
  {
   "cell_type": "markdown",
   "metadata": {
    "ExecuteTime": {
     "end_time": "2019-05-17T09:43:08.244573Z",
     "start_time": "2019-05-17T09:43:08.237145Z"
    }
   },
   "source": [
    "<h1> Anomaly detection model (Unsupervised)"
   ]
  },
  {
   "cell_type": "markdown",
   "metadata": {},
   "source": [
    "- Ratio of Class 1 in y: 0.17 %\n",
    "- Ratio of Class 1 in y_undersamp: 0.99 %\n",
    "- Ratio of Class 1 in y_oversamp: 0.99 %"
   ]
  },
  {
   "cell_type": "code",
   "execution_count": 144,
   "metadata": {
    "ExecuteTime": {
     "end_time": "2019-10-21T17:09:42.996596Z",
     "start_time": "2019-10-21T17:09:42.984855Z"
    }
   },
   "outputs": [
    {
     "data": {
      "text/plain": [
       "(22736, 32)"
      ]
     },
     "execution_count": 144,
     "metadata": {},
     "output_type": "execute_result"
    }
   ],
   "source": [
    "X_train_inliers = X_train[y_train==0]\n",
    "X_train_inliers.shape"
   ]
  },
  {
   "cell_type": "code",
   "execution_count": 115,
   "metadata": {
    "ExecuteTime": {
     "end_time": "2019-10-21T16:53:28.438388Z",
     "start_time": "2019-10-21T16:53:28.431700Z"
    }
   },
   "outputs": [
    {
     "data": {
      "text/plain": [
       "(5697, 32)"
      ]
     },
     "execution_count": 115,
     "metadata": {},
     "output_type": "execute_result"
    }
   ],
   "source": [
    "X_test.shape"
   ]
  },
  {
   "cell_type": "markdown",
   "metadata": {
    "ExecuteTime": {
     "end_time": "2019-10-21T15:11:30.412480Z",
     "start_time": "2019-10-21T15:11:30.408628Z"
    }
   },
   "source": [
    "<h2> Gaussian distribution based"
   ]
  },
  {
   "cell_type": "code",
   "execution_count": 116,
   "metadata": {
    "ExecuteTime": {
     "end_time": "2019-10-21T16:53:29.739390Z",
     "start_time": "2019-10-21T16:53:29.735621Z"
    }
   },
   "outputs": [],
   "source": [
    "from sklearn.covariance import EllipticEnvelope"
   ]
  },
  {
   "cell_type": "code",
   "execution_count": 145,
   "metadata": {
    "ExecuteTime": {
     "end_time": "2019-10-21T17:10:08.182345Z",
     "start_time": "2019-10-21T17:10:04.341693Z"
    }
   },
   "outputs": [
    {
     "name": "stderr",
     "output_type": "stream",
     "text": [
      "/home/zyncus/bin/anaconda/lib/python3.7/site-packages/sklearn/covariance/robust_covariance.py:646: UserWarning: The covariance matrix associated to your dataset is not full rank\n",
      "  warnings.warn(\"The covariance matrix associated to your dataset \"\n"
     ]
    }
   ],
   "source": [
    "G = EllipticEnvelope(random_state=0)"
   ]
  },
  {
   "cell_type": "code",
   "execution_count": null,
   "metadata": {},
   "outputs": [],
   "source": [
    "G.fit(X_train_inliers)\n",
    "y_predG = G.predict(X_test)"
   ]
  },
  {
   "cell_type": "code",
   "execution_count": null,
   "metadata": {},
   "outputs": [],
   "source": [
    "#y_predG = G.fit_predict(X_test)"
   ]
  },
  {
   "cell_type": "code",
   "execution_count": 146,
   "metadata": {
    "ExecuteTime": {
     "end_time": "2019-10-21T17:10:10.947168Z",
     "start_time": "2019-10-21T17:10:10.944111Z"
    }
   },
   "outputs": [],
   "source": [
    "# predict returns 1 for an inlier and -1 for an outlier\n",
    "y_predG[y_predG == 1] = 0\n",
    "y_predG[y_predG == -1] = 1"
   ]
  },
  {
   "cell_type": "code",
   "execution_count": 147,
   "metadata": {
    "ExecuteTime": {
     "end_time": "2019-10-21T17:10:11.523080Z",
     "start_time": "2019-10-21T17:10:11.512874Z"
    }
   },
   "outputs": [
    {
     "name": "stdout",
     "output_type": "stream",
     "text": [
      "              precision    recall  f1-score   support\n",
      "\n",
      "           0       1.00      0.90      0.95      5690\n",
      "           1       0.01      0.86      0.02         7\n",
      "\n",
      "   micro avg       0.90      0.90      0.90      5697\n",
      "   macro avg       0.51      0.88      0.49      5697\n",
      "weighted avg       1.00      0.90      0.95      5697\n",
      "\n"
     ]
    }
   ],
   "source": [
    "print(classification_report(y_test, y_predG))"
   ]
  },
  {
   "cell_type": "markdown",
   "metadata": {},
   "source": [
    "<h2> Local Outlier Factor (LOF)"
   ]
  },
  {
   "cell_type": "markdown",
   "metadata": {},
   "source": [
    "LOF takes a long time to compute."
   ]
  },
  {
   "cell_type": "code",
   "execution_count": 120,
   "metadata": {
    "ExecuteTime": {
     "end_time": "2019-10-21T16:53:53.969630Z",
     "start_time": "2019-10-21T16:53:53.965069Z"
    }
   },
   "outputs": [],
   "source": [
    "from sklearn.neighbors import LocalOutlierFactor"
   ]
  },
  {
   "cell_type": "code",
   "execution_count": 152,
   "metadata": {
    "ExecuteTime": {
     "end_time": "2019-10-21T17:13:08.700295Z",
     "start_time": "2019-10-21T17:13:08.697859Z"
    }
   },
   "outputs": [],
   "source": [
    "LOF = LocalOutlierFactor(contamination=\"auto\", novelty=True) "
   ]
  },
  {
   "cell_type": "code",
   "execution_count": 153,
   "metadata": {
    "ExecuteTime": {
     "end_time": "2019-10-21T17:14:18.714802Z",
     "start_time": "2019-10-21T17:13:09.471041Z"
    }
   },
   "outputs": [],
   "source": [
    "LOF.fit(X_train_inliers)\n",
    "y_predLOF = LOF.predict(X_test) #assign novelty to True"
   ]
  },
  {
   "cell_type": "code",
   "execution_count": 154,
   "metadata": {
    "ExecuteTime": {
     "end_time": "2019-10-21T17:14:18.719477Z",
     "start_time": "2019-10-21T17:14:18.716988Z"
    }
   },
   "outputs": [],
   "source": [
    "#y_predLOF = LOF.fit_predict(X_test) #assign novelty to False"
   ]
  },
  {
   "cell_type": "code",
   "execution_count": 155,
   "metadata": {
    "ExecuteTime": {
     "end_time": "2019-10-21T17:14:25.309933Z",
     "start_time": "2019-10-21T17:14:25.307234Z"
    }
   },
   "outputs": [],
   "source": [
    "y_predLOF[y_predLOF == 1] = 0\n",
    "y_predLOF[y_predLOF == -1] = 1"
   ]
  },
  {
   "cell_type": "code",
   "execution_count": 156,
   "metadata": {
    "ExecuteTime": {
     "end_time": "2019-10-21T17:14:25.837196Z",
     "start_time": "2019-10-21T17:14:25.826235Z"
    }
   },
   "outputs": [
    {
     "data": {
      "text/plain": [
       "(281, -1.5)"
      ]
     },
     "execution_count": 156,
     "metadata": {},
     "output_type": "execute_result"
    }
   ],
   "source": [
    "n_errors = (y_predLOF != y_test).sum()\n",
    "X_scores = LOF.negative_outlier_factor_\n",
    "n_errors, LOF.offset_"
   ]
  },
  {
   "cell_type": "code",
   "execution_count": 157,
   "metadata": {
    "ExecuteTime": {
     "end_time": "2019-10-21T17:14:26.989687Z",
     "start_time": "2019-10-21T17:14:26.976891Z"
    }
   },
   "outputs": [
    {
     "name": "stdout",
     "output_type": "stream",
     "text": [
      "              precision    recall  f1-score   support\n",
      "\n",
      "           0       1.00      0.95      0.97      5690\n",
      "           1       0.02      1.00      0.05         7\n",
      "\n",
      "   micro avg       0.95      0.95      0.95      5697\n",
      "   macro avg       0.51      0.98      0.51      5697\n",
      "weighted avg       1.00      0.95      0.97      5697\n",
      "\n"
     ]
    }
   ],
   "source": [
    "print(classification_report(y_test, y_predLOF))"
   ]
  },
  {
   "cell_type": "markdown",
   "metadata": {},
   "source": [
    "<h2> Isolation Forest"
   ]
  },
  {
   "cell_type": "code",
   "execution_count": 158,
   "metadata": {
    "ExecuteTime": {
     "end_time": "2019-10-21T17:14:30.626737Z",
     "start_time": "2019-10-21T17:14:30.624131Z"
    }
   },
   "outputs": [],
   "source": [
    "from sklearn.ensemble import IsolationForest"
   ]
  },
  {
   "cell_type": "code",
   "execution_count": 160,
   "metadata": {
    "ExecuteTime": {
     "end_time": "2019-10-21T17:14:52.525091Z",
     "start_time": "2019-10-21T17:14:51.324984Z"
    }
   },
   "outputs": [],
   "source": [
    "IF = IsolationForest(n_estimators=100, contamination=\"auto\", behaviour=\"new\", random_state=0)\n",
    "IF.fit(X_train_inliers)\n",
    "y_predIF = IF.predict(X_test)"
   ]
  },
  {
   "cell_type": "code",
   "execution_count": 161,
   "metadata": {
    "ExecuteTime": {
     "end_time": "2019-10-21T17:14:53.891641Z",
     "start_time": "2019-10-21T17:14:53.888762Z"
    }
   },
   "outputs": [],
   "source": [
    "#y_predIF = IF.fit_predict(X_test)"
   ]
  },
  {
   "cell_type": "code",
   "execution_count": 162,
   "metadata": {
    "ExecuteTime": {
     "end_time": "2019-10-21T17:14:54.202090Z",
     "start_time": "2019-10-21T17:14:54.198865Z"
    }
   },
   "outputs": [],
   "source": [
    "y_predIF[y_predIF == 1] = 0\n",
    "y_predIF[y_predIF == -1] = 1"
   ]
  },
  {
   "cell_type": "code",
   "execution_count": 163,
   "metadata": {
    "ExecuteTime": {
     "end_time": "2019-10-21T17:14:54.662821Z",
     "start_time": "2019-10-21T17:14:54.647873Z"
    },
    "scrolled": false
   },
   "outputs": [
    {
     "name": "stdout",
     "output_type": "stream",
     "text": [
      "              precision    recall  f1-score   support\n",
      "\n",
      "           0       1.00      0.97      0.99      5690\n",
      "           1       0.04      0.86      0.07         7\n",
      "\n",
      "   micro avg       0.97      0.97      0.97      5697\n",
      "   macro avg       0.52      0.92      0.53      5697\n",
      "weighted avg       1.00      0.97      0.99      5697\n",
      "\n"
     ]
    }
   ],
   "source": [
    "print(classification_report(y_test, y_predIF))"
   ]
  },
  {
   "cell_type": "markdown",
   "metadata": {},
   "source": [
    "<h2> Comparison"
   ]
  },
  {
   "cell_type": "code",
   "execution_count": 164,
   "metadata": {
    "ExecuteTime": {
     "end_time": "2019-10-21T17:14:55.982898Z",
     "start_time": "2019-10-21T17:14:55.968769Z"
    }
   },
   "outputs": [
    {
     "data": {
      "text/plain": [
       "0.982852121516445"
      ]
     },
     "execution_count": 164,
     "metadata": {},
     "output_type": "execute_result"
    }
   ],
   "source": [
    "fpr_G, tpr_G, _ = roc_curve(y_test, -G.score_samples(X_test))\n",
    "roc_auc = auc(fpr_G, tpr_G)\n",
    "roc_auc"
   ]
  },
  {
   "cell_type": "code",
   "execution_count": 165,
   "metadata": {
    "ExecuteTime": {
     "end_time": "2019-10-21T17:15:09.291617Z",
     "start_time": "2019-10-21T17:14:56.334796Z"
    }
   },
   "outputs": [
    {
     "data": {
      "text/plain": [
       "0.9966105950288727"
      ]
     },
     "execution_count": 165,
     "metadata": {},
     "output_type": "execute_result"
    }
   ],
   "source": [
    "fpr_LOF, tpr_LOF, _ = roc_curve(y_test, -LOF.score_samples(X_test))\n",
    "roc_auc = auc(fpr_LOF, tpr_LOF)\n",
    "roc_auc"
   ]
  },
  {
   "cell_type": "code",
   "execution_count": 166,
   "metadata": {
    "ExecuteTime": {
     "end_time": "2019-10-21T17:15:09.674371Z",
     "start_time": "2019-10-21T17:15:09.293853Z"
    }
   },
   "outputs": [
    {
     "data": {
      "text/plain": [
       "0.9950539794125033"
      ]
     },
     "execution_count": 166,
     "metadata": {},
     "output_type": "execute_result"
    }
   ],
   "source": [
    "fpr_IF, tpr_IF, _ = roc_curve(y_test, -IF.score_samples(X_test))\n",
    "roc_auc = auc(fpr_IF, tpr_IF)\n",
    "roc_auc"
   ]
  },
  {
   "cell_type": "code",
   "execution_count": 168,
   "metadata": {
    "ExecuteTime": {
     "end_time": "2019-10-21T17:15:18.187467Z",
     "start_time": "2019-10-21T17:15:17.930888Z"
    }
   },
   "outputs": [
    {
     "data": {
      "image/png": "[encoded data removed]",
      "text/plain": [
       "<Figure size 864x576 with 1 Axes>"
      ]
     },
     "metadata": {
      "needs_background": "light"
     },
     "output_type": "display_data"
    }
   ],
   "source": [
    "plt.figure(figsize=(12,8))\n",
    "\n",
    "plt.plot(fpr_G, tpr_G, label='Gaussian distribution')\n",
    "plt.plot(fpr_LOF, tpr_LOF, label='Local Outlier Factor')\n",
    "plt.plot(fpr_IF, tpr_IF, label='Isolation forest')\n",
    "plt.plot([0, 1], [0, 1], color='navy', linestyle='--')\n",
    "plt.xlabel('False Positive Rate')\n",
    "plt.ylabel('True Positive Rate')\n",
    "plt.title('ROC anonaly detection models')\n",
    "plt.legend(loc=\"lower right\")\n",
    "plt.show()"
   ]
  },
  {
   "cell_type": "code",
   "execution_count": null,
   "metadata": {},
   "outputs": [],
   "source": []
  }
 ],
 "metadata": {
  "kernelspec": {
   "display_name": "Python 3",
   "language": "python",
   "name": "python3"
  },
  "language_info": {
   "codemirror_mode": {
    "name": "ipython",
    "version": 3
   },
   "file_extension": ".py",
   "mimetype": "text/x-python",
   "name": "python",
   "nbconvert_exporter": "python",
   "pygments_lexer": "ipython3",
   "version": "3.7.4"
  },
  "toc": {
   "base_numbering": 1,
   "nav_menu": {},
   "number_sections": true,
   "sideBar": true,
   "skip_h1_title": false,
   "title_cell": "Table of Contents",
   "title_sidebar": "Contents",
   "toc_cell": false,
   "toc_position": {
    "height": "calc(100% - 180px)",
    "left": "10px",
    "top": "150px",
    "width": "278.722px"
   },
   "toc_section_display": true,
   "toc_window_display": true
  }
 },
 "nbformat": 4,
 "nbformat_minor": 2
}
