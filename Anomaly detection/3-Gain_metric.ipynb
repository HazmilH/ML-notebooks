{
 "cells": [
  {
   "cell_type": "markdown",
   "metadata": {},
   "source": [
    "<h1> Cost functions"
   ]
  },
  {
   "cell_type": "markdown",
   "metadata": {},
   "source": [
    "<h2> Threshold adjustment"
   ]
  },
  {
   "cell_type": "code",
   "execution_count": 516,
   "metadata": {
    "ExecuteTime": {
     "end_time": "2019-10-26T11:09:50.998786Z",
     "start_time": "2019-10-26T11:09:50.729474Z"
    }
   },
   "outputs": [
    {
     "data": {
      "image/png": "[encoded data removed]",
      "text/plain": [
       "<Figure size 864x576 with 1 Axes>"
      ]
     },
     "metadata": {
      "needs_background": "light"
     },
     "output_type": "display_data"
    }
   ],
   "source": [
    "plt.figure(figsize=(12,8))\n",
    "plt.plot(threshold_lg_o, recall_lg_o[:-1], label=\"recall\")\n",
    "plt.plot(threshold_lg_o, precision_lg_o[:-1], label=\"precision\")\n",
    "plt.xlabel('threshold')\n",
    "plt.ylabel('score')\n",
    "plt.title(\"Precision and recall curve as a fonction of threshold\")\n",
    "plt.legend(loc=\"lower right\")\n",
    "plt.show()"
   ]
  },
  {
   "cell_type": "markdown",
   "metadata": {},
   "source": [
    "<h2> Cost evaluation"
   ]
  },
  {
   "cell_type": "code",
   "execution_count": 474,
   "metadata": {
    "ExecuteTime": {
     "end_time": "2019-10-26T11:07:21.843338Z",
     "start_time": "2019-10-26T11:07:21.840752Z"
    }
   },
   "outputs": [],
   "source": [
    "check_cost_u = 2000\n",
    "additional_cost_u = 10000"
   ]
  },
  {
   "cell_type": "code",
   "execution_count": 475,
   "metadata": {
    "ExecuteTime": {
     "end_time": "2019-10-26T11:07:22.058142Z",
     "start_time": "2019-10-26T11:07:22.055443Z"
    }
   },
   "outputs": [],
   "source": [
    "threshold = 0.9"
   ]
  },
  {
   "cell_type": "code",
   "execution_count": 476,
   "metadata": {
    "ExecuteTime": {
     "end_time": "2019-10-26T11:07:22.397201Z",
     "start_time": "2019-10-26T11:07:22.389488Z"
    }
   },
   "outputs": [],
   "source": [
    "def make_prediction(y_score, threshold):\n",
    "    y_fraud = np.zeros(len(y_score))\n",
    "    y_fraud[y_score < threshold] = 0\n",
    "    y_fraud[y_score >= threshold] = 1\n",
    "    return y_fraud"
   ]
  },
  {
   "cell_type": "code",
   "execution_count": 482,
   "metadata": {
    "ExecuteTime": {
     "end_time": "2019-10-26T11:07:49.007170Z",
     "start_time": "2019-10-26T11:07:48.982417Z"
    }
   },
   "outputs": [
    {
     "data": {
      "text/plain": [
       "(85443, 170.0)"
      ]
     },
     "execution_count": 482,
     "metadata": {},
     "output_type": "execute_result"
    }
   ],
   "source": [
    "y_fraud = make_prediction(y_score_lg_u[:,1], threshold=0.5)\n",
    "len(y_fraud), sum(y_fraud)"
   ]
  },
  {
   "cell_type": "markdown",
   "metadata": {},
   "source": [
    "<h3> Cost of fraudulent transaction with algo checking"
   ]
  },
  {
   "cell_type": "code",
   "execution_count": 483,
   "metadata": {
    "ExecuteTime": {
     "end_time": "2019-10-26T11:07:49.610243Z",
     "start_time": "2019-10-26T11:07:49.603719Z"
    },
    "scrolled": true
   },
   "outputs": [
    {
     "data": {
      "text/plain": [
       "340000.0"
      ]
     },
     "execution_count": 483,
     "metadata": {},
     "output_type": "execute_result"
    }
   ],
   "source": [
    "check_cost = y_fraud.sum() * check_cost_u\n",
    "check_cost"
   ]
  },
  {
   "cell_type": "code",
   "execution_count": 484,
   "metadata": {
    "ExecuteTime": {
     "end_time": "2019-10-26T11:07:49.787014Z",
     "start_time": "2019-10-26T11:07:49.780421Z"
    }
   },
   "outputs": [
    {
     "data": {
      "text/plain": [
       "2468.93"
      ]
     },
     "execution_count": 484,
     "metadata": {},
     "output_type": "execute_result"
    }
   ],
   "source": [
    "remaining_fraud_cost = X_test[\"Amount\"][y_test-y_fraud == 1].sum()\n",
    "remaining_fraud_cost"
   ]
  },
  {
   "cell_type": "code",
   "execution_count": 485,
   "metadata": {
    "ExecuteTime": {
     "end_time": "2019-10-26T11:07:50.171399Z",
     "start_time": "2019-10-26T11:07:50.164804Z"
    }
   },
   "outputs": [
    {
     "data": {
      "text/plain": [
       "240000"
      ]
     },
     "execution_count": 485,
     "metadata": {},
     "output_type": "execute_result"
    }
   ],
   "source": [
    "additional_cost = len(y_test[y_test-y_fraud == 1]) * additional_cost_u\n",
    "additional_cost"
   ]
  },
  {
   "cell_type": "code",
   "execution_count": 486,
   "metadata": {
    "ExecuteTime": {
     "end_time": "2019-10-26T11:07:50.351037Z",
     "start_time": "2019-10-26T11:07:50.344364Z"
    }
   },
   "outputs": [
    {
     "data": {
      "text/plain": [
       "582468.9299999999"
      ]
     },
     "execution_count": 486,
     "metadata": {},
     "output_type": "execute_result"
    }
   ],
   "source": [
    "total_check_cost = check_cost + remaining_fraud_cost + additional_cost\n",
    "total_check_cost"
   ]
  },
  {
   "cell_type": "code",
   "execution_count": 487,
   "metadata": {
    "ExecuteTime": {
     "end_time": "2019-10-26T11:07:50.468672Z",
     "start_time": "2019-10-26T11:07:50.464645Z"
    }
   },
   "outputs": [],
   "source": [
    "def check_cost(y_pred, check_cost_u, additional_cost_u):\n",
    "    check_cost = y_pred.sum() * check_cost_u\n",
    "    remaining_fraud_cost = X_test[\"Amount\"][y_test-y_pred == 1].sum()\n",
    "    additional_cost = len(y_test[y_test-y_pred == 1]) * additional_cost_u\n",
    "    return check_cost + remaining_fraud_cost + additional_cost"
   ]
  },
  {
   "cell_type": "code",
   "execution_count": 488,
   "metadata": {
    "ExecuteTime": {
     "end_time": "2019-10-26T11:07:50.637557Z",
     "start_time": "2019-10-26T11:07:50.630497Z"
    }
   },
   "outputs": [
    {
     "data": {
      "text/plain": [
       "582468.9299999999"
      ]
     },
     "execution_count": 488,
     "metadata": {},
     "output_type": "execute_result"
    }
   ],
   "source": [
    "check_cost(y_fraud, check_cost_u, additional_cost_u)"
   ]
  },
  {
   "cell_type": "markdown",
   "metadata": {},
   "source": [
    "<h3> Cost of fraudulent transaction without algo checking"
   ]
  },
  {
   "cell_type": "code",
   "execution_count": 489,
   "metadata": {
    "ExecuteTime": {
     "end_time": "2019-10-26T11:07:50.921093Z",
     "start_time": "2019-10-26T11:07:50.917590Z"
    }
   },
   "outputs": [],
   "source": [
    "def actual_cost(additional_cost_u):\n",
    "    remaining_fraud_cost = X_test[\"Amount\"][y_test == 1].sum()\n",
    "    additional_cost = len(y_test[y_test == 1]) * additional_cost_u\n",
    "    return remaining_fraud_cost + additional_cost"
   ]
  },
  {
   "cell_type": "code",
   "execution_count": 490,
   "metadata": {
    "ExecuteTime": {
     "end_time": "2019-10-26T11:07:51.071183Z",
     "start_time": "2019-10-26T11:07:51.065175Z"
    }
   },
   "outputs": [
    {
     "data": {
      "text/plain": [
       "1569062.37"
      ]
     },
     "execution_count": 490,
     "metadata": {},
     "output_type": "execute_result"
    }
   ],
   "source": [
    "actual_cost(additional_cost_u)"
   ]
  },
  {
   "cell_type": "markdown",
   "metadata": {},
   "source": [
    "<h3> Gain"
   ]
  },
  {
   "cell_type": "code",
   "execution_count": 491,
   "metadata": {
    "ExecuteTime": {
     "end_time": "2019-10-26T11:07:51.477291Z",
     "start_time": "2019-10-26T11:07:51.465338Z"
    }
   },
   "outputs": [
    {
     "data": {
      "text/plain": [
       "19062.370000000003"
      ]
     },
     "execution_count": 491,
     "metadata": {},
     "output_type": "execute_result"
    }
   ],
   "source": [
    "remaining_fraud_cost = X_test[\"Amount\"][y_test == 1].sum()\n",
    "remaining_fraud_cost"
   ]
  },
  {
   "cell_type": "code",
   "execution_count": 492,
   "metadata": {
    "ExecuteTime": {
     "end_time": "2019-10-26T11:07:51.595101Z",
     "start_time": "2019-10-26T11:07:51.588556Z"
    }
   },
   "outputs": [
    {
     "data": {
      "text/plain": [
       "1550000"
      ]
     },
     "execution_count": 492,
     "metadata": {},
     "output_type": "execute_result"
    }
   ],
   "source": [
    "additional_cost = len(y_test[y_test == 1]) * additional_cost_u\n",
    "additional_cost"
   ]
  },
  {
   "cell_type": "code",
   "execution_count": 493,
   "metadata": {
    "ExecuteTime": {
     "end_time": "2019-10-26T11:07:51.785932Z",
     "start_time": "2019-10-26T11:07:51.780350Z"
    }
   },
   "outputs": [
    {
     "data": {
      "text/plain": [
       "1569062.37"
      ]
     },
     "execution_count": 493,
     "metadata": {},
     "output_type": "execute_result"
    }
   ],
   "source": [
    "total_actual_cost = remaining_fraud_cost + additional_cost\n",
    "total_actual_cost"
   ]
  },
  {
   "cell_type": "code",
   "execution_count": 494,
   "metadata": {
    "ExecuteTime": {
     "end_time": "2019-10-26T11:07:51.951810Z",
     "start_time": "2019-10-26T11:07:51.947776Z"
    }
   },
   "outputs": [
    {
     "data": {
      "text/plain": [
       "986593.4400000002"
      ]
     },
     "execution_count": 494,
     "metadata": {},
     "output_type": "execute_result"
    }
   ],
   "source": [
    "gain = total_actual_cost - total_check_cost\n",
    "gain"
   ]
  },
  {
   "cell_type": "code",
   "execution_count": 495,
   "metadata": {
    "ExecuteTime": {
     "end_time": "2019-10-26T11:07:52.116687Z",
     "start_time": "2019-10-26T11:07:52.113532Z"
    }
   },
   "outputs": [],
   "source": [
    "def gain(y_score, threshold, check_cost_u=200, additional_cost_u=1000):\n",
    "    y_pred = make_prediction(y_score, threshold)\n",
    "    total_check_cost = check_cost(y_pred, check_cost_u, additional_cost_u)\n",
    "    total_actual_cost = actual_cost(additional_cost_u)\n",
    "    return total_actual_cost - total_check_cost"
   ]
  },
  {
   "cell_type": "code",
   "execution_count": 496,
   "metadata": {
    "ExecuteTime": {
     "end_time": "2019-10-26T11:07:52.262504Z",
     "start_time": "2019-10-26T11:07:52.249002Z"
    }
   },
   "outputs": [
    {
     "data": {
      "text/plain": [
       "113437.43"
      ]
     },
     "execution_count": 496,
     "metadata": {},
     "output_type": "execute_result"
    }
   ],
   "source": [
    "gain(y_score_lg_o[:,1], threshold=0.3)"
   ]
  },
  {
   "cell_type": "code",
   "execution_count": 509,
   "metadata": {
    "ExecuteTime": {
     "end_time": "2019-10-26T11:09:14.493606Z",
     "start_time": "2019-10-26T11:09:14.490671Z"
    }
   },
   "outputs": [],
   "source": [
    "thresholds = np.arange(30, 980)/1000"
   ]
  },
  {
   "cell_type": "code",
   "execution_count": 510,
   "metadata": {
    "ExecuteTime": {
     "end_time": "2019-10-26T11:09:18.947176Z",
     "start_time": "2019-10-26T11:09:14.775519Z"
    }
   },
   "outputs": [
    {
     "data": {
      "text/plain": [
       "(950, 114633.67)"
      ]
     },
     "execution_count": 510,
     "metadata": {},
     "output_type": "execute_result"
    }
   ],
   "source": [
    "f = lambda t: gain(y_score_lg_o[:,1], t)\n",
    "gain_lg_o = list(map(f, thresholds))\n",
    "len(gain_lg_o), max(gain_lg_o)"
   ]
  },
  {
   "cell_type": "markdown",
   "metadata": {},
   "source": [
    "<h3> Plot gain function of threshold"
   ]
  },
  {
   "cell_type": "code",
   "execution_count": 511,
   "metadata": {
    "ExecuteTime": {
     "end_time": "2019-10-26T11:09:19.313559Z",
     "start_time": "2019-10-26T11:09:18.951406Z"
    },
    "scrolled": true
   },
   "outputs": [
    {
     "data": {
      "image/png": "[encoded data removed]",
      "text/plain": [
       "<Figure size 864x576 with 1 Axes>"
      ]
     },
     "metadata": {
      "needs_background": "light"
     },
     "output_type": "display_data"
    }
   ],
   "source": [
    "plt.figure(figsize=(12,8))\n",
    "plt.plot(thresholds, gain_lg_o, label=\"gain\")\n",
    "plt.xlabel('threshold')\n",
    "plt.ylabel('score')\n",
    "plt.title(\"Gain curve as a fonction of threshold\")\n",
    "plt.legend(loc=\"lower right\")\n",
    "plt.show()"
   ]
  },
  {
   "cell_type": "code",
   "execution_count": null,
   "metadata": {},
   "outputs": [],
   "source": []
  }
 ],
 "metadata": {
  "kernelspec": {
   "display_name": "Python 3",
   "language": "python",
   "name": "python3"
  },
  "language_info": {
   "codemirror_mode": {
    "name": "ipython",
    "version": 3
   },
   "file_extension": ".py",
   "mimetype": "text/x-python",
   "name": "python",
   "nbconvert_exporter": "python",
   "pygments_lexer": "ipython3",
   "version": "3.7.4"
  },
  "toc": {
   "base_numbering": 1,
   "nav_menu": {},
   "number_sections": true,
   "sideBar": true,
   "skip_h1_title": false,
   "title_cell": "Table of Contents",
   "title_sidebar": "Contents",
   "toc_cell": false,
   "toc_position": {},
   "toc_section_display": true,
   "toc_window_display": false
  }
 },
 "nbformat": 4,
 "nbformat_minor": 2
}
